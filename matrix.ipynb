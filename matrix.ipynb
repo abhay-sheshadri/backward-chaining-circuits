{
 "cells": [
  {
   "cell_type": "code",
   "execution_count": 23,
   "metadata": {},
   "outputs": [],
   "source": [
    "import numpy as np\n",
    "import sympy as sp\n",
    "import plotly.express as px\n",
    "import networkx as nx"
   ]
  },
  {
   "cell_type": "code",
   "execution_count": 24,
   "metadata": {},
   "outputs": [
    {
     "data": {
      "text/plain": [
       "<module 'numpy' from '/media/victor/F8D25071D25035DA/Alingment/GraphPlanning/planning-in-transformers/.venv/lib/python3.9/site-packages/numpy/__init__.py'>"
      ]
     },
     "execution_count": 24,
     "metadata": {},
     "output_type": "execute_result"
    }
   ],
   "source": [
    "np"
   ]
  },
  {
   "cell_type": "code",
   "execution_count": 25,
   "metadata": {},
   "outputs": [],
   "source": [
    "random_bool_matrix = np.random.choice([False, True], size=(16, 16))"
   ]
  },
  {
   "cell_type": "code",
   "execution_count": 26,
   "metadata": {},
   "outputs": [
    {
     "data": {
      "application/vnd.plotly.v1+json": {
       "config": {
        "plotlyServerURL": "https://plot.ly"
       },
       "data": [
        {
         "coloraxis": "coloraxis",
         "hovertemplate": "x: %{x}<br>y: %{y}<br>color: %{z}<extra></extra>",
         "name": "0",
         "type": "heatmap",
         "xaxis": "x",
         "yaxis": "y",
         "z": [
          [
           0,
           255,
           255,
           255,
           0,
           0,
           0,
           0,
           255,
           0,
           255,
           255,
           0,
           255,
           0,
           255
          ],
          [
           0,
           255,
           255,
           255,
           0,
           255,
           0,
           0,
           255,
           0,
           0,
           255,
           255,
           0,
           255,
           0
          ],
          [
           255,
           0,
           255,
           255,
           0,
           255,
           0,
           0,
           255,
           255,
           255,
           0,
           0,
           255,
           0,
           0
          ],
          [
           0,
           0,
           255,
           0,
           0,
           0,
           255,
           0,
           255,
           0,
           0,
           0,
           0,
           255,
           0,
           255
          ],
          [
           0,
           0,
           255,
           255,
           0,
           0,
           0,
           255,
           255,
           255,
           255,
           255,
           255,
           0,
           0,
           0
          ],
          [
           0,
           255,
           255,
           255,
           0,
           0,
           255,
           255,
           0,
           255,
           0,
           255,
           255,
           255,
           255,
           0
          ],
          [
           255,
           255,
           0,
           255,
           0,
           255,
           255,
           0,
           0,
           255,
           255,
           255,
           0,
           0,
           255,
           255
          ],
          [
           0,
           255,
           0,
           0,
           255,
           255,
           255,
           255,
           255,
           255,
           255,
           255,
           0,
           255,
           0,
           0
          ],
          [
           255,
           255,
           0,
           255,
           0,
           0,
           255,
           255,
           255,
           0,
           0,
           255,
           0,
           0,
           255,
           0
          ],
          [
           0,
           0,
           0,
           255,
           0,
           0,
           0,
           0,
           255,
           0,
           0,
           0,
           0,
           0,
           0,
           255
          ],
          [
           0,
           255,
           255,
           0,
           255,
           0,
           0,
           255,
           0,
           0,
           255,
           255,
           0,
           255,
           0,
           255
          ],
          [
           255,
           255,
           255,
           0,
           255,
           255,
           255,
           255,
           0,
           0,
           255,
           0,
           0,
           0,
           0,
           255
          ],
          [
           255,
           255,
           255,
           255,
           0,
           0,
           255,
           255,
           255,
           255,
           0,
           0,
           255,
           0,
           0,
           0
          ],
          [
           0,
           255,
           255,
           0,
           0,
           0,
           0,
           255,
           0,
           255,
           0,
           255,
           255,
           0,
           255,
           0
          ],
          [
           0,
           255,
           255,
           255,
           255,
           255,
           0,
           255,
           0,
           255,
           0,
           255,
           255,
           255,
           0,
           255
          ],
          [
           0,
           0,
           255,
           255,
           0,
           255,
           255,
           0,
           0,
           255,
           255,
           0,
           0,
           255,
           0,
           255
          ]
         ]
        }
       ],
       "layout": {
        "coloraxis": {
         "colorscale": [
          [
           0,
           "#0d0887"
          ],
          [
           0.1111111111111111,
           "#46039f"
          ],
          [
           0.2222222222222222,
           "#7201a8"
          ],
          [
           0.3333333333333333,
           "#9c179e"
          ],
          [
           0.4444444444444444,
           "#bd3786"
          ],
          [
           0.5555555555555556,
           "#d8576b"
          ],
          [
           0.6666666666666666,
           "#ed7953"
          ],
          [
           0.7777777777777778,
           "#fb9f3a"
          ],
          [
           0.8888888888888888,
           "#fdca26"
          ],
          [
           1,
           "#f0f921"
          ]
         ]
        },
        "margin": {
         "t": 60
        },
        "template": {
         "data": {
          "bar": [
           {
            "error_x": {
             "color": "#2a3f5f"
            },
            "error_y": {
             "color": "#2a3f5f"
            },
            "marker": {
             "line": {
              "color": "#E5ECF6",
              "width": 0.5
             },
             "pattern": {
              "fillmode": "overlay",
              "size": 10,
              "solidity": 0.2
             }
            },
            "type": "bar"
           }
          ],
          "barpolar": [
           {
            "marker": {
             "line": {
              "color": "#E5ECF6",
              "width": 0.5
             },
             "pattern": {
              "fillmode": "overlay",
              "size": 10,
              "solidity": 0.2
             }
            },
            "type": "barpolar"
           }
          ],
          "carpet": [
           {
            "aaxis": {
             "endlinecolor": "#2a3f5f",
             "gridcolor": "white",
             "linecolor": "white",
             "minorgridcolor": "white",
             "startlinecolor": "#2a3f5f"
            },
            "baxis": {
             "endlinecolor": "#2a3f5f",
             "gridcolor": "white",
             "linecolor": "white",
             "minorgridcolor": "white",
             "startlinecolor": "#2a3f5f"
            },
            "type": "carpet"
           }
          ],
          "choropleth": [
           {
            "colorbar": {
             "outlinewidth": 0,
             "ticks": ""
            },
            "type": "choropleth"
           }
          ],
          "contour": [
           {
            "colorbar": {
             "outlinewidth": 0,
             "ticks": ""
            },
            "colorscale": [
             [
              0,
              "#0d0887"
             ],
             [
              0.1111111111111111,
              "#46039f"
             ],
             [
              0.2222222222222222,
              "#7201a8"
             ],
             [
              0.3333333333333333,
              "#9c179e"
             ],
             [
              0.4444444444444444,
              "#bd3786"
             ],
             [
              0.5555555555555556,
              "#d8576b"
             ],
             [
              0.6666666666666666,
              "#ed7953"
             ],
             [
              0.7777777777777778,
              "#fb9f3a"
             ],
             [
              0.8888888888888888,
              "#fdca26"
             ],
             [
              1,
              "#f0f921"
             ]
            ],
            "type": "contour"
           }
          ],
          "contourcarpet": [
           {
            "colorbar": {
             "outlinewidth": 0,
             "ticks": ""
            },
            "type": "contourcarpet"
           }
          ],
          "heatmap": [
           {
            "colorbar": {
             "outlinewidth": 0,
             "ticks": ""
            },
            "colorscale": [
             [
              0,
              "#0d0887"
             ],
             [
              0.1111111111111111,
              "#46039f"
             ],
             [
              0.2222222222222222,
              "#7201a8"
             ],
             [
              0.3333333333333333,
              "#9c179e"
             ],
             [
              0.4444444444444444,
              "#bd3786"
             ],
             [
              0.5555555555555556,
              "#d8576b"
             ],
             [
              0.6666666666666666,
              "#ed7953"
             ],
             [
              0.7777777777777778,
              "#fb9f3a"
             ],
             [
              0.8888888888888888,
              "#fdca26"
             ],
             [
              1,
              "#f0f921"
             ]
            ],
            "type": "heatmap"
           }
          ],
          "heatmapgl": [
           {
            "colorbar": {
             "outlinewidth": 0,
             "ticks": ""
            },
            "colorscale": [
             [
              0,
              "#0d0887"
             ],
             [
              0.1111111111111111,
              "#46039f"
             ],
             [
              0.2222222222222222,
              "#7201a8"
             ],
             [
              0.3333333333333333,
              "#9c179e"
             ],
             [
              0.4444444444444444,
              "#bd3786"
             ],
             [
              0.5555555555555556,
              "#d8576b"
             ],
             [
              0.6666666666666666,
              "#ed7953"
             ],
             [
              0.7777777777777778,
              "#fb9f3a"
             ],
             [
              0.8888888888888888,
              "#fdca26"
             ],
             [
              1,
              "#f0f921"
             ]
            ],
            "type": "heatmapgl"
           }
          ],
          "histogram": [
           {
            "marker": {
             "pattern": {
              "fillmode": "overlay",
              "size": 10,
              "solidity": 0.2
             }
            },
            "type": "histogram"
           }
          ],
          "histogram2d": [
           {
            "colorbar": {
             "outlinewidth": 0,
             "ticks": ""
            },
            "colorscale": [
             [
              0,
              "#0d0887"
             ],
             [
              0.1111111111111111,
              "#46039f"
             ],
             [
              0.2222222222222222,
              "#7201a8"
             ],
             [
              0.3333333333333333,
              "#9c179e"
             ],
             [
              0.4444444444444444,
              "#bd3786"
             ],
             [
              0.5555555555555556,
              "#d8576b"
             ],
             [
              0.6666666666666666,
              "#ed7953"
             ],
             [
              0.7777777777777778,
              "#fb9f3a"
             ],
             [
              0.8888888888888888,
              "#fdca26"
             ],
             [
              1,
              "#f0f921"
             ]
            ],
            "type": "histogram2d"
           }
          ],
          "histogram2dcontour": [
           {
            "colorbar": {
             "outlinewidth": 0,
             "ticks": ""
            },
            "colorscale": [
             [
              0,
              "#0d0887"
             ],
             [
              0.1111111111111111,
              "#46039f"
             ],
             [
              0.2222222222222222,
              "#7201a8"
             ],
             [
              0.3333333333333333,
              "#9c179e"
             ],
             [
              0.4444444444444444,
              "#bd3786"
             ],
             [
              0.5555555555555556,
              "#d8576b"
             ],
             [
              0.6666666666666666,
              "#ed7953"
             ],
             [
              0.7777777777777778,
              "#fb9f3a"
             ],
             [
              0.8888888888888888,
              "#fdca26"
             ],
             [
              1,
              "#f0f921"
             ]
            ],
            "type": "histogram2dcontour"
           }
          ],
          "mesh3d": [
           {
            "colorbar": {
             "outlinewidth": 0,
             "ticks": ""
            },
            "type": "mesh3d"
           }
          ],
          "parcoords": [
           {
            "line": {
             "colorbar": {
              "outlinewidth": 0,
              "ticks": ""
             }
            },
            "type": "parcoords"
           }
          ],
          "pie": [
           {
            "automargin": true,
            "type": "pie"
           }
          ],
          "scatter": [
           {
            "fillpattern": {
             "fillmode": "overlay",
             "size": 10,
             "solidity": 0.2
            },
            "type": "scatter"
           }
          ],
          "scatter3d": [
           {
            "line": {
             "colorbar": {
              "outlinewidth": 0,
              "ticks": ""
             }
            },
            "marker": {
             "colorbar": {
              "outlinewidth": 0,
              "ticks": ""
             }
            },
            "type": "scatter3d"
           }
          ],
          "scattercarpet": [
           {
            "marker": {
             "colorbar": {
              "outlinewidth": 0,
              "ticks": ""
             }
            },
            "type": "scattercarpet"
           }
          ],
          "scattergeo": [
           {
            "marker": {
             "colorbar": {
              "outlinewidth": 0,
              "ticks": ""
             }
            },
            "type": "scattergeo"
           }
          ],
          "scattergl": [
           {
            "marker": {
             "colorbar": {
              "outlinewidth": 0,
              "ticks": ""
             }
            },
            "type": "scattergl"
           }
          ],
          "scattermapbox": [
           {
            "marker": {
             "colorbar": {
              "outlinewidth": 0,
              "ticks": ""
             }
            },
            "type": "scattermapbox"
           }
          ],
          "scatterpolar": [
           {
            "marker": {
             "colorbar": {
              "outlinewidth": 0,
              "ticks": ""
             }
            },
            "type": "scatterpolar"
           }
          ],
          "scatterpolargl": [
           {
            "marker": {
             "colorbar": {
              "outlinewidth": 0,
              "ticks": ""
             }
            },
            "type": "scatterpolargl"
           }
          ],
          "scatterternary": [
           {
            "marker": {
             "colorbar": {
              "outlinewidth": 0,
              "ticks": ""
             }
            },
            "type": "scatterternary"
           }
          ],
          "surface": [
           {
            "colorbar": {
             "outlinewidth": 0,
             "ticks": ""
            },
            "colorscale": [
             [
              0,
              "#0d0887"
             ],
             [
              0.1111111111111111,
              "#46039f"
             ],
             [
              0.2222222222222222,
              "#7201a8"
             ],
             [
              0.3333333333333333,
              "#9c179e"
             ],
             [
              0.4444444444444444,
              "#bd3786"
             ],
             [
              0.5555555555555556,
              "#d8576b"
             ],
             [
              0.6666666666666666,
              "#ed7953"
             ],
             [
              0.7777777777777778,
              "#fb9f3a"
             ],
             [
              0.8888888888888888,
              "#fdca26"
             ],
             [
              1,
              "#f0f921"
             ]
            ],
            "type": "surface"
           }
          ],
          "table": [
           {
            "cells": {
             "fill": {
              "color": "#EBF0F8"
             },
             "line": {
              "color": "white"
             }
            },
            "header": {
             "fill": {
              "color": "#C8D4E3"
             },
             "line": {
              "color": "white"
             }
            },
            "type": "table"
           }
          ]
         },
         "layout": {
          "annotationdefaults": {
           "arrowcolor": "#2a3f5f",
           "arrowhead": 0,
           "arrowwidth": 1
          },
          "autotypenumbers": "strict",
          "coloraxis": {
           "colorbar": {
            "outlinewidth": 0,
            "ticks": ""
           }
          },
          "colorscale": {
           "diverging": [
            [
             0,
             "#8e0152"
            ],
            [
             0.1,
             "#c51b7d"
            ],
            [
             0.2,
             "#de77ae"
            ],
            [
             0.3,
             "#f1b6da"
            ],
            [
             0.4,
             "#fde0ef"
            ],
            [
             0.5,
             "#f7f7f7"
            ],
            [
             0.6,
             "#e6f5d0"
            ],
            [
             0.7,
             "#b8e186"
            ],
            [
             0.8,
             "#7fbc41"
            ],
            [
             0.9,
             "#4d9221"
            ],
            [
             1,
             "#276419"
            ]
           ],
           "sequential": [
            [
             0,
             "#0d0887"
            ],
            [
             0.1111111111111111,
             "#46039f"
            ],
            [
             0.2222222222222222,
             "#7201a8"
            ],
            [
             0.3333333333333333,
             "#9c179e"
            ],
            [
             0.4444444444444444,
             "#bd3786"
            ],
            [
             0.5555555555555556,
             "#d8576b"
            ],
            [
             0.6666666666666666,
             "#ed7953"
            ],
            [
             0.7777777777777778,
             "#fb9f3a"
            ],
            [
             0.8888888888888888,
             "#fdca26"
            ],
            [
             1,
             "#f0f921"
            ]
           ],
           "sequentialminus": [
            [
             0,
             "#0d0887"
            ],
            [
             0.1111111111111111,
             "#46039f"
            ],
            [
             0.2222222222222222,
             "#7201a8"
            ],
            [
             0.3333333333333333,
             "#9c179e"
            ],
            [
             0.4444444444444444,
             "#bd3786"
            ],
            [
             0.5555555555555556,
             "#d8576b"
            ],
            [
             0.6666666666666666,
             "#ed7953"
            ],
            [
             0.7777777777777778,
             "#fb9f3a"
            ],
            [
             0.8888888888888888,
             "#fdca26"
            ],
            [
             1,
             "#f0f921"
            ]
           ]
          },
          "colorway": [
           "#636efa",
           "#EF553B",
           "#00cc96",
           "#ab63fa",
           "#FFA15A",
           "#19d3f3",
           "#FF6692",
           "#B6E880",
           "#FF97FF",
           "#FECB52"
          ],
          "font": {
           "color": "#2a3f5f"
          },
          "geo": {
           "bgcolor": "white",
           "lakecolor": "white",
           "landcolor": "#E5ECF6",
           "showlakes": true,
           "showland": true,
           "subunitcolor": "white"
          },
          "hoverlabel": {
           "align": "left"
          },
          "hovermode": "closest",
          "mapbox": {
           "style": "light"
          },
          "paper_bgcolor": "white",
          "plot_bgcolor": "#E5ECF6",
          "polar": {
           "angularaxis": {
            "gridcolor": "white",
            "linecolor": "white",
            "ticks": ""
           },
           "bgcolor": "#E5ECF6",
           "radialaxis": {
            "gridcolor": "white",
            "linecolor": "white",
            "ticks": ""
           }
          },
          "scene": {
           "xaxis": {
            "backgroundcolor": "#E5ECF6",
            "gridcolor": "white",
            "gridwidth": 2,
            "linecolor": "white",
            "showbackground": true,
            "ticks": "",
            "zerolinecolor": "white"
           },
           "yaxis": {
            "backgroundcolor": "#E5ECF6",
            "gridcolor": "white",
            "gridwidth": 2,
            "linecolor": "white",
            "showbackground": true,
            "ticks": "",
            "zerolinecolor": "white"
           },
           "zaxis": {
            "backgroundcolor": "#E5ECF6",
            "gridcolor": "white",
            "gridwidth": 2,
            "linecolor": "white",
            "showbackground": true,
            "ticks": "",
            "zerolinecolor": "white"
           }
          },
          "shapedefaults": {
           "line": {
            "color": "#2a3f5f"
           }
          },
          "ternary": {
           "aaxis": {
            "gridcolor": "white",
            "linecolor": "white",
            "ticks": ""
           },
           "baxis": {
            "gridcolor": "white",
            "linecolor": "white",
            "ticks": ""
           },
           "bgcolor": "#E5ECF6",
           "caxis": {
            "gridcolor": "white",
            "linecolor": "white",
            "ticks": ""
           }
          },
          "title": {
           "x": 0.05
          },
          "xaxis": {
           "automargin": true,
           "gridcolor": "white",
           "linecolor": "white",
           "ticks": "",
           "title": {
            "standoff": 15
           },
           "zerolinecolor": "white",
           "zerolinewidth": 2
          },
          "yaxis": {
           "automargin": true,
           "gridcolor": "white",
           "linecolor": "white",
           "ticks": "",
           "title": {
            "standoff": 15
           },
           "zerolinecolor": "white",
           "zerolinewidth": 2
          }
         }
        },
        "xaxis": {
         "anchor": "y",
         "constrain": "domain",
         "domain": [
          0,
          1
         ],
         "scaleanchor": "y"
        },
        "yaxis": {
         "anchor": "x",
         "autorange": "reversed",
         "constrain": "domain",
         "domain": [
          0,
          1
         ]
        }
       }
      }
     },
     "metadata": {},
     "output_type": "display_data"
    }
   ],
   "source": [
    "px.imshow(random_bool_matrix)"
   ]
  },
  {
   "cell_type": "code",
   "execution_count": 27,
   "metadata": {},
   "outputs": [
    {
     "data": {
      "application/vnd.plotly.v1+json": {
       "config": {
        "plotlyServerURL": "https://plot.ly"
       },
       "data": [
        {
         "coloraxis": "coloraxis",
         "hovertemplate": "x: %{x}<br>y: %{y}<br>color: %{z}<extra></extra>",
         "name": "0",
         "type": "heatmap",
         "xaxis": "x",
         "yaxis": "y",
         "z": [
          [
           255,
           255,
           255,
           255,
           255,
           255,
           255,
           255,
           255,
           255,
           255,
           255,
           255,
           255,
           255,
           255
          ],
          [
           255,
           255,
           255,
           255,
           255,
           255,
           255,
           255,
           255,
           255,
           255,
           255,
           255,
           255,
           255,
           255
          ],
          [
           255,
           255,
           255,
           255,
           255,
           255,
           255,
           255,
           255,
           255,
           255,
           255,
           255,
           255,
           255,
           255
          ],
          [
           255,
           255,
           255,
           255,
           0,
           255,
           255,
           255,
           255,
           255,
           255,
           255,
           255,
           255,
           255,
           255
          ],
          [
           255,
           255,
           255,
           255,
           255,
           255,
           255,
           255,
           255,
           255,
           255,
           255,
           255,
           255,
           255,
           255
          ],
          [
           255,
           255,
           255,
           255,
           255,
           255,
           255,
           255,
           255,
           255,
           255,
           255,
           255,
           255,
           255,
           255
          ],
          [
           255,
           255,
           255,
           255,
           255,
           255,
           255,
           255,
           255,
           255,
           255,
           255,
           255,
           255,
           255,
           255
          ],
          [
           255,
           255,
           255,
           255,
           255,
           255,
           255,
           255,
           255,
           255,
           255,
           255,
           255,
           255,
           255,
           255
          ],
          [
           255,
           255,
           255,
           255,
           255,
           255,
           255,
           255,
           255,
           255,
           255,
           255,
           255,
           255,
           255,
           255
          ],
          [
           255,
           255,
           255,
           255,
           0,
           255,
           255,
           255,
           255,
           255,
           255,
           255,
           0,
           255,
           255,
           255
          ],
          [
           255,
           255,
           255,
           255,
           255,
           255,
           255,
           255,
           255,
           255,
           255,
           255,
           255,
           255,
           255,
           255
          ],
          [
           255,
           255,
           255,
           255,
           255,
           255,
           255,
           255,
           255,
           255,
           255,
           255,
           255,
           255,
           255,
           255
          ],
          [
           255,
           255,
           255,
           255,
           255,
           255,
           255,
           255,
           255,
           255,
           255,
           255,
           255,
           255,
           255,
           255
          ],
          [
           255,
           255,
           255,
           255,
           255,
           255,
           255,
           255,
           255,
           255,
           255,
           255,
           255,
           255,
           255,
           255
          ],
          [
           255,
           255,
           255,
           255,
           255,
           255,
           255,
           255,
           255,
           255,
           255,
           255,
           255,
           255,
           255,
           255
          ],
          [
           255,
           255,
           255,
           255,
           255,
           255,
           255,
           255,
           255,
           255,
           255,
           255,
           255,
           255,
           255,
           255
          ]
         ]
        }
       ],
       "layout": {
        "coloraxis": {
         "colorscale": [
          [
           0,
           "#0d0887"
          ],
          [
           0.1111111111111111,
           "#46039f"
          ],
          [
           0.2222222222222222,
           "#7201a8"
          ],
          [
           0.3333333333333333,
           "#9c179e"
          ],
          [
           0.4444444444444444,
           "#bd3786"
          ],
          [
           0.5555555555555556,
           "#d8576b"
          ],
          [
           0.6666666666666666,
           "#ed7953"
          ],
          [
           0.7777777777777778,
           "#fb9f3a"
          ],
          [
           0.8888888888888888,
           "#fdca26"
          ],
          [
           1,
           "#f0f921"
          ]
         ]
        },
        "margin": {
         "t": 60
        },
        "template": {
         "data": {
          "bar": [
           {
            "error_x": {
             "color": "#2a3f5f"
            },
            "error_y": {
             "color": "#2a3f5f"
            },
            "marker": {
             "line": {
              "color": "#E5ECF6",
              "width": 0.5
             },
             "pattern": {
              "fillmode": "overlay",
              "size": 10,
              "solidity": 0.2
             }
            },
            "type": "bar"
           }
          ],
          "barpolar": [
           {
            "marker": {
             "line": {
              "color": "#E5ECF6",
              "width": 0.5
             },
             "pattern": {
              "fillmode": "overlay",
              "size": 10,
              "solidity": 0.2
             }
            },
            "type": "barpolar"
           }
          ],
          "carpet": [
           {
            "aaxis": {
             "endlinecolor": "#2a3f5f",
             "gridcolor": "white",
             "linecolor": "white",
             "minorgridcolor": "white",
             "startlinecolor": "#2a3f5f"
            },
            "baxis": {
             "endlinecolor": "#2a3f5f",
             "gridcolor": "white",
             "linecolor": "white",
             "minorgridcolor": "white",
             "startlinecolor": "#2a3f5f"
            },
            "type": "carpet"
           }
          ],
          "choropleth": [
           {
            "colorbar": {
             "outlinewidth": 0,
             "ticks": ""
            },
            "type": "choropleth"
           }
          ],
          "contour": [
           {
            "colorbar": {
             "outlinewidth": 0,
             "ticks": ""
            },
            "colorscale": [
             [
              0,
              "#0d0887"
             ],
             [
              0.1111111111111111,
              "#46039f"
             ],
             [
              0.2222222222222222,
              "#7201a8"
             ],
             [
              0.3333333333333333,
              "#9c179e"
             ],
             [
              0.4444444444444444,
              "#bd3786"
             ],
             [
              0.5555555555555556,
              "#d8576b"
             ],
             [
              0.6666666666666666,
              "#ed7953"
             ],
             [
              0.7777777777777778,
              "#fb9f3a"
             ],
             [
              0.8888888888888888,
              "#fdca26"
             ],
             [
              1,
              "#f0f921"
             ]
            ],
            "type": "contour"
           }
          ],
          "contourcarpet": [
           {
            "colorbar": {
             "outlinewidth": 0,
             "ticks": ""
            },
            "type": "contourcarpet"
           }
          ],
          "heatmap": [
           {
            "colorbar": {
             "outlinewidth": 0,
             "ticks": ""
            },
            "colorscale": [
             [
              0,
              "#0d0887"
             ],
             [
              0.1111111111111111,
              "#46039f"
             ],
             [
              0.2222222222222222,
              "#7201a8"
             ],
             [
              0.3333333333333333,
              "#9c179e"
             ],
             [
              0.4444444444444444,
              "#bd3786"
             ],
             [
              0.5555555555555556,
              "#d8576b"
             ],
             [
              0.6666666666666666,
              "#ed7953"
             ],
             [
              0.7777777777777778,
              "#fb9f3a"
             ],
             [
              0.8888888888888888,
              "#fdca26"
             ],
             [
              1,
              "#f0f921"
             ]
            ],
            "type": "heatmap"
           }
          ],
          "heatmapgl": [
           {
            "colorbar": {
             "outlinewidth": 0,
             "ticks": ""
            },
            "colorscale": [
             [
              0,
              "#0d0887"
             ],
             [
              0.1111111111111111,
              "#46039f"
             ],
             [
              0.2222222222222222,
              "#7201a8"
             ],
             [
              0.3333333333333333,
              "#9c179e"
             ],
             [
              0.4444444444444444,
              "#bd3786"
             ],
             [
              0.5555555555555556,
              "#d8576b"
             ],
             [
              0.6666666666666666,
              "#ed7953"
             ],
             [
              0.7777777777777778,
              "#fb9f3a"
             ],
             [
              0.8888888888888888,
              "#fdca26"
             ],
             [
              1,
              "#f0f921"
             ]
            ],
            "type": "heatmapgl"
           }
          ],
          "histogram": [
           {
            "marker": {
             "pattern": {
              "fillmode": "overlay",
              "size": 10,
              "solidity": 0.2
             }
            },
            "type": "histogram"
           }
          ],
          "histogram2d": [
           {
            "colorbar": {
             "outlinewidth": 0,
             "ticks": ""
            },
            "colorscale": [
             [
              0,
              "#0d0887"
             ],
             [
              0.1111111111111111,
              "#46039f"
             ],
             [
              0.2222222222222222,
              "#7201a8"
             ],
             [
              0.3333333333333333,
              "#9c179e"
             ],
             [
              0.4444444444444444,
              "#bd3786"
             ],
             [
              0.5555555555555556,
              "#d8576b"
             ],
             [
              0.6666666666666666,
              "#ed7953"
             ],
             [
              0.7777777777777778,
              "#fb9f3a"
             ],
             [
              0.8888888888888888,
              "#fdca26"
             ],
             [
              1,
              "#f0f921"
             ]
            ],
            "type": "histogram2d"
           }
          ],
          "histogram2dcontour": [
           {
            "colorbar": {
             "outlinewidth": 0,
             "ticks": ""
            },
            "colorscale": [
             [
              0,
              "#0d0887"
             ],
             [
              0.1111111111111111,
              "#46039f"
             ],
             [
              0.2222222222222222,
              "#7201a8"
             ],
             [
              0.3333333333333333,
              "#9c179e"
             ],
             [
              0.4444444444444444,
              "#bd3786"
             ],
             [
              0.5555555555555556,
              "#d8576b"
             ],
             [
              0.6666666666666666,
              "#ed7953"
             ],
             [
              0.7777777777777778,
              "#fb9f3a"
             ],
             [
              0.8888888888888888,
              "#fdca26"
             ],
             [
              1,
              "#f0f921"
             ]
            ],
            "type": "histogram2dcontour"
           }
          ],
          "mesh3d": [
           {
            "colorbar": {
             "outlinewidth": 0,
             "ticks": ""
            },
            "type": "mesh3d"
           }
          ],
          "parcoords": [
           {
            "line": {
             "colorbar": {
              "outlinewidth": 0,
              "ticks": ""
             }
            },
            "type": "parcoords"
           }
          ],
          "pie": [
           {
            "automargin": true,
            "type": "pie"
           }
          ],
          "scatter": [
           {
            "fillpattern": {
             "fillmode": "overlay",
             "size": 10,
             "solidity": 0.2
            },
            "type": "scatter"
           }
          ],
          "scatter3d": [
           {
            "line": {
             "colorbar": {
              "outlinewidth": 0,
              "ticks": ""
             }
            },
            "marker": {
             "colorbar": {
              "outlinewidth": 0,
              "ticks": ""
             }
            },
            "type": "scatter3d"
           }
          ],
          "scattercarpet": [
           {
            "marker": {
             "colorbar": {
              "outlinewidth": 0,
              "ticks": ""
             }
            },
            "type": "scattercarpet"
           }
          ],
          "scattergeo": [
           {
            "marker": {
             "colorbar": {
              "outlinewidth": 0,
              "ticks": ""
             }
            },
            "type": "scattergeo"
           }
          ],
          "scattergl": [
           {
            "marker": {
             "colorbar": {
              "outlinewidth": 0,
              "ticks": ""
             }
            },
            "type": "scattergl"
           }
          ],
          "scattermapbox": [
           {
            "marker": {
             "colorbar": {
              "outlinewidth": 0,
              "ticks": ""
             }
            },
            "type": "scattermapbox"
           }
          ],
          "scatterpolar": [
           {
            "marker": {
             "colorbar": {
              "outlinewidth": 0,
              "ticks": ""
             }
            },
            "type": "scatterpolar"
           }
          ],
          "scatterpolargl": [
           {
            "marker": {
             "colorbar": {
              "outlinewidth": 0,
              "ticks": ""
             }
            },
            "type": "scatterpolargl"
           }
          ],
          "scatterternary": [
           {
            "marker": {
             "colorbar": {
              "outlinewidth": 0,
              "ticks": ""
             }
            },
            "type": "scatterternary"
           }
          ],
          "surface": [
           {
            "colorbar": {
             "outlinewidth": 0,
             "ticks": ""
            },
            "colorscale": [
             [
              0,
              "#0d0887"
             ],
             [
              0.1111111111111111,
              "#46039f"
             ],
             [
              0.2222222222222222,
              "#7201a8"
             ],
             [
              0.3333333333333333,
              "#9c179e"
             ],
             [
              0.4444444444444444,
              "#bd3786"
             ],
             [
              0.5555555555555556,
              "#d8576b"
             ],
             [
              0.6666666666666666,
              "#ed7953"
             ],
             [
              0.7777777777777778,
              "#fb9f3a"
             ],
             [
              0.8888888888888888,
              "#fdca26"
             ],
             [
              1,
              "#f0f921"
             ]
            ],
            "type": "surface"
           }
          ],
          "table": [
           {
            "cells": {
             "fill": {
              "color": "#EBF0F8"
             },
             "line": {
              "color": "white"
             }
            },
            "header": {
             "fill": {
              "color": "#C8D4E3"
             },
             "line": {
              "color": "white"
             }
            },
            "type": "table"
           }
          ]
         },
         "layout": {
          "annotationdefaults": {
           "arrowcolor": "#2a3f5f",
           "arrowhead": 0,
           "arrowwidth": 1
          },
          "autotypenumbers": "strict",
          "coloraxis": {
           "colorbar": {
            "outlinewidth": 0,
            "ticks": ""
           }
          },
          "colorscale": {
           "diverging": [
            [
             0,
             "#8e0152"
            ],
            [
             0.1,
             "#c51b7d"
            ],
            [
             0.2,
             "#de77ae"
            ],
            [
             0.3,
             "#f1b6da"
            ],
            [
             0.4,
             "#fde0ef"
            ],
            [
             0.5,
             "#f7f7f7"
            ],
            [
             0.6,
             "#e6f5d0"
            ],
            [
             0.7,
             "#b8e186"
            ],
            [
             0.8,
             "#7fbc41"
            ],
            [
             0.9,
             "#4d9221"
            ],
            [
             1,
             "#276419"
            ]
           ],
           "sequential": [
            [
             0,
             "#0d0887"
            ],
            [
             0.1111111111111111,
             "#46039f"
            ],
            [
             0.2222222222222222,
             "#7201a8"
            ],
            [
             0.3333333333333333,
             "#9c179e"
            ],
            [
             0.4444444444444444,
             "#bd3786"
            ],
            [
             0.5555555555555556,
             "#d8576b"
            ],
            [
             0.6666666666666666,
             "#ed7953"
            ],
            [
             0.7777777777777778,
             "#fb9f3a"
            ],
            [
             0.8888888888888888,
             "#fdca26"
            ],
            [
             1,
             "#f0f921"
            ]
           ],
           "sequentialminus": [
            [
             0,
             "#0d0887"
            ],
            [
             0.1111111111111111,
             "#46039f"
            ],
            [
             0.2222222222222222,
             "#7201a8"
            ],
            [
             0.3333333333333333,
             "#9c179e"
            ],
            [
             0.4444444444444444,
             "#bd3786"
            ],
            [
             0.5555555555555556,
             "#d8576b"
            ],
            [
             0.6666666666666666,
             "#ed7953"
            ],
            [
             0.7777777777777778,
             "#fb9f3a"
            ],
            [
             0.8888888888888888,
             "#fdca26"
            ],
            [
             1,
             "#f0f921"
            ]
           ]
          },
          "colorway": [
           "#636efa",
           "#EF553B",
           "#00cc96",
           "#ab63fa",
           "#FFA15A",
           "#19d3f3",
           "#FF6692",
           "#B6E880",
           "#FF97FF",
           "#FECB52"
          ],
          "font": {
           "color": "#2a3f5f"
          },
          "geo": {
           "bgcolor": "white",
           "lakecolor": "white",
           "landcolor": "#E5ECF6",
           "showlakes": true,
           "showland": true,
           "subunitcolor": "white"
          },
          "hoverlabel": {
           "align": "left"
          },
          "hovermode": "closest",
          "mapbox": {
           "style": "light"
          },
          "paper_bgcolor": "white",
          "plot_bgcolor": "#E5ECF6",
          "polar": {
           "angularaxis": {
            "gridcolor": "white",
            "linecolor": "white",
            "ticks": ""
           },
           "bgcolor": "#E5ECF6",
           "radialaxis": {
            "gridcolor": "white",
            "linecolor": "white",
            "ticks": ""
           }
          },
          "scene": {
           "xaxis": {
            "backgroundcolor": "#E5ECF6",
            "gridcolor": "white",
            "gridwidth": 2,
            "linecolor": "white",
            "showbackground": true,
            "ticks": "",
            "zerolinecolor": "white"
           },
           "yaxis": {
            "backgroundcolor": "#E5ECF6",
            "gridcolor": "white",
            "gridwidth": 2,
            "linecolor": "white",
            "showbackground": true,
            "ticks": "",
            "zerolinecolor": "white"
           },
           "zaxis": {
            "backgroundcolor": "#E5ECF6",
            "gridcolor": "white",
            "gridwidth": 2,
            "linecolor": "white",
            "showbackground": true,
            "ticks": "",
            "zerolinecolor": "white"
           }
          },
          "shapedefaults": {
           "line": {
            "color": "#2a3f5f"
           }
          },
          "ternary": {
           "aaxis": {
            "gridcolor": "white",
            "linecolor": "white",
            "ticks": ""
           },
           "baxis": {
            "gridcolor": "white",
            "linecolor": "white",
            "ticks": ""
           },
           "bgcolor": "#E5ECF6",
           "caxis": {
            "gridcolor": "white",
            "linecolor": "white",
            "ticks": ""
           }
          },
          "title": {
           "x": 0.05
          },
          "xaxis": {
           "automargin": true,
           "gridcolor": "white",
           "linecolor": "white",
           "ticks": "",
           "title": {
            "standoff": 15
           },
           "zerolinecolor": "white",
           "zerolinewidth": 2
          },
          "yaxis": {
           "automargin": true,
           "gridcolor": "white",
           "linecolor": "white",
           "ticks": "",
           "title": {
            "standoff": 15
           },
           "zerolinecolor": "white",
           "zerolinewidth": 2
          }
         }
        },
        "xaxis": {
         "anchor": "y",
         "constrain": "domain",
         "domain": [
          0,
          1
         ],
         "scaleanchor": "y"
        },
        "yaxis": {
         "anchor": "x",
         "autorange": "reversed",
         "constrain": "domain",
         "domain": [
          0,
          1
         ]
        }
       }
      }
     },
     "metadata": {},
     "output_type": "display_data"
    }
   ],
   "source": [
    "result = np.linalg.matrix_power(random_bool_matrix, 2)\n",
    "px.imshow(result)"
   ]
  },
  {
   "cell_type": "code",
   "execution_count": 28,
   "metadata": {},
   "outputs": [
    {
     "data": {
      "application/vnd.plotly.v1+json": {
       "config": {
        "plotlyServerURL": "https://plot.ly"
       },
       "data": [
        {
         "coloraxis": "coloraxis",
         "hovertemplate": "x: %{x}<br>y: %{y}<br>color: %{z}<extra></extra>",
         "name": "0",
         "type": "heatmap",
         "xaxis": "x",
         "yaxis": "y",
         "z": [
          [
           4,
           7,
           9,
           6,
           2,
           4,
           4,
           4,
           6,
           3,
           6,
           6,
           2,
           6,
           3,
           6
          ],
          [
           4,
           9,
           9,
           8,
           2,
           6,
           5,
           5,
           7,
           4,
           2,
           6,
           6,
           4,
           5,
           3
          ],
          [
           4,
           5,
           9,
           7,
           1,
           3,
           3,
           4,
           7,
           5,
           5,
           5,
           2,
           7,
           3,
           4
          ],
          [
           3,
           3,
           5,
           5,
           0,
           3,
           5,
           2,
           4,
           4,
           3,
           3,
           1,
           4,
           3,
           4
          ],
          [
           4,
           5,
           7,
           6,
           4,
           3,
           5,
           7,
           8,
           5,
           6,
           5,
           3,
           4,
           1,
           4
          ],
          [
           4,
           9,
           9,
           8,
           3,
           7,
           7,
           7,
           6,
           8,
           4,
           7,
           6,
           6,
           5,
           5
          ],
          [
           4,
           9,
           8,
           9,
           3,
           7,
           8,
           4,
           4,
           6,
           7,
           8,
           3,
           6,
           5,
           10
          ],
          [
           3,
           10,
           6,
           6,
           5,
           6,
           7,
           10,
           7,
           7,
           7,
           10,
           4,
           5,
           5,
           4
          ],
          [
           5,
           9,
           5,
           7,
           3,
           5,
           7,
           6,
           8,
           3,
           4,
           8,
           2,
           4,
           5,
           5
          ],
          [
           1,
           1,
           2,
           4,
           0,
           1,
           3,
           1,
           4,
           2,
           1,
           1,
           0,
           2,
           1,
           4
          ],
          [
           2,
           7,
           9,
           4,
           5,
           5,
           3,
           7,
           4,
           5,
           9,
           7,
           3,
           6,
           2,
           5
          ],
          [
           4,
           8,
           9,
           7,
           4,
           7,
           6,
           6,
           5,
           6,
           9,
           8,
           3,
           6,
           3,
           6
          ],
          [
           6,
           8,
           7,
           9,
           1,
           4,
           7,
           5,
           10,
           6,
           4,
           5,
           5,
           4,
           3,
           4
          ],
          [
           3,
           7,
           7,
           5,
           3,
           5,
           3,
           6,
           5,
           6,
           3,
           5,
           5,
           4,
           3,
           3
          ],
          [
           3,
           8,
           11,
           9,
           4,
           7,
           6,
           8,
           7,
           9,
           5,
           7,
           7,
           7,
           4,
           6
          ],
          [
           2,
           4,
           8,
           7,
           1,
           5,
           6,
           3,
           3,
           7,
           6,
           4,
           2,
           7,
           3,
           8
          ]
         ]
        }
       ],
       "layout": {
        "coloraxis": {
         "colorscale": [
          [
           0,
           "#0d0887"
          ],
          [
           0.1111111111111111,
           "#46039f"
          ],
          [
           0.2222222222222222,
           "#7201a8"
          ],
          [
           0.3333333333333333,
           "#9c179e"
          ],
          [
           0.4444444444444444,
           "#bd3786"
          ],
          [
           0.5555555555555556,
           "#d8576b"
          ],
          [
           0.6666666666666666,
           "#ed7953"
          ],
          [
           0.7777777777777778,
           "#fb9f3a"
          ],
          [
           0.8888888888888888,
           "#fdca26"
          ],
          [
           1,
           "#f0f921"
          ]
         ]
        },
        "margin": {
         "t": 60
        },
        "template": {
         "data": {
          "bar": [
           {
            "error_x": {
             "color": "#2a3f5f"
            },
            "error_y": {
             "color": "#2a3f5f"
            },
            "marker": {
             "line": {
              "color": "#E5ECF6",
              "width": 0.5
             },
             "pattern": {
              "fillmode": "overlay",
              "size": 10,
              "solidity": 0.2
             }
            },
            "type": "bar"
           }
          ],
          "barpolar": [
           {
            "marker": {
             "line": {
              "color": "#E5ECF6",
              "width": 0.5
             },
             "pattern": {
              "fillmode": "overlay",
              "size": 10,
              "solidity": 0.2
             }
            },
            "type": "barpolar"
           }
          ],
          "carpet": [
           {
            "aaxis": {
             "endlinecolor": "#2a3f5f",
             "gridcolor": "white",
             "linecolor": "white",
             "minorgridcolor": "white",
             "startlinecolor": "#2a3f5f"
            },
            "baxis": {
             "endlinecolor": "#2a3f5f",
             "gridcolor": "white",
             "linecolor": "white",
             "minorgridcolor": "white",
             "startlinecolor": "#2a3f5f"
            },
            "type": "carpet"
           }
          ],
          "choropleth": [
           {
            "colorbar": {
             "outlinewidth": 0,
             "ticks": ""
            },
            "type": "choropleth"
           }
          ],
          "contour": [
           {
            "colorbar": {
             "outlinewidth": 0,
             "ticks": ""
            },
            "colorscale": [
             [
              0,
              "#0d0887"
             ],
             [
              0.1111111111111111,
              "#46039f"
             ],
             [
              0.2222222222222222,
              "#7201a8"
             ],
             [
              0.3333333333333333,
              "#9c179e"
             ],
             [
              0.4444444444444444,
              "#bd3786"
             ],
             [
              0.5555555555555556,
              "#d8576b"
             ],
             [
              0.6666666666666666,
              "#ed7953"
             ],
             [
              0.7777777777777778,
              "#fb9f3a"
             ],
             [
              0.8888888888888888,
              "#fdca26"
             ],
             [
              1,
              "#f0f921"
             ]
            ],
            "type": "contour"
           }
          ],
          "contourcarpet": [
           {
            "colorbar": {
             "outlinewidth": 0,
             "ticks": ""
            },
            "type": "contourcarpet"
           }
          ],
          "heatmap": [
           {
            "colorbar": {
             "outlinewidth": 0,
             "ticks": ""
            },
            "colorscale": [
             [
              0,
              "#0d0887"
             ],
             [
              0.1111111111111111,
              "#46039f"
             ],
             [
              0.2222222222222222,
              "#7201a8"
             ],
             [
              0.3333333333333333,
              "#9c179e"
             ],
             [
              0.4444444444444444,
              "#bd3786"
             ],
             [
              0.5555555555555556,
              "#d8576b"
             ],
             [
              0.6666666666666666,
              "#ed7953"
             ],
             [
              0.7777777777777778,
              "#fb9f3a"
             ],
             [
              0.8888888888888888,
              "#fdca26"
             ],
             [
              1,
              "#f0f921"
             ]
            ],
            "type": "heatmap"
           }
          ],
          "heatmapgl": [
           {
            "colorbar": {
             "outlinewidth": 0,
             "ticks": ""
            },
            "colorscale": [
             [
              0,
              "#0d0887"
             ],
             [
              0.1111111111111111,
              "#46039f"
             ],
             [
              0.2222222222222222,
              "#7201a8"
             ],
             [
              0.3333333333333333,
              "#9c179e"
             ],
             [
              0.4444444444444444,
              "#bd3786"
             ],
             [
              0.5555555555555556,
              "#d8576b"
             ],
             [
              0.6666666666666666,
              "#ed7953"
             ],
             [
              0.7777777777777778,
              "#fb9f3a"
             ],
             [
              0.8888888888888888,
              "#fdca26"
             ],
             [
              1,
              "#f0f921"
             ]
            ],
            "type": "heatmapgl"
           }
          ],
          "histogram": [
           {
            "marker": {
             "pattern": {
              "fillmode": "overlay",
              "size": 10,
              "solidity": 0.2
             }
            },
            "type": "histogram"
           }
          ],
          "histogram2d": [
           {
            "colorbar": {
             "outlinewidth": 0,
             "ticks": ""
            },
            "colorscale": [
             [
              0,
              "#0d0887"
             ],
             [
              0.1111111111111111,
              "#46039f"
             ],
             [
              0.2222222222222222,
              "#7201a8"
             ],
             [
              0.3333333333333333,
              "#9c179e"
             ],
             [
              0.4444444444444444,
              "#bd3786"
             ],
             [
              0.5555555555555556,
              "#d8576b"
             ],
             [
              0.6666666666666666,
              "#ed7953"
             ],
             [
              0.7777777777777778,
              "#fb9f3a"
             ],
             [
              0.8888888888888888,
              "#fdca26"
             ],
             [
              1,
              "#f0f921"
             ]
            ],
            "type": "histogram2d"
           }
          ],
          "histogram2dcontour": [
           {
            "colorbar": {
             "outlinewidth": 0,
             "ticks": ""
            },
            "colorscale": [
             [
              0,
              "#0d0887"
             ],
             [
              0.1111111111111111,
              "#46039f"
             ],
             [
              0.2222222222222222,
              "#7201a8"
             ],
             [
              0.3333333333333333,
              "#9c179e"
             ],
             [
              0.4444444444444444,
              "#bd3786"
             ],
             [
              0.5555555555555556,
              "#d8576b"
             ],
             [
              0.6666666666666666,
              "#ed7953"
             ],
             [
              0.7777777777777778,
              "#fb9f3a"
             ],
             [
              0.8888888888888888,
              "#fdca26"
             ],
             [
              1,
              "#f0f921"
             ]
            ],
            "type": "histogram2dcontour"
           }
          ],
          "mesh3d": [
           {
            "colorbar": {
             "outlinewidth": 0,
             "ticks": ""
            },
            "type": "mesh3d"
           }
          ],
          "parcoords": [
           {
            "line": {
             "colorbar": {
              "outlinewidth": 0,
              "ticks": ""
             }
            },
            "type": "parcoords"
           }
          ],
          "pie": [
           {
            "automargin": true,
            "type": "pie"
           }
          ],
          "scatter": [
           {
            "fillpattern": {
             "fillmode": "overlay",
             "size": 10,
             "solidity": 0.2
            },
            "type": "scatter"
           }
          ],
          "scatter3d": [
           {
            "line": {
             "colorbar": {
              "outlinewidth": 0,
              "ticks": ""
             }
            },
            "marker": {
             "colorbar": {
              "outlinewidth": 0,
              "ticks": ""
             }
            },
            "type": "scatter3d"
           }
          ],
          "scattercarpet": [
           {
            "marker": {
             "colorbar": {
              "outlinewidth": 0,
              "ticks": ""
             }
            },
            "type": "scattercarpet"
           }
          ],
          "scattergeo": [
           {
            "marker": {
             "colorbar": {
              "outlinewidth": 0,
              "ticks": ""
             }
            },
            "type": "scattergeo"
           }
          ],
          "scattergl": [
           {
            "marker": {
             "colorbar": {
              "outlinewidth": 0,
              "ticks": ""
             }
            },
            "type": "scattergl"
           }
          ],
          "scattermapbox": [
           {
            "marker": {
             "colorbar": {
              "outlinewidth": 0,
              "ticks": ""
             }
            },
            "type": "scattermapbox"
           }
          ],
          "scatterpolar": [
           {
            "marker": {
             "colorbar": {
              "outlinewidth": 0,
              "ticks": ""
             }
            },
            "type": "scatterpolar"
           }
          ],
          "scatterpolargl": [
           {
            "marker": {
             "colorbar": {
              "outlinewidth": 0,
              "ticks": ""
             }
            },
            "type": "scatterpolargl"
           }
          ],
          "scatterternary": [
           {
            "marker": {
             "colorbar": {
              "outlinewidth": 0,
              "ticks": ""
             }
            },
            "type": "scatterternary"
           }
          ],
          "surface": [
           {
            "colorbar": {
             "outlinewidth": 0,
             "ticks": ""
            },
            "colorscale": [
             [
              0,
              "#0d0887"
             ],
             [
              0.1111111111111111,
              "#46039f"
             ],
             [
              0.2222222222222222,
              "#7201a8"
             ],
             [
              0.3333333333333333,
              "#9c179e"
             ],
             [
              0.4444444444444444,
              "#bd3786"
             ],
             [
              0.5555555555555556,
              "#d8576b"
             ],
             [
              0.6666666666666666,
              "#ed7953"
             ],
             [
              0.7777777777777778,
              "#fb9f3a"
             ],
             [
              0.8888888888888888,
              "#fdca26"
             ],
             [
              1,
              "#f0f921"
             ]
            ],
            "type": "surface"
           }
          ],
          "table": [
           {
            "cells": {
             "fill": {
              "color": "#EBF0F8"
             },
             "line": {
              "color": "white"
             }
            },
            "header": {
             "fill": {
              "color": "#C8D4E3"
             },
             "line": {
              "color": "white"
             }
            },
            "type": "table"
           }
          ]
         },
         "layout": {
          "annotationdefaults": {
           "arrowcolor": "#2a3f5f",
           "arrowhead": 0,
           "arrowwidth": 1
          },
          "autotypenumbers": "strict",
          "coloraxis": {
           "colorbar": {
            "outlinewidth": 0,
            "ticks": ""
           }
          },
          "colorscale": {
           "diverging": [
            [
             0,
             "#8e0152"
            ],
            [
             0.1,
             "#c51b7d"
            ],
            [
             0.2,
             "#de77ae"
            ],
            [
             0.3,
             "#f1b6da"
            ],
            [
             0.4,
             "#fde0ef"
            ],
            [
             0.5,
             "#f7f7f7"
            ],
            [
             0.6,
             "#e6f5d0"
            ],
            [
             0.7,
             "#b8e186"
            ],
            [
             0.8,
             "#7fbc41"
            ],
            [
             0.9,
             "#4d9221"
            ],
            [
             1,
             "#276419"
            ]
           ],
           "sequential": [
            [
             0,
             "#0d0887"
            ],
            [
             0.1111111111111111,
             "#46039f"
            ],
            [
             0.2222222222222222,
             "#7201a8"
            ],
            [
             0.3333333333333333,
             "#9c179e"
            ],
            [
             0.4444444444444444,
             "#bd3786"
            ],
            [
             0.5555555555555556,
             "#d8576b"
            ],
            [
             0.6666666666666666,
             "#ed7953"
            ],
            [
             0.7777777777777778,
             "#fb9f3a"
            ],
            [
             0.8888888888888888,
             "#fdca26"
            ],
            [
             1,
             "#f0f921"
            ]
           ],
           "sequentialminus": [
            [
             0,
             "#0d0887"
            ],
            [
             0.1111111111111111,
             "#46039f"
            ],
            [
             0.2222222222222222,
             "#7201a8"
            ],
            [
             0.3333333333333333,
             "#9c179e"
            ],
            [
             0.4444444444444444,
             "#bd3786"
            ],
            [
             0.5555555555555556,
             "#d8576b"
            ],
            [
             0.6666666666666666,
             "#ed7953"
            ],
            [
             0.7777777777777778,
             "#fb9f3a"
            ],
            [
             0.8888888888888888,
             "#fdca26"
            ],
            [
             1,
             "#f0f921"
            ]
           ]
          },
          "colorway": [
           "#636efa",
           "#EF553B",
           "#00cc96",
           "#ab63fa",
           "#FFA15A",
           "#19d3f3",
           "#FF6692",
           "#B6E880",
           "#FF97FF",
           "#FECB52"
          ],
          "font": {
           "color": "#2a3f5f"
          },
          "geo": {
           "bgcolor": "white",
           "lakecolor": "white",
           "landcolor": "#E5ECF6",
           "showlakes": true,
           "showland": true,
           "subunitcolor": "white"
          },
          "hoverlabel": {
           "align": "left"
          },
          "hovermode": "closest",
          "mapbox": {
           "style": "light"
          },
          "paper_bgcolor": "white",
          "plot_bgcolor": "#E5ECF6",
          "polar": {
           "angularaxis": {
            "gridcolor": "white",
            "linecolor": "white",
            "ticks": ""
           },
           "bgcolor": "#E5ECF6",
           "radialaxis": {
            "gridcolor": "white",
            "linecolor": "white",
            "ticks": ""
           }
          },
          "scene": {
           "xaxis": {
            "backgroundcolor": "#E5ECF6",
            "gridcolor": "white",
            "gridwidth": 2,
            "linecolor": "white",
            "showbackground": true,
            "ticks": "",
            "zerolinecolor": "white"
           },
           "yaxis": {
            "backgroundcolor": "#E5ECF6",
            "gridcolor": "white",
            "gridwidth": 2,
            "linecolor": "white",
            "showbackground": true,
            "ticks": "",
            "zerolinecolor": "white"
           },
           "zaxis": {
            "backgroundcolor": "#E5ECF6",
            "gridcolor": "white",
            "gridwidth": 2,
            "linecolor": "white",
            "showbackground": true,
            "ticks": "",
            "zerolinecolor": "white"
           }
          },
          "shapedefaults": {
           "line": {
            "color": "#2a3f5f"
           }
          },
          "ternary": {
           "aaxis": {
            "gridcolor": "white",
            "linecolor": "white",
            "ticks": ""
           },
           "baxis": {
            "gridcolor": "white",
            "linecolor": "white",
            "ticks": ""
           },
           "bgcolor": "#E5ECF6",
           "caxis": {
            "gridcolor": "white",
            "linecolor": "white",
            "ticks": ""
           }
          },
          "title": {
           "x": 0.05
          },
          "xaxis": {
           "automargin": true,
           "gridcolor": "white",
           "linecolor": "white",
           "ticks": "",
           "title": {
            "standoff": 15
           },
           "zerolinecolor": "white",
           "zerolinewidth": 2
          },
          "yaxis": {
           "automargin": true,
           "gridcolor": "white",
           "linecolor": "white",
           "ticks": "",
           "title": {
            "standoff": 15
           },
           "zerolinecolor": "white",
           "zerolinewidth": 2
          }
         }
        },
        "xaxis": {
         "anchor": "y",
         "constrain": "domain",
         "domain": [
          0,
          1
         ],
         "scaleanchor": "y"
        },
        "yaxis": {
         "anchor": "x",
         "autorange": "reversed",
         "constrain": "domain",
         "domain": [
          0,
          1
         ]
        }
       }
      }
     },
     "metadata": {},
     "output_type": "display_data"
    }
   ],
   "source": [
    "result = np.linalg.matrix_power(random_bool_matrix+np.identity(random_bool_matrix.shape[0]), 2)\n",
    "px.imshow(result)"
   ]
  },
  {
   "cell_type": "code",
   "execution_count": null,
   "metadata": {},
   "outputs": [],
   "source": []
  },
  {
   "cell_type": "code",
   "execution_count": 29,
   "metadata": {},
   "outputs": [
    {
     "data": {
      "application/vnd.plotly.v1+json": {
       "config": {
        "plotlyServerURL": "https://plot.ly"
       },
       "data": [
        {
         "coloraxis": "coloraxis",
         "hovertemplate": "x: %{x}<br>y: %{y}<br>color: %{z}<extra></extra>",
         "name": "0",
         "type": "heatmap",
         "xaxis": "x",
         "yaxis": "y",
         "z": [
          [
           0,
           0,
           0,
           0,
           1,
           0,
           0,
           0,
           0,
           0,
           1,
           0,
           0,
           0,
           0,
           0
          ],
          [
           0,
           0,
           0,
           0,
           0,
           0,
           0,
           0,
           0,
           0,
           0,
           0,
           0,
           0,
           0,
           0
          ],
          [
           0,
           0,
           0,
           0,
           0,
           1,
           0,
           0,
           0,
           0,
           0,
           0,
           1,
           0,
           0,
           0
          ],
          [
           0,
           0,
           0,
           0,
           0,
           0,
           0,
           0,
           0,
           1,
           0,
           1,
           0,
           0,
           0,
           0
          ],
          [
           0,
           0,
           0,
           0,
           0,
           0,
           1,
           1,
           0,
           0,
           0,
           0,
           0,
           0,
           1,
           0
          ],
          [
           0,
           0,
           0,
           1,
           0,
           0,
           0,
           0,
           0,
           0,
           0,
           0,
           0,
           0,
           0,
           0
          ],
          [
           0,
           1,
           0,
           0,
           0,
           0,
           0,
           0,
           0,
           0,
           0,
           0,
           0,
           0,
           0,
           0
          ],
          [
           0,
           0,
           0,
           0,
           0,
           0,
           0,
           0,
           0,
           0,
           0,
           0,
           0,
           0,
           0,
           0
          ],
          [
           0,
           0,
           0,
           0,
           0,
           0,
           0,
           0,
           0,
           0,
           0,
           0,
           0,
           0,
           0,
           0
          ],
          [
           0,
           0,
           0,
           0,
           0,
           0,
           0,
           0,
           0,
           0,
           0,
           0,
           0,
           0,
           0,
           0
          ],
          [
           0,
           0,
           1,
           0,
           0,
           0,
           0,
           0,
           0,
           0,
           0,
           0,
           0,
           1,
           0,
           0
          ],
          [
           0,
           0,
           0,
           0,
           0,
           0,
           0,
           0,
           0,
           0,
           0,
           0,
           0,
           0,
           0,
           0
          ],
          [
           0,
           0,
           0,
           0,
           0,
           0,
           0,
           0,
           0,
           0,
           0,
           0,
           0,
           0,
           0,
           0
          ],
          [
           0,
           0,
           0,
           0,
           0,
           0,
           0,
           0,
           0,
           0,
           0,
           0,
           0,
           0,
           0,
           0
          ],
          [
           0,
           0,
           0,
           0,
           0,
           0,
           0,
           0,
           1,
           0,
           0,
           0,
           0,
           0,
           0,
           1
          ],
          [
           0,
           0,
           0,
           0,
           0,
           0,
           0,
           0,
           0,
           0,
           0,
           0,
           0,
           0,
           0,
           0
          ]
         ]
        }
       ],
       "layout": {
        "coloraxis": {
         "colorscale": [
          [
           0,
           "#0d0887"
          ],
          [
           0.1111111111111111,
           "#46039f"
          ],
          [
           0.2222222222222222,
           "#7201a8"
          ],
          [
           0.3333333333333333,
           "#9c179e"
          ],
          [
           0.4444444444444444,
           "#bd3786"
          ],
          [
           0.5555555555555556,
           "#d8576b"
          ],
          [
           0.6666666666666666,
           "#ed7953"
          ],
          [
           0.7777777777777778,
           "#fb9f3a"
          ],
          [
           0.8888888888888888,
           "#fdca26"
          ],
          [
           1,
           "#f0f921"
          ]
         ]
        },
        "margin": {
         "t": 60
        },
        "template": {
         "data": {
          "bar": [
           {
            "error_x": {
             "color": "#2a3f5f"
            },
            "error_y": {
             "color": "#2a3f5f"
            },
            "marker": {
             "line": {
              "color": "#E5ECF6",
              "width": 0.5
             },
             "pattern": {
              "fillmode": "overlay",
              "size": 10,
              "solidity": 0.2
             }
            },
            "type": "bar"
           }
          ],
          "barpolar": [
           {
            "marker": {
             "line": {
              "color": "#E5ECF6",
              "width": 0.5
             },
             "pattern": {
              "fillmode": "overlay",
              "size": 10,
              "solidity": 0.2
             }
            },
            "type": "barpolar"
           }
          ],
          "carpet": [
           {
            "aaxis": {
             "endlinecolor": "#2a3f5f",
             "gridcolor": "white",
             "linecolor": "white",
             "minorgridcolor": "white",
             "startlinecolor": "#2a3f5f"
            },
            "baxis": {
             "endlinecolor": "#2a3f5f",
             "gridcolor": "white",
             "linecolor": "white",
             "minorgridcolor": "white",
             "startlinecolor": "#2a3f5f"
            },
            "type": "carpet"
           }
          ],
          "choropleth": [
           {
            "colorbar": {
             "outlinewidth": 0,
             "ticks": ""
            },
            "type": "choropleth"
           }
          ],
          "contour": [
           {
            "colorbar": {
             "outlinewidth": 0,
             "ticks": ""
            },
            "colorscale": [
             [
              0,
              "#0d0887"
             ],
             [
              0.1111111111111111,
              "#46039f"
             ],
             [
              0.2222222222222222,
              "#7201a8"
             ],
             [
              0.3333333333333333,
              "#9c179e"
             ],
             [
              0.4444444444444444,
              "#bd3786"
             ],
             [
              0.5555555555555556,
              "#d8576b"
             ],
             [
              0.6666666666666666,
              "#ed7953"
             ],
             [
              0.7777777777777778,
              "#fb9f3a"
             ],
             [
              0.8888888888888888,
              "#fdca26"
             ],
             [
              1,
              "#f0f921"
             ]
            ],
            "type": "contour"
           }
          ],
          "contourcarpet": [
           {
            "colorbar": {
             "outlinewidth": 0,
             "ticks": ""
            },
            "type": "contourcarpet"
           }
          ],
          "heatmap": [
           {
            "colorbar": {
             "outlinewidth": 0,
             "ticks": ""
            },
            "colorscale": [
             [
              0,
              "#0d0887"
             ],
             [
              0.1111111111111111,
              "#46039f"
             ],
             [
              0.2222222222222222,
              "#7201a8"
             ],
             [
              0.3333333333333333,
              "#9c179e"
             ],
             [
              0.4444444444444444,
              "#bd3786"
             ],
             [
              0.5555555555555556,
              "#d8576b"
             ],
             [
              0.6666666666666666,
              "#ed7953"
             ],
             [
              0.7777777777777778,
              "#fb9f3a"
             ],
             [
              0.8888888888888888,
              "#fdca26"
             ],
             [
              1,
              "#f0f921"
             ]
            ],
            "type": "heatmap"
           }
          ],
          "heatmapgl": [
           {
            "colorbar": {
             "outlinewidth": 0,
             "ticks": ""
            },
            "colorscale": [
             [
              0,
              "#0d0887"
             ],
             [
              0.1111111111111111,
              "#46039f"
             ],
             [
              0.2222222222222222,
              "#7201a8"
             ],
             [
              0.3333333333333333,
              "#9c179e"
             ],
             [
              0.4444444444444444,
              "#bd3786"
             ],
             [
              0.5555555555555556,
              "#d8576b"
             ],
             [
              0.6666666666666666,
              "#ed7953"
             ],
             [
              0.7777777777777778,
              "#fb9f3a"
             ],
             [
              0.8888888888888888,
              "#fdca26"
             ],
             [
              1,
              "#f0f921"
             ]
            ],
            "type": "heatmapgl"
           }
          ],
          "histogram": [
           {
            "marker": {
             "pattern": {
              "fillmode": "overlay",
              "size": 10,
              "solidity": 0.2
             }
            },
            "type": "histogram"
           }
          ],
          "histogram2d": [
           {
            "colorbar": {
             "outlinewidth": 0,
             "ticks": ""
            },
            "colorscale": [
             [
              0,
              "#0d0887"
             ],
             [
              0.1111111111111111,
              "#46039f"
             ],
             [
              0.2222222222222222,
              "#7201a8"
             ],
             [
              0.3333333333333333,
              "#9c179e"
             ],
             [
              0.4444444444444444,
              "#bd3786"
             ],
             [
              0.5555555555555556,
              "#d8576b"
             ],
             [
              0.6666666666666666,
              "#ed7953"
             ],
             [
              0.7777777777777778,
              "#fb9f3a"
             ],
             [
              0.8888888888888888,
              "#fdca26"
             ],
             [
              1,
              "#f0f921"
             ]
            ],
            "type": "histogram2d"
           }
          ],
          "histogram2dcontour": [
           {
            "colorbar": {
             "outlinewidth": 0,
             "ticks": ""
            },
            "colorscale": [
             [
              0,
              "#0d0887"
             ],
             [
              0.1111111111111111,
              "#46039f"
             ],
             [
              0.2222222222222222,
              "#7201a8"
             ],
             [
              0.3333333333333333,
              "#9c179e"
             ],
             [
              0.4444444444444444,
              "#bd3786"
             ],
             [
              0.5555555555555556,
              "#d8576b"
             ],
             [
              0.6666666666666666,
              "#ed7953"
             ],
             [
              0.7777777777777778,
              "#fb9f3a"
             ],
             [
              0.8888888888888888,
              "#fdca26"
             ],
             [
              1,
              "#f0f921"
             ]
            ],
            "type": "histogram2dcontour"
           }
          ],
          "mesh3d": [
           {
            "colorbar": {
             "outlinewidth": 0,
             "ticks": ""
            },
            "type": "mesh3d"
           }
          ],
          "parcoords": [
           {
            "line": {
             "colorbar": {
              "outlinewidth": 0,
              "ticks": ""
             }
            },
            "type": "parcoords"
           }
          ],
          "pie": [
           {
            "automargin": true,
            "type": "pie"
           }
          ],
          "scatter": [
           {
            "fillpattern": {
             "fillmode": "overlay",
             "size": 10,
             "solidity": 0.2
            },
            "type": "scatter"
           }
          ],
          "scatter3d": [
           {
            "line": {
             "colorbar": {
              "outlinewidth": 0,
              "ticks": ""
             }
            },
            "marker": {
             "colorbar": {
              "outlinewidth": 0,
              "ticks": ""
             }
            },
            "type": "scatter3d"
           }
          ],
          "scattercarpet": [
           {
            "marker": {
             "colorbar": {
              "outlinewidth": 0,
              "ticks": ""
             }
            },
            "type": "scattercarpet"
           }
          ],
          "scattergeo": [
           {
            "marker": {
             "colorbar": {
              "outlinewidth": 0,
              "ticks": ""
             }
            },
            "type": "scattergeo"
           }
          ],
          "scattergl": [
           {
            "marker": {
             "colorbar": {
              "outlinewidth": 0,
              "ticks": ""
             }
            },
            "type": "scattergl"
           }
          ],
          "scattermapbox": [
           {
            "marker": {
             "colorbar": {
              "outlinewidth": 0,
              "ticks": ""
             }
            },
            "type": "scattermapbox"
           }
          ],
          "scatterpolar": [
           {
            "marker": {
             "colorbar": {
              "outlinewidth": 0,
              "ticks": ""
             }
            },
            "type": "scatterpolar"
           }
          ],
          "scatterpolargl": [
           {
            "marker": {
             "colorbar": {
              "outlinewidth": 0,
              "ticks": ""
             }
            },
            "type": "scatterpolargl"
           }
          ],
          "scatterternary": [
           {
            "marker": {
             "colorbar": {
              "outlinewidth": 0,
              "ticks": ""
             }
            },
            "type": "scatterternary"
           }
          ],
          "surface": [
           {
            "colorbar": {
             "outlinewidth": 0,
             "ticks": ""
            },
            "colorscale": [
             [
              0,
              "#0d0887"
             ],
             [
              0.1111111111111111,
              "#46039f"
             ],
             [
              0.2222222222222222,
              "#7201a8"
             ],
             [
              0.3333333333333333,
              "#9c179e"
             ],
             [
              0.4444444444444444,
              "#bd3786"
             ],
             [
              0.5555555555555556,
              "#d8576b"
             ],
             [
              0.6666666666666666,
              "#ed7953"
             ],
             [
              0.7777777777777778,
              "#fb9f3a"
             ],
             [
              0.8888888888888888,
              "#fdca26"
             ],
             [
              1,
              "#f0f921"
             ]
            ],
            "type": "surface"
           }
          ],
          "table": [
           {
            "cells": {
             "fill": {
              "color": "#EBF0F8"
             },
             "line": {
              "color": "white"
             }
            },
            "header": {
             "fill": {
              "color": "#C8D4E3"
             },
             "line": {
              "color": "white"
             }
            },
            "type": "table"
           }
          ]
         },
         "layout": {
          "annotationdefaults": {
           "arrowcolor": "#2a3f5f",
           "arrowhead": 0,
           "arrowwidth": 1
          },
          "autotypenumbers": "strict",
          "coloraxis": {
           "colorbar": {
            "outlinewidth": 0,
            "ticks": ""
           }
          },
          "colorscale": {
           "diverging": [
            [
             0,
             "#8e0152"
            ],
            [
             0.1,
             "#c51b7d"
            ],
            [
             0.2,
             "#de77ae"
            ],
            [
             0.3,
             "#f1b6da"
            ],
            [
             0.4,
             "#fde0ef"
            ],
            [
             0.5,
             "#f7f7f7"
            ],
            [
             0.6,
             "#e6f5d0"
            ],
            [
             0.7,
             "#b8e186"
            ],
            [
             0.8,
             "#7fbc41"
            ],
            [
             0.9,
             "#4d9221"
            ],
            [
             1,
             "#276419"
            ]
           ],
           "sequential": [
            [
             0,
             "#0d0887"
            ],
            [
             0.1111111111111111,
             "#46039f"
            ],
            [
             0.2222222222222222,
             "#7201a8"
            ],
            [
             0.3333333333333333,
             "#9c179e"
            ],
            [
             0.4444444444444444,
             "#bd3786"
            ],
            [
             0.5555555555555556,
             "#d8576b"
            ],
            [
             0.6666666666666666,
             "#ed7953"
            ],
            [
             0.7777777777777778,
             "#fb9f3a"
            ],
            [
             0.8888888888888888,
             "#fdca26"
            ],
            [
             1,
             "#f0f921"
            ]
           ],
           "sequentialminus": [
            [
             0,
             "#0d0887"
            ],
            [
             0.1111111111111111,
             "#46039f"
            ],
            [
             0.2222222222222222,
             "#7201a8"
            ],
            [
             0.3333333333333333,
             "#9c179e"
            ],
            [
             0.4444444444444444,
             "#bd3786"
            ],
            [
             0.5555555555555556,
             "#d8576b"
            ],
            [
             0.6666666666666666,
             "#ed7953"
            ],
            [
             0.7777777777777778,
             "#fb9f3a"
            ],
            [
             0.8888888888888888,
             "#fdca26"
            ],
            [
             1,
             "#f0f921"
            ]
           ]
          },
          "colorway": [
           "#636efa",
           "#EF553B",
           "#00cc96",
           "#ab63fa",
           "#FFA15A",
           "#19d3f3",
           "#FF6692",
           "#B6E880",
           "#FF97FF",
           "#FECB52"
          ],
          "font": {
           "color": "#2a3f5f"
          },
          "geo": {
           "bgcolor": "white",
           "lakecolor": "white",
           "landcolor": "#E5ECF6",
           "showlakes": true,
           "showland": true,
           "subunitcolor": "white"
          },
          "hoverlabel": {
           "align": "left"
          },
          "hovermode": "closest",
          "mapbox": {
           "style": "light"
          },
          "paper_bgcolor": "white",
          "plot_bgcolor": "#E5ECF6",
          "polar": {
           "angularaxis": {
            "gridcolor": "white",
            "linecolor": "white",
            "ticks": ""
           },
           "bgcolor": "#E5ECF6",
           "radialaxis": {
            "gridcolor": "white",
            "linecolor": "white",
            "ticks": ""
           }
          },
          "scene": {
           "xaxis": {
            "backgroundcolor": "#E5ECF6",
            "gridcolor": "white",
            "gridwidth": 2,
            "linecolor": "white",
            "showbackground": true,
            "ticks": "",
            "zerolinecolor": "white"
           },
           "yaxis": {
            "backgroundcolor": "#E5ECF6",
            "gridcolor": "white",
            "gridwidth": 2,
            "linecolor": "white",
            "showbackground": true,
            "ticks": "",
            "zerolinecolor": "white"
           },
           "zaxis": {
            "backgroundcolor": "#E5ECF6",
            "gridcolor": "white",
            "gridwidth": 2,
            "linecolor": "white",
            "showbackground": true,
            "ticks": "",
            "zerolinecolor": "white"
           }
          },
          "shapedefaults": {
           "line": {
            "color": "#2a3f5f"
           }
          },
          "ternary": {
           "aaxis": {
            "gridcolor": "white",
            "linecolor": "white",
            "ticks": ""
           },
           "baxis": {
            "gridcolor": "white",
            "linecolor": "white",
            "ticks": ""
           },
           "bgcolor": "#E5ECF6",
           "caxis": {
            "gridcolor": "white",
            "linecolor": "white",
            "ticks": ""
           }
          },
          "title": {
           "x": 0.05
          },
          "xaxis": {
           "automargin": true,
           "gridcolor": "white",
           "linecolor": "white",
           "ticks": "",
           "title": {
            "standoff": 15
           },
           "zerolinecolor": "white",
           "zerolinewidth": 2
          },
          "yaxis": {
           "automargin": true,
           "gridcolor": "white",
           "linecolor": "white",
           "ticks": "",
           "title": {
            "standoff": 15
           },
           "zerolinecolor": "white",
           "zerolinewidth": 2
          }
         }
        },
        "xaxis": {
         "anchor": "y",
         "constrain": "domain",
         "domain": [
          0,
          1
         ],
         "scaleanchor": "y"
        },
        "yaxis": {
         "anchor": "x",
         "autorange": "reversed",
         "constrain": "domain",
         "domain": [
          0,
          1
         ]
        }
       }
      }
     },
     "metadata": {},
     "output_type": "display_data"
    }
   ],
   "source": [
    "random_tree = nx.random_tree(\n",
    "        16,\n",
    "        create_using=nx.DiGraph\n",
    "    )\n",
    "\n",
    "# Get the adjacency matrix as a NumPy array\n",
    "adjacency_matrix = nx.to_numpy_array(random_tree)\n",
    "px.imshow(adjacency_matrix)"
   ]
  },
  {
   "cell_type": "code",
   "execution_count": 30,
   "metadata": {},
   "outputs": [
    {
     "data": {
      "application/vnd.plotly.v1+json": {
       "config": {
        "plotlyServerURL": "https://plot.ly"
       },
       "data": [
        {
         "coloraxis": "coloraxis",
         "hovertemplate": "x: %{x}<br>y: %{y}<br>color: %{z}<extra></extra>",
         "name": "0",
         "type": "heatmap",
         "xaxis": "x",
         "yaxis": "y",
         "z": [
          [
           0,
           0,
           0,
           0,
           0,
           0,
           0,
           0,
           0,
           1,
           0,
           1,
           0,
           0,
           0,
           0
          ],
          [
           0,
           0,
           0,
           0,
           0,
           0,
           0,
           0,
           0,
           0,
           0,
           0,
           0,
           0,
           0,
           0
          ],
          [
           0,
           0,
           0,
           0,
           0,
           0,
           0,
           0,
           0,
           0,
           0,
           0,
           0,
           0,
           0,
           0
          ],
          [
           0,
           0,
           0,
           0,
           0,
           0,
           0,
           0,
           0,
           0,
           0,
           0,
           0,
           0,
           0,
           0
          ],
          [
           0,
           0,
           0,
           0,
           0,
           0,
           0,
           0,
           0,
           0,
           0,
           0,
           0,
           0,
           0,
           0
          ],
          [
           0,
           0,
           0,
           0,
           0,
           0,
           0,
           0,
           0,
           0,
           0,
           0,
           0,
           0,
           0,
           0
          ],
          [
           0,
           0,
           0,
           0,
           0,
           0,
           0,
           0,
           0,
           0,
           0,
           0,
           0,
           0,
           0,
           0
          ],
          [
           0,
           0,
           0,
           0,
           0,
           0,
           0,
           0,
           0,
           0,
           0,
           0,
           0,
           0,
           0,
           0
          ],
          [
           0,
           0,
           0,
           0,
           0,
           0,
           0,
           0,
           0,
           0,
           0,
           0,
           0,
           0,
           0,
           0
          ],
          [
           0,
           0,
           0,
           0,
           0,
           0,
           0,
           0,
           0,
           0,
           0,
           0,
           0,
           0,
           0,
           0
          ],
          [
           0,
           0,
           0,
           0,
           0,
           0,
           0,
           0,
           0,
           0,
           0,
           0,
           0,
           0,
           0,
           0
          ],
          [
           0,
           0,
           0,
           0,
           0,
           0,
           0,
           0,
           0,
           0,
           0,
           0,
           0,
           0,
           0,
           0
          ],
          [
           0,
           0,
           0,
           0,
           0,
           0,
           0,
           0,
           0,
           0,
           0,
           0,
           0,
           0,
           0,
           0
          ],
          [
           0,
           0,
           0,
           0,
           0,
           0,
           0,
           0,
           0,
           0,
           0,
           0,
           0,
           0,
           0,
           0
          ],
          [
           0,
           0,
           0,
           0,
           0,
           0,
           0,
           0,
           0,
           0,
           0,
           0,
           0,
           0,
           0,
           0
          ],
          [
           0,
           0,
           0,
           0,
           0,
           0,
           0,
           0,
           0,
           0,
           0,
           0,
           0,
           0,
           0,
           0
          ]
         ]
        }
       ],
       "layout": {
        "coloraxis": {
         "colorscale": [
          [
           0,
           "#0d0887"
          ],
          [
           0.1111111111111111,
           "#46039f"
          ],
          [
           0.2222222222222222,
           "#7201a8"
          ],
          [
           0.3333333333333333,
           "#9c179e"
          ],
          [
           0.4444444444444444,
           "#bd3786"
          ],
          [
           0.5555555555555556,
           "#d8576b"
          ],
          [
           0.6666666666666666,
           "#ed7953"
          ],
          [
           0.7777777777777778,
           "#fb9f3a"
          ],
          [
           0.8888888888888888,
           "#fdca26"
          ],
          [
           1,
           "#f0f921"
          ]
         ]
        },
        "margin": {
         "t": 60
        },
        "template": {
         "data": {
          "bar": [
           {
            "error_x": {
             "color": "#2a3f5f"
            },
            "error_y": {
             "color": "#2a3f5f"
            },
            "marker": {
             "line": {
              "color": "#E5ECF6",
              "width": 0.5
             },
             "pattern": {
              "fillmode": "overlay",
              "size": 10,
              "solidity": 0.2
             }
            },
            "type": "bar"
           }
          ],
          "barpolar": [
           {
            "marker": {
             "line": {
              "color": "#E5ECF6",
              "width": 0.5
             },
             "pattern": {
              "fillmode": "overlay",
              "size": 10,
              "solidity": 0.2
             }
            },
            "type": "barpolar"
           }
          ],
          "carpet": [
           {
            "aaxis": {
             "endlinecolor": "#2a3f5f",
             "gridcolor": "white",
             "linecolor": "white",
             "minorgridcolor": "white",
             "startlinecolor": "#2a3f5f"
            },
            "baxis": {
             "endlinecolor": "#2a3f5f",
             "gridcolor": "white",
             "linecolor": "white",
             "minorgridcolor": "white",
             "startlinecolor": "#2a3f5f"
            },
            "type": "carpet"
           }
          ],
          "choropleth": [
           {
            "colorbar": {
             "outlinewidth": 0,
             "ticks": ""
            },
            "type": "choropleth"
           }
          ],
          "contour": [
           {
            "colorbar": {
             "outlinewidth": 0,
             "ticks": ""
            },
            "colorscale": [
             [
              0,
              "#0d0887"
             ],
             [
              0.1111111111111111,
              "#46039f"
             ],
             [
              0.2222222222222222,
              "#7201a8"
             ],
             [
              0.3333333333333333,
              "#9c179e"
             ],
             [
              0.4444444444444444,
              "#bd3786"
             ],
             [
              0.5555555555555556,
              "#d8576b"
             ],
             [
              0.6666666666666666,
              "#ed7953"
             ],
             [
              0.7777777777777778,
              "#fb9f3a"
             ],
             [
              0.8888888888888888,
              "#fdca26"
             ],
             [
              1,
              "#f0f921"
             ]
            ],
            "type": "contour"
           }
          ],
          "contourcarpet": [
           {
            "colorbar": {
             "outlinewidth": 0,
             "ticks": ""
            },
            "type": "contourcarpet"
           }
          ],
          "heatmap": [
           {
            "colorbar": {
             "outlinewidth": 0,
             "ticks": ""
            },
            "colorscale": [
             [
              0,
              "#0d0887"
             ],
             [
              0.1111111111111111,
              "#46039f"
             ],
             [
              0.2222222222222222,
              "#7201a8"
             ],
             [
              0.3333333333333333,
              "#9c179e"
             ],
             [
              0.4444444444444444,
              "#bd3786"
             ],
             [
              0.5555555555555556,
              "#d8576b"
             ],
             [
              0.6666666666666666,
              "#ed7953"
             ],
             [
              0.7777777777777778,
              "#fb9f3a"
             ],
             [
              0.8888888888888888,
              "#fdca26"
             ],
             [
              1,
              "#f0f921"
             ]
            ],
            "type": "heatmap"
           }
          ],
          "heatmapgl": [
           {
            "colorbar": {
             "outlinewidth": 0,
             "ticks": ""
            },
            "colorscale": [
             [
              0,
              "#0d0887"
             ],
             [
              0.1111111111111111,
              "#46039f"
             ],
             [
              0.2222222222222222,
              "#7201a8"
             ],
             [
              0.3333333333333333,
              "#9c179e"
             ],
             [
              0.4444444444444444,
              "#bd3786"
             ],
             [
              0.5555555555555556,
              "#d8576b"
             ],
             [
              0.6666666666666666,
              "#ed7953"
             ],
             [
              0.7777777777777778,
              "#fb9f3a"
             ],
             [
              0.8888888888888888,
              "#fdca26"
             ],
             [
              1,
              "#f0f921"
             ]
            ],
            "type": "heatmapgl"
           }
          ],
          "histogram": [
           {
            "marker": {
             "pattern": {
              "fillmode": "overlay",
              "size": 10,
              "solidity": 0.2
             }
            },
            "type": "histogram"
           }
          ],
          "histogram2d": [
           {
            "colorbar": {
             "outlinewidth": 0,
             "ticks": ""
            },
            "colorscale": [
             [
              0,
              "#0d0887"
             ],
             [
              0.1111111111111111,
              "#46039f"
             ],
             [
              0.2222222222222222,
              "#7201a8"
             ],
             [
              0.3333333333333333,
              "#9c179e"
             ],
             [
              0.4444444444444444,
              "#bd3786"
             ],
             [
              0.5555555555555556,
              "#d8576b"
             ],
             [
              0.6666666666666666,
              "#ed7953"
             ],
             [
              0.7777777777777778,
              "#fb9f3a"
             ],
             [
              0.8888888888888888,
              "#fdca26"
             ],
             [
              1,
              "#f0f921"
             ]
            ],
            "type": "histogram2d"
           }
          ],
          "histogram2dcontour": [
           {
            "colorbar": {
             "outlinewidth": 0,
             "ticks": ""
            },
            "colorscale": [
             [
              0,
              "#0d0887"
             ],
             [
              0.1111111111111111,
              "#46039f"
             ],
             [
              0.2222222222222222,
              "#7201a8"
             ],
             [
              0.3333333333333333,
              "#9c179e"
             ],
             [
              0.4444444444444444,
              "#bd3786"
             ],
             [
              0.5555555555555556,
              "#d8576b"
             ],
             [
              0.6666666666666666,
              "#ed7953"
             ],
             [
              0.7777777777777778,
              "#fb9f3a"
             ],
             [
              0.8888888888888888,
              "#fdca26"
             ],
             [
              1,
              "#f0f921"
             ]
            ],
            "type": "histogram2dcontour"
           }
          ],
          "mesh3d": [
           {
            "colorbar": {
             "outlinewidth": 0,
             "ticks": ""
            },
            "type": "mesh3d"
           }
          ],
          "parcoords": [
           {
            "line": {
             "colorbar": {
              "outlinewidth": 0,
              "ticks": ""
             }
            },
            "type": "parcoords"
           }
          ],
          "pie": [
           {
            "automargin": true,
            "type": "pie"
           }
          ],
          "scatter": [
           {
            "fillpattern": {
             "fillmode": "overlay",
             "size": 10,
             "solidity": 0.2
            },
            "type": "scatter"
           }
          ],
          "scatter3d": [
           {
            "line": {
             "colorbar": {
              "outlinewidth": 0,
              "ticks": ""
             }
            },
            "marker": {
             "colorbar": {
              "outlinewidth": 0,
              "ticks": ""
             }
            },
            "type": "scatter3d"
           }
          ],
          "scattercarpet": [
           {
            "marker": {
             "colorbar": {
              "outlinewidth": 0,
              "ticks": ""
             }
            },
            "type": "scattercarpet"
           }
          ],
          "scattergeo": [
           {
            "marker": {
             "colorbar": {
              "outlinewidth": 0,
              "ticks": ""
             }
            },
            "type": "scattergeo"
           }
          ],
          "scattergl": [
           {
            "marker": {
             "colorbar": {
              "outlinewidth": 0,
              "ticks": ""
             }
            },
            "type": "scattergl"
           }
          ],
          "scattermapbox": [
           {
            "marker": {
             "colorbar": {
              "outlinewidth": 0,
              "ticks": ""
             }
            },
            "type": "scattermapbox"
           }
          ],
          "scatterpolar": [
           {
            "marker": {
             "colorbar": {
              "outlinewidth": 0,
              "ticks": ""
             }
            },
            "type": "scatterpolar"
           }
          ],
          "scatterpolargl": [
           {
            "marker": {
             "colorbar": {
              "outlinewidth": 0,
              "ticks": ""
             }
            },
            "type": "scatterpolargl"
           }
          ],
          "scatterternary": [
           {
            "marker": {
             "colorbar": {
              "outlinewidth": 0,
              "ticks": ""
             }
            },
            "type": "scatterternary"
           }
          ],
          "surface": [
           {
            "colorbar": {
             "outlinewidth": 0,
             "ticks": ""
            },
            "colorscale": [
             [
              0,
              "#0d0887"
             ],
             [
              0.1111111111111111,
              "#46039f"
             ],
             [
              0.2222222222222222,
              "#7201a8"
             ],
             [
              0.3333333333333333,
              "#9c179e"
             ],
             [
              0.4444444444444444,
              "#bd3786"
             ],
             [
              0.5555555555555556,
              "#d8576b"
             ],
             [
              0.6666666666666666,
              "#ed7953"
             ],
             [
              0.7777777777777778,
              "#fb9f3a"
             ],
             [
              0.8888888888888888,
              "#fdca26"
             ],
             [
              1,
              "#f0f921"
             ]
            ],
            "type": "surface"
           }
          ],
          "table": [
           {
            "cells": {
             "fill": {
              "color": "#EBF0F8"
             },
             "line": {
              "color": "white"
             }
            },
            "header": {
             "fill": {
              "color": "#C8D4E3"
             },
             "line": {
              "color": "white"
             }
            },
            "type": "table"
           }
          ]
         },
         "layout": {
          "annotationdefaults": {
           "arrowcolor": "#2a3f5f",
           "arrowhead": 0,
           "arrowwidth": 1
          },
          "autotypenumbers": "strict",
          "coloraxis": {
           "colorbar": {
            "outlinewidth": 0,
            "ticks": ""
           }
          },
          "colorscale": {
           "diverging": [
            [
             0,
             "#8e0152"
            ],
            [
             0.1,
             "#c51b7d"
            ],
            [
             0.2,
             "#de77ae"
            ],
            [
             0.3,
             "#f1b6da"
            ],
            [
             0.4,
             "#fde0ef"
            ],
            [
             0.5,
             "#f7f7f7"
            ],
            [
             0.6,
             "#e6f5d0"
            ],
            [
             0.7,
             "#b8e186"
            ],
            [
             0.8,
             "#7fbc41"
            ],
            [
             0.9,
             "#4d9221"
            ],
            [
             1,
             "#276419"
            ]
           ],
           "sequential": [
            [
             0,
             "#0d0887"
            ],
            [
             0.1111111111111111,
             "#46039f"
            ],
            [
             0.2222222222222222,
             "#7201a8"
            ],
            [
             0.3333333333333333,
             "#9c179e"
            ],
            [
             0.4444444444444444,
             "#bd3786"
            ],
            [
             0.5555555555555556,
             "#d8576b"
            ],
            [
             0.6666666666666666,
             "#ed7953"
            ],
            [
             0.7777777777777778,
             "#fb9f3a"
            ],
            [
             0.8888888888888888,
             "#fdca26"
            ],
            [
             1,
             "#f0f921"
            ]
           ],
           "sequentialminus": [
            [
             0,
             "#0d0887"
            ],
            [
             0.1111111111111111,
             "#46039f"
            ],
            [
             0.2222222222222222,
             "#7201a8"
            ],
            [
             0.3333333333333333,
             "#9c179e"
            ],
            [
             0.4444444444444444,
             "#bd3786"
            ],
            [
             0.5555555555555556,
             "#d8576b"
            ],
            [
             0.6666666666666666,
             "#ed7953"
            ],
            [
             0.7777777777777778,
             "#fb9f3a"
            ],
            [
             0.8888888888888888,
             "#fdca26"
            ],
            [
             1,
             "#f0f921"
            ]
           ]
          },
          "colorway": [
           "#636efa",
           "#EF553B",
           "#00cc96",
           "#ab63fa",
           "#FFA15A",
           "#19d3f3",
           "#FF6692",
           "#B6E880",
           "#FF97FF",
           "#FECB52"
          ],
          "font": {
           "color": "#2a3f5f"
          },
          "geo": {
           "bgcolor": "white",
           "lakecolor": "white",
           "landcolor": "#E5ECF6",
           "showlakes": true,
           "showland": true,
           "subunitcolor": "white"
          },
          "hoverlabel": {
           "align": "left"
          },
          "hovermode": "closest",
          "mapbox": {
           "style": "light"
          },
          "paper_bgcolor": "white",
          "plot_bgcolor": "#E5ECF6",
          "polar": {
           "angularaxis": {
            "gridcolor": "white",
            "linecolor": "white",
            "ticks": ""
           },
           "bgcolor": "#E5ECF6",
           "radialaxis": {
            "gridcolor": "white",
            "linecolor": "white",
            "ticks": ""
           }
          },
          "scene": {
           "xaxis": {
            "backgroundcolor": "#E5ECF6",
            "gridcolor": "white",
            "gridwidth": 2,
            "linecolor": "white",
            "showbackground": true,
            "ticks": "",
            "zerolinecolor": "white"
           },
           "yaxis": {
            "backgroundcolor": "#E5ECF6",
            "gridcolor": "white",
            "gridwidth": 2,
            "linecolor": "white",
            "showbackground": true,
            "ticks": "",
            "zerolinecolor": "white"
           },
           "zaxis": {
            "backgroundcolor": "#E5ECF6",
            "gridcolor": "white",
            "gridwidth": 2,
            "linecolor": "white",
            "showbackground": true,
            "ticks": "",
            "zerolinecolor": "white"
           }
          },
          "shapedefaults": {
           "line": {
            "color": "#2a3f5f"
           }
          },
          "ternary": {
           "aaxis": {
            "gridcolor": "white",
            "linecolor": "white",
            "ticks": ""
           },
           "baxis": {
            "gridcolor": "white",
            "linecolor": "white",
            "ticks": ""
           },
           "bgcolor": "#E5ECF6",
           "caxis": {
            "gridcolor": "white",
            "linecolor": "white",
            "ticks": ""
           }
          },
          "title": {
           "x": 0.05
          },
          "xaxis": {
           "automargin": true,
           "gridcolor": "white",
           "linecolor": "white",
           "ticks": "",
           "title": {
            "standoff": 15
           },
           "zerolinecolor": "white",
           "zerolinewidth": 2
          },
          "yaxis": {
           "automargin": true,
           "gridcolor": "white",
           "linecolor": "white",
           "ticks": "",
           "title": {
            "standoff": 15
           },
           "zerolinecolor": "white",
           "zerolinewidth": 2
          }
         }
        },
        "xaxis": {
         "anchor": "y",
         "constrain": "domain",
         "domain": [
          0,
          1
         ],
         "scaleanchor": "y"
        },
        "yaxis": {
         "anchor": "x",
         "autorange": "reversed",
         "constrain": "domain",
         "domain": [
          0,
          1
         ]
        }
       }
      }
     },
     "metadata": {},
     "output_type": "display_data"
    }
   ],
   "source": [
    "result = np.linalg.matrix_power(adjacency_matrix, 5)\n",
    "px.imshow(result)"
   ]
  },
  {
   "cell_type": "code",
   "execution_count": 31,
   "metadata": {},
   "outputs": [
    {
     "data": {
      "application/vnd.plotly.v1+json": {
       "config": {
        "plotlyServerURL": "https://plot.ly"
       },
       "data": [
        {
         "coloraxis": "coloraxis",
         "hovertemplate": "x: %{x}<br>y: %{y}<br>color: %{z}<extra></extra>",
         "name": "0",
         "type": "heatmap",
         "xaxis": "x",
         "yaxis": "y",
         "z": [
          [
           1,
           1,
           1,
           1,
           1,
           1,
           1,
           1,
           1,
           1,
           1,
           1,
           1,
           1,
           1,
           1
          ],
          [
           0,
           1,
           0,
           0,
           0,
           0,
           0,
           0,
           0,
           0,
           0,
           0,
           0,
           0,
           0,
           0
          ],
          [
           0,
           0,
           1,
           1,
           0,
           1,
           0,
           0,
           0,
           1,
           0,
           1,
           1,
           0,
           0,
           0
          ],
          [
           0,
           0,
           0,
           1,
           0,
           0,
           0,
           0,
           0,
           1,
           0,
           1,
           0,
           0,
           0,
           0
          ],
          [
           0,
           1,
           0,
           0,
           1,
           0,
           1,
           1,
           1,
           0,
           0,
           0,
           0,
           0,
           1,
           1
          ],
          [
           0,
           0,
           0,
           1,
           0,
           1,
           0,
           0,
           0,
           1,
           0,
           1,
           0,
           0,
           0,
           0
          ],
          [
           0,
           1,
           0,
           0,
           0,
           0,
           1,
           0,
           0,
           0,
           0,
           0,
           0,
           0,
           0,
           0
          ],
          [
           0,
           0,
           0,
           0,
           0,
           0,
           0,
           1,
           0,
           0,
           0,
           0,
           0,
           0,
           0,
           0
          ],
          [
           0,
           0,
           0,
           0,
           0,
           0,
           0,
           0,
           1,
           0,
           0,
           0,
           0,
           0,
           0,
           0
          ],
          [
           0,
           0,
           0,
           0,
           0,
           0,
           0,
           0,
           0,
           1,
           0,
           0,
           0,
           0,
           0,
           0
          ],
          [
           0,
           0,
           1,
           1,
           0,
           1,
           0,
           0,
           0,
           1,
           1,
           1,
           1,
           1,
           0,
           0
          ],
          [
           0,
           0,
           0,
           0,
           0,
           0,
           0,
           0,
           0,
           0,
           0,
           1,
           0,
           0,
           0,
           0
          ],
          [
           0,
           0,
           0,
           0,
           0,
           0,
           0,
           0,
           0,
           0,
           0,
           0,
           1,
           0,
           0,
           0
          ],
          [
           0,
           0,
           0,
           0,
           0,
           0,
           0,
           0,
           0,
           0,
           0,
           0,
           0,
           1,
           0,
           0
          ],
          [
           0,
           0,
           0,
           0,
           0,
           0,
           0,
           0,
           1,
           0,
           0,
           0,
           0,
           0,
           1,
           1
          ],
          [
           0,
           0,
           0,
           0,
           0,
           0,
           0,
           0,
           0,
           0,
           0,
           0,
           0,
           0,
           0,
           1
          ]
         ]
        }
       ],
       "layout": {
        "coloraxis": {
         "colorscale": [
          [
           0,
           "#0d0887"
          ],
          [
           0.1111111111111111,
           "#46039f"
          ],
          [
           0.2222222222222222,
           "#7201a8"
          ],
          [
           0.3333333333333333,
           "#9c179e"
          ],
          [
           0.4444444444444444,
           "#bd3786"
          ],
          [
           0.5555555555555556,
           "#d8576b"
          ],
          [
           0.6666666666666666,
           "#ed7953"
          ],
          [
           0.7777777777777778,
           "#fb9f3a"
          ],
          [
           0.8888888888888888,
           "#fdca26"
          ],
          [
           1,
           "#f0f921"
          ]
         ]
        },
        "margin": {
         "t": 60
        },
        "template": {
         "data": {
          "bar": [
           {
            "error_x": {
             "color": "#2a3f5f"
            },
            "error_y": {
             "color": "#2a3f5f"
            },
            "marker": {
             "line": {
              "color": "#E5ECF6",
              "width": 0.5
             },
             "pattern": {
              "fillmode": "overlay",
              "size": 10,
              "solidity": 0.2
             }
            },
            "type": "bar"
           }
          ],
          "barpolar": [
           {
            "marker": {
             "line": {
              "color": "#E5ECF6",
              "width": 0.5
             },
             "pattern": {
              "fillmode": "overlay",
              "size": 10,
              "solidity": 0.2
             }
            },
            "type": "barpolar"
           }
          ],
          "carpet": [
           {
            "aaxis": {
             "endlinecolor": "#2a3f5f",
             "gridcolor": "white",
             "linecolor": "white",
             "minorgridcolor": "white",
             "startlinecolor": "#2a3f5f"
            },
            "baxis": {
             "endlinecolor": "#2a3f5f",
             "gridcolor": "white",
             "linecolor": "white",
             "minorgridcolor": "white",
             "startlinecolor": "#2a3f5f"
            },
            "type": "carpet"
           }
          ],
          "choropleth": [
           {
            "colorbar": {
             "outlinewidth": 0,
             "ticks": ""
            },
            "type": "choropleth"
           }
          ],
          "contour": [
           {
            "colorbar": {
             "outlinewidth": 0,
             "ticks": ""
            },
            "colorscale": [
             [
              0,
              "#0d0887"
             ],
             [
              0.1111111111111111,
              "#46039f"
             ],
             [
              0.2222222222222222,
              "#7201a8"
             ],
             [
              0.3333333333333333,
              "#9c179e"
             ],
             [
              0.4444444444444444,
              "#bd3786"
             ],
             [
              0.5555555555555556,
              "#d8576b"
             ],
             [
              0.6666666666666666,
              "#ed7953"
             ],
             [
              0.7777777777777778,
              "#fb9f3a"
             ],
             [
              0.8888888888888888,
              "#fdca26"
             ],
             [
              1,
              "#f0f921"
             ]
            ],
            "type": "contour"
           }
          ],
          "contourcarpet": [
           {
            "colorbar": {
             "outlinewidth": 0,
             "ticks": ""
            },
            "type": "contourcarpet"
           }
          ],
          "heatmap": [
           {
            "colorbar": {
             "outlinewidth": 0,
             "ticks": ""
            },
            "colorscale": [
             [
              0,
              "#0d0887"
             ],
             [
              0.1111111111111111,
              "#46039f"
             ],
             [
              0.2222222222222222,
              "#7201a8"
             ],
             [
              0.3333333333333333,
              "#9c179e"
             ],
             [
              0.4444444444444444,
              "#bd3786"
             ],
             [
              0.5555555555555556,
              "#d8576b"
             ],
             [
              0.6666666666666666,
              "#ed7953"
             ],
             [
              0.7777777777777778,
              "#fb9f3a"
             ],
             [
              0.8888888888888888,
              "#fdca26"
             ],
             [
              1,
              "#f0f921"
             ]
            ],
            "type": "heatmap"
           }
          ],
          "heatmapgl": [
           {
            "colorbar": {
             "outlinewidth": 0,
             "ticks": ""
            },
            "colorscale": [
             [
              0,
              "#0d0887"
             ],
             [
              0.1111111111111111,
              "#46039f"
             ],
             [
              0.2222222222222222,
              "#7201a8"
             ],
             [
              0.3333333333333333,
              "#9c179e"
             ],
             [
              0.4444444444444444,
              "#bd3786"
             ],
             [
              0.5555555555555556,
              "#d8576b"
             ],
             [
              0.6666666666666666,
              "#ed7953"
             ],
             [
              0.7777777777777778,
              "#fb9f3a"
             ],
             [
              0.8888888888888888,
              "#fdca26"
             ],
             [
              1,
              "#f0f921"
             ]
            ],
            "type": "heatmapgl"
           }
          ],
          "histogram": [
           {
            "marker": {
             "pattern": {
              "fillmode": "overlay",
              "size": 10,
              "solidity": 0.2
             }
            },
            "type": "histogram"
           }
          ],
          "histogram2d": [
           {
            "colorbar": {
             "outlinewidth": 0,
             "ticks": ""
            },
            "colorscale": [
             [
              0,
              "#0d0887"
             ],
             [
              0.1111111111111111,
              "#46039f"
             ],
             [
              0.2222222222222222,
              "#7201a8"
             ],
             [
              0.3333333333333333,
              "#9c179e"
             ],
             [
              0.4444444444444444,
              "#bd3786"
             ],
             [
              0.5555555555555556,
              "#d8576b"
             ],
             [
              0.6666666666666666,
              "#ed7953"
             ],
             [
              0.7777777777777778,
              "#fb9f3a"
             ],
             [
              0.8888888888888888,
              "#fdca26"
             ],
             [
              1,
              "#f0f921"
             ]
            ],
            "type": "histogram2d"
           }
          ],
          "histogram2dcontour": [
           {
            "colorbar": {
             "outlinewidth": 0,
             "ticks": ""
            },
            "colorscale": [
             [
              0,
              "#0d0887"
             ],
             [
              0.1111111111111111,
              "#46039f"
             ],
             [
              0.2222222222222222,
              "#7201a8"
             ],
             [
              0.3333333333333333,
              "#9c179e"
             ],
             [
              0.4444444444444444,
              "#bd3786"
             ],
             [
              0.5555555555555556,
              "#d8576b"
             ],
             [
              0.6666666666666666,
              "#ed7953"
             ],
             [
              0.7777777777777778,
              "#fb9f3a"
             ],
             [
              0.8888888888888888,
              "#fdca26"
             ],
             [
              1,
              "#f0f921"
             ]
            ],
            "type": "histogram2dcontour"
           }
          ],
          "mesh3d": [
           {
            "colorbar": {
             "outlinewidth": 0,
             "ticks": ""
            },
            "type": "mesh3d"
           }
          ],
          "parcoords": [
           {
            "line": {
             "colorbar": {
              "outlinewidth": 0,
              "ticks": ""
             }
            },
            "type": "parcoords"
           }
          ],
          "pie": [
           {
            "automargin": true,
            "type": "pie"
           }
          ],
          "scatter": [
           {
            "fillpattern": {
             "fillmode": "overlay",
             "size": 10,
             "solidity": 0.2
            },
            "type": "scatter"
           }
          ],
          "scatter3d": [
           {
            "line": {
             "colorbar": {
              "outlinewidth": 0,
              "ticks": ""
             }
            },
            "marker": {
             "colorbar": {
              "outlinewidth": 0,
              "ticks": ""
             }
            },
            "type": "scatter3d"
           }
          ],
          "scattercarpet": [
           {
            "marker": {
             "colorbar": {
              "outlinewidth": 0,
              "ticks": ""
             }
            },
            "type": "scattercarpet"
           }
          ],
          "scattergeo": [
           {
            "marker": {
             "colorbar": {
              "outlinewidth": 0,
              "ticks": ""
             }
            },
            "type": "scattergeo"
           }
          ],
          "scattergl": [
           {
            "marker": {
             "colorbar": {
              "outlinewidth": 0,
              "ticks": ""
             }
            },
            "type": "scattergl"
           }
          ],
          "scattermapbox": [
           {
            "marker": {
             "colorbar": {
              "outlinewidth": 0,
              "ticks": ""
             }
            },
            "type": "scattermapbox"
           }
          ],
          "scatterpolar": [
           {
            "marker": {
             "colorbar": {
              "outlinewidth": 0,
              "ticks": ""
             }
            },
            "type": "scatterpolar"
           }
          ],
          "scatterpolargl": [
           {
            "marker": {
             "colorbar": {
              "outlinewidth": 0,
              "ticks": ""
             }
            },
            "type": "scatterpolargl"
           }
          ],
          "scatterternary": [
           {
            "marker": {
             "colorbar": {
              "outlinewidth": 0,
              "ticks": ""
             }
            },
            "type": "scatterternary"
           }
          ],
          "surface": [
           {
            "colorbar": {
             "outlinewidth": 0,
             "ticks": ""
            },
            "colorscale": [
             [
              0,
              "#0d0887"
             ],
             [
              0.1111111111111111,
              "#46039f"
             ],
             [
              0.2222222222222222,
              "#7201a8"
             ],
             [
              0.3333333333333333,
              "#9c179e"
             ],
             [
              0.4444444444444444,
              "#bd3786"
             ],
             [
              0.5555555555555556,
              "#d8576b"
             ],
             [
              0.6666666666666666,
              "#ed7953"
             ],
             [
              0.7777777777777778,
              "#fb9f3a"
             ],
             [
              0.8888888888888888,
              "#fdca26"
             ],
             [
              1,
              "#f0f921"
             ]
            ],
            "type": "surface"
           }
          ],
          "table": [
           {
            "cells": {
             "fill": {
              "color": "#EBF0F8"
             },
             "line": {
              "color": "white"
             }
            },
            "header": {
             "fill": {
              "color": "#C8D4E3"
             },
             "line": {
              "color": "white"
             }
            },
            "type": "table"
           }
          ]
         },
         "layout": {
          "annotationdefaults": {
           "arrowcolor": "#2a3f5f",
           "arrowhead": 0,
           "arrowwidth": 1
          },
          "autotypenumbers": "strict",
          "coloraxis": {
           "colorbar": {
            "outlinewidth": 0,
            "ticks": ""
           }
          },
          "colorscale": {
           "diverging": [
            [
             0,
             "#8e0152"
            ],
            [
             0.1,
             "#c51b7d"
            ],
            [
             0.2,
             "#de77ae"
            ],
            [
             0.3,
             "#f1b6da"
            ],
            [
             0.4,
             "#fde0ef"
            ],
            [
             0.5,
             "#f7f7f7"
            ],
            [
             0.6,
             "#e6f5d0"
            ],
            [
             0.7,
             "#b8e186"
            ],
            [
             0.8,
             "#7fbc41"
            ],
            [
             0.9,
             "#4d9221"
            ],
            [
             1,
             "#276419"
            ]
           ],
           "sequential": [
            [
             0,
             "#0d0887"
            ],
            [
             0.1111111111111111,
             "#46039f"
            ],
            [
             0.2222222222222222,
             "#7201a8"
            ],
            [
             0.3333333333333333,
             "#9c179e"
            ],
            [
             0.4444444444444444,
             "#bd3786"
            ],
            [
             0.5555555555555556,
             "#d8576b"
            ],
            [
             0.6666666666666666,
             "#ed7953"
            ],
            [
             0.7777777777777778,
             "#fb9f3a"
            ],
            [
             0.8888888888888888,
             "#fdca26"
            ],
            [
             1,
             "#f0f921"
            ]
           ],
           "sequentialminus": [
            [
             0,
             "#0d0887"
            ],
            [
             0.1111111111111111,
             "#46039f"
            ],
            [
             0.2222222222222222,
             "#7201a8"
            ],
            [
             0.3333333333333333,
             "#9c179e"
            ],
            [
             0.4444444444444444,
             "#bd3786"
            ],
            [
             0.5555555555555556,
             "#d8576b"
            ],
            [
             0.6666666666666666,
             "#ed7953"
            ],
            [
             0.7777777777777778,
             "#fb9f3a"
            ],
            [
             0.8888888888888888,
             "#fdca26"
            ],
            [
             1,
             "#f0f921"
            ]
           ]
          },
          "colorway": [
           "#636efa",
           "#EF553B",
           "#00cc96",
           "#ab63fa",
           "#FFA15A",
           "#19d3f3",
           "#FF6692",
           "#B6E880",
           "#FF97FF",
           "#FECB52"
          ],
          "font": {
           "color": "#2a3f5f"
          },
          "geo": {
           "bgcolor": "white",
           "lakecolor": "white",
           "landcolor": "#E5ECF6",
           "showlakes": true,
           "showland": true,
           "subunitcolor": "white"
          },
          "hoverlabel": {
           "align": "left"
          },
          "hovermode": "closest",
          "mapbox": {
           "style": "light"
          },
          "paper_bgcolor": "white",
          "plot_bgcolor": "#E5ECF6",
          "polar": {
           "angularaxis": {
            "gridcolor": "white",
            "linecolor": "white",
            "ticks": ""
           },
           "bgcolor": "#E5ECF6",
           "radialaxis": {
            "gridcolor": "white",
            "linecolor": "white",
            "ticks": ""
           }
          },
          "scene": {
           "xaxis": {
            "backgroundcolor": "#E5ECF6",
            "gridcolor": "white",
            "gridwidth": 2,
            "linecolor": "white",
            "showbackground": true,
            "ticks": "",
            "zerolinecolor": "white"
           },
           "yaxis": {
            "backgroundcolor": "#E5ECF6",
            "gridcolor": "white",
            "gridwidth": 2,
            "linecolor": "white",
            "showbackground": true,
            "ticks": "",
            "zerolinecolor": "white"
           },
           "zaxis": {
            "backgroundcolor": "#E5ECF6",
            "gridcolor": "white",
            "gridwidth": 2,
            "linecolor": "white",
            "showbackground": true,
            "ticks": "",
            "zerolinecolor": "white"
           }
          },
          "shapedefaults": {
           "line": {
            "color": "#2a3f5f"
           }
          },
          "ternary": {
           "aaxis": {
            "gridcolor": "white",
            "linecolor": "white",
            "ticks": ""
           },
           "baxis": {
            "gridcolor": "white",
            "linecolor": "white",
            "ticks": ""
           },
           "bgcolor": "#E5ECF6",
           "caxis": {
            "gridcolor": "white",
            "linecolor": "white",
            "ticks": ""
           }
          },
          "title": {
           "x": 0.05
          },
          "xaxis": {
           "automargin": true,
           "gridcolor": "white",
           "linecolor": "white",
           "ticks": "",
           "title": {
            "standoff": 15
           },
           "zerolinecolor": "white",
           "zerolinewidth": 2
          },
          "yaxis": {
           "automargin": true,
           "gridcolor": "white",
           "linecolor": "white",
           "ticks": "",
           "title": {
            "standoff": 15
           },
           "zerolinecolor": "white",
           "zerolinewidth": 2
          }
         }
        },
        "xaxis": {
         "anchor": "y",
         "constrain": "domain",
         "domain": [
          0,
          1
         ],
         "scaleanchor": "y"
        },
        "yaxis": {
         "anchor": "x",
         "autorange": "reversed",
         "constrain": "domain",
         "domain": [
          0,
          1
         ]
        }
       }
      }
     },
     "metadata": {},
     "output_type": "display_data"
    }
   ],
   "source": [
    "result = np.linalg.matrix_power(adjacency_matrix+np.identity(adjacency_matrix.shape[0]), 16)\n",
    "px.imshow(np.minimum(result, 1))"
   ]
  },
  {
   "cell_type": "code",
   "execution_count": 32,
   "metadata": {},
   "outputs": [
    {
     "data": {
      "application/vnd.plotly.v1+json": {
       "config": {
        "plotlyServerURL": "https://plot.ly"
       },
       "data": [
        {
         "coloraxis": "coloraxis",
         "hovertemplate": "x: %{x}<br>y: %{y}<br>color: %{z}<extra></extra>",
         "name": "0",
         "type": "heatmap",
         "xaxis": "x",
         "yaxis": "y",
         "z": [
          [
           1,
           1,
           1,
           1,
           1,
           1,
           1,
           1,
           1,
           1,
           1,
           1,
           1,
           1,
           1,
           1
          ],
          [
           0,
           1,
           0,
           0,
           0,
           0,
           0,
           0,
           0,
           0,
           0,
           0,
           0,
           0,
           0,
           0
          ],
          [
           0,
           0,
           1,
           0,
           1,
           0,
           1,
           1,
           0,
           0,
           0,
           0,
           1,
           1,
           1,
           1
          ],
          [
           0,
           1,
           1,
           1,
           1,
           1,
           1,
           1,
           1,
           1,
           1,
           1,
           1,
           1,
           1,
           1
          ],
          [
           0,
           0,
           0,
           0,
           1,
           0,
           0,
           0,
           0,
           0,
           0,
           0,
           0,
           0,
           1,
           0
          ],
          [
           0,
           0,
           1,
           0,
           1,
           1,
           1,
           1,
           0,
           0,
           0,
           1,
           1,
           1,
           1,
           1
          ],
          [
           0,
           0,
           0,
           0,
           0,
           0,
           1,
           0,
           0,
           0,
           0,
           0,
           0,
           0,
           0,
           0
          ],
          [
           0,
           0,
           0,
           0,
           0,
           0,
           0,
           1,
           0,
           0,
           0,
           0,
           0,
           0,
           0,
           0
          ],
          [
           0,
           1,
           0,
           0,
           0,
           0,
           0,
           0,
           1,
           1,
           0,
           0,
           0,
           0,
           0,
           0
          ],
          [
           0,
           0,
           0,
           0,
           0,
           0,
           0,
           0,
           0,
           1,
           0,
           0,
           0,
           0,
           0,
           0
          ],
          [
           0,
           0,
           1,
           0,
           1,
           1,
           1,
           1,
           0,
           0,
           1,
           1,
           1,
           1,
           1,
           1
          ],
          [
           0,
           0,
           1,
           0,
           1,
           0,
           1,
           1,
           0,
           0,
           0,
           1,
           1,
           1,
           1,
           1
          ],
          [
           0,
           0,
           0,
           0,
           0,
           0,
           0,
           1,
           0,
           0,
           0,
           0,
           1,
           0,
           0,
           0
          ],
          [
           0,
           0,
           0,
           0,
           0,
           0,
           0,
           1,
           0,
           0,
           0,
           0,
           1,
           1,
           0,
           0
          ],
          [
           0,
           0,
           0,
           0,
           0,
           0,
           0,
           0,
           0,
           0,
           0,
           0,
           0,
           0,
           1,
           0
          ],
          [
           0,
           0,
           0,
           0,
           0,
           0,
           1,
           1,
           0,
           0,
           0,
           0,
           1,
           1,
           0,
           1
          ]
         ]
        }
       ],
       "layout": {
        "coloraxis": {
         "colorscale": [
          [
           0,
           "#0d0887"
          ],
          [
           0.1111111111111111,
           "#46039f"
          ],
          [
           0.2222222222222222,
           "#7201a8"
          ],
          [
           0.3333333333333333,
           "#9c179e"
          ],
          [
           0.4444444444444444,
           "#bd3786"
          ],
          [
           0.5555555555555556,
           "#d8576b"
          ],
          [
           0.6666666666666666,
           "#ed7953"
          ],
          [
           0.7777777777777778,
           "#fb9f3a"
          ],
          [
           0.8888888888888888,
           "#fdca26"
          ],
          [
           1,
           "#f0f921"
          ]
         ]
        },
        "margin": {
         "t": 60
        },
        "template": {
         "data": {
          "bar": [
           {
            "error_x": {
             "color": "#2a3f5f"
            },
            "error_y": {
             "color": "#2a3f5f"
            },
            "marker": {
             "line": {
              "color": "#E5ECF6",
              "width": 0.5
             },
             "pattern": {
              "fillmode": "overlay",
              "size": 10,
              "solidity": 0.2
             }
            },
            "type": "bar"
           }
          ],
          "barpolar": [
           {
            "marker": {
             "line": {
              "color": "#E5ECF6",
              "width": 0.5
             },
             "pattern": {
              "fillmode": "overlay",
              "size": 10,
              "solidity": 0.2
             }
            },
            "type": "barpolar"
           }
          ],
          "carpet": [
           {
            "aaxis": {
             "endlinecolor": "#2a3f5f",
             "gridcolor": "white",
             "linecolor": "white",
             "minorgridcolor": "white",
             "startlinecolor": "#2a3f5f"
            },
            "baxis": {
             "endlinecolor": "#2a3f5f",
             "gridcolor": "white",
             "linecolor": "white",
             "minorgridcolor": "white",
             "startlinecolor": "#2a3f5f"
            },
            "type": "carpet"
           }
          ],
          "choropleth": [
           {
            "colorbar": {
             "outlinewidth": 0,
             "ticks": ""
            },
            "type": "choropleth"
           }
          ],
          "contour": [
           {
            "colorbar": {
             "outlinewidth": 0,
             "ticks": ""
            },
            "colorscale": [
             [
              0,
              "#0d0887"
             ],
             [
              0.1111111111111111,
              "#46039f"
             ],
             [
              0.2222222222222222,
              "#7201a8"
             ],
             [
              0.3333333333333333,
              "#9c179e"
             ],
             [
              0.4444444444444444,
              "#bd3786"
             ],
             [
              0.5555555555555556,
              "#d8576b"
             ],
             [
              0.6666666666666666,
              "#ed7953"
             ],
             [
              0.7777777777777778,
              "#fb9f3a"
             ],
             [
              0.8888888888888888,
              "#fdca26"
             ],
             [
              1,
              "#f0f921"
             ]
            ],
            "type": "contour"
           }
          ],
          "contourcarpet": [
           {
            "colorbar": {
             "outlinewidth": 0,
             "ticks": ""
            },
            "type": "contourcarpet"
           }
          ],
          "heatmap": [
           {
            "colorbar": {
             "outlinewidth": 0,
             "ticks": ""
            },
            "colorscale": [
             [
              0,
              "#0d0887"
             ],
             [
              0.1111111111111111,
              "#46039f"
             ],
             [
              0.2222222222222222,
              "#7201a8"
             ],
             [
              0.3333333333333333,
              "#9c179e"
             ],
             [
              0.4444444444444444,
              "#bd3786"
             ],
             [
              0.5555555555555556,
              "#d8576b"
             ],
             [
              0.6666666666666666,
              "#ed7953"
             ],
             [
              0.7777777777777778,
              "#fb9f3a"
             ],
             [
              0.8888888888888888,
              "#fdca26"
             ],
             [
              1,
              "#f0f921"
             ]
            ],
            "type": "heatmap"
           }
          ],
          "heatmapgl": [
           {
            "colorbar": {
             "outlinewidth": 0,
             "ticks": ""
            },
            "colorscale": [
             [
              0,
              "#0d0887"
             ],
             [
              0.1111111111111111,
              "#46039f"
             ],
             [
              0.2222222222222222,
              "#7201a8"
             ],
             [
              0.3333333333333333,
              "#9c179e"
             ],
             [
              0.4444444444444444,
              "#bd3786"
             ],
             [
              0.5555555555555556,
              "#d8576b"
             ],
             [
              0.6666666666666666,
              "#ed7953"
             ],
             [
              0.7777777777777778,
              "#fb9f3a"
             ],
             [
              0.8888888888888888,
              "#fdca26"
             ],
             [
              1,
              "#f0f921"
             ]
            ],
            "type": "heatmapgl"
           }
          ],
          "histogram": [
           {
            "marker": {
             "pattern": {
              "fillmode": "overlay",
              "size": 10,
              "solidity": 0.2
             }
            },
            "type": "histogram"
           }
          ],
          "histogram2d": [
           {
            "colorbar": {
             "outlinewidth": 0,
             "ticks": ""
            },
            "colorscale": [
             [
              0,
              "#0d0887"
             ],
             [
              0.1111111111111111,
              "#46039f"
             ],
             [
              0.2222222222222222,
              "#7201a8"
             ],
             [
              0.3333333333333333,
              "#9c179e"
             ],
             [
              0.4444444444444444,
              "#bd3786"
             ],
             [
              0.5555555555555556,
              "#d8576b"
             ],
             [
              0.6666666666666666,
              "#ed7953"
             ],
             [
              0.7777777777777778,
              "#fb9f3a"
             ],
             [
              0.8888888888888888,
              "#fdca26"
             ],
             [
              1,
              "#f0f921"
             ]
            ],
            "type": "histogram2d"
           }
          ],
          "histogram2dcontour": [
           {
            "colorbar": {
             "outlinewidth": 0,
             "ticks": ""
            },
            "colorscale": [
             [
              0,
              "#0d0887"
             ],
             [
              0.1111111111111111,
              "#46039f"
             ],
             [
              0.2222222222222222,
              "#7201a8"
             ],
             [
              0.3333333333333333,
              "#9c179e"
             ],
             [
              0.4444444444444444,
              "#bd3786"
             ],
             [
              0.5555555555555556,
              "#d8576b"
             ],
             [
              0.6666666666666666,
              "#ed7953"
             ],
             [
              0.7777777777777778,
              "#fb9f3a"
             ],
             [
              0.8888888888888888,
              "#fdca26"
             ],
             [
              1,
              "#f0f921"
             ]
            ],
            "type": "histogram2dcontour"
           }
          ],
          "mesh3d": [
           {
            "colorbar": {
             "outlinewidth": 0,
             "ticks": ""
            },
            "type": "mesh3d"
           }
          ],
          "parcoords": [
           {
            "line": {
             "colorbar": {
              "outlinewidth": 0,
              "ticks": ""
             }
            },
            "type": "parcoords"
           }
          ],
          "pie": [
           {
            "automargin": true,
            "type": "pie"
           }
          ],
          "scatter": [
           {
            "fillpattern": {
             "fillmode": "overlay",
             "size": 10,
             "solidity": 0.2
            },
            "type": "scatter"
           }
          ],
          "scatter3d": [
           {
            "line": {
             "colorbar": {
              "outlinewidth": 0,
              "ticks": ""
             }
            },
            "marker": {
             "colorbar": {
              "outlinewidth": 0,
              "ticks": ""
             }
            },
            "type": "scatter3d"
           }
          ],
          "scattercarpet": [
           {
            "marker": {
             "colorbar": {
              "outlinewidth": 0,
              "ticks": ""
             }
            },
            "type": "scattercarpet"
           }
          ],
          "scattergeo": [
           {
            "marker": {
             "colorbar": {
              "outlinewidth": 0,
              "ticks": ""
             }
            },
            "type": "scattergeo"
           }
          ],
          "scattergl": [
           {
            "marker": {
             "colorbar": {
              "outlinewidth": 0,
              "ticks": ""
             }
            },
            "type": "scattergl"
           }
          ],
          "scattermapbox": [
           {
            "marker": {
             "colorbar": {
              "outlinewidth": 0,
              "ticks": ""
             }
            },
            "type": "scattermapbox"
           }
          ],
          "scatterpolar": [
           {
            "marker": {
             "colorbar": {
              "outlinewidth": 0,
              "ticks": ""
             }
            },
            "type": "scatterpolar"
           }
          ],
          "scatterpolargl": [
           {
            "marker": {
             "colorbar": {
              "outlinewidth": 0,
              "ticks": ""
             }
            },
            "type": "scatterpolargl"
           }
          ],
          "scatterternary": [
           {
            "marker": {
             "colorbar": {
              "outlinewidth": 0,
              "ticks": ""
             }
            },
            "type": "scatterternary"
           }
          ],
          "surface": [
           {
            "colorbar": {
             "outlinewidth": 0,
             "ticks": ""
            },
            "colorscale": [
             [
              0,
              "#0d0887"
             ],
             [
              0.1111111111111111,
              "#46039f"
             ],
             [
              0.2222222222222222,
              "#7201a8"
             ],
             [
              0.3333333333333333,
              "#9c179e"
             ],
             [
              0.4444444444444444,
              "#bd3786"
             ],
             [
              0.5555555555555556,
              "#d8576b"
             ],
             [
              0.6666666666666666,
              "#ed7953"
             ],
             [
              0.7777777777777778,
              "#fb9f3a"
             ],
             [
              0.8888888888888888,
              "#fdca26"
             ],
             [
              1,
              "#f0f921"
             ]
            ],
            "type": "surface"
           }
          ],
          "table": [
           {
            "cells": {
             "fill": {
              "color": "#EBF0F8"
             },
             "line": {
              "color": "white"
             }
            },
            "header": {
             "fill": {
              "color": "#C8D4E3"
             },
             "line": {
              "color": "white"
             }
            },
            "type": "table"
           }
          ]
         },
         "layout": {
          "annotationdefaults": {
           "arrowcolor": "#2a3f5f",
           "arrowhead": 0,
           "arrowwidth": 1
          },
          "autotypenumbers": "strict",
          "coloraxis": {
           "colorbar": {
            "outlinewidth": 0,
            "ticks": ""
           }
          },
          "colorscale": {
           "diverging": [
            [
             0,
             "#8e0152"
            ],
            [
             0.1,
             "#c51b7d"
            ],
            [
             0.2,
             "#de77ae"
            ],
            [
             0.3,
             "#f1b6da"
            ],
            [
             0.4,
             "#fde0ef"
            ],
            [
             0.5,
             "#f7f7f7"
            ],
            [
             0.6,
             "#e6f5d0"
            ],
            [
             0.7,
             "#b8e186"
            ],
            [
             0.8,
             "#7fbc41"
            ],
            [
             0.9,
             "#4d9221"
            ],
            [
             1,
             "#276419"
            ]
           ],
           "sequential": [
            [
             0,
             "#0d0887"
            ],
            [
             0.1111111111111111,
             "#46039f"
            ],
            [
             0.2222222222222222,
             "#7201a8"
            ],
            [
             0.3333333333333333,
             "#9c179e"
            ],
            [
             0.4444444444444444,
             "#bd3786"
            ],
            [
             0.5555555555555556,
             "#d8576b"
            ],
            [
             0.6666666666666666,
             "#ed7953"
            ],
            [
             0.7777777777777778,
             "#fb9f3a"
            ],
            [
             0.8888888888888888,
             "#fdca26"
            ],
            [
             1,
             "#f0f921"
            ]
           ],
           "sequentialminus": [
            [
             0,
             "#0d0887"
            ],
            [
             0.1111111111111111,
             "#46039f"
            ],
            [
             0.2222222222222222,
             "#7201a8"
            ],
            [
             0.3333333333333333,
             "#9c179e"
            ],
            [
             0.4444444444444444,
             "#bd3786"
            ],
            [
             0.5555555555555556,
             "#d8576b"
            ],
            [
             0.6666666666666666,
             "#ed7953"
            ],
            [
             0.7777777777777778,
             "#fb9f3a"
            ],
            [
             0.8888888888888888,
             "#fdca26"
            ],
            [
             1,
             "#f0f921"
            ]
           ]
          },
          "colorway": [
           "#636efa",
           "#EF553B",
           "#00cc96",
           "#ab63fa",
           "#FFA15A",
           "#19d3f3",
           "#FF6692",
           "#B6E880",
           "#FF97FF",
           "#FECB52"
          ],
          "font": {
           "color": "#2a3f5f"
          },
          "geo": {
           "bgcolor": "white",
           "lakecolor": "white",
           "landcolor": "#E5ECF6",
           "showlakes": true,
           "showland": true,
           "subunitcolor": "white"
          },
          "hoverlabel": {
           "align": "left"
          },
          "hovermode": "closest",
          "mapbox": {
           "style": "light"
          },
          "paper_bgcolor": "white",
          "plot_bgcolor": "#E5ECF6",
          "polar": {
           "angularaxis": {
            "gridcolor": "white",
            "linecolor": "white",
            "ticks": ""
           },
           "bgcolor": "#E5ECF6",
           "radialaxis": {
            "gridcolor": "white",
            "linecolor": "white",
            "ticks": ""
           }
          },
          "scene": {
           "xaxis": {
            "backgroundcolor": "#E5ECF6",
            "gridcolor": "white",
            "gridwidth": 2,
            "linecolor": "white",
            "showbackground": true,
            "ticks": "",
            "zerolinecolor": "white"
           },
           "yaxis": {
            "backgroundcolor": "#E5ECF6",
            "gridcolor": "white",
            "gridwidth": 2,
            "linecolor": "white",
            "showbackground": true,
            "ticks": "",
            "zerolinecolor": "white"
           },
           "zaxis": {
            "backgroundcolor": "#E5ECF6",
            "gridcolor": "white",
            "gridwidth": 2,
            "linecolor": "white",
            "showbackground": true,
            "ticks": "",
            "zerolinecolor": "white"
           }
          },
          "shapedefaults": {
           "line": {
            "color": "#2a3f5f"
           }
          },
          "ternary": {
           "aaxis": {
            "gridcolor": "white",
            "linecolor": "white",
            "ticks": ""
           },
           "baxis": {
            "gridcolor": "white",
            "linecolor": "white",
            "ticks": ""
           },
           "bgcolor": "#E5ECF6",
           "caxis": {
            "gridcolor": "white",
            "linecolor": "white",
            "ticks": ""
           }
          },
          "title": {
           "x": 0.05
          },
          "xaxis": {
           "automargin": true,
           "gridcolor": "white",
           "linecolor": "white",
           "ticks": "",
           "title": {
            "standoff": 15
           },
           "zerolinecolor": "white",
           "zerolinewidth": 2
          },
          "yaxis": {
           "automargin": true,
           "gridcolor": "white",
           "linecolor": "white",
           "ticks": "",
           "title": {
            "standoff": 15
           },
           "zerolinecolor": "white",
           "zerolinewidth": 2
          }
         }
        },
        "xaxis": {
         "anchor": "y",
         "constrain": "domain",
         "domain": [
          0,
          1
         ],
         "scaleanchor": "y"
        },
        "yaxis": {
         "anchor": "x",
         "autorange": "reversed",
         "constrain": "domain",
         "domain": [
          0,
          1
         ]
        }
       }
      }
     },
     "metadata": {},
     "output_type": "display_data"
    }
   ],
   "source": [
    "random_tree = nx.random_tree(\n",
    "        16,\n",
    "        create_using=nx.DiGraph\n",
    "    )\n",
    "\n",
    "# Get the adjacency matrix as a NumPy array\n",
    "adjacency_matrix = nx.to_numpy_array(random_tree)\n",
    "px.imshow(adjacency_matrix)\n",
    "reachable_nodes = np.linalg.matrix_power(adjacency_matrix+np.identity(adjacency_matrix.shape[0]), 16)\n",
    "px.imshow(np.minimum(reachable_nodes, 1))"
   ]
  },
  {
   "cell_type": "code",
   "execution_count": 33,
   "metadata": {},
   "outputs": [
    {
     "data": {
      "image/png": "[encoded data removed]",
      "text/plain": [
       "<Figure size 800x600 with 1 Axes>"
      ]
     },
     "metadata": {},
     "output_type": "display_data"
    }
   ],
   "source": [
    "import matplotlib.pyplot as plt\n",
    "from tree_generation.viz import hierarchy_pos\n",
    "plt.figure(figsize=(8, 6))\n",
    "pos = hierarchy_pos(random_tree) \n",
    "nx.draw(random_tree, pos, with_labels=True, node_size=2000, node_color='skyblue', font_size=10, font_color='black', arrows=False)\n",
    "plt.title(\"NetworkX Tree Example\")\n",
    "plt.show()"
   ]
  },
  {
   "cell_type": "code",
   "execution_count": 34,
   "metadata": {},
   "outputs": [],
   "source": [
    "def array2graph(adjacency_matrix):\n",
    "    G = nx.Graph()\n",
    "\n",
    "    # Add nodes\n",
    "    num_nodes = adjacency_matrix.shape[0]\n",
    "    G.add_nodes_from(range(num_nodes))\n",
    "\n",
    "    # Add edges based on adjacency matrix\n",
    "    for i in range(num_nodes):\n",
    "        for j in range(0, num_nodes):\n",
    "            if adjacency_matrix[i, j] == 1:\n",
    "                G.add_edge(i, j)\n",
    "\n",
    "    return G"
   ]
  },
  {
   "cell_type": "code",
   "execution_count": 35,
   "metadata": {},
   "outputs": [],
   "source": [
    "symbols_list = [sp.symbols('a{}__{}'.format(i, j)) for i in range(16) for j in range(16)]\n",
    "\n",
    "# Create a 16x16 matrix\n",
    "matrix_16x16 = sp.Matrix(16, 16, symbols_list)"
   ]
  },
  {
   "cell_type": "code",
   "execution_count": 36,
   "metadata": {},
   "outputs": [
    {
     "data": {
      "text/latex": [
       "$\\displaystyle \\left[\\begin{array}{cccccccccccccccc}a^{0}_{0} & a^{1}_{0} & a^{2}_{0} & a^{3}_{0} & a^{4}_{0} & a^{5}_{0} & a^{6}_{0} & a^{7}_{0} & a^{8}_{0} & a^{9}_{0} & a^{10}_{0} & a^{11}_{0} & a^{12}_{0} & a^{13}_{0} & a^{14}_{0} & a^{15}_{0}\\\\a^{0}_{1} & a^{1}_{1} & a^{2}_{1} & a^{3}_{1} & a^{4}_{1} & a^{5}_{1} & a^{6}_{1} & a^{7}_{1} & a^{8}_{1} & a^{9}_{1} & a^{10}_{1} & a^{11}_{1} & a^{12}_{1} & a^{13}_{1} & a^{14}_{1} & a^{15}_{1}\\\\a^{0}_{2} & a^{1}_{2} & a^{2}_{2} & a^{3}_{2} & a^{4}_{2} & a^{5}_{2} & a^{6}_{2} & a^{7}_{2} & a^{8}_{2} & a^{9}_{2} & a^{10}_{2} & a^{11}_{2} & a^{12}_{2} & a^{13}_{2} & a^{14}_{2} & a^{15}_{2}\\\\a^{0}_{3} & a^{1}_{3} & a^{2}_{3} & a^{3}_{3} & a^{4}_{3} & a^{5}_{3} & a^{6}_{3} & a^{7}_{3} & a^{8}_{3} & a^{9}_{3} & a^{10}_{3} & a^{11}_{3} & a^{12}_{3} & a^{13}_{3} & a^{14}_{3} & a^{15}_{3}\\\\a^{0}_{4} & a^{1}_{4} & a^{2}_{4} & a^{3}_{4} & a^{4}_{4} & a^{5}_{4} & a^{6}_{4} & a^{7}_{4} & a^{8}_{4} & a^{9}_{4} & a^{10}_{4} & a^{11}_{4} & a^{12}_{4} & a^{13}_{4} & a^{14}_{4} & a^{15}_{4}\\\\a^{0}_{5} & a^{1}_{5} & a^{2}_{5} & a^{3}_{5} & a^{4}_{5} & a^{5}_{5} & a^{6}_{5} & a^{7}_{5} & a^{8}_{5} & a^{9}_{5} & a^{10}_{5} & a^{11}_{5} & a^{12}_{5} & a^{13}_{5} & a^{14}_{5} & a^{15}_{5}\\\\a^{0}_{6} & a^{1}_{6} & a^{2}_{6} & a^{3}_{6} & a^{4}_{6} & a^{5}_{6} & a^{6}_{6} & a^{7}_{6} & a^{8}_{6} & a^{9}_{6} & a^{10}_{6} & a^{11}_{6} & a^{12}_{6} & a^{13}_{6} & a^{14}_{6} & a^{15}_{6}\\\\a^{0}_{7} & a^{1}_{7} & a^{2}_{7} & a^{3}_{7} & a^{4}_{7} & a^{5}_{7} & a^{6}_{7} & a^{7}_{7} & a^{8}_{7} & a^{9}_{7} & a^{10}_{7} & a^{11}_{7} & a^{12}_{7} & a^{13}_{7} & a^{14}_{7} & a^{15}_{7}\\\\a^{0}_{8} & a^{1}_{8} & a^{2}_{8} & a^{3}_{8} & a^{4}_{8} & a^{5}_{8} & a^{6}_{8} & a^{7}_{8} & a^{8}_{8} & a^{9}_{8} & a^{10}_{8} & a^{11}_{8} & a^{12}_{8} & a^{13}_{8} & a^{14}_{8} & a^{15}_{8}\\\\a^{0}_{9} & a^{1}_{9} & a^{2}_{9} & a^{3}_{9} & a^{4}_{9} & a^{5}_{9} & a^{6}_{9} & a^{7}_{9} & a^{8}_{9} & a^{9}_{9} & a^{10}_{9} & a^{11}_{9} & a^{12}_{9} & a^{13}_{9} & a^{14}_{9} & a^{15}_{9}\\\\a^{0}_{10} & a^{1}_{10} & a^{2}_{10} & a^{3}_{10} & a^{4}_{10} & a^{5}_{10} & a^{6}_{10} & a^{7}_{10} & a^{8}_{10} & a^{9}_{10} & a^{10}_{10} & a^{11}_{10} & a^{12}_{10} & a^{13}_{10} & a^{14}_{10} & a^{15}_{10}\\\\a^{0}_{11} & a^{1}_{11} & a^{2}_{11} & a^{3}_{11} & a^{4}_{11} & a^{5}_{11} & a^{6}_{11} & a^{7}_{11} & a^{8}_{11} & a^{9}_{11} & a^{10}_{11} & a^{11}_{11} & a^{12}_{11} & a^{13}_{11} & a^{14}_{11} & a^{15}_{11}\\\\a^{0}_{12} & a^{1}_{12} & a^{2}_{12} & a^{3}_{12} & a^{4}_{12} & a^{5}_{12} & a^{6}_{12} & a^{7}_{12} & a^{8}_{12} & a^{9}_{12} & a^{10}_{12} & a^{11}_{12} & a^{12}_{12} & a^{13}_{12} & a^{14}_{12} & a^{15}_{12}\\\\a^{0}_{13} & a^{1}_{13} & a^{2}_{13} & a^{3}_{13} & a^{4}_{13} & a^{5}_{13} & a^{6}_{13} & a^{7}_{13} & a^{8}_{13} & a^{9}_{13} & a^{10}_{13} & a^{11}_{13} & a^{12}_{13} & a^{13}_{13} & a^{14}_{13} & a^{15}_{13}\\\\a^{0}_{14} & a^{1}_{14} & a^{2}_{14} & a^{3}_{14} & a^{4}_{14} & a^{5}_{14} & a^{6}_{14} & a^{7}_{14} & a^{8}_{14} & a^{9}_{14} & a^{10}_{14} & a^{11}_{14} & a^{12}_{14} & a^{13}_{14} & a^{14}_{14} & a^{15}_{14}\\\\a^{0}_{15} & a^{1}_{15} & a^{2}_{15} & a^{3}_{15} & a^{4}_{15} & a^{5}_{15} & a^{6}_{15} & a^{7}_{15} & a^{8}_{15} & a^{9}_{15} & a^{10}_{15} & a^{11}_{15} & a^{12}_{15} & a^{13}_{15} & a^{14}_{15} & a^{15}_{15}\\end{array}\\right]$"
      ],
      "text/plain": [
       "Matrix([\n",
       "[ a0__0,  a0__1,  a0__2,  a0__3,  a0__4,  a0__5,  a0__6,  a0__7,  a0__8,  a0__9,  a0__10,  a0__11,  a0__12,  a0__13,  a0__14,  a0__15],\n",
       "[ a1__0,  a1__1,  a1__2,  a1__3,  a1__4,  a1__5,  a1__6,  a1__7,  a1__8,  a1__9,  a1__10,  a1__11,  a1__12,  a1__13,  a1__14,  a1__15],\n",
       "[ a2__0,  a2__1,  a2__2,  a2__3,  a2__4,  a2__5,  a2__6,  a2__7,  a2__8,  a2__9,  a2__10,  a2__11,  a2__12,  a2__13,  a2__14,  a2__15],\n",
       "[ a3__0,  a3__1,  a3__2,  a3__3,  a3__4,  a3__5,  a3__6,  a3__7,  a3__8,  a3__9,  a3__10,  a3__11,  a3__12,  a3__13,  a3__14,  a3__15],\n",
       "[ a4__0,  a4__1,  a4__2,  a4__3,  a4__4,  a4__5,  a4__6,  a4__7,  a4__8,  a4__9,  a4__10,  a4__11,  a4__12,  a4__13,  a4__14,  a4__15],\n",
       "[ a5__0,  a5__1,  a5__2,  a5__3,  a5__4,  a5__5,  a5__6,  a5__7,  a5__8,  a5__9,  a5__10,  a5__11,  a5__12,  a5__13,  a5__14,  a5__15],\n",
       "[ a6__0,  a6__1,  a6__2,  a6__3,  a6__4,  a6__5,  a6__6,  a6__7,  a6__8,  a6__9,  a6__10,  a6__11,  a6__12,  a6__13,  a6__14,  a6__15],\n",
       "[ a7__0,  a7__1,  a7__2,  a7__3,  a7__4,  a7__5,  a7__6,  a7__7,  a7__8,  a7__9,  a7__10,  a7__11,  a7__12,  a7__13,  a7__14,  a7__15],\n",
       "[ a8__0,  a8__1,  a8__2,  a8__3,  a8__4,  a8__5,  a8__6,  a8__7,  a8__8,  a8__9,  a8__10,  a8__11,  a8__12,  a8__13,  a8__14,  a8__15],\n",
       "[ a9__0,  a9__1,  a9__2,  a9__3,  a9__4,  a9__5,  a9__6,  a9__7,  a9__8,  a9__9,  a9__10,  a9__11,  a9__12,  a9__13,  a9__14,  a9__15],\n",
       "[a10__0, a10__1, a10__2, a10__3, a10__4, a10__5, a10__6, a10__7, a10__8, a10__9, a10__10, a10__11, a10__12, a10__13, a10__14, a10__15],\n",
       "[a11__0, a11__1, a11__2, a11__3, a11__4, a11__5, a11__6, a11__7, a11__8, a11__9, a11__10, a11__11, a11__12, a11__13, a11__14, a11__15],\n",
       "[a12__0, a12__1, a12__2, a12__3, a12__4, a12__5, a12__6, a12__7, a12__8, a12__9, a12__10, a12__11, a12__12, a12__13, a12__14, a12__15],\n",
       "[a13__0, a13__1, a13__2, a13__3, a13__4, a13__5, a13__6, a13__7, a13__8, a13__9, a13__10, a13__11, a13__12, a13__13, a13__14, a13__15],\n",
       "[a14__0, a14__1, a14__2, a14__3, a14__4, a14__5, a14__6, a14__7, a14__8, a14__9, a14__10, a14__11, a14__12, a14__13, a14__14, a14__15],\n",
       "[a15__0, a15__1, a15__2, a15__3, a15__4, a15__5, a15__6, a15__7, a15__8, a15__9, a15__10, a15__11, a15__12, a15__13, a15__14, a15__15]])"
      ]
     },
     "execution_count": 36,
     "metadata": {},
     "output_type": "execute_result"
    }
   ],
   "source": [
    "matrix_16x16"
   ]
  },
  {
   "cell_type": "code",
   "execution_count": 37,
   "metadata": {},
   "outputs": [],
   "source": [
    "for i in range(16):\n",
    "    matrix_16x16[i, i] = 0"
   ]
  },
  {
   "cell_type": "code",
   "execution_count": 38,
   "metadata": {},
   "outputs": [
    {
     "data": {
      "text/latex": [
       "$\\displaystyle \\left[\\begin{array}{cccccccccccccccc}0 & a^{1}_{0} & a^{2}_{0} & a^{3}_{0} & a^{4}_{0} & a^{5}_{0} & a^{6}_{0} & a^{7}_{0} & a^{8}_{0} & a^{9}_{0} & a^{10}_{0} & a^{11}_{0} & a^{12}_{0} & a^{13}_{0} & a^{14}_{0} & a^{15}_{0}\\\\a^{0}_{1} & 0 & a^{2}_{1} & a^{3}_{1} & a^{4}_{1} & a^{5}_{1} & a^{6}_{1} & a^{7}_{1} & a^{8}_{1} & a^{9}_{1} & a^{10}_{1} & a^{11}_{1} & a^{12}_{1} & a^{13}_{1} & a^{14}_{1} & a^{15}_{1}\\\\a^{0}_{2} & a^{1}_{2} & 0 & a^{3}_{2} & a^{4}_{2} & a^{5}_{2} & a^{6}_{2} & a^{7}_{2} & a^{8}_{2} & a^{9}_{2} & a^{10}_{2} & a^{11}_{2} & a^{12}_{2} & a^{13}_{2} & a^{14}_{2} & a^{15}_{2}\\\\a^{0}_{3} & a^{1}_{3} & a^{2}_{3} & 0 & a^{4}_{3} & a^{5}_{3} & a^{6}_{3} & a^{7}_{3} & a^{8}_{3} & a^{9}_{3} & a^{10}_{3} & a^{11}_{3} & a^{12}_{3} & a^{13}_{3} & a^{14}_{3} & a^{15}_{3}\\\\a^{0}_{4} & a^{1}_{4} & a^{2}_{4} & a^{3}_{4} & 0 & a^{5}_{4} & a^{6}_{4} & a^{7}_{4} & a^{8}_{4} & a^{9}_{4} & a^{10}_{4} & a^{11}_{4} & a^{12}_{4} & a^{13}_{4} & a^{14}_{4} & a^{15}_{4}\\\\a^{0}_{5} & a^{1}_{5} & a^{2}_{5} & a^{3}_{5} & a^{4}_{5} & 0 & a^{6}_{5} & a^{7}_{5} & a^{8}_{5} & a^{9}_{5} & a^{10}_{5} & a^{11}_{5} & a^{12}_{5} & a^{13}_{5} & a^{14}_{5} & a^{15}_{5}\\\\a^{0}_{6} & a^{1}_{6} & a^{2}_{6} & a^{3}_{6} & a^{4}_{6} & a^{5}_{6} & 0 & a^{7}_{6} & a^{8}_{6} & a^{9}_{6} & a^{10}_{6} & a^{11}_{6} & a^{12}_{6} & a^{13}_{6} & a^{14}_{6} & a^{15}_{6}\\\\a^{0}_{7} & a^{1}_{7} & a^{2}_{7} & a^{3}_{7} & a^{4}_{7} & a^{5}_{7} & a^{6}_{7} & 0 & a^{8}_{7} & a^{9}_{7} & a^{10}_{7} & a^{11}_{7} & a^{12}_{7} & a^{13}_{7} & a^{14}_{7} & a^{15}_{7}\\\\a^{0}_{8} & a^{1}_{8} & a^{2}_{8} & a^{3}_{8} & a^{4}_{8} & a^{5}_{8} & a^{6}_{8} & a^{7}_{8} & 0 & a^{9}_{8} & a^{10}_{8} & a^{11}_{8} & a^{12}_{8} & a^{13}_{8} & a^{14}_{8} & a^{15}_{8}\\\\a^{0}_{9} & a^{1}_{9} & a^{2}_{9} & a^{3}_{9} & a^{4}_{9} & a^{5}_{9} & a^{6}_{9} & a^{7}_{9} & a^{8}_{9} & 0 & a^{10}_{9} & a^{11}_{9} & a^{12}_{9} & a^{13}_{9} & a^{14}_{9} & a^{15}_{9}\\\\a^{0}_{10} & a^{1}_{10} & a^{2}_{10} & a^{3}_{10} & a^{4}_{10} & a^{5}_{10} & a^{6}_{10} & a^{7}_{10} & a^{8}_{10} & a^{9}_{10} & 0 & a^{11}_{10} & a^{12}_{10} & a^{13}_{10} & a^{14}_{10} & a^{15}_{10}\\\\a^{0}_{11} & a^{1}_{11} & a^{2}_{11} & a^{3}_{11} & a^{4}_{11} & a^{5}_{11} & a^{6}_{11} & a^{7}_{11} & a^{8}_{11} & a^{9}_{11} & a^{10}_{11} & 0 & a^{12}_{11} & a^{13}_{11} & a^{14}_{11} & a^{15}_{11}\\\\a^{0}_{12} & a^{1}_{12} & a^{2}_{12} & a^{3}_{12} & a^{4}_{12} & a^{5}_{12} & a^{6}_{12} & a^{7}_{12} & a^{8}_{12} & a^{9}_{12} & a^{10}_{12} & a^{11}_{12} & 0 & a^{13}_{12} & a^{14}_{12} & a^{15}_{12}\\\\a^{0}_{13} & a^{1}_{13} & a^{2}_{13} & a^{3}_{13} & a^{4}_{13} & a^{5}_{13} & a^{6}_{13} & a^{7}_{13} & a^{8}_{13} & a^{9}_{13} & a^{10}_{13} & a^{11}_{13} & a^{12}_{13} & 0 & a^{14}_{13} & a^{15}_{13}\\\\a^{0}_{14} & a^{1}_{14} & a^{2}_{14} & a^{3}_{14} & a^{4}_{14} & a^{5}_{14} & a^{6}_{14} & a^{7}_{14} & a^{8}_{14} & a^{9}_{14} & a^{10}_{14} & a^{11}_{14} & a^{12}_{14} & a^{13}_{14} & 0 & a^{15}_{14}\\\\a^{0}_{15} & a^{1}_{15} & a^{2}_{15} & a^{3}_{15} & a^{4}_{15} & a^{5}_{15} & a^{6}_{15} & a^{7}_{15} & a^{8}_{15} & a^{9}_{15} & a^{10}_{15} & a^{11}_{15} & a^{12}_{15} & a^{13}_{15} & a^{14}_{15} & 0\\end{array}\\right]$"
      ],
      "text/plain": [
       "Matrix([\n",
       "[     0,  a0__1,  a0__2,  a0__3,  a0__4,  a0__5,  a0__6,  a0__7,  a0__8,  a0__9,  a0__10,  a0__11,  a0__12,  a0__13,  a0__14,  a0__15],\n",
       "[ a1__0,      0,  a1__2,  a1__3,  a1__4,  a1__5,  a1__6,  a1__7,  a1__8,  a1__9,  a1__10,  a1__11,  a1__12,  a1__13,  a1__14,  a1__15],\n",
       "[ a2__0,  a2__1,      0,  a2__3,  a2__4,  a2__5,  a2__6,  a2__7,  a2__8,  a2__9,  a2__10,  a2__11,  a2__12,  a2__13,  a2__14,  a2__15],\n",
       "[ a3__0,  a3__1,  a3__2,      0,  a3__4,  a3__5,  a3__6,  a3__7,  a3__8,  a3__9,  a3__10,  a3__11,  a3__12,  a3__13,  a3__14,  a3__15],\n",
       "[ a4__0,  a4__1,  a4__2,  a4__3,      0,  a4__5,  a4__6,  a4__7,  a4__8,  a4__9,  a4__10,  a4__11,  a4__12,  a4__13,  a4__14,  a4__15],\n",
       "[ a5__0,  a5__1,  a5__2,  a5__3,  a5__4,      0,  a5__6,  a5__7,  a5__8,  a5__9,  a5__10,  a5__11,  a5__12,  a5__13,  a5__14,  a5__15],\n",
       "[ a6__0,  a6__1,  a6__2,  a6__3,  a6__4,  a6__5,      0,  a6__7,  a6__8,  a6__9,  a6__10,  a6__11,  a6__12,  a6__13,  a6__14,  a6__15],\n",
       "[ a7__0,  a7__1,  a7__2,  a7__3,  a7__4,  a7__5,  a7__6,      0,  a7__8,  a7__9,  a7__10,  a7__11,  a7__12,  a7__13,  a7__14,  a7__15],\n",
       "[ a8__0,  a8__1,  a8__2,  a8__3,  a8__4,  a8__5,  a8__6,  a8__7,      0,  a8__9,  a8__10,  a8__11,  a8__12,  a8__13,  a8__14,  a8__15],\n",
       "[ a9__0,  a9__1,  a9__2,  a9__3,  a9__4,  a9__5,  a9__6,  a9__7,  a9__8,      0,  a9__10,  a9__11,  a9__12,  a9__13,  a9__14,  a9__15],\n",
       "[a10__0, a10__1, a10__2, a10__3, a10__4, a10__5, a10__6, a10__7, a10__8, a10__9,       0, a10__11, a10__12, a10__13, a10__14, a10__15],\n",
       "[a11__0, a11__1, a11__2, a11__3, a11__4, a11__5, a11__6, a11__7, a11__8, a11__9, a11__10,       0, a11__12, a11__13, a11__14, a11__15],\n",
       "[a12__0, a12__1, a12__2, a12__3, a12__4, a12__5, a12__6, a12__7, a12__8, a12__9, a12__10, a12__11,       0, a12__13, a12__14, a12__15],\n",
       "[a13__0, a13__1, a13__2, a13__3, a13__4, a13__5, a13__6, a13__7, a13__8, a13__9, a13__10, a13__11, a13__12,       0, a13__14, a13__15],\n",
       "[a14__0, a14__1, a14__2, a14__3, a14__4, a14__5, a14__6, a14__7, a14__8, a14__9, a14__10, a14__11, a14__12, a14__13,       0, a14__15],\n",
       "[a15__0, a15__1, a15__2, a15__3, a15__4, a15__5, a15__6, a15__7, a15__8, a15__9, a15__10, a15__11, a15__12, a15__13, a15__14,       0]])"
      ]
     },
     "execution_count": 38,
     "metadata": {},
     "output_type": "execute_result"
    }
   ],
   "source": [
    "matrix_16x16"
   ]
  },
  {
   "cell_type": "code",
   "execution_count": 39,
   "metadata": {},
   "outputs": [],
   "source": [
    "sum_constraint = sp.Eq(sum(symbols_list), 16)"
   ]
  },
  {
   "cell_type": "code",
   "execution_count": 40,
   "metadata": {},
   "outputs": [],
   "source": [
    "solution = sp.solve(sum_constraint, symbols_list[0])"
   ]
  },
  {
   "cell_type": "code",
   "execution_count": 41,
   "metadata": {},
   "outputs": [],
   "source": [
    "matrix_16x16 = matrix_16x16.subs(symbols_list[0], solution[0])"
   ]
  },
  {
   "cell_type": "code",
   "execution_count": 42,
   "metadata": {},
   "outputs": [],
   "source": [
    "matrix_squared=matrix_16x16*matrix_16x16"
   ]
  },
  {
   "cell_type": "code",
   "execution_count": 43,
   "metadata": {},
   "outputs": [],
   "source": [
    "for i in range(16):\n",
    "    for j in range(16):\n",
    "        if matrix_squared[i, j] == 1:\n",
    "            matrix_squared[i, j] = 0\n"
   ]
  },
  {
   "cell_type": "code",
   "execution_count": 45,
   "metadata": {},
   "outputs": [
    {
     "data": {
      "text/latex": [
       "$\\displaystyle \\left[\\begin{array}{cccccccccccccccc}a^{1}_{0} a^{0}_{1} + a^{10}_{0} a^{0}_{10} + a^{11}_{0} a^{0}_{11} + a^{12}_{0} a^{0}_{12} + a^{13}_{0} a^{0}_{13} + a^{14}_{0} a^{0}_{14} + a^{15}_{0} a^{0}_{15} + a^{2}_{0} a^{0}_{2} + a^{3}_{0} a^{0}_{3} + a^{4}_{0} a^{0}_{4} + a^{5}_{0} a^{0}_{5} + a^{6}_{0} a^{0}_{6} + a^{7}_{0} a^{0}_{7} + a^{8}_{0} a^{0}_{8} + a^{9}_{0} a^{0}_{9} & a^{10}_{0} a^{1}_{10} + a^{11}_{0} a^{1}_{11} + a^{12}_{0} a^{1}_{12} + a^{13}_{0} a^{1}_{13} + a^{14}_{0} a^{1}_{14} + a^{15}_{0} a^{1}_{15} + a^{2}_{0} a^{1}_{2} + a^{3}_{0} a^{1}_{3} + a^{4}_{0} a^{1}_{4} + a^{5}_{0} a^{1}_{5} + a^{6}_{0} a^{1}_{6} + a^{7}_{0} a^{1}_{7} + a^{8}_{0} a^{1}_{8} + a^{9}_{0} a^{1}_{9} & a^{1}_{0} a^{2}_{1} + a^{10}_{0} a^{2}_{10} + a^{11}_{0} a^{2}_{11} + a^{12}_{0} a^{2}_{12} + a^{13}_{0} a^{2}_{13} + a^{14}_{0} a^{2}_{14} + a^{15}_{0} a^{2}_{15} + a^{3}_{0} a^{2}_{3} + a^{4}_{0} a^{2}_{4} + a^{5}_{0} a^{2}_{5} + a^{6}_{0} a^{2}_{6} + a^{7}_{0} a^{2}_{7} + a^{8}_{0} a^{2}_{8} + a^{9}_{0} a^{2}_{9} & a^{1}_{0} a^{3}_{1} + a^{10}_{0} a^{3}_{10} + a^{11}_{0} a^{3}_{11} + a^{12}_{0} a^{3}_{12} + a^{13}_{0} a^{3}_{13} + a^{14}_{0} a^{3}_{14} + a^{15}_{0} a^{3}_{15} + a^{2}_{0} a^{3}_{2} + a^{4}_{0} a^{3}_{4} + a^{5}_{0} a^{3}_{5} + a^{6}_{0} a^{3}_{6} + a^{7}_{0} a^{3}_{7} + a^{8}_{0} a^{3}_{8} + a^{9}_{0} a^{3}_{9} & a^{1}_{0} a^{4}_{1} + a^{10}_{0} a^{4}_{10} + a^{11}_{0} a^{4}_{11} + a^{12}_{0} a^{4}_{12} + a^{13}_{0} a^{4}_{13} + a^{14}_{0} a^{4}_{14} + a^{15}_{0} a^{4}_{15} + a^{2}_{0} a^{4}_{2} + a^{3}_{0} a^{4}_{3} + a^{5}_{0} a^{4}_{5} + a^{6}_{0} a^{4}_{6} + a^{7}_{0} a^{4}_{7} + a^{8}_{0} a^{4}_{8} + a^{9}_{0} a^{4}_{9} & a^{1}_{0} a^{5}_{1} + a^{10}_{0} a^{5}_{10} + a^{11}_{0} a^{5}_{11} + a^{12}_{0} a^{5}_{12} + a^{13}_{0} a^{5}_{13} + a^{14}_{0} a^{5}_{14} + a^{15}_{0} a^{5}_{15} + a^{2}_{0} a^{5}_{2} + a^{3}_{0} a^{5}_{3} + a^{4}_{0} a^{5}_{4} + a^{6}_{0} a^{5}_{6} + a^{7}_{0} a^{5}_{7} + a^{8}_{0} a^{5}_{8} + a^{9}_{0} a^{5}_{9} & a^{1}_{0} a^{6}_{1} + a^{10}_{0} a^{6}_{10} + a^{11}_{0} a^{6}_{11} + a^{12}_{0} a^{6}_{12} + a^{13}_{0} a^{6}_{13} + a^{14}_{0} a^{6}_{14} + a^{15}_{0} a^{6}_{15} + a^{2}_{0} a^{6}_{2} + a^{3}_{0} a^{6}_{3} + a^{4}_{0} a^{6}_{4} + a^{5}_{0} a^{6}_{5} + a^{7}_{0} a^{6}_{7} + a^{8}_{0} a^{6}_{8} + a^{9}_{0} a^{6}_{9} & a^{1}_{0} a^{7}_{1} + a^{10}_{0} a^{7}_{10} + a^{11}_{0} a^{7}_{11} + a^{12}_{0} a^{7}_{12} + a^{13}_{0} a^{7}_{13} + a^{14}_{0} a^{7}_{14} + a^{15}_{0} a^{7}_{15} + a^{2}_{0} a^{7}_{2} + a^{3}_{0} a^{7}_{3} + a^{4}_{0} a^{7}_{4} + a^{5}_{0} a^{7}_{5} + a^{6}_{0} a^{7}_{6} + a^{8}_{0} a^{7}_{8} + a^{9}_{0} a^{7}_{9} & a^{1}_{0} a^{8}_{1} + a^{10}_{0} a^{8}_{10} + a^{11}_{0} a^{8}_{11} + a^{12}_{0} a^{8}_{12} + a^{13}_{0} a^{8}_{13} + a^{14}_{0} a^{8}_{14} + a^{15}_{0} a^{8}_{15} + a^{2}_{0} a^{8}_{2} + a^{3}_{0} a^{8}_{3} + a^{4}_{0} a^{8}_{4} + a^{5}_{0} a^{8}_{5} + a^{6}_{0} a^{8}_{6} + a^{7}_{0} a^{8}_{7} + a^{9}_{0} a^{8}_{9} & a^{1}_{0} a^{9}_{1} + a^{10}_{0} a^{9}_{10} + a^{11}_{0} a^{9}_{11} + a^{12}_{0} a^{9}_{12} + a^{13}_{0} a^{9}_{13} + a^{14}_{0} a^{9}_{14} + a^{15}_{0} a^{9}_{15} + a^{2}_{0} a^{9}_{2} + a^{3}_{0} a^{9}_{3} + a^{4}_{0} a^{9}_{4} + a^{5}_{0} a^{9}_{5} + a^{6}_{0} a^{9}_{6} + a^{7}_{0} a^{9}_{7} + a^{8}_{0} a^{9}_{8} & a^{1}_{0} a^{10}_{1} + a^{11}_{0} a^{10}_{11} + a^{12}_{0} a^{10}_{12} + a^{13}_{0} a^{10}_{13} + a^{14}_{0} a^{10}_{14} + a^{15}_{0} a^{10}_{15} + a^{2}_{0} a^{10}_{2} + a^{3}_{0} a^{10}_{3} + a^{4}_{0} a^{10}_{4} + a^{5}_{0} a^{10}_{5} + a^{6}_{0} a^{10}_{6} + a^{7}_{0} a^{10}_{7} + a^{8}_{0} a^{10}_{8} + a^{9}_{0} a^{10}_{9} & a^{1}_{0} a^{11}_{1} + a^{10}_{0} a^{11}_{10} + a^{12}_{0} a^{11}_{12} + a^{13}_{0} a^{11}_{13} + a^{14}_{0} a^{11}_{14} + a^{15}_{0} a^{11}_{15} + a^{2}_{0} a^{11}_{2} + a^{3}_{0} a^{11}_{3} + a^{4}_{0} a^{11}_{4} + a^{5}_{0} a^{11}_{5} + a^{6}_{0} a^{11}_{6} + a^{7}_{0} a^{11}_{7} + a^{8}_{0} a^{11}_{8} + a^{9}_{0} a^{11}_{9} & a^{1}_{0} a^{12}_{1} + a^{10}_{0} a^{12}_{10} + a^{11}_{0} a^{12}_{11} + a^{13}_{0} a^{12}_{13} + a^{14}_{0} a^{12}_{14} + a^{15}_{0} a^{12}_{15} + a^{2}_{0} a^{12}_{2} + a^{3}_{0} a^{12}_{3} + a^{4}_{0} a^{12}_{4} + a^{5}_{0} a^{12}_{5} + a^{6}_{0} a^{12}_{6} + a^{7}_{0} a^{12}_{7} + a^{8}_{0} a^{12}_{8} + a^{9}_{0} a^{12}_{9} & a^{1}_{0} a^{13}_{1} + a^{10}_{0} a^{13}_{10} + a^{11}_{0} a^{13}_{11} + a^{12}_{0} a^{13}_{12} + a^{14}_{0} a^{13}_{14} + a^{15}_{0} a^{13}_{15} + a^{2}_{0} a^{13}_{2} + a^{3}_{0} a^{13}_{3} + a^{4}_{0} a^{13}_{4} + a^{5}_{0} a^{13}_{5} + a^{6}_{0} a^{13}_{6} + a^{7}_{0} a^{13}_{7} + a^{8}_{0} a^{13}_{8} + a^{9}_{0} a^{13}_{9} & a^{1}_{0} a^{14}_{1} + a^{10}_{0} a^{14}_{10} + a^{11}_{0} a^{14}_{11} + a^{12}_{0} a^{14}_{12} + a^{13}_{0} a^{14}_{13} + a^{15}_{0} a^{14}_{15} + a^{2}_{0} a^{14}_{2} + a^{3}_{0} a^{14}_{3} + a^{4}_{0} a^{14}_{4} + a^{5}_{0} a^{14}_{5} + a^{6}_{0} a^{14}_{6} + a^{7}_{0} a^{14}_{7} + a^{8}_{0} a^{14}_{8} + a^{9}_{0} a^{14}_{9} & a^{1}_{0} a^{15}_{1} + a^{10}_{0} a^{15}_{10} + a^{11}_{0} a^{15}_{11} + a^{12}_{0} a^{15}_{12} + a^{13}_{0} a^{15}_{13} + a^{14}_{0} a^{15}_{14} + a^{2}_{0} a^{15}_{2} + a^{3}_{0} a^{15}_{3} + a^{4}_{0} a^{15}_{4} + a^{5}_{0} a^{15}_{5} + a^{6}_{0} a^{15}_{6} + a^{7}_{0} a^{15}_{7} + a^{8}_{0} a^{15}_{8} + a^{9}_{0} a^{15}_{9}\\\\a^{0}_{10} a^{10}_{1} + a^{0}_{11} a^{11}_{1} + a^{0}_{12} a^{12}_{1} + a^{0}_{13} a^{13}_{1} + a^{0}_{14} a^{14}_{1} + a^{0}_{15} a^{15}_{1} + a^{2}_{1} a^{0}_{2} + a^{3}_{1} a^{0}_{3} + a^{4}_{1} a^{0}_{4} + a^{5}_{1} a^{0}_{5} + a^{6}_{1} a^{0}_{6} + a^{7}_{1} a^{0}_{7} + a^{8}_{1} a^{0}_{8} + a^{9}_{1} a^{0}_{9} & a^{1}_{0} a^{0}_{1} + a^{1}_{10} a^{10}_{1} + a^{1}_{11} a^{11}_{1} + a^{1}_{12} a^{12}_{1} + a^{1}_{13} a^{13}_{1} + a^{1}_{14} a^{14}_{1} + a^{1}_{15} a^{15}_{1} + a^{2}_{1} a^{1}_{2} + a^{3}_{1} a^{1}_{3} + a^{4}_{1} a^{1}_{4} + a^{5}_{1} a^{1}_{5} + a^{6}_{1} a^{1}_{6} + a^{7}_{1} a^{1}_{7} + a^{8}_{1} a^{1}_{8} + a^{9}_{1} a^{1}_{9} & a^{2}_{0} a^{0}_{1} + a^{2}_{10} a^{10}_{1} + a^{2}_{11} a^{11}_{1} + a^{2}_{12} a^{12}_{1} + a^{2}_{13} a^{13}_{1} + a^{2}_{14} a^{14}_{1} + a^{2}_{15} a^{15}_{1} + a^{3}_{1} a^{2}_{3} + a^{4}_{1} a^{2}_{4} + a^{5}_{1} a^{2}_{5} + a^{6}_{1} a^{2}_{6} + a^{7}_{1} a^{2}_{7} + a^{8}_{1} a^{2}_{8} + a^{9}_{1} a^{2}_{9} & a^{3}_{0} a^{0}_{1} + a^{3}_{10} a^{10}_{1} + a^{3}_{11} a^{11}_{1} + a^{3}_{12} a^{12}_{1} + a^{3}_{13} a^{13}_{1} + a^{3}_{14} a^{14}_{1} + a^{3}_{15} a^{15}_{1} + a^{2}_{1} a^{3}_{2} + a^{4}_{1} a^{3}_{4} + a^{5}_{1} a^{3}_{5} + a^{6}_{1} a^{3}_{6} + a^{7}_{1} a^{3}_{7} + a^{8}_{1} a^{3}_{8} + a^{9}_{1} a^{3}_{9} & a^{4}_{0} a^{0}_{1} + a^{4}_{10} a^{10}_{1} + a^{4}_{11} a^{11}_{1} + a^{4}_{12} a^{12}_{1} + a^{4}_{13} a^{13}_{1} + a^{4}_{14} a^{14}_{1} + a^{4}_{15} a^{15}_{1} + a^{2}_{1} a^{4}_{2} + a^{3}_{1} a^{4}_{3} + a^{5}_{1} a^{4}_{5} + a^{6}_{1} a^{4}_{6} + a^{7}_{1} a^{4}_{7} + a^{8}_{1} a^{4}_{8} + a^{9}_{1} a^{4}_{9} & a^{5}_{0} a^{0}_{1} + a^{5}_{10} a^{10}_{1} + a^{5}_{11} a^{11}_{1} + a^{5}_{12} a^{12}_{1} + a^{5}_{13} a^{13}_{1} + a^{5}_{14} a^{14}_{1} + a^{5}_{15} a^{15}_{1} + a^{2}_{1} a^{5}_{2} + a^{3}_{1} a^{5}_{3} + a^{4}_{1} a^{5}_{4} + a^{6}_{1} a^{5}_{6} + a^{7}_{1} a^{5}_{7} + a^{8}_{1} a^{5}_{8} + a^{9}_{1} a^{5}_{9} & a^{6}_{0} a^{0}_{1} + a^{6}_{10} a^{10}_{1} + a^{6}_{11} a^{11}_{1} + a^{6}_{12} a^{12}_{1} + a^{6}_{13} a^{13}_{1} + a^{6}_{14} a^{14}_{1} + a^{6}_{15} a^{15}_{1} + a^{2}_{1} a^{6}_{2} + a^{3}_{1} a^{6}_{3} + a^{4}_{1} a^{6}_{4} + a^{5}_{1} a^{6}_{5} + a^{7}_{1} a^{6}_{7} + a^{8}_{1} a^{6}_{8} + a^{9}_{1} a^{6}_{9} & a^{7}_{0} a^{0}_{1} + a^{7}_{10} a^{10}_{1} + a^{7}_{11} a^{11}_{1} + a^{7}_{12} a^{12}_{1} + a^{7}_{13} a^{13}_{1} + a^{7}_{14} a^{14}_{1} + a^{7}_{15} a^{15}_{1} + a^{2}_{1} a^{7}_{2} + a^{3}_{1} a^{7}_{3} + a^{4}_{1} a^{7}_{4} + a^{5}_{1} a^{7}_{5} + a^{6}_{1} a^{7}_{6} + a^{8}_{1} a^{7}_{8} + a^{9}_{1} a^{7}_{9} & a^{8}_{0} a^{0}_{1} + a^{8}_{10} a^{10}_{1} + a^{8}_{11} a^{11}_{1} + a^{8}_{12} a^{12}_{1} + a^{8}_{13} a^{13}_{1} + a^{8}_{14} a^{14}_{1} + a^{8}_{15} a^{15}_{1} + a^{2}_{1} a^{8}_{2} + a^{3}_{1} a^{8}_{3} + a^{4}_{1} a^{8}_{4} + a^{5}_{1} a^{8}_{5} + a^{6}_{1} a^{8}_{6} + a^{7}_{1} a^{8}_{7} + a^{9}_{1} a^{8}_{9} & a^{9}_{0} a^{0}_{1} + a^{9}_{10} a^{10}_{1} + a^{9}_{11} a^{11}_{1} + a^{9}_{12} a^{12}_{1} + a^{9}_{13} a^{13}_{1} + a^{9}_{14} a^{14}_{1} + a^{9}_{15} a^{15}_{1} + a^{2}_{1} a^{9}_{2} + a^{3}_{1} a^{9}_{3} + a^{4}_{1} a^{9}_{4} + a^{5}_{1} a^{9}_{5} + a^{6}_{1} a^{9}_{6} + a^{7}_{1} a^{9}_{7} + a^{8}_{1} a^{9}_{8} & a^{10}_{0} a^{0}_{1} + a^{10}_{11} a^{11}_{1} + a^{10}_{12} a^{12}_{1} + a^{10}_{13} a^{13}_{1} + a^{10}_{14} a^{14}_{1} + a^{10}_{15} a^{15}_{1} + a^{2}_{1} a^{10}_{2} + a^{3}_{1} a^{10}_{3} + a^{4}_{1} a^{10}_{4} + a^{5}_{1} a^{10}_{5} + a^{6}_{1} a^{10}_{6} + a^{7}_{1} a^{10}_{7} + a^{8}_{1} a^{10}_{8} + a^{9}_{1} a^{10}_{9} & a^{11}_{0} a^{0}_{1} + a^{11}_{10} a^{10}_{1} + a^{11}_{12} a^{12}_{1} + a^{11}_{13} a^{13}_{1} + a^{11}_{14} a^{14}_{1} + a^{11}_{15} a^{15}_{1} + a^{2}_{1} a^{11}_{2} + a^{3}_{1} a^{11}_{3} + a^{4}_{1} a^{11}_{4} + a^{5}_{1} a^{11}_{5} + a^{6}_{1} a^{11}_{6} + a^{7}_{1} a^{11}_{7} + a^{8}_{1} a^{11}_{8} + a^{9}_{1} a^{11}_{9} & a^{12}_{0} a^{0}_{1} + a^{12}_{10} a^{10}_{1} + a^{12}_{11} a^{11}_{1} + a^{12}_{13} a^{13}_{1} + a^{12}_{14} a^{14}_{1} + a^{12}_{15} a^{15}_{1} + a^{2}_{1} a^{12}_{2} + a^{3}_{1} a^{12}_{3} + a^{4}_{1} a^{12}_{4} + a^{5}_{1} a^{12}_{5} + a^{6}_{1} a^{12}_{6} + a^{7}_{1} a^{12}_{7} + a^{8}_{1} a^{12}_{8} + a^{9}_{1} a^{12}_{9} & a^{13}_{0} a^{0}_{1} + a^{13}_{10} a^{10}_{1} + a^{13}_{11} a^{11}_{1} + a^{13}_{12} a^{12}_{1} + a^{13}_{14} a^{14}_{1} + a^{13}_{15} a^{15}_{1} + a^{2}_{1} a^{13}_{2} + a^{3}_{1} a^{13}_{3} + a^{4}_{1} a^{13}_{4} + a^{5}_{1} a^{13}_{5} + a^{6}_{1} a^{13}_{6} + a^{7}_{1} a^{13}_{7} + a^{8}_{1} a^{13}_{8} + a^{9}_{1} a^{13}_{9} & a^{14}_{0} a^{0}_{1} + a^{14}_{10} a^{10}_{1} + a^{14}_{11} a^{11}_{1} + a^{14}_{12} a^{12}_{1} + a^{14}_{13} a^{13}_{1} + a^{14}_{15} a^{15}_{1} + a^{2}_{1} a^{14}_{2} + a^{3}_{1} a^{14}_{3} + a^{4}_{1} a^{14}_{4} + a^{5}_{1} a^{14}_{5} + a^{6}_{1} a^{14}_{6} + a^{7}_{1} a^{14}_{7} + a^{8}_{1} a^{14}_{8} + a^{9}_{1} a^{14}_{9} & a^{15}_{0} a^{0}_{1} + a^{15}_{10} a^{10}_{1} + a^{15}_{11} a^{11}_{1} + a^{15}_{12} a^{12}_{1} + a^{15}_{13} a^{13}_{1} + a^{15}_{14} a^{14}_{1} + a^{2}_{1} a^{15}_{2} + a^{3}_{1} a^{15}_{3} + a^{4}_{1} a^{15}_{4} + a^{5}_{1} a^{15}_{5} + a^{6}_{1} a^{15}_{6} + a^{7}_{1} a^{15}_{7} + a^{8}_{1} a^{15}_{8} + a^{9}_{1} a^{15}_{9}\\\\a^{0}_{10} a^{10}_{2} + a^{0}_{11} a^{11}_{2} + a^{0}_{12} a^{12}_{2} + a^{0}_{13} a^{13}_{2} + a^{0}_{14} a^{14}_{2} + a^{0}_{15} a^{15}_{2} + a^{0}_{1} a^{1}_{2} + a^{3}_{2} a^{0}_{3} + a^{4}_{2} a^{0}_{4} + a^{5}_{2} a^{0}_{5} + a^{6}_{2} a^{0}_{6} + a^{7}_{2} a^{0}_{7} + a^{8}_{2} a^{0}_{8} + a^{9}_{2} a^{0}_{9} & a^{1}_{0} a^{0}_{2} + a^{1}_{10} a^{10}_{2} + a^{1}_{11} a^{11}_{2} + a^{1}_{12} a^{12}_{2} + a^{1}_{13} a^{13}_{2} + a^{1}_{14} a^{14}_{2} + a^{1}_{15} a^{15}_{2} + a^{3}_{2} a^{1}_{3} + a^{4}_{2} a^{1}_{4} + a^{5}_{2} a^{1}_{5} + a^{6}_{2} a^{1}_{6} + a^{7}_{2} a^{1}_{7} + a^{8}_{2} a^{1}_{8} + a^{9}_{2} a^{1}_{9} & a^{2}_{0} a^{0}_{2} + a^{2}_{10} a^{10}_{2} + a^{2}_{11} a^{11}_{2} + a^{2}_{12} a^{12}_{2} + a^{2}_{13} a^{13}_{2} + a^{2}_{14} a^{14}_{2} + a^{2}_{15} a^{15}_{2} + a^{2}_{1} a^{1}_{2} + a^{3}_{2} a^{2}_{3} + a^{4}_{2} a^{2}_{4} + a^{5}_{2} a^{2}_{5} + a^{6}_{2} a^{2}_{6} + a^{7}_{2} a^{2}_{7} + a^{8}_{2} a^{2}_{8} + a^{9}_{2} a^{2}_{9} & a^{3}_{0} a^{0}_{2} + a^{3}_{10} a^{10}_{2} + a^{3}_{11} a^{11}_{2} + a^{3}_{12} a^{12}_{2} + a^{3}_{13} a^{13}_{2} + a^{3}_{14} a^{14}_{2} + a^{3}_{15} a^{15}_{2} + a^{3}_{1} a^{1}_{2} + a^{4}_{2} a^{3}_{4} + a^{5}_{2} a^{3}_{5} + a^{6}_{2} a^{3}_{6} + a^{7}_{2} a^{3}_{7} + a^{8}_{2} a^{3}_{8} + a^{9}_{2} a^{3}_{9} & a^{4}_{0} a^{0}_{2} + a^{4}_{10} a^{10}_{2} + a^{4}_{11} a^{11}_{2} + a^{4}_{12} a^{12}_{2} + a^{4}_{13} a^{13}_{2} + a^{4}_{14} a^{14}_{2} + a^{4}_{15} a^{15}_{2} + a^{4}_{1} a^{1}_{2} + a^{3}_{2} a^{4}_{3} + a^{5}_{2} a^{4}_{5} + a^{6}_{2} a^{4}_{6} + a^{7}_{2} a^{4}_{7} + a^{8}_{2} a^{4}_{8} + a^{9}_{2} a^{4}_{9} & a^{5}_{0} a^{0}_{2} + a^{5}_{10} a^{10}_{2} + a^{5}_{11} a^{11}_{2} + a^{5}_{12} a^{12}_{2} + a^{5}_{13} a^{13}_{2} + a^{5}_{14} a^{14}_{2} + a^{5}_{15} a^{15}_{2} + a^{5}_{1} a^{1}_{2} + a^{3}_{2} a^{5}_{3} + a^{4}_{2} a^{5}_{4} + a^{6}_{2} a^{5}_{6} + a^{7}_{2} a^{5}_{7} + a^{8}_{2} a^{5}_{8} + a^{9}_{2} a^{5}_{9} & a^{6}_{0} a^{0}_{2} + a^{6}_{10} a^{10}_{2} + a^{6}_{11} a^{11}_{2} + a^{6}_{12} a^{12}_{2} + a^{6}_{13} a^{13}_{2} + a^{6}_{14} a^{14}_{2} + a^{6}_{15} a^{15}_{2} + a^{6}_{1} a^{1}_{2} + a^{3}_{2} a^{6}_{3} + a^{4}_{2} a^{6}_{4} + a^{5}_{2} a^{6}_{5} + a^{7}_{2} a^{6}_{7} + a^{8}_{2} a^{6}_{8} + a^{9}_{2} a^{6}_{9} & a^{7}_{0} a^{0}_{2} + a^{7}_{10} a^{10}_{2} + a^{7}_{11} a^{11}_{2} + a^{7}_{12} a^{12}_{2} + a^{7}_{13} a^{13}_{2} + a^{7}_{14} a^{14}_{2} + a^{7}_{15} a^{15}_{2} + a^{7}_{1} a^{1}_{2} + a^{3}_{2} a^{7}_{3} + a^{4}_{2} a^{7}_{4} + a^{5}_{2} a^{7}_{5} + a^{6}_{2} a^{7}_{6} + a^{8}_{2} a^{7}_{8} + a^{9}_{2} a^{7}_{9} & a^{8}_{0} a^{0}_{2} + a^{8}_{10} a^{10}_{2} + a^{8}_{11} a^{11}_{2} + a^{8}_{12} a^{12}_{2} + a^{8}_{13} a^{13}_{2} + a^{8}_{14} a^{14}_{2} + a^{8}_{15} a^{15}_{2} + a^{8}_{1} a^{1}_{2} + a^{3}_{2} a^{8}_{3} + a^{4}_{2} a^{8}_{4} + a^{5}_{2} a^{8}_{5} + a^{6}_{2} a^{8}_{6} + a^{7}_{2} a^{8}_{7} + a^{9}_{2} a^{8}_{9} & a^{9}_{0} a^{0}_{2} + a^{9}_{10} a^{10}_{2} + a^{9}_{11} a^{11}_{2} + a^{9}_{12} a^{12}_{2} + a^{9}_{13} a^{13}_{2} + a^{9}_{14} a^{14}_{2} + a^{9}_{15} a^{15}_{2} + a^{9}_{1} a^{1}_{2} + a^{3}_{2} a^{9}_{3} + a^{4}_{2} a^{9}_{4} + a^{5}_{2} a^{9}_{5} + a^{6}_{2} a^{9}_{6} + a^{7}_{2} a^{9}_{7} + a^{8}_{2} a^{9}_{8} & a^{10}_{0} a^{0}_{2} + a^{10}_{11} a^{11}_{2} + a^{10}_{12} a^{12}_{2} + a^{10}_{13} a^{13}_{2} + a^{10}_{14} a^{14}_{2} + a^{10}_{15} a^{15}_{2} + a^{10}_{1} a^{1}_{2} + a^{3}_{2} a^{10}_{3} + a^{4}_{2} a^{10}_{4} + a^{5}_{2} a^{10}_{5} + a^{6}_{2} a^{10}_{6} + a^{7}_{2} a^{10}_{7} + a^{8}_{2} a^{10}_{8} + a^{9}_{2} a^{10}_{9} & a^{11}_{0} a^{0}_{2} + a^{11}_{10} a^{10}_{2} + a^{11}_{12} a^{12}_{2} + a^{11}_{13} a^{13}_{2} + a^{11}_{14} a^{14}_{2} + a^{11}_{15} a^{15}_{2} + a^{11}_{1} a^{1}_{2} + a^{3}_{2} a^{11}_{3} + a^{4}_{2} a^{11}_{4} + a^{5}_{2} a^{11}_{5} + a^{6}_{2} a^{11}_{6} + a^{7}_{2} a^{11}_{7} + a^{8}_{2} a^{11}_{8} + a^{9}_{2} a^{11}_{9} & a^{12}_{0} a^{0}_{2} + a^{12}_{10} a^{10}_{2} + a^{12}_{11} a^{11}_{2} + a^{12}_{13} a^{13}_{2} + a^{12}_{14} a^{14}_{2} + a^{12}_{15} a^{15}_{2} + a^{12}_{1} a^{1}_{2} + a^{3}_{2} a^{12}_{3} + a^{4}_{2} a^{12}_{4} + a^{5}_{2} a^{12}_{5} + a^{6}_{2} a^{12}_{6} + a^{7}_{2} a^{12}_{7} + a^{8}_{2} a^{12}_{8} + a^{9}_{2} a^{12}_{9} & a^{13}_{0} a^{0}_{2} + a^{13}_{10} a^{10}_{2} + a^{13}_{11} a^{11}_{2} + a^{13}_{12} a^{12}_{2} + a^{13}_{14} a^{14}_{2} + a^{13}_{15} a^{15}_{2} + a^{13}_{1} a^{1}_{2} + a^{3}_{2} a^{13}_{3} + a^{4}_{2} a^{13}_{4} + a^{5}_{2} a^{13}_{5} + a^{6}_{2} a^{13}_{6} + a^{7}_{2} a^{13}_{7} + a^{8}_{2} a^{13}_{8} + a^{9}_{2} a^{13}_{9} & a^{14}_{0} a^{0}_{2} + a^{14}_{10} a^{10}_{2} + a^{14}_{11} a^{11}_{2} + a^{14}_{12} a^{12}_{2} + a^{14}_{13} a^{13}_{2} + a^{14}_{15} a^{15}_{2} + a^{14}_{1} a^{1}_{2} + a^{3}_{2} a^{14}_{3} + a^{4}_{2} a^{14}_{4} + a^{5}_{2} a^{14}_{5} + a^{6}_{2} a^{14}_{6} + a^{7}_{2} a^{14}_{7} + a^{8}_{2} a^{14}_{8} + a^{9}_{2} a^{14}_{9} & a^{15}_{0} a^{0}_{2} + a^{15}_{10} a^{10}_{2} + a^{15}_{11} a^{11}_{2} + a^{15}_{12} a^{12}_{2} + a^{15}_{13} a^{13}_{2} + a^{15}_{14} a^{14}_{2} + a^{15}_{1} a^{1}_{2} + a^{3}_{2} a^{15}_{3} + a^{4}_{2} a^{15}_{4} + a^{5}_{2} a^{15}_{5} + a^{6}_{2} a^{15}_{6} + a^{7}_{2} a^{15}_{7} + a^{8}_{2} a^{15}_{8} + a^{9}_{2} a^{15}_{9}\\\\a^{0}_{10} a^{10}_{3} + a^{0}_{11} a^{11}_{3} + a^{0}_{12} a^{12}_{3} + a^{0}_{13} a^{13}_{3} + a^{0}_{14} a^{14}_{3} + a^{0}_{15} a^{15}_{3} + a^{0}_{1} a^{1}_{3} + a^{0}_{2} a^{2}_{3} + a^{4}_{3} a^{0}_{4} + a^{5}_{3} a^{0}_{5} + a^{6}_{3} a^{0}_{6} + a^{7}_{3} a^{0}_{7} + a^{8}_{3} a^{0}_{8} + a^{9}_{3} a^{0}_{9} & a^{1}_{0} a^{0}_{3} + a^{1}_{10} a^{10}_{3} + a^{1}_{11} a^{11}_{3} + a^{1}_{12} a^{12}_{3} + a^{1}_{13} a^{13}_{3} + a^{1}_{14} a^{14}_{3} + a^{1}_{15} a^{15}_{3} + a^{1}_{2} a^{2}_{3} + a^{4}_{3} a^{1}_{4} + a^{5}_{3} a^{1}_{5} + a^{6}_{3} a^{1}_{6} + a^{7}_{3} a^{1}_{7} + a^{8}_{3} a^{1}_{8} + a^{9}_{3} a^{1}_{9} & a^{2}_{0} a^{0}_{3} + a^{2}_{10} a^{10}_{3} + a^{2}_{11} a^{11}_{3} + a^{2}_{12} a^{12}_{3} + a^{2}_{13} a^{13}_{3} + a^{2}_{14} a^{14}_{3} + a^{2}_{15} a^{15}_{3} + a^{2}_{1} a^{1}_{3} + a^{4}_{3} a^{2}_{4} + a^{5}_{3} a^{2}_{5} + a^{6}_{3} a^{2}_{6} + a^{7}_{3} a^{2}_{7} + a^{8}_{3} a^{2}_{8} + a^{9}_{3} a^{2}_{9} & a^{3}_{0} a^{0}_{3} + a^{3}_{10} a^{10}_{3} + a^{3}_{11} a^{11}_{3} + a^{3}_{12} a^{12}_{3} + a^{3}_{13} a^{13}_{3} + a^{3}_{14} a^{14}_{3} + a^{3}_{15} a^{15}_{3} + a^{3}_{1} a^{1}_{3} + a^{3}_{2} a^{2}_{3} + a^{4}_{3} a^{3}_{4} + a^{5}_{3} a^{3}_{5} + a^{6}_{3} a^{3}_{6} + a^{7}_{3} a^{3}_{7} + a^{8}_{3} a^{3}_{8} + a^{9}_{3} a^{3}_{9} & a^{4}_{0} a^{0}_{3} + a^{4}_{10} a^{10}_{3} + a^{4}_{11} a^{11}_{3} + a^{4}_{12} a^{12}_{3} + a^{4}_{13} a^{13}_{3} + a^{4}_{14} a^{14}_{3} + a^{4}_{15} a^{15}_{3} + a^{4}_{1} a^{1}_{3} + a^{4}_{2} a^{2}_{3} + a^{5}_{3} a^{4}_{5} + a^{6}_{3} a^{4}_{6} + a^{7}_{3} a^{4}_{7} + a^{8}_{3} a^{4}_{8} + a^{9}_{3} a^{4}_{9} & a^{5}_{0} a^{0}_{3} + a^{5}_{10} a^{10}_{3} + a^{5}_{11} a^{11}_{3} + a^{5}_{12} a^{12}_{3} + a^{5}_{13} a^{13}_{3} + a^{5}_{14} a^{14}_{3} + a^{5}_{15} a^{15}_{3} + a^{5}_{1} a^{1}_{3} + a^{5}_{2} a^{2}_{3} + a^{4}_{3} a^{5}_{4} + a^{6}_{3} a^{5}_{6} + a^{7}_{3} a^{5}_{7} + a^{8}_{3} a^{5}_{8} + a^{9}_{3} a^{5}_{9} & a^{6}_{0} a^{0}_{3} + a^{6}_{10} a^{10}_{3} + a^{6}_{11} a^{11}_{3} + a^{6}_{12} a^{12}_{3} + a^{6}_{13} a^{13}_{3} + a^{6}_{14} a^{14}_{3} + a^{6}_{15} a^{15}_{3} + a^{6}_{1} a^{1}_{3} + a^{6}_{2} a^{2}_{3} + a^{4}_{3} a^{6}_{4} + a^{5}_{3} a^{6}_{5} + a^{7}_{3} a^{6}_{7} + a^{8}_{3} a^{6}_{8} + a^{9}_{3} a^{6}_{9} & a^{7}_{0} a^{0}_{3} + a^{7}_{10} a^{10}_{3} + a^{7}_{11} a^{11}_{3} + a^{7}_{12} a^{12}_{3} + a^{7}_{13} a^{13}_{3} + a^{7}_{14} a^{14}_{3} + a^{7}_{15} a^{15}_{3} + a^{7}_{1} a^{1}_{3} + a^{7}_{2} a^{2}_{3} + a^{4}_{3} a^{7}_{4} + a^{5}_{3} a^{7}_{5} + a^{6}_{3} a^{7}_{6} + a^{8}_{3} a^{7}_{8} + a^{9}_{3} a^{7}_{9} & a^{8}_{0} a^{0}_{3} + a^{8}_{10} a^{10}_{3} + a^{8}_{11} a^{11}_{3} + a^{8}_{12} a^{12}_{3} + a^{8}_{13} a^{13}_{3} + a^{8}_{14} a^{14}_{3} + a^{8}_{15} a^{15}_{3} + a^{8}_{1} a^{1}_{3} + a^{8}_{2} a^{2}_{3} + a^{4}_{3} a^{8}_{4} + a^{5}_{3} a^{8}_{5} + a^{6}_{3} a^{8}_{6} + a^{7}_{3} a^{8}_{7} + a^{9}_{3} a^{8}_{9} & a^{9}_{0} a^{0}_{3} + a^{9}_{10} a^{10}_{3} + a^{9}_{11} a^{11}_{3} + a^{9}_{12} a^{12}_{3} + a^{9}_{13} a^{13}_{3} + a^{9}_{14} a^{14}_{3} + a^{9}_{15} a^{15}_{3} + a^{9}_{1} a^{1}_{3} + a^{9}_{2} a^{2}_{3} + a^{4}_{3} a^{9}_{4} + a^{5}_{3} a^{9}_{5} + a^{6}_{3} a^{9}_{6} + a^{7}_{3} a^{9}_{7} + a^{8}_{3} a^{9}_{8} & a^{10}_{0} a^{0}_{3} + a^{10}_{11} a^{11}_{3} + a^{10}_{12} a^{12}_{3} + a^{10}_{13} a^{13}_{3} + a^{10}_{14} a^{14}_{3} + a^{10}_{15} a^{15}_{3} + a^{10}_{1} a^{1}_{3} + a^{10}_{2} a^{2}_{3} + a^{4}_{3} a^{10}_{4} + a^{5}_{3} a^{10}_{5} + a^{6}_{3} a^{10}_{6} + a^{7}_{3} a^{10}_{7} + a^{8}_{3} a^{10}_{8} + a^{9}_{3} a^{10}_{9} & a^{11}_{0} a^{0}_{3} + a^{11}_{10} a^{10}_{3} + a^{11}_{12} a^{12}_{3} + a^{11}_{13} a^{13}_{3} + a^{11}_{14} a^{14}_{3} + a^{11}_{15} a^{15}_{3} + a^{11}_{1} a^{1}_{3} + a^{11}_{2} a^{2}_{3} + a^{4}_{3} a^{11}_{4} + a^{5}_{3} a^{11}_{5} + a^{6}_{3} a^{11}_{6} + a^{7}_{3} a^{11}_{7} + a^{8}_{3} a^{11}_{8} + a^{9}_{3} a^{11}_{9} & a^{12}_{0} a^{0}_{3} + a^{12}_{10} a^{10}_{3} + a^{12}_{11} a^{11}_{3} + a^{12}_{13} a^{13}_{3} + a^{12}_{14} a^{14}_{3} + a^{12}_{15} a^{15}_{3} + a^{12}_{1} a^{1}_{3} + a^{12}_{2} a^{2}_{3} + a^{4}_{3} a^{12}_{4} + a^{5}_{3} a^{12}_{5} + a^{6}_{3} a^{12}_{6} + a^{7}_{3} a^{12}_{7} + a^{8}_{3} a^{12}_{8} + a^{9}_{3} a^{12}_{9} & a^{13}_{0} a^{0}_{3} + a^{13}_{10} a^{10}_{3} + a^{13}_{11} a^{11}_{3} + a^{13}_{12} a^{12}_{3} + a^{13}_{14} a^{14}_{3} + a^{13}_{15} a^{15}_{3} + a^{13}_{1} a^{1}_{3} + a^{13}_{2} a^{2}_{3} + a^{4}_{3} a^{13}_{4} + a^{5}_{3} a^{13}_{5} + a^{6}_{3} a^{13}_{6} + a^{7}_{3} a^{13}_{7} + a^{8}_{3} a^{13}_{8} + a^{9}_{3} a^{13}_{9} & a^{14}_{0} a^{0}_{3} + a^{14}_{10} a^{10}_{3} + a^{14}_{11} a^{11}_{3} + a^{14}_{12} a^{12}_{3} + a^{14}_{13} a^{13}_{3} + a^{14}_{15} a^{15}_{3} + a^{14}_{1} a^{1}_{3} + a^{14}_{2} a^{2}_{3} + a^{4}_{3} a^{14}_{4} + a^{5}_{3} a^{14}_{5} + a^{6}_{3} a^{14}_{6} + a^{7}_{3} a^{14}_{7} + a^{8}_{3} a^{14}_{8} + a^{9}_{3} a^{14}_{9} & a^{15}_{0} a^{0}_{3} + a^{15}_{10} a^{10}_{3} + a^{15}_{11} a^{11}_{3} + a^{15}_{12} a^{12}_{3} + a^{15}_{13} a^{13}_{3} + a^{15}_{14} a^{14}_{3} + a^{15}_{1} a^{1}_{3} + a^{15}_{2} a^{2}_{3} + a^{4}_{3} a^{15}_{4} + a^{5}_{3} a^{15}_{5} + a^{6}_{3} a^{15}_{6} + a^{7}_{3} a^{15}_{7} + a^{8}_{3} a^{15}_{8} + a^{9}_{3} a^{15}_{9}\\\\a^{0}_{10} a^{10}_{4} + a^{0}_{11} a^{11}_{4} + a^{0}_{12} a^{12}_{4} + a^{0}_{13} a^{13}_{4} + a^{0}_{14} a^{14}_{4} + a^{0}_{15} a^{15}_{4} + a^{0}_{1} a^{1}_{4} + a^{0}_{2} a^{2}_{4} + a^{0}_{3} a^{3}_{4} + a^{5}_{4} a^{0}_{5} + a^{6}_{4} a^{0}_{6} + a^{7}_{4} a^{0}_{7} + a^{8}_{4} a^{0}_{8} + a^{9}_{4} a^{0}_{9} & a^{1}_{0} a^{0}_{4} + a^{1}_{10} a^{10}_{4} + a^{1}_{11} a^{11}_{4} + a^{1}_{12} a^{12}_{4} + a^{1}_{13} a^{13}_{4} + a^{1}_{14} a^{14}_{4} + a^{1}_{15} a^{15}_{4} + a^{1}_{2} a^{2}_{4} + a^{1}_{3} a^{3}_{4} + a^{5}_{4} a^{1}_{5} + a^{6}_{4} a^{1}_{6} + a^{7}_{4} a^{1}_{7} + a^{8}_{4} a^{1}_{8} + a^{9}_{4} a^{1}_{9} & a^{2}_{0} a^{0}_{4} + a^{2}_{10} a^{10}_{4} + a^{2}_{11} a^{11}_{4} + a^{2}_{12} a^{12}_{4} + a^{2}_{13} a^{13}_{4} + a^{2}_{14} a^{14}_{4} + a^{2}_{15} a^{15}_{4} + a^{2}_{1} a^{1}_{4} + a^{2}_{3} a^{3}_{4} + a^{5}_{4} a^{2}_{5} + a^{6}_{4} a^{2}_{6} + a^{7}_{4} a^{2}_{7} + a^{8}_{4} a^{2}_{8} + a^{9}_{4} a^{2}_{9} & a^{3}_{0} a^{0}_{4} + a^{3}_{10} a^{10}_{4} + a^{3}_{11} a^{11}_{4} + a^{3}_{12} a^{12}_{4} + a^{3}_{13} a^{13}_{4} + a^{3}_{14} a^{14}_{4} + a^{3}_{15} a^{15}_{4} + a^{3}_{1} a^{1}_{4} + a^{3}_{2} a^{2}_{4} + a^{5}_{4} a^{3}_{5} + a^{6}_{4} a^{3}_{6} + a^{7}_{4} a^{3}_{7} + a^{8}_{4} a^{3}_{8} + a^{9}_{4} a^{3}_{9} & a^{4}_{0} a^{0}_{4} + a^{4}_{10} a^{10}_{4} + a^{4}_{11} a^{11}_{4} + a^{4}_{12} a^{12}_{4} + a^{4}_{13} a^{13}_{4} + a^{4}_{14} a^{14}_{4} + a^{4}_{15} a^{15}_{4} + a^{4}_{1} a^{1}_{4} + a^{4}_{2} a^{2}_{4} + a^{4}_{3} a^{3}_{4} + a^{5}_{4} a^{4}_{5} + a^{6}_{4} a^{4}_{6} + a^{7}_{4} a^{4}_{7} + a^{8}_{4} a^{4}_{8} + a^{9}_{4} a^{4}_{9} & a^{5}_{0} a^{0}_{4} + a^{5}_{10} a^{10}_{4} + a^{5}_{11} a^{11}_{4} + a^{5}_{12} a^{12}_{4} + a^{5}_{13} a^{13}_{4} + a^{5}_{14} a^{14}_{4} + a^{5}_{15} a^{15}_{4} + a^{5}_{1} a^{1}_{4} + a^{5}_{2} a^{2}_{4} + a^{5}_{3} a^{3}_{4} + a^{6}_{4} a^{5}_{6} + a^{7}_{4} a^{5}_{7} + a^{8}_{4} a^{5}_{8} + a^{9}_{4} a^{5}_{9} & a^{6}_{0} a^{0}_{4} + a^{6}_{10} a^{10}_{4} + a^{6}_{11} a^{11}_{4} + a^{6}_{12} a^{12}_{4} + a^{6}_{13} a^{13}_{4} + a^{6}_{14} a^{14}_{4} + a^{6}_{15} a^{15}_{4} + a^{6}_{1} a^{1}_{4} + a^{6}_{2} a^{2}_{4} + a^{6}_{3} a^{3}_{4} + a^{5}_{4} a^{6}_{5} + a^{7}_{4} a^{6}_{7} + a^{8}_{4} a^{6}_{8} + a^{9}_{4} a^{6}_{9} & a^{7}_{0} a^{0}_{4} + a^{7}_{10} a^{10}_{4} + a^{7}_{11} a^{11}_{4} + a^{7}_{12} a^{12}_{4} + a^{7}_{13} a^{13}_{4} + a^{7}_{14} a^{14}_{4} + a^{7}_{15} a^{15}_{4} + a^{7}_{1} a^{1}_{4} + a^{7}_{2} a^{2}_{4} + a^{7}_{3} a^{3}_{4} + a^{5}_{4} a^{7}_{5} + a^{6}_{4} a^{7}_{6} + a^{8}_{4} a^{7}_{8} + a^{9}_{4} a^{7}_{9} & a^{8}_{0} a^{0}_{4} + a^{8}_{10} a^{10}_{4} + a^{8}_{11} a^{11}_{4} + a^{8}_{12} a^{12}_{4} + a^{8}_{13} a^{13}_{4} + a^{8}_{14} a^{14}_{4} + a^{8}_{15} a^{15}_{4} + a^{8}_{1} a^{1}_{4} + a^{8}_{2} a^{2}_{4} + a^{8}_{3} a^{3}_{4} + a^{5}_{4} a^{8}_{5} + a^{6}_{4} a^{8}_{6} + a^{7}_{4} a^{8}_{7} + a^{9}_{4} a^{8}_{9} & a^{9}_{0} a^{0}_{4} + a^{9}_{10} a^{10}_{4} + a^{9}_{11} a^{11}_{4} + a^{9}_{12} a^{12}_{4} + a^{9}_{13} a^{13}_{4} + a^{9}_{14} a^{14}_{4} + a^{9}_{15} a^{15}_{4} + a^{9}_{1} a^{1}_{4} + a^{9}_{2} a^{2}_{4} + a^{9}_{3} a^{3}_{4} + a^{5}_{4} a^{9}_{5} + a^{6}_{4} a^{9}_{6} + a^{7}_{4} a^{9}_{7} + a^{8}_{4} a^{9}_{8} & a^{10}_{0} a^{0}_{4} + a^{10}_{11} a^{11}_{4} + a^{10}_{12} a^{12}_{4} + a^{10}_{13} a^{13}_{4} + a^{10}_{14} a^{14}_{4} + a^{10}_{15} a^{15}_{4} + a^{10}_{1} a^{1}_{4} + a^{10}_{2} a^{2}_{4} + a^{10}_{3} a^{3}_{4} + a^{5}_{4} a^{10}_{5} + a^{6}_{4} a^{10}_{6} + a^{7}_{4} a^{10}_{7} + a^{8}_{4} a^{10}_{8} + a^{9}_{4} a^{10}_{9} & a^{11}_{0} a^{0}_{4} + a^{11}_{10} a^{10}_{4} + a^{11}_{12} a^{12}_{4} + a^{11}_{13} a^{13}_{4} + a^{11}_{14} a^{14}_{4} + a^{11}_{15} a^{15}_{4} + a^{11}_{1} a^{1}_{4} + a^{11}_{2} a^{2}_{4} + a^{11}_{3} a^{3}_{4} + a^{5}_{4} a^{11}_{5} + a^{6}_{4} a^{11}_{6} + a^{7}_{4} a^{11}_{7} + a^{8}_{4} a^{11}_{8} + a^{9}_{4} a^{11}_{9} & a^{12}_{0} a^{0}_{4} + a^{12}_{10} a^{10}_{4} + a^{12}_{11} a^{11}_{4} + a^{12}_{13} a^{13}_{4} + a^{12}_{14} a^{14}_{4} + a^{12}_{15} a^{15}_{4} + a^{12}_{1} a^{1}_{4} + a^{12}_{2} a^{2}_{4} + a^{12}_{3} a^{3}_{4} + a^{5}_{4} a^{12}_{5} + a^{6}_{4} a^{12}_{6} + a^{7}_{4} a^{12}_{7} + a^{8}_{4} a^{12}_{8} + a^{9}_{4} a^{12}_{9} & a^{13}_{0} a^{0}_{4} + a^{13}_{10} a^{10}_{4} + a^{13}_{11} a^{11}_{4} + a^{13}_{12} a^{12}_{4} + a^{13}_{14} a^{14}_{4} + a^{13}_{15} a^{15}_{4} + a^{13}_{1} a^{1}_{4} + a^{13}_{2} a^{2}_{4} + a^{13}_{3} a^{3}_{4} + a^{5}_{4} a^{13}_{5} + a^{6}_{4} a^{13}_{6} + a^{7}_{4} a^{13}_{7} + a^{8}_{4} a^{13}_{8} + a^{9}_{4} a^{13}_{9} & a^{14}_{0} a^{0}_{4} + a^{14}_{10} a^{10}_{4} + a^{14}_{11} a^{11}_{4} + a^{14}_{12} a^{12}_{4} + a^{14}_{13} a^{13}_{4} + a^{14}_{15} a^{15}_{4} + a^{14}_{1} a^{1}_{4} + a^{14}_{2} a^{2}_{4} + a^{14}_{3} a^{3}_{4} + a^{5}_{4} a^{14}_{5} + a^{6}_{4} a^{14}_{6} + a^{7}_{4} a^{14}_{7} + a^{8}_{4} a^{14}_{8} + a^{9}_{4} a^{14}_{9} & a^{15}_{0} a^{0}_{4} + a^{15}_{10} a^{10}_{4} + a^{15}_{11} a^{11}_{4} + a^{15}_{12} a^{12}_{4} + a^{15}_{13} a^{13}_{4} + a^{15}_{14} a^{14}_{4} + a^{15}_{1} a^{1}_{4} + a^{15}_{2} a^{2}_{4} + a^{15}_{3} a^{3}_{4} + a^{5}_{4} a^{15}_{5} + a^{6}_{4} a^{15}_{6} + a^{7}_{4} a^{15}_{7} + a^{8}_{4} a^{15}_{8} + a^{9}_{4} a^{15}_{9}\\\\a^{0}_{10} a^{10}_{5} + a^{0}_{11} a^{11}_{5} + a^{0}_{12} a^{12}_{5} + a^{0}_{13} a^{13}_{5} + a^{0}_{14} a^{14}_{5} + a^{0}_{15} a^{15}_{5} + a^{0}_{1} a^{1}_{5} + a^{0}_{2} a^{2}_{5} + a^{0}_{3} a^{3}_{5} + a^{0}_{4} a^{4}_{5} + a^{6}_{5} a^{0}_{6} + a^{7}_{5} a^{0}_{7} + a^{8}_{5} a^{0}_{8} + a^{9}_{5} a^{0}_{9} & a^{1}_{0} a^{0}_{5} + a^{1}_{10} a^{10}_{5} + a^{1}_{11} a^{11}_{5} + a^{1}_{12} a^{12}_{5} + a^{1}_{13} a^{13}_{5} + a^{1}_{14} a^{14}_{5} + a^{1}_{15} a^{15}_{5} + a^{1}_{2} a^{2}_{5} + a^{1}_{3} a^{3}_{5} + a^{1}_{4} a^{4}_{5} + a^{6}_{5} a^{1}_{6} + a^{7}_{5} a^{1}_{7} + a^{8}_{5} a^{1}_{8} + a^{9}_{5} a^{1}_{9} & a^{2}_{0} a^{0}_{5} + a^{2}_{10} a^{10}_{5} + a^{2}_{11} a^{11}_{5} + a^{2}_{12} a^{12}_{5} + a^{2}_{13} a^{13}_{5} + a^{2}_{14} a^{14}_{5} + a^{2}_{15} a^{15}_{5} + a^{2}_{1} a^{1}_{5} + a^{2}_{3} a^{3}_{5} + a^{2}_{4} a^{4}_{5} + a^{6}_{5} a^{2}_{6} + a^{7}_{5} a^{2}_{7} + a^{8}_{5} a^{2}_{8} + a^{9}_{5} a^{2}_{9} & a^{3}_{0} a^{0}_{5} + a^{3}_{10} a^{10}_{5} + a^{3}_{11} a^{11}_{5} + a^{3}_{12} a^{12}_{5} + a^{3}_{13} a^{13}_{5} + a^{3}_{14} a^{14}_{5} + a^{3}_{15} a^{15}_{5} + a^{3}_{1} a^{1}_{5} + a^{3}_{2} a^{2}_{5} + a^{3}_{4} a^{4}_{5} + a^{6}_{5} a^{3}_{6} + a^{7}_{5} a^{3}_{7} + a^{8}_{5} a^{3}_{8} + a^{9}_{5} a^{3}_{9} & a^{4}_{0} a^{0}_{5} + a^{4}_{10} a^{10}_{5} + a^{4}_{11} a^{11}_{5} + a^{4}_{12} a^{12}_{5} + a^{4}_{13} a^{13}_{5} + a^{4}_{14} a^{14}_{5} + a^{4}_{15} a^{15}_{5} + a^{4}_{1} a^{1}_{5} + a^{4}_{2} a^{2}_{5} + a^{4}_{3} a^{3}_{5} + a^{6}_{5} a^{4}_{6} + a^{7}_{5} a^{4}_{7} + a^{8}_{5} a^{4}_{8} + a^{9}_{5} a^{4}_{9} & a^{5}_{0} a^{0}_{5} + a^{5}_{10} a^{10}_{5} + a^{5}_{11} a^{11}_{5} + a^{5}_{12} a^{12}_{5} + a^{5}_{13} a^{13}_{5} + a^{5}_{14} a^{14}_{5} + a^{5}_{15} a^{15}_{5} + a^{5}_{1} a^{1}_{5} + a^{5}_{2} a^{2}_{5} + a^{5}_{3} a^{3}_{5} + a^{5}_{4} a^{4}_{5} + a^{6}_{5} a^{5}_{6} + a^{7}_{5} a^{5}_{7} + a^{8}_{5} a^{5}_{8} + a^{9}_{5} a^{5}_{9} & a^{6}_{0} a^{0}_{5} + a^{6}_{10} a^{10}_{5} + a^{6}_{11} a^{11}_{5} + a^{6}_{12} a^{12}_{5} + a^{6}_{13} a^{13}_{5} + a^{6}_{14} a^{14}_{5} + a^{6}_{15} a^{15}_{5} + a^{6}_{1} a^{1}_{5} + a^{6}_{2} a^{2}_{5} + a^{6}_{3} a^{3}_{5} + a^{6}_{4} a^{4}_{5} + a^{7}_{5} a^{6}_{7} + a^{8}_{5} a^{6}_{8} + a^{9}_{5} a^{6}_{9} & a^{7}_{0} a^{0}_{5} + a^{7}_{10} a^{10}_{5} + a^{7}_{11} a^{11}_{5} + a^{7}_{12} a^{12}_{5} + a^{7}_{13} a^{13}_{5} + a^{7}_{14} a^{14}_{5} + a^{7}_{15} a^{15}_{5} + a^{7}_{1} a^{1}_{5} + a^{7}_{2} a^{2}_{5} + a^{7}_{3} a^{3}_{5} + a^{7}_{4} a^{4}_{5} + a^{6}_{5} a^{7}_{6} + a^{8}_{5} a^{7}_{8} + a^{9}_{5} a^{7}_{9} & a^{8}_{0} a^{0}_{5} + a^{8}_{10} a^{10}_{5} + a^{8}_{11} a^{11}_{5} + a^{8}_{12} a^{12}_{5} + a^{8}_{13} a^{13}_{5} + a^{8}_{14} a^{14}_{5} + a^{8}_{15} a^{15}_{5} + a^{8}_{1} a^{1}_{5} + a^{8}_{2} a^{2}_{5} + a^{8}_{3} a^{3}_{5} + a^{8}_{4} a^{4}_{5} + a^{6}_{5} a^{8}_{6} + a^{7}_{5} a^{8}_{7} + a^{9}_{5} a^{8}_{9} & a^{9}_{0} a^{0}_{5} + a^{9}_{10} a^{10}_{5} + a^{9}_{11} a^{11}_{5} + a^{9}_{12} a^{12}_{5} + a^{9}_{13} a^{13}_{5} + a^{9}_{14} a^{14}_{5} + a^{9}_{15} a^{15}_{5} + a^{9}_{1} a^{1}_{5} + a^{9}_{2} a^{2}_{5} + a^{9}_{3} a^{3}_{5} + a^{9}_{4} a^{4}_{5} + a^{6}_{5} a^{9}_{6} + a^{7}_{5} a^{9}_{7} + a^{8}_{5} a^{9}_{8} & a^{10}_{0} a^{0}_{5} + a^{10}_{11} a^{11}_{5} + a^{10}_{12} a^{12}_{5} + a^{10}_{13} a^{13}_{5} + a^{10}_{14} a^{14}_{5} + a^{10}_{15} a^{15}_{5} + a^{10}_{1} a^{1}_{5} + a^{10}_{2} a^{2}_{5} + a^{10}_{3} a^{3}_{5} + a^{10}_{4} a^{4}_{5} + a^{6}_{5} a^{10}_{6} + a^{7}_{5} a^{10}_{7} + a^{8}_{5} a^{10}_{8} + a^{9}_{5} a^{10}_{9} & a^{11}_{0} a^{0}_{5} + a^{11}_{10} a^{10}_{5} + a^{11}_{12} a^{12}_{5} + a^{11}_{13} a^{13}_{5} + a^{11}_{14} a^{14}_{5} + a^{11}_{15} a^{15}_{5} + a^{11}_{1} a^{1}_{5} + a^{11}_{2} a^{2}_{5} + a^{11}_{3} a^{3}_{5} + a^{11}_{4} a^{4}_{5} + a^{6}_{5} a^{11}_{6} + a^{7}_{5} a^{11}_{7} + a^{8}_{5} a^{11}_{8} + a^{9}_{5} a^{11}_{9} & a^{12}_{0} a^{0}_{5} + a^{12}_{10} a^{10}_{5} + a^{12}_{11} a^{11}_{5} + a^{12}_{13} a^{13}_{5} + a^{12}_{14} a^{14}_{5} + a^{12}_{15} a^{15}_{5} + a^{12}_{1} a^{1}_{5} + a^{12}_{2} a^{2}_{5} + a^{12}_{3} a^{3}_{5} + a^{12}_{4} a^{4}_{5} + a^{6}_{5} a^{12}_{6} + a^{7}_{5} a^{12}_{7} + a^{8}_{5} a^{12}_{8} + a^{9}_{5} a^{12}_{9} & a^{13}_{0} a^{0}_{5} + a^{13}_{10} a^{10}_{5} + a^{13}_{11} a^{11}_{5} + a^{13}_{12} a^{12}_{5} + a^{13}_{14} a^{14}_{5} + a^{13}_{15} a^{15}_{5} + a^{13}_{1} a^{1}_{5} + a^{13}_{2} a^{2}_{5} + a^{13}_{3} a^{3}_{5} + a^{13}_{4} a^{4}_{5} + a^{6}_{5} a^{13}_{6} + a^{7}_{5} a^{13}_{7} + a^{8}_{5} a^{13}_{8} + a^{9}_{5} a^{13}_{9} & a^{14}_{0} a^{0}_{5} + a^{14}_{10} a^{10}_{5} + a^{14}_{11} a^{11}_{5} + a^{14}_{12} a^{12}_{5} + a^{14}_{13} a^{13}_{5} + a^{14}_{15} a^{15}_{5} + a^{14}_{1} a^{1}_{5} + a^{14}_{2} a^{2}_{5} + a^{14}_{3} a^{3}_{5} + a^{14}_{4} a^{4}_{5} + a^{6}_{5} a^{14}_{6} + a^{7}_{5} a^{14}_{7} + a^{8}_{5} a^{14}_{8} + a^{9}_{5} a^{14}_{9} & a^{15}_{0} a^{0}_{5} + a^{15}_{10} a^{10}_{5} + a^{15}_{11} a^{11}_{5} + a^{15}_{12} a^{12}_{5} + a^{15}_{13} a^{13}_{5} + a^{15}_{14} a^{14}_{5} + a^{15}_{1} a^{1}_{5} + a^{15}_{2} a^{2}_{5} + a^{15}_{3} a^{3}_{5} + a^{15}_{4} a^{4}_{5} + a^{6}_{5} a^{15}_{6} + a^{7}_{5} a^{15}_{7} + a^{8}_{5} a^{15}_{8} + a^{9}_{5} a^{15}_{9}\\\\a^{0}_{10} a^{10}_{6} + a^{0}_{11} a^{11}_{6} + a^{0}_{12} a^{12}_{6} + a^{0}_{13} a^{13}_{6} + a^{0}_{14} a^{14}_{6} + a^{0}_{15} a^{15}_{6} + a^{0}_{1} a^{1}_{6} + a^{0}_{2} a^{2}_{6} + a^{0}_{3} a^{3}_{6} + a^{0}_{4} a^{4}_{6} + a^{0}_{5} a^{5}_{6} + a^{7}_{6} a^{0}_{7} + a^{8}_{6} a^{0}_{8} + a^{9}_{6} a^{0}_{9} & a^{1}_{0} a^{0}_{6} + a^{1}_{10} a^{10}_{6} + a^{1}_{11} a^{11}_{6} + a^{1}_{12} a^{12}_{6} + a^{1}_{13} a^{13}_{6} + a^{1}_{14} a^{14}_{6} + a^{1}_{15} a^{15}_{6} + a^{1}_{2} a^{2}_{6} + a^{1}_{3} a^{3}_{6} + a^{1}_{4} a^{4}_{6} + a^{1}_{5} a^{5}_{6} + a^{7}_{6} a^{1}_{7} + a^{8}_{6} a^{1}_{8} + a^{9}_{6} a^{1}_{9} & a^{2}_{0} a^{0}_{6} + a^{2}_{10} a^{10}_{6} + a^{2}_{11} a^{11}_{6} + a^{2}_{12} a^{12}_{6} + a^{2}_{13} a^{13}_{6} + a^{2}_{14} a^{14}_{6} + a^{2}_{15} a^{15}_{6} + a^{2}_{1} a^{1}_{6} + a^{2}_{3} a^{3}_{6} + a^{2}_{4} a^{4}_{6} + a^{2}_{5} a^{5}_{6} + a^{7}_{6} a^{2}_{7} + a^{8}_{6} a^{2}_{8} + a^{9}_{6} a^{2}_{9} & a^{3}_{0} a^{0}_{6} + a^{3}_{10} a^{10}_{6} + a^{3}_{11} a^{11}_{6} + a^{3}_{12} a^{12}_{6} + a^{3}_{13} a^{13}_{6} + a^{3}_{14} a^{14}_{6} + a^{3}_{15} a^{15}_{6} + a^{3}_{1} a^{1}_{6} + a^{3}_{2} a^{2}_{6} + a^{3}_{4} a^{4}_{6} + a^{3}_{5} a^{5}_{6} + a^{7}_{6} a^{3}_{7} + a^{8}_{6} a^{3}_{8} + a^{9}_{6} a^{3}_{9} & a^{4}_{0} a^{0}_{6} + a^{4}_{10} a^{10}_{6} + a^{4}_{11} a^{11}_{6} + a^{4}_{12} a^{12}_{6} + a^{4}_{13} a^{13}_{6} + a^{4}_{14} a^{14}_{6} + a^{4}_{15} a^{15}_{6} + a^{4}_{1} a^{1}_{6} + a^{4}_{2} a^{2}_{6} + a^{4}_{3} a^{3}_{6} + a^{4}_{5} a^{5}_{6} + a^{7}_{6} a^{4}_{7} + a^{8}_{6} a^{4}_{8} + a^{9}_{6} a^{4}_{9} & a^{5}_{0} a^{0}_{6} + a^{5}_{10} a^{10}_{6} + a^{5}_{11} a^{11}_{6} + a^{5}_{12} a^{12}_{6} + a^{5}_{13} a^{13}_{6} + a^{5}_{14} a^{14}_{6} + a^{5}_{15} a^{15}_{6} + a^{5}_{1} a^{1}_{6} + a^{5}_{2} a^{2}_{6} + a^{5}_{3} a^{3}_{6} + a^{5}_{4} a^{4}_{6} + a^{7}_{6} a^{5}_{7} + a^{8}_{6} a^{5}_{8} + a^{9}_{6} a^{5}_{9} & a^{6}_{0} a^{0}_{6} + a^{6}_{10} a^{10}_{6} + a^{6}_{11} a^{11}_{6} + a^{6}_{12} a^{12}_{6} + a^{6}_{13} a^{13}_{6} + a^{6}_{14} a^{14}_{6} + a^{6}_{15} a^{15}_{6} + a^{6}_{1} a^{1}_{6} + a^{6}_{2} a^{2}_{6} + a^{6}_{3} a^{3}_{6} + a^{6}_{4} a^{4}_{6} + a^{6}_{5} a^{5}_{6} + a^{7}_{6} a^{6}_{7} + a^{8}_{6} a^{6}_{8} + a^{9}_{6} a^{6}_{9} & a^{7}_{0} a^{0}_{6} + a^{7}_{10} a^{10}_{6} + a^{7}_{11} a^{11}_{6} + a^{7}_{12} a^{12}_{6} + a^{7}_{13} a^{13}_{6} + a^{7}_{14} a^{14}_{6} + a^{7}_{15} a^{15}_{6} + a^{7}_{1} a^{1}_{6} + a^{7}_{2} a^{2}_{6} + a^{7}_{3} a^{3}_{6} + a^{7}_{4} a^{4}_{6} + a^{7}_{5} a^{5}_{6} + a^{8}_{6} a^{7}_{8} + a^{9}_{6} a^{7}_{9} & a^{8}_{0} a^{0}_{6} + a^{8}_{10} a^{10}_{6} + a^{8}_{11} a^{11}_{6} + a^{8}_{12} a^{12}_{6} + a^{8}_{13} a^{13}_{6} + a^{8}_{14} a^{14}_{6} + a^{8}_{15} a^{15}_{6} + a^{8}_{1} a^{1}_{6} + a^{8}_{2} a^{2}_{6} + a^{8}_{3} a^{3}_{6} + a^{8}_{4} a^{4}_{6} + a^{8}_{5} a^{5}_{6} + a^{7}_{6} a^{8}_{7} + a^{9}_{6} a^{8}_{9} & a^{9}_{0} a^{0}_{6} + a^{9}_{10} a^{10}_{6} + a^{9}_{11} a^{11}_{6} + a^{9}_{12} a^{12}_{6} + a^{9}_{13} a^{13}_{6} + a^{9}_{14} a^{14}_{6} + a^{9}_{15} a^{15}_{6} + a^{9}_{1} a^{1}_{6} + a^{9}_{2} a^{2}_{6} + a^{9}_{3} a^{3}_{6} + a^{9}_{4} a^{4}_{6} + a^{9}_{5} a^{5}_{6} + a^{7}_{6} a^{9}_{7} + a^{8}_{6} a^{9}_{8} & a^{10}_{0} a^{0}_{6} + a^{10}_{11} a^{11}_{6} + a^{10}_{12} a^{12}_{6} + a^{10}_{13} a^{13}_{6} + a^{10}_{14} a^{14}_{6} + a^{10}_{15} a^{15}_{6} + a^{10}_{1} a^{1}_{6} + a^{10}_{2} a^{2}_{6} + a^{10}_{3} a^{3}_{6} + a^{10}_{4} a^{4}_{6} + a^{10}_{5} a^{5}_{6} + a^{7}_{6} a^{10}_{7} + a^{8}_{6} a^{10}_{8} + a^{9}_{6} a^{10}_{9} & a^{11}_{0} a^{0}_{6} + a^{11}_{10} a^{10}_{6} + a^{11}_{12} a^{12}_{6} + a^{11}_{13} a^{13}_{6} + a^{11}_{14} a^{14}_{6} + a^{11}_{15} a^{15}_{6} + a^{11}_{1} a^{1}_{6} + a^{11}_{2} a^{2}_{6} + a^{11}_{3} a^{3}_{6} + a^{11}_{4} a^{4}_{6} + a^{11}_{5} a^{5}_{6} + a^{7}_{6} a^{11}_{7} + a^{8}_{6} a^{11}_{8} + a^{9}_{6} a^{11}_{9} & a^{12}_{0} a^{0}_{6} + a^{12}_{10} a^{10}_{6} + a^{12}_{11} a^{11}_{6} + a^{12}_{13} a^{13}_{6} + a^{12}_{14} a^{14}_{6} + a^{12}_{15} a^{15}_{6} + a^{12}_{1} a^{1}_{6} + a^{12}_{2} a^{2}_{6} + a^{12}_{3} a^{3}_{6} + a^{12}_{4} a^{4}_{6} + a^{12}_{5} a^{5}_{6} + a^{7}_{6} a^{12}_{7} + a^{8}_{6} a^{12}_{8} + a^{9}_{6} a^{12}_{9} & a^{13}_{0} a^{0}_{6} + a^{13}_{10} a^{10}_{6} + a^{13}_{11} a^{11}_{6} + a^{13}_{12} a^{12}_{6} + a^{13}_{14} a^{14}_{6} + a^{13}_{15} a^{15}_{6} + a^{13}_{1} a^{1}_{6} + a^{13}_{2} a^{2}_{6} + a^{13}_{3} a^{3}_{6} + a^{13}_{4} a^{4}_{6} + a^{13}_{5} a^{5}_{6} + a^{7}_{6} a^{13}_{7} + a^{8}_{6} a^{13}_{8} + a^{9}_{6} a^{13}_{9} & a^{14}_{0} a^{0}_{6} + a^{14}_{10} a^{10}_{6} + a^{14}_{11} a^{11}_{6} + a^{14}_{12} a^{12}_{6} + a^{14}_{13} a^{13}_{6} + a^{14}_{15} a^{15}_{6} + a^{14}_{1} a^{1}_{6} + a^{14}_{2} a^{2}_{6} + a^{14}_{3} a^{3}_{6} + a^{14}_{4} a^{4}_{6} + a^{14}_{5} a^{5}_{6} + a^{7}_{6} a^{14}_{7} + a^{8}_{6} a^{14}_{8} + a^{9}_{6} a^{14}_{9} & a^{15}_{0} a^{0}_{6} + a^{15}_{10} a^{10}_{6} + a^{15}_{11} a^{11}_{6} + a^{15}_{12} a^{12}_{6} + a^{15}_{13} a^{13}_{6} + a^{15}_{14} a^{14}_{6} + a^{15}_{1} a^{1}_{6} + a^{15}_{2} a^{2}_{6} + a^{15}_{3} a^{3}_{6} + a^{15}_{4} a^{4}_{6} + a^{15}_{5} a^{5}_{6} + a^{7}_{6} a^{15}_{7} + a^{8}_{6} a^{15}_{8} + a^{9}_{6} a^{15}_{9}\\\\a^{0}_{10} a^{10}_{7} + a^{0}_{11} a^{11}_{7} + a^{0}_{12} a^{12}_{7} + a^{0}_{13} a^{13}_{7} + a^{0}_{14} a^{14}_{7} + a^{0}_{15} a^{15}_{7} + a^{0}_{1} a^{1}_{7} + a^{0}_{2} a^{2}_{7} + a^{0}_{3} a^{3}_{7} + a^{0}_{4} a^{4}_{7} + a^{0}_{5} a^{5}_{7} + a^{0}_{6} a^{6}_{7} + a^{8}_{7} a^{0}_{8} + a^{9}_{7} a^{0}_{9} & a^{1}_{0} a^{0}_{7} + a^{1}_{10} a^{10}_{7} + a^{1}_{11} a^{11}_{7} + a^{1}_{12} a^{12}_{7} + a^{1}_{13} a^{13}_{7} + a^{1}_{14} a^{14}_{7} + a^{1}_{15} a^{15}_{7} + a^{1}_{2} a^{2}_{7} + a^{1}_{3} a^{3}_{7} + a^{1}_{4} a^{4}_{7} + a^{1}_{5} a^{5}_{7} + a^{1}_{6} a^{6}_{7} + a^{8}_{7} a^{1}_{8} + a^{9}_{7} a^{1}_{9} & a^{2}_{0} a^{0}_{7} + a^{2}_{10} a^{10}_{7} + a^{2}_{11} a^{11}_{7} + a^{2}_{12} a^{12}_{7} + a^{2}_{13} a^{13}_{7} + a^{2}_{14} a^{14}_{7} + a^{2}_{15} a^{15}_{7} + a^{2}_{1} a^{1}_{7} + a^{2}_{3} a^{3}_{7} + a^{2}_{4} a^{4}_{7} + a^{2}_{5} a^{5}_{7} + a^{2}_{6} a^{6}_{7} + a^{8}_{7} a^{2}_{8} + a^{9}_{7} a^{2}_{9} & a^{3}_{0} a^{0}_{7} + a^{3}_{10} a^{10}_{7} + a^{3}_{11} a^{11}_{7} + a^{3}_{12} a^{12}_{7} + a^{3}_{13} a^{13}_{7} + a^{3}_{14} a^{14}_{7} + a^{3}_{15} a^{15}_{7} + a^{3}_{1} a^{1}_{7} + a^{3}_{2} a^{2}_{7} + a^{3}_{4} a^{4}_{7} + a^{3}_{5} a^{5}_{7} + a^{3}_{6} a^{6}_{7} + a^{8}_{7} a^{3}_{8} + a^{9}_{7} a^{3}_{9} & a^{4}_{0} a^{0}_{7} + a^{4}_{10} a^{10}_{7} + a^{4}_{11} a^{11}_{7} + a^{4}_{12} a^{12}_{7} + a^{4}_{13} a^{13}_{7} + a^{4}_{14} a^{14}_{7} + a^{4}_{15} a^{15}_{7} + a^{4}_{1} a^{1}_{7} + a^{4}_{2} a^{2}_{7} + a^{4}_{3} a^{3}_{7} + a^{4}_{5} a^{5}_{7} + a^{4}_{6} a^{6}_{7} + a^{8}_{7} a^{4}_{8} + a^{9}_{7} a^{4}_{9} & a^{5}_{0} a^{0}_{7} + a^{5}_{10} a^{10}_{7} + a^{5}_{11} a^{11}_{7} + a^{5}_{12} a^{12}_{7} + a^{5}_{13} a^{13}_{7} + a^{5}_{14} a^{14}_{7} + a^{5}_{15} a^{15}_{7} + a^{5}_{1} a^{1}_{7} + a^{5}_{2} a^{2}_{7} + a^{5}_{3} a^{3}_{7} + a^{5}_{4} a^{4}_{7} + a^{5}_{6} a^{6}_{7} + a^{8}_{7} a^{5}_{8} + a^{9}_{7} a^{5}_{9} & a^{6}_{0} a^{0}_{7} + a^{6}_{10} a^{10}_{7} + a^{6}_{11} a^{11}_{7} + a^{6}_{12} a^{12}_{7} + a^{6}_{13} a^{13}_{7} + a^{6}_{14} a^{14}_{7} + a^{6}_{15} a^{15}_{7} + a^{6}_{1} a^{1}_{7} + a^{6}_{2} a^{2}_{7} + a^{6}_{3} a^{3}_{7} + a^{6}_{4} a^{4}_{7} + a^{6}_{5} a^{5}_{7} + a^{8}_{7} a^{6}_{8} + a^{9}_{7} a^{6}_{9} & a^{7}_{0} a^{0}_{7} + a^{7}_{10} a^{10}_{7} + a^{7}_{11} a^{11}_{7} + a^{7}_{12} a^{12}_{7} + a^{7}_{13} a^{13}_{7} + a^{7}_{14} a^{14}_{7} + a^{7}_{15} a^{15}_{7} + a^{7}_{1} a^{1}_{7} + a^{7}_{2} a^{2}_{7} + a^{7}_{3} a^{3}_{7} + a^{7}_{4} a^{4}_{7} + a^{7}_{5} a^{5}_{7} + a^{7}_{6} a^{6}_{7} + a^{8}_{7} a^{7}_{8} + a^{9}_{7} a^{7}_{9} & a^{8}_{0} a^{0}_{7} + a^{8}_{10} a^{10}_{7} + a^{8}_{11} a^{11}_{7} + a^{8}_{12} a^{12}_{7} + a^{8}_{13} a^{13}_{7} + a^{8}_{14} a^{14}_{7} + a^{8}_{15} a^{15}_{7} + a^{8}_{1} a^{1}_{7} + a^{8}_{2} a^{2}_{7} + a^{8}_{3} a^{3}_{7} + a^{8}_{4} a^{4}_{7} + a^{8}_{5} a^{5}_{7} + a^{8}_{6} a^{6}_{7} + a^{9}_{7} a^{8}_{9} & a^{9}_{0} a^{0}_{7} + a^{9}_{10} a^{10}_{7} + a^{9}_{11} a^{11}_{7} + a^{9}_{12} a^{12}_{7} + a^{9}_{13} a^{13}_{7} + a^{9}_{14} a^{14}_{7} + a^{9}_{15} a^{15}_{7} + a^{9}_{1} a^{1}_{7} + a^{9}_{2} a^{2}_{7} + a^{9}_{3} a^{3}_{7} + a^{9}_{4} a^{4}_{7} + a^{9}_{5} a^{5}_{7} + a^{9}_{6} a^{6}_{7} + a^{8}_{7} a^{9}_{8} & a^{10}_{0} a^{0}_{7} + a^{10}_{11} a^{11}_{7} + a^{10}_{12} a^{12}_{7} + a^{10}_{13} a^{13}_{7} + a^{10}_{14} a^{14}_{7} + a^{10}_{15} a^{15}_{7} + a^{10}_{1} a^{1}_{7} + a^{10}_{2} a^{2}_{7} + a^{10}_{3} a^{3}_{7} + a^{10}_{4} a^{4}_{7} + a^{10}_{5} a^{5}_{7} + a^{10}_{6} a^{6}_{7} + a^{8}_{7} a^{10}_{8} + a^{9}_{7} a^{10}_{9} & a^{11}_{0} a^{0}_{7} + a^{11}_{10} a^{10}_{7} + a^{11}_{12} a^{12}_{7} + a^{11}_{13} a^{13}_{7} + a^{11}_{14} a^{14}_{7} + a^{11}_{15} a^{15}_{7} + a^{11}_{1} a^{1}_{7} + a^{11}_{2} a^{2}_{7} + a^{11}_{3} a^{3}_{7} + a^{11}_{4} a^{4}_{7} + a^{11}_{5} a^{5}_{7} + a^{11}_{6} a^{6}_{7} + a^{8}_{7} a^{11}_{8} + a^{9}_{7} a^{11}_{9} & a^{12}_{0} a^{0}_{7} + a^{12}_{10} a^{10}_{7} + a^{12}_{11} a^{11}_{7} + a^{12}_{13} a^{13}_{7} + a^{12}_{14} a^{14}_{7} + a^{12}_{15} a^{15}_{7} + a^{12}_{1} a^{1}_{7} + a^{12}_{2} a^{2}_{7} + a^{12}_{3} a^{3}_{7} + a^{12}_{4} a^{4}_{7} + a^{12}_{5} a^{5}_{7} + a^{12}_{6} a^{6}_{7} + a^{8}_{7} a^{12}_{8} + a^{9}_{7} a^{12}_{9} & a^{13}_{0} a^{0}_{7} + a^{13}_{10} a^{10}_{7} + a^{13}_{11} a^{11}_{7} + a^{13}_{12} a^{12}_{7} + a^{13}_{14} a^{14}_{7} + a^{13}_{15} a^{15}_{7} + a^{13}_{1} a^{1}_{7} + a^{13}_{2} a^{2}_{7} + a^{13}_{3} a^{3}_{7} + a^{13}_{4} a^{4}_{7} + a^{13}_{5} a^{5}_{7} + a^{13}_{6} a^{6}_{7} + a^{8}_{7} a^{13}_{8} + a^{9}_{7} a^{13}_{9} & a^{14}_{0} a^{0}_{7} + a^{14}_{10} a^{10}_{7} + a^{14}_{11} a^{11}_{7} + a^{14}_{12} a^{12}_{7} + a^{14}_{13} a^{13}_{7} + a^{14}_{15} a^{15}_{7} + a^{14}_{1} a^{1}_{7} + a^{14}_{2} a^{2}_{7} + a^{14}_{3} a^{3}_{7} + a^{14}_{4} a^{4}_{7} + a^{14}_{5} a^{5}_{7} + a^{14}_{6} a^{6}_{7} + a^{8}_{7} a^{14}_{8} + a^{9}_{7} a^{14}_{9} & a^{15}_{0} a^{0}_{7} + a^{15}_{10} a^{10}_{7} + a^{15}_{11} a^{11}_{7} + a^{15}_{12} a^{12}_{7} + a^{15}_{13} a^{13}_{7} + a^{15}_{14} a^{14}_{7} + a^{15}_{1} a^{1}_{7} + a^{15}_{2} a^{2}_{7} + a^{15}_{3} a^{3}_{7} + a^{15}_{4} a^{4}_{7} + a^{15}_{5} a^{5}_{7} + a^{15}_{6} a^{6}_{7} + a^{8}_{7} a^{15}_{8} + a^{9}_{7} a^{15}_{9}\\\\a^{0}_{10} a^{10}_{8} + a^{0}_{11} a^{11}_{8} + a^{0}_{12} a^{12}_{8} + a^{0}_{13} a^{13}_{8} + a^{0}_{14} a^{14}_{8} + a^{0}_{15} a^{15}_{8} + a^{0}_{1} a^{1}_{8} + a^{0}_{2} a^{2}_{8} + a^{0}_{3} a^{3}_{8} + a^{0}_{4} a^{4}_{8} + a^{0}_{5} a^{5}_{8} + a^{0}_{6} a^{6}_{8} + a^{0}_{7} a^{7}_{8} + a^{9}_{8} a^{0}_{9} & a^{1}_{0} a^{0}_{8} + a^{1}_{10} a^{10}_{8} + a^{1}_{11} a^{11}_{8} + a^{1}_{12} a^{12}_{8} + a^{1}_{13} a^{13}_{8} + a^{1}_{14} a^{14}_{8} + a^{1}_{15} a^{15}_{8} + a^{1}_{2} a^{2}_{8} + a^{1}_{3} a^{3}_{8} + a^{1}_{4} a^{4}_{8} + a^{1}_{5} a^{5}_{8} + a^{1}_{6} a^{6}_{8} + a^{1}_{7} a^{7}_{8} + a^{9}_{8} a^{1}_{9} & a^{2}_{0} a^{0}_{8} + a^{2}_{10} a^{10}_{8} + a^{2}_{11} a^{11}_{8} + a^{2}_{12} a^{12}_{8} + a^{2}_{13} a^{13}_{8} + a^{2}_{14} a^{14}_{8} + a^{2}_{15} a^{15}_{8} + a^{2}_{1} a^{1}_{8} + a^{2}_{3} a^{3}_{8} + a^{2}_{4} a^{4}_{8} + a^{2}_{5} a^{5}_{8} + a^{2}_{6} a^{6}_{8} + a^{2}_{7} a^{7}_{8} + a^{9}_{8} a^{2}_{9} & a^{3}_{0} a^{0}_{8} + a^{3}_{10} a^{10}_{8} + a^{3}_{11} a^{11}_{8} + a^{3}_{12} a^{12}_{8} + a^{3}_{13} a^{13}_{8} + a^{3}_{14} a^{14}_{8} + a^{3}_{15} a^{15}_{8} + a^{3}_{1} a^{1}_{8} + a^{3}_{2} a^{2}_{8} + a^{3}_{4} a^{4}_{8} + a^{3}_{5} a^{5}_{8} + a^{3}_{6} a^{6}_{8} + a^{3}_{7} a^{7}_{8} + a^{9}_{8} a^{3}_{9} & a^{4}_{0} a^{0}_{8} + a^{4}_{10} a^{10}_{8} + a^{4}_{11} a^{11}_{8} + a^{4}_{12} a^{12}_{8} + a^{4}_{13} a^{13}_{8} + a^{4}_{14} a^{14}_{8} + a^{4}_{15} a^{15}_{8} + a^{4}_{1} a^{1}_{8} + a^{4}_{2} a^{2}_{8} + a^{4}_{3} a^{3}_{8} + a^{4}_{5} a^{5}_{8} + a^{4}_{6} a^{6}_{8} + a^{4}_{7} a^{7}_{8} + a^{9}_{8} a^{4}_{9} & a^{5}_{0} a^{0}_{8} + a^{5}_{10} a^{10}_{8} + a^{5}_{11} a^{11}_{8} + a^{5}_{12} a^{12}_{8} + a^{5}_{13} a^{13}_{8} + a^{5}_{14} a^{14}_{8} + a^{5}_{15} a^{15}_{8} + a^{5}_{1} a^{1}_{8} + a^{5}_{2} a^{2}_{8} + a^{5}_{3} a^{3}_{8} + a^{5}_{4} a^{4}_{8} + a^{5}_{6} a^{6}_{8} + a^{5}_{7} a^{7}_{8} + a^{9}_{8} a^{5}_{9} & a^{6}_{0} a^{0}_{8} + a^{6}_{10} a^{10}_{8} + a^{6}_{11} a^{11}_{8} + a^{6}_{12} a^{12}_{8} + a^{6}_{13} a^{13}_{8} + a^{6}_{14} a^{14}_{8} + a^{6}_{15} a^{15}_{8} + a^{6}_{1} a^{1}_{8} + a^{6}_{2} a^{2}_{8} + a^{6}_{3} a^{3}_{8} + a^{6}_{4} a^{4}_{8} + a^{6}_{5} a^{5}_{8} + a^{6}_{7} a^{7}_{8} + a^{9}_{8} a^{6}_{9} & a^{7}_{0} a^{0}_{8} + a^{7}_{10} a^{10}_{8} + a^{7}_{11} a^{11}_{8} + a^{7}_{12} a^{12}_{8} + a^{7}_{13} a^{13}_{8} + a^{7}_{14} a^{14}_{8} + a^{7}_{15} a^{15}_{8} + a^{7}_{1} a^{1}_{8} + a^{7}_{2} a^{2}_{8} + a^{7}_{3} a^{3}_{8} + a^{7}_{4} a^{4}_{8} + a^{7}_{5} a^{5}_{8} + a^{7}_{6} a^{6}_{8} + a^{9}_{8} a^{7}_{9} & a^{8}_{0} a^{0}_{8} + a^{8}_{10} a^{10}_{8} + a^{8}_{11} a^{11}_{8} + a^{8}_{12} a^{12}_{8} + a^{8}_{13} a^{13}_{8} + a^{8}_{14} a^{14}_{8} + a^{8}_{15} a^{15}_{8} + a^{8}_{1} a^{1}_{8} + a^{8}_{2} a^{2}_{8} + a^{8}_{3} a^{3}_{8} + a^{8}_{4} a^{4}_{8} + a^{8}_{5} a^{5}_{8} + a^{8}_{6} a^{6}_{8} + a^{8}_{7} a^{7}_{8} + a^{9}_{8} a^{8}_{9} & a^{9}_{0} a^{0}_{8} + a^{9}_{10} a^{10}_{8} + a^{9}_{11} a^{11}_{8} + a^{9}_{12} a^{12}_{8} + a^{9}_{13} a^{13}_{8} + a^{9}_{14} a^{14}_{8} + a^{9}_{15} a^{15}_{8} + a^{9}_{1} a^{1}_{8} + a^{9}_{2} a^{2}_{8} + a^{9}_{3} a^{3}_{8} + a^{9}_{4} a^{4}_{8} + a^{9}_{5} a^{5}_{8} + a^{9}_{6} a^{6}_{8} + a^{9}_{7} a^{7}_{8} & a^{10}_{0} a^{0}_{8} + a^{10}_{11} a^{11}_{8} + a^{10}_{12} a^{12}_{8} + a^{10}_{13} a^{13}_{8} + a^{10}_{14} a^{14}_{8} + a^{10}_{15} a^{15}_{8} + a^{10}_{1} a^{1}_{8} + a^{10}_{2} a^{2}_{8} + a^{10}_{3} a^{3}_{8} + a^{10}_{4} a^{4}_{8} + a^{10}_{5} a^{5}_{8} + a^{10}_{6} a^{6}_{8} + a^{10}_{7} a^{7}_{8} + a^{9}_{8} a^{10}_{9} & a^{11}_{0} a^{0}_{8} + a^{11}_{10} a^{10}_{8} + a^{11}_{12} a^{12}_{8} + a^{11}_{13} a^{13}_{8} + a^{11}_{14} a^{14}_{8} + a^{11}_{15} a^{15}_{8} + a^{11}_{1} a^{1}_{8} + a^{11}_{2} a^{2}_{8} + a^{11}_{3} a^{3}_{8} + a^{11}_{4} a^{4}_{8} + a^{11}_{5} a^{5}_{8} + a^{11}_{6} a^{6}_{8} + a^{11}_{7} a^{7}_{8} + a^{9}_{8} a^{11}_{9} & a^{12}_{0} a^{0}_{8} + a^{12}_{10} a^{10}_{8} + a^{12}_{11} a^{11}_{8} + a^{12}_{13} a^{13}_{8} + a^{12}_{14} a^{14}_{8} + a^{12}_{15} a^{15}_{8} + a^{12}_{1} a^{1}_{8} + a^{12}_{2} a^{2}_{8} + a^{12}_{3} a^{3}_{8} + a^{12}_{4} a^{4}_{8} + a^{12}_{5} a^{5}_{8} + a^{12}_{6} a^{6}_{8} + a^{12}_{7} a^{7}_{8} + a^{9}_{8} a^{12}_{9} & a^{13}_{0} a^{0}_{8} + a^{13}_{10} a^{10}_{8} + a^{13}_{11} a^{11}_{8} + a^{13}_{12} a^{12}_{8} + a^{13}_{14} a^{14}_{8} + a^{13}_{15} a^{15}_{8} + a^{13}_{1} a^{1}_{8} + a^{13}_{2} a^{2}_{8} + a^{13}_{3} a^{3}_{8} + a^{13}_{4} a^{4}_{8} + a^{13}_{5} a^{5}_{8} + a^{13}_{6} a^{6}_{8} + a^{13}_{7} a^{7}_{8} + a^{9}_{8} a^{13}_{9} & a^{14}_{0} a^{0}_{8} + a^{14}_{10} a^{10}_{8} + a^{14}_{11} a^{11}_{8} + a^{14}_{12} a^{12}_{8} + a^{14}_{13} a^{13}_{8} + a^{14}_{15} a^{15}_{8} + a^{14}_{1} a^{1}_{8} + a^{14}_{2} a^{2}_{8} + a^{14}_{3} a^{3}_{8} + a^{14}_{4} a^{4}_{8} + a^{14}_{5} a^{5}_{8} + a^{14}_{6} a^{6}_{8} + a^{14}_{7} a^{7}_{8} + a^{9}_{8} a^{14}_{9} & a^{15}_{0} a^{0}_{8} + a^{15}_{10} a^{10}_{8} + a^{15}_{11} a^{11}_{8} + a^{15}_{12} a^{12}_{8} + a^{15}_{13} a^{13}_{8} + a^{15}_{14} a^{14}_{8} + a^{15}_{1} a^{1}_{8} + a^{15}_{2} a^{2}_{8} + a^{15}_{3} a^{3}_{8} + a^{15}_{4} a^{4}_{8} + a^{15}_{5} a^{5}_{8} + a^{15}_{6} a^{6}_{8} + a^{15}_{7} a^{7}_{8} + a^{9}_{8} a^{15}_{9}\\\\a^{0}_{10} a^{10}_{9} + a^{0}_{11} a^{11}_{9} + a^{0}_{12} a^{12}_{9} + a^{0}_{13} a^{13}_{9} + a^{0}_{14} a^{14}_{9} + a^{0}_{15} a^{15}_{9} + a^{0}_{1} a^{1}_{9} + a^{0}_{2} a^{2}_{9} + a^{0}_{3} a^{3}_{9} + a^{0}_{4} a^{4}_{9} + a^{0}_{5} a^{5}_{9} + a^{0}_{6} a^{6}_{9} + a^{0}_{7} a^{7}_{9} + a^{0}_{8} a^{8}_{9} & a^{1}_{0} a^{0}_{9} + a^{1}_{10} a^{10}_{9} + a^{1}_{11} a^{11}_{9} + a^{1}_{12} a^{12}_{9} + a^{1}_{13} a^{13}_{9} + a^{1}_{14} a^{14}_{9} + a^{1}_{15} a^{15}_{9} + a^{1}_{2} a^{2}_{9} + a^{1}_{3} a^{3}_{9} + a^{1}_{4} a^{4}_{9} + a^{1}_{5} a^{5}_{9} + a^{1}_{6} a^{6}_{9} + a^{1}_{7} a^{7}_{9} + a^{1}_{8} a^{8}_{9} & a^{2}_{0} a^{0}_{9} + a^{2}_{10} a^{10}_{9} + a^{2}_{11} a^{11}_{9} + a^{2}_{12} a^{12}_{9} + a^{2}_{13} a^{13}_{9} + a^{2}_{14} a^{14}_{9} + a^{2}_{15} a^{15}_{9} + a^{2}_{1} a^{1}_{9} + a^{2}_{3} a^{3}_{9} + a^{2}_{4} a^{4}_{9} + a^{2}_{5} a^{5}_{9} + a^{2}_{6} a^{6}_{9} + a^{2}_{7} a^{7}_{9} + a^{2}_{8} a^{8}_{9} & a^{3}_{0} a^{0}_{9} + a^{3}_{10} a^{10}_{9} + a^{3}_{11} a^{11}_{9} + a^{3}_{12} a^{12}_{9} + a^{3}_{13} a^{13}_{9} + a^{3}_{14} a^{14}_{9} + a^{3}_{15} a^{15}_{9} + a^{3}_{1} a^{1}_{9} + a^{3}_{2} a^{2}_{9} + a^{3}_{4} a^{4}_{9} + a^{3}_{5} a^{5}_{9} + a^{3}_{6} a^{6}_{9} + a^{3}_{7} a^{7}_{9} + a^{3}_{8} a^{8}_{9} & a^{4}_{0} a^{0}_{9} + a^{4}_{10} a^{10}_{9} + a^{4}_{11} a^{11}_{9} + a^{4}_{12} a^{12}_{9} + a^{4}_{13} a^{13}_{9} + a^{4}_{14} a^{14}_{9} + a^{4}_{15} a^{15}_{9} + a^{4}_{1} a^{1}_{9} + a^{4}_{2} a^{2}_{9} + a^{4}_{3} a^{3}_{9} + a^{4}_{5} a^{5}_{9} + a^{4}_{6} a^{6}_{9} + a^{4}_{7} a^{7}_{9} + a^{4}_{8} a^{8}_{9} & a^{5}_{0} a^{0}_{9} + a^{5}_{10} a^{10}_{9} + a^{5}_{11} a^{11}_{9} + a^{5}_{12} a^{12}_{9} + a^{5}_{13} a^{13}_{9} + a^{5}_{14} a^{14}_{9} + a^{5}_{15} a^{15}_{9} + a^{5}_{1} a^{1}_{9} + a^{5}_{2} a^{2}_{9} + a^{5}_{3} a^{3}_{9} + a^{5}_{4} a^{4}_{9} + a^{5}_{6} a^{6}_{9} + a^{5}_{7} a^{7}_{9} + a^{5}_{8} a^{8}_{9} & a^{6}_{0} a^{0}_{9} + a^{6}_{10} a^{10}_{9} + a^{6}_{11} a^{11}_{9} + a^{6}_{12} a^{12}_{9} + a^{6}_{13} a^{13}_{9} + a^{6}_{14} a^{14}_{9} + a^{6}_{15} a^{15}_{9} + a^{6}_{1} a^{1}_{9} + a^{6}_{2} a^{2}_{9} + a^{6}_{3} a^{3}_{9} + a^{6}_{4} a^{4}_{9} + a^{6}_{5} a^{5}_{9} + a^{6}_{7} a^{7}_{9} + a^{6}_{8} a^{8}_{9} & a^{7}_{0} a^{0}_{9} + a^{7}_{10} a^{10}_{9} + a^{7}_{11} a^{11}_{9} + a^{7}_{12} a^{12}_{9} + a^{7}_{13} a^{13}_{9} + a^{7}_{14} a^{14}_{9} + a^{7}_{15} a^{15}_{9} + a^{7}_{1} a^{1}_{9} + a^{7}_{2} a^{2}_{9} + a^{7}_{3} a^{3}_{9} + a^{7}_{4} a^{4}_{9} + a^{7}_{5} a^{5}_{9} + a^{7}_{6} a^{6}_{9} + a^{7}_{8} a^{8}_{9} & a^{8}_{0} a^{0}_{9} + a^{8}_{10} a^{10}_{9} + a^{8}_{11} a^{11}_{9} + a^{8}_{12} a^{12}_{9} + a^{8}_{13} a^{13}_{9} + a^{8}_{14} a^{14}_{9} + a^{8}_{15} a^{15}_{9} + a^{8}_{1} a^{1}_{9} + a^{8}_{2} a^{2}_{9} + a^{8}_{3} a^{3}_{9} + a^{8}_{4} a^{4}_{9} + a^{8}_{5} a^{5}_{9} + a^{8}_{6} a^{6}_{9} + a^{8}_{7} a^{7}_{9} & a^{9}_{0} a^{0}_{9} + a^{9}_{10} a^{10}_{9} + a^{9}_{11} a^{11}_{9} + a^{9}_{12} a^{12}_{9} + a^{9}_{13} a^{13}_{9} + a^{9}_{14} a^{14}_{9} + a^{9}_{15} a^{15}_{9} + a^{9}_{1} a^{1}_{9} + a^{9}_{2} a^{2}_{9} + a^{9}_{3} a^{3}_{9} + a^{9}_{4} a^{4}_{9} + a^{9}_{5} a^{5}_{9} + a^{9}_{6} a^{6}_{9} + a^{9}_{7} a^{7}_{9} + a^{9}_{8} a^{8}_{9} & a^{10}_{0} a^{0}_{9} + a^{10}_{11} a^{11}_{9} + a^{10}_{12} a^{12}_{9} + a^{10}_{13} a^{13}_{9} + a^{10}_{14} a^{14}_{9} + a^{10}_{15} a^{15}_{9} + a^{10}_{1} a^{1}_{9} + a^{10}_{2} a^{2}_{9} + a^{10}_{3} a^{3}_{9} + a^{10}_{4} a^{4}_{9} + a^{10}_{5} a^{5}_{9} + a^{10}_{6} a^{6}_{9} + a^{10}_{7} a^{7}_{9} + a^{10}_{8} a^{8}_{9} & a^{11}_{0} a^{0}_{9} + a^{11}_{10} a^{10}_{9} + a^{11}_{12} a^{12}_{9} + a^{11}_{13} a^{13}_{9} + a^{11}_{14} a^{14}_{9} + a^{11}_{15} a^{15}_{9} + a^{11}_{1} a^{1}_{9} + a^{11}_{2} a^{2}_{9} + a^{11}_{3} a^{3}_{9} + a^{11}_{4} a^{4}_{9} + a^{11}_{5} a^{5}_{9} + a^{11}_{6} a^{6}_{9} + a^{11}_{7} a^{7}_{9} + a^{11}_{8} a^{8}_{9} & a^{12}_{0} a^{0}_{9} + a^{12}_{10} a^{10}_{9} + a^{12}_{11} a^{11}_{9} + a^{12}_{13} a^{13}_{9} + a^{12}_{14} a^{14}_{9} + a^{12}_{15} a^{15}_{9} + a^{12}_{1} a^{1}_{9} + a^{12}_{2} a^{2}_{9} + a^{12}_{3} a^{3}_{9} + a^{12}_{4} a^{4}_{9} + a^{12}_{5} a^{5}_{9} + a^{12}_{6} a^{6}_{9} + a^{12}_{7} a^{7}_{9} + a^{12}_{8} a^{8}_{9} & a^{13}_{0} a^{0}_{9} + a^{13}_{10} a^{10}_{9} + a^{13}_{11} a^{11}_{9} + a^{13}_{12} a^{12}_{9} + a^{13}_{14} a^{14}_{9} + a^{13}_{15} a^{15}_{9} + a^{13}_{1} a^{1}_{9} + a^{13}_{2} a^{2}_{9} + a^{13}_{3} a^{3}_{9} + a^{13}_{4} a^{4}_{9} + a^{13}_{5} a^{5}_{9} + a^{13}_{6} a^{6}_{9} + a^{13}_{7} a^{7}_{9} + a^{13}_{8} a^{8}_{9} & a^{14}_{0} a^{0}_{9} + a^{14}_{10} a^{10}_{9} + a^{14}_{11} a^{11}_{9} + a^{14}_{12} a^{12}_{9} + a^{14}_{13} a^{13}_{9} + a^{14}_{15} a^{15}_{9} + a^{14}_{1} a^{1}_{9} + a^{14}_{2} a^{2}_{9} + a^{14}_{3} a^{3}_{9} + a^{14}_{4} a^{4}_{9} + a^{14}_{5} a^{5}_{9} + a^{14}_{6} a^{6}_{9} + a^{14}_{7} a^{7}_{9} + a^{14}_{8} a^{8}_{9} & a^{15}_{0} a^{0}_{9} + a^{15}_{10} a^{10}_{9} + a^{15}_{11} a^{11}_{9} + a^{15}_{12} a^{12}_{9} + a^{15}_{13} a^{13}_{9} + a^{15}_{14} a^{14}_{9} + a^{15}_{1} a^{1}_{9} + a^{15}_{2} a^{2}_{9} + a^{15}_{3} a^{3}_{9} + a^{15}_{4} a^{4}_{9} + a^{15}_{5} a^{5}_{9} + a^{15}_{6} a^{6}_{9} + a^{15}_{7} a^{7}_{9} + a^{15}_{8} a^{8}_{9}\\\\a^{1}_{10} a^{0}_{1} + a^{11}_{10} a^{0}_{11} + a^{12}_{10} a^{0}_{12} + a^{13}_{10} a^{0}_{13} + a^{14}_{10} a^{0}_{14} + a^{15}_{10} a^{0}_{15} + a^{2}_{10} a^{0}_{2} + a^{3}_{10} a^{0}_{3} + a^{4}_{10} a^{0}_{4} + a^{5}_{10} a^{0}_{5} + a^{6}_{10} a^{0}_{6} + a^{7}_{10} a^{0}_{7} + a^{8}_{10} a^{0}_{8} + a^{9}_{10} a^{0}_{9} & a^{1}_{0} a^{0}_{10} + a^{11}_{10} a^{1}_{11} + a^{12}_{10} a^{1}_{12} + a^{13}_{10} a^{1}_{13} + a^{14}_{10} a^{1}_{14} + a^{15}_{10} a^{1}_{15} + a^{2}_{10} a^{1}_{2} + a^{3}_{10} a^{1}_{3} + a^{4}_{10} a^{1}_{4} + a^{5}_{10} a^{1}_{5} + a^{6}_{10} a^{1}_{6} + a^{7}_{10} a^{1}_{7} + a^{8}_{10} a^{1}_{8} + a^{9}_{10} a^{1}_{9} & a^{2}_{0} a^{0}_{10} + a^{1}_{10} a^{2}_{1} + a^{11}_{10} a^{2}_{11} + a^{12}_{10} a^{2}_{12} + a^{13}_{10} a^{2}_{13} + a^{14}_{10} a^{2}_{14} + a^{15}_{10} a^{2}_{15} + a^{3}_{10} a^{2}_{3} + a^{4}_{10} a^{2}_{4} + a^{5}_{10} a^{2}_{5} + a^{6}_{10} a^{2}_{6} + a^{7}_{10} a^{2}_{7} + a^{8}_{10} a^{2}_{8} + a^{9}_{10} a^{2}_{9} & a^{3}_{0} a^{0}_{10} + a^{1}_{10} a^{3}_{1} + a^{11}_{10} a^{3}_{11} + a^{12}_{10} a^{3}_{12} + a^{13}_{10} a^{3}_{13} + a^{14}_{10} a^{3}_{14} + a^{15}_{10} a^{3}_{15} + a^{2}_{10} a^{3}_{2} + a^{4}_{10} a^{3}_{4} + a^{5}_{10} a^{3}_{5} + a^{6}_{10} a^{3}_{6} + a^{7}_{10} a^{3}_{7} + a^{8}_{10} a^{3}_{8} + a^{9}_{10} a^{3}_{9} & a^{4}_{0} a^{0}_{10} + a^{1}_{10} a^{4}_{1} + a^{11}_{10} a^{4}_{11} + a^{12}_{10} a^{4}_{12} + a^{13}_{10} a^{4}_{13} + a^{14}_{10} a^{4}_{14} + a^{15}_{10} a^{4}_{15} + a^{2}_{10} a^{4}_{2} + a^{3}_{10} a^{4}_{3} + a^{5}_{10} a^{4}_{5} + a^{6}_{10} a^{4}_{6} + a^{7}_{10} a^{4}_{7} + a^{8}_{10} a^{4}_{8} + a^{9}_{10} a^{4}_{9} & a^{5}_{0} a^{0}_{10} + a^{1}_{10} a^{5}_{1} + a^{11}_{10} a^{5}_{11} + a^{12}_{10} a^{5}_{12} + a^{13}_{10} a^{5}_{13} + a^{14}_{10} a^{5}_{14} + a^{15}_{10} a^{5}_{15} + a^{2}_{10} a^{5}_{2} + a^{3}_{10} a^{5}_{3} + a^{4}_{10} a^{5}_{4} + a^{6}_{10} a^{5}_{6} + a^{7}_{10} a^{5}_{7} + a^{8}_{10} a^{5}_{8} + a^{9}_{10} a^{5}_{9} & a^{6}_{0} a^{0}_{10} + a^{1}_{10} a^{6}_{1} + a^{11}_{10} a^{6}_{11} + a^{12}_{10} a^{6}_{12} + a^{13}_{10} a^{6}_{13} + a^{14}_{10} a^{6}_{14} + a^{15}_{10} a^{6}_{15} + a^{2}_{10} a^{6}_{2} + a^{3}_{10} a^{6}_{3} + a^{4}_{10} a^{6}_{4} + a^{5}_{10} a^{6}_{5} + a^{7}_{10} a^{6}_{7} + a^{8}_{10} a^{6}_{8} + a^{9}_{10} a^{6}_{9} & a^{7}_{0} a^{0}_{10} + a^{1}_{10} a^{7}_{1} + a^{11}_{10} a^{7}_{11} + a^{12}_{10} a^{7}_{12} + a^{13}_{10} a^{7}_{13} + a^{14}_{10} a^{7}_{14} + a^{15}_{10} a^{7}_{15} + a^{2}_{10} a^{7}_{2} + a^{3}_{10} a^{7}_{3} + a^{4}_{10} a^{7}_{4} + a^{5}_{10} a^{7}_{5} + a^{6}_{10} a^{7}_{6} + a^{8}_{10} a^{7}_{8} + a^{9}_{10} a^{7}_{9} & a^{8}_{0} a^{0}_{10} + a^{1}_{10} a^{8}_{1} + a^{11}_{10} a^{8}_{11} + a^{12}_{10} a^{8}_{12} + a^{13}_{10} a^{8}_{13} + a^{14}_{10} a^{8}_{14} + a^{15}_{10} a^{8}_{15} + a^{2}_{10} a^{8}_{2} + a^{3}_{10} a^{8}_{3} + a^{4}_{10} a^{8}_{4} + a^{5}_{10} a^{8}_{5} + a^{6}_{10} a^{8}_{6} + a^{7}_{10} a^{8}_{7} + a^{9}_{10} a^{8}_{9} & a^{9}_{0} a^{0}_{10} + a^{1}_{10} a^{9}_{1} + a^{11}_{10} a^{9}_{11} + a^{12}_{10} a^{9}_{12} + a^{13}_{10} a^{9}_{13} + a^{14}_{10} a^{9}_{14} + a^{15}_{10} a^{9}_{15} + a^{2}_{10} a^{9}_{2} + a^{3}_{10} a^{9}_{3} + a^{4}_{10} a^{9}_{4} + a^{5}_{10} a^{9}_{5} + a^{6}_{10} a^{9}_{6} + a^{7}_{10} a^{9}_{7} + a^{8}_{10} a^{9}_{8} & a^{10}_{0} a^{0}_{10} + a^{1}_{10} a^{10}_{1} + a^{11}_{10} a^{10}_{11} + a^{12}_{10} a^{10}_{12} + a^{13}_{10} a^{10}_{13} + a^{14}_{10} a^{10}_{14} + a^{15}_{10} a^{10}_{15} + a^{2}_{10} a^{10}_{2} + a^{3}_{10} a^{10}_{3} + a^{4}_{10} a^{10}_{4} + a^{5}_{10} a^{10}_{5} + a^{6}_{10} a^{10}_{6} + a^{7}_{10} a^{10}_{7} + a^{8}_{10} a^{10}_{8} + a^{9}_{10} a^{10}_{9} & a^{11}_{0} a^{0}_{10} + a^{1}_{10} a^{11}_{1} + a^{12}_{10} a^{11}_{12} + a^{13}_{10} a^{11}_{13} + a^{14}_{10} a^{11}_{14} + a^{15}_{10} a^{11}_{15} + a^{2}_{10} a^{11}_{2} + a^{3}_{10} a^{11}_{3} + a^{4}_{10} a^{11}_{4} + a^{5}_{10} a^{11}_{5} + a^{6}_{10} a^{11}_{6} + a^{7}_{10} a^{11}_{7} + a^{8}_{10} a^{11}_{8} + a^{9}_{10} a^{11}_{9} & a^{12}_{0} a^{0}_{10} + a^{1}_{10} a^{12}_{1} + a^{11}_{10} a^{12}_{11} + a^{13}_{10} a^{12}_{13} + a^{14}_{10} a^{12}_{14} + a^{15}_{10} a^{12}_{15} + a^{2}_{10} a^{12}_{2} + a^{3}_{10} a^{12}_{3} + a^{4}_{10} a^{12}_{4} + a^{5}_{10} a^{12}_{5} + a^{6}_{10} a^{12}_{6} + a^{7}_{10} a^{12}_{7} + a^{8}_{10} a^{12}_{8} + a^{9}_{10} a^{12}_{9} & a^{13}_{0} a^{0}_{10} + a^{1}_{10} a^{13}_{1} + a^{11}_{10} a^{13}_{11} + a^{12}_{10} a^{13}_{12} + a^{14}_{10} a^{13}_{14} + a^{15}_{10} a^{13}_{15} + a^{2}_{10} a^{13}_{2} + a^{3}_{10} a^{13}_{3} + a^{4}_{10} a^{13}_{4} + a^{5}_{10} a^{13}_{5} + a^{6}_{10} a^{13}_{6} + a^{7}_{10} a^{13}_{7} + a^{8}_{10} a^{13}_{8} + a^{9}_{10} a^{13}_{9} & a^{14}_{0} a^{0}_{10} + a^{1}_{10} a^{14}_{1} + a^{11}_{10} a^{14}_{11} + a^{12}_{10} a^{14}_{12} + a^{13}_{10} a^{14}_{13} + a^{15}_{10} a^{14}_{15} + a^{2}_{10} a^{14}_{2} + a^{3}_{10} a^{14}_{3} + a^{4}_{10} a^{14}_{4} + a^{5}_{10} a^{14}_{5} + a^{6}_{10} a^{14}_{6} + a^{7}_{10} a^{14}_{7} + a^{8}_{10} a^{14}_{8} + a^{9}_{10} a^{14}_{9} & a^{15}_{0} a^{0}_{10} + a^{1}_{10} a^{15}_{1} + a^{11}_{10} a^{15}_{11} + a^{12}_{10} a^{15}_{12} + a^{13}_{10} a^{15}_{13} + a^{14}_{10} a^{15}_{14} + a^{2}_{10} a^{15}_{2} + a^{3}_{10} a^{15}_{3} + a^{4}_{10} a^{15}_{4} + a^{5}_{10} a^{15}_{5} + a^{6}_{10} a^{15}_{6} + a^{7}_{10} a^{15}_{7} + a^{8}_{10} a^{15}_{8} + a^{9}_{10} a^{15}_{9}\\\\a^{0}_{10} a^{10}_{11} + a^{1}_{11} a^{0}_{1} + a^{12}_{11} a^{0}_{12} + a^{13}_{11} a^{0}_{13} + a^{14}_{11} a^{0}_{14} + a^{15}_{11} a^{0}_{15} + a^{2}_{11} a^{0}_{2} + a^{3}_{11} a^{0}_{3} + a^{4}_{11} a^{0}_{4} + a^{5}_{11} a^{0}_{5} + a^{6}_{11} a^{0}_{6} + a^{7}_{11} a^{0}_{7} + a^{8}_{11} a^{0}_{8} + a^{9}_{11} a^{0}_{9} & a^{1}_{0} a^{0}_{11} + a^{1}_{10} a^{10}_{11} + a^{12}_{11} a^{1}_{12} + a^{13}_{11} a^{1}_{13} + a^{14}_{11} a^{1}_{14} + a^{15}_{11} a^{1}_{15} + a^{2}_{11} a^{1}_{2} + a^{3}_{11} a^{1}_{3} + a^{4}_{11} a^{1}_{4} + a^{5}_{11} a^{1}_{5} + a^{6}_{11} a^{1}_{6} + a^{7}_{11} a^{1}_{7} + a^{8}_{11} a^{1}_{8} + a^{9}_{11} a^{1}_{9} & a^{2}_{0} a^{0}_{11} + a^{2}_{10} a^{10}_{11} + a^{1}_{11} a^{2}_{1} + a^{12}_{11} a^{2}_{12} + a^{13}_{11} a^{2}_{13} + a^{14}_{11} a^{2}_{14} + a^{15}_{11} a^{2}_{15} + a^{3}_{11} a^{2}_{3} + a^{4}_{11} a^{2}_{4} + a^{5}_{11} a^{2}_{5} + a^{6}_{11} a^{2}_{6} + a^{7}_{11} a^{2}_{7} + a^{8}_{11} a^{2}_{8} + a^{9}_{11} a^{2}_{9} & a^{3}_{0} a^{0}_{11} + a^{3}_{10} a^{10}_{11} + a^{1}_{11} a^{3}_{1} + a^{12}_{11} a^{3}_{12} + a^{13}_{11} a^{3}_{13} + a^{14}_{11} a^{3}_{14} + a^{15}_{11} a^{3}_{15} + a^{2}_{11} a^{3}_{2} + a^{4}_{11} a^{3}_{4} + a^{5}_{11} a^{3}_{5} + a^{6}_{11} a^{3}_{6} + a^{7}_{11} a^{3}_{7} + a^{8}_{11} a^{3}_{8} + a^{9}_{11} a^{3}_{9} & a^{4}_{0} a^{0}_{11} + a^{4}_{10} a^{10}_{11} + a^{1}_{11} a^{4}_{1} + a^{12}_{11} a^{4}_{12} + a^{13}_{11} a^{4}_{13} + a^{14}_{11} a^{4}_{14} + a^{15}_{11} a^{4}_{15} + a^{2}_{11} a^{4}_{2} + a^{3}_{11} a^{4}_{3} + a^{5}_{11} a^{4}_{5} + a^{6}_{11} a^{4}_{6} + a^{7}_{11} a^{4}_{7} + a^{8}_{11} a^{4}_{8} + a^{9}_{11} a^{4}_{9} & a^{5}_{0} a^{0}_{11} + a^{5}_{10} a^{10}_{11} + a^{1}_{11} a^{5}_{1} + a^{12}_{11} a^{5}_{12} + a^{13}_{11} a^{5}_{13} + a^{14}_{11} a^{5}_{14} + a^{15}_{11} a^{5}_{15} + a^{2}_{11} a^{5}_{2} + a^{3}_{11} a^{5}_{3} + a^{4}_{11} a^{5}_{4} + a^{6}_{11} a^{5}_{6} + a^{7}_{11} a^{5}_{7} + a^{8}_{11} a^{5}_{8} + a^{9}_{11} a^{5}_{9} & a^{6}_{0} a^{0}_{11} + a^{6}_{10} a^{10}_{11} + a^{1}_{11} a^{6}_{1} + a^{12}_{11} a^{6}_{12} + a^{13}_{11} a^{6}_{13} + a^{14}_{11} a^{6}_{14} + a^{15}_{11} a^{6}_{15} + a^{2}_{11} a^{6}_{2} + a^{3}_{11} a^{6}_{3} + a^{4}_{11} a^{6}_{4} + a^{5}_{11} a^{6}_{5} + a^{7}_{11} a^{6}_{7} + a^{8}_{11} a^{6}_{8} + a^{9}_{11} a^{6}_{9} & a^{7}_{0} a^{0}_{11} + a^{7}_{10} a^{10}_{11} + a^{1}_{11} a^{7}_{1} + a^{12}_{11} a^{7}_{12} + a^{13}_{11} a^{7}_{13} + a^{14}_{11} a^{7}_{14} + a^{15}_{11} a^{7}_{15} + a^{2}_{11} a^{7}_{2} + a^{3}_{11} a^{7}_{3} + a^{4}_{11} a^{7}_{4} + a^{5}_{11} a^{7}_{5} + a^{6}_{11} a^{7}_{6} + a^{8}_{11} a^{7}_{8} + a^{9}_{11} a^{7}_{9} & a^{8}_{0} a^{0}_{11} + a^{8}_{10} a^{10}_{11} + a^{1}_{11} a^{8}_{1} + a^{12}_{11} a^{8}_{12} + a^{13}_{11} a^{8}_{13} + a^{14}_{11} a^{8}_{14} + a^{15}_{11} a^{8}_{15} + a^{2}_{11} a^{8}_{2} + a^{3}_{11} a^{8}_{3} + a^{4}_{11} a^{8}_{4} + a^{5}_{11} a^{8}_{5} + a^{6}_{11} a^{8}_{6} + a^{7}_{11} a^{8}_{7} + a^{9}_{11} a^{8}_{9} & a^{9}_{0} a^{0}_{11} + a^{9}_{10} a^{10}_{11} + a^{1}_{11} a^{9}_{1} + a^{12}_{11} a^{9}_{12} + a^{13}_{11} a^{9}_{13} + a^{14}_{11} a^{9}_{14} + a^{15}_{11} a^{9}_{15} + a^{2}_{11} a^{9}_{2} + a^{3}_{11} a^{9}_{3} + a^{4}_{11} a^{9}_{4} + a^{5}_{11} a^{9}_{5} + a^{6}_{11} a^{9}_{6} + a^{7}_{11} a^{9}_{7} + a^{8}_{11} a^{9}_{8} & a^{10}_{0} a^{0}_{11} + a^{1}_{11} a^{10}_{1} + a^{12}_{11} a^{10}_{12} + a^{13}_{11} a^{10}_{13} + a^{14}_{11} a^{10}_{14} + a^{15}_{11} a^{10}_{15} + a^{2}_{11} a^{10}_{2} + a^{3}_{11} a^{10}_{3} + a^{4}_{11} a^{10}_{4} + a^{5}_{11} a^{10}_{5} + a^{6}_{11} a^{10}_{6} + a^{7}_{11} a^{10}_{7} + a^{8}_{11} a^{10}_{8} + a^{9}_{11} a^{10}_{9} & a^{11}_{0} a^{0}_{11} + a^{11}_{10} a^{10}_{11} + a^{1}_{11} a^{11}_{1} + a^{12}_{11} a^{11}_{12} + a^{13}_{11} a^{11}_{13} + a^{14}_{11} a^{11}_{14} + a^{15}_{11} a^{11}_{15} + a^{2}_{11} a^{11}_{2} + a^{3}_{11} a^{11}_{3} + a^{4}_{11} a^{11}_{4} + a^{5}_{11} a^{11}_{5} + a^{6}_{11} a^{11}_{6} + a^{7}_{11} a^{11}_{7} + a^{8}_{11} a^{11}_{8} + a^{9}_{11} a^{11}_{9} & a^{12}_{0} a^{0}_{11} + a^{12}_{10} a^{10}_{11} + a^{1}_{11} a^{12}_{1} + a^{13}_{11} a^{12}_{13} + a^{14}_{11} a^{12}_{14} + a^{15}_{11} a^{12}_{15} + a^{2}_{11} a^{12}_{2} + a^{3}_{11} a^{12}_{3} + a^{4}_{11} a^{12}_{4} + a^{5}_{11} a^{12}_{5} + a^{6}_{11} a^{12}_{6} + a^{7}_{11} a^{12}_{7} + a^{8}_{11} a^{12}_{8} + a^{9}_{11} a^{12}_{9} & a^{13}_{0} a^{0}_{11} + a^{13}_{10} a^{10}_{11} + a^{1}_{11} a^{13}_{1} + a^{12}_{11} a^{13}_{12} + a^{14}_{11} a^{13}_{14} + a^{15}_{11} a^{13}_{15} + a^{2}_{11} a^{13}_{2} + a^{3}_{11} a^{13}_{3} + a^{4}_{11} a^{13}_{4} + a^{5}_{11} a^{13}_{5} + a^{6}_{11} a^{13}_{6} + a^{7}_{11} a^{13}_{7} + a^{8}_{11} a^{13}_{8} + a^{9}_{11} a^{13}_{9} & a^{14}_{0} a^{0}_{11} + a^{14}_{10} a^{10}_{11} + a^{1}_{11} a^{14}_{1} + a^{12}_{11} a^{14}_{12} + a^{13}_{11} a^{14}_{13} + a^{15}_{11} a^{14}_{15} + a^{2}_{11} a^{14}_{2} + a^{3}_{11} a^{14}_{3} + a^{4}_{11} a^{14}_{4} + a^{5}_{11} a^{14}_{5} + a^{6}_{11} a^{14}_{6} + a^{7}_{11} a^{14}_{7} + a^{8}_{11} a^{14}_{8} + a^{9}_{11} a^{14}_{9} & a^{15}_{0} a^{0}_{11} + a^{15}_{10} a^{10}_{11} + a^{1}_{11} a^{15}_{1} + a^{12}_{11} a^{15}_{12} + a^{13}_{11} a^{15}_{13} + a^{14}_{11} a^{15}_{14} + a^{2}_{11} a^{15}_{2} + a^{3}_{11} a^{15}_{3} + a^{4}_{11} a^{15}_{4} + a^{5}_{11} a^{15}_{5} + a^{6}_{11} a^{15}_{6} + a^{7}_{11} a^{15}_{7} + a^{8}_{11} a^{15}_{8} + a^{9}_{11} a^{15}_{9}\\\\a^{0}_{10} a^{10}_{12} + a^{0}_{11} a^{11}_{12} + a^{1}_{12} a^{0}_{1} + a^{13}_{12} a^{0}_{13} + a^{14}_{12} a^{0}_{14} + a^{15}_{12} a^{0}_{15} + a^{2}_{12} a^{0}_{2} + a^{3}_{12} a^{0}_{3} + a^{4}_{12} a^{0}_{4} + a^{5}_{12} a^{0}_{5} + a^{6}_{12} a^{0}_{6} + a^{7}_{12} a^{0}_{7} + a^{8}_{12} a^{0}_{8} + a^{9}_{12} a^{0}_{9} & a^{1}_{0} a^{0}_{12} + a^{1}_{10} a^{10}_{12} + a^{1}_{11} a^{11}_{12} + a^{13}_{12} a^{1}_{13} + a^{14}_{12} a^{1}_{14} + a^{15}_{12} a^{1}_{15} + a^{2}_{12} a^{1}_{2} + a^{3}_{12} a^{1}_{3} + a^{4}_{12} a^{1}_{4} + a^{5}_{12} a^{1}_{5} + a^{6}_{12} a^{1}_{6} + a^{7}_{12} a^{1}_{7} + a^{8}_{12} a^{1}_{8} + a^{9}_{12} a^{1}_{9} & a^{2}_{0} a^{0}_{12} + a^{2}_{10} a^{10}_{12} + a^{2}_{11} a^{11}_{12} + a^{1}_{12} a^{2}_{1} + a^{13}_{12} a^{2}_{13} + a^{14}_{12} a^{2}_{14} + a^{15}_{12} a^{2}_{15} + a^{3}_{12} a^{2}_{3} + a^{4}_{12} a^{2}_{4} + a^{5}_{12} a^{2}_{5} + a^{6}_{12} a^{2}_{6} + a^{7}_{12} a^{2}_{7} + a^{8}_{12} a^{2}_{8} + a^{9}_{12} a^{2}_{9} & a^{3}_{0} a^{0}_{12} + a^{3}_{10} a^{10}_{12} + a^{3}_{11} a^{11}_{12} + a^{1}_{12} a^{3}_{1} + a^{13}_{12} a^{3}_{13} + a^{14}_{12} a^{3}_{14} + a^{15}_{12} a^{3}_{15} + a^{2}_{12} a^{3}_{2} + a^{4}_{12} a^{3}_{4} + a^{5}_{12} a^{3}_{5} + a^{6}_{12} a^{3}_{6} + a^{7}_{12} a^{3}_{7} + a^{8}_{12} a^{3}_{8} + a^{9}_{12} a^{3}_{9} & a^{4}_{0} a^{0}_{12} + a^{4}_{10} a^{10}_{12} + a^{4}_{11} a^{11}_{12} + a^{1}_{12} a^{4}_{1} + a^{13}_{12} a^{4}_{13} + a^{14}_{12} a^{4}_{14} + a^{15}_{12} a^{4}_{15} + a^{2}_{12} a^{4}_{2} + a^{3}_{12} a^{4}_{3} + a^{5}_{12} a^{4}_{5} + a^{6}_{12} a^{4}_{6} + a^{7}_{12} a^{4}_{7} + a^{8}_{12} a^{4}_{8} + a^{9}_{12} a^{4}_{9} & a^{5}_{0} a^{0}_{12} + a^{5}_{10} a^{10}_{12} + a^{5}_{11} a^{11}_{12} + a^{1}_{12} a^{5}_{1} + a^{13}_{12} a^{5}_{13} + a^{14}_{12} a^{5}_{14} + a^{15}_{12} a^{5}_{15} + a^{2}_{12} a^{5}_{2} + a^{3}_{12} a^{5}_{3} + a^{4}_{12} a^{5}_{4} + a^{6}_{12} a^{5}_{6} + a^{7}_{12} a^{5}_{7} + a^{8}_{12} a^{5}_{8} + a^{9}_{12} a^{5}_{9} & a^{6}_{0} a^{0}_{12} + a^{6}_{10} a^{10}_{12} + a^{6}_{11} a^{11}_{12} + a^{1}_{12} a^{6}_{1} + a^{13}_{12} a^{6}_{13} + a^{14}_{12} a^{6}_{14} + a^{15}_{12} a^{6}_{15} + a^{2}_{12} a^{6}_{2} + a^{3}_{12} a^{6}_{3} + a^{4}_{12} a^{6}_{4} + a^{5}_{12} a^{6}_{5} + a^{7}_{12} a^{6}_{7} + a^{8}_{12} a^{6}_{8} + a^{9}_{12} a^{6}_{9} & a^{7}_{0} a^{0}_{12} + a^{7}_{10} a^{10}_{12} + a^{7}_{11} a^{11}_{12} + a^{1}_{12} a^{7}_{1} + a^{13}_{12} a^{7}_{13} + a^{14}_{12} a^{7}_{14} + a^{15}_{12} a^{7}_{15} + a^{2}_{12} a^{7}_{2} + a^{3}_{12} a^{7}_{3} + a^{4}_{12} a^{7}_{4} + a^{5}_{12} a^{7}_{5} + a^{6}_{12} a^{7}_{6} + a^{8}_{12} a^{7}_{8} + a^{9}_{12} a^{7}_{9} & a^{8}_{0} a^{0}_{12} + a^{8}_{10} a^{10}_{12} + a^{8}_{11} a^{11}_{12} + a^{1}_{12} a^{8}_{1} + a^{13}_{12} a^{8}_{13} + a^{14}_{12} a^{8}_{14} + a^{15}_{12} a^{8}_{15} + a^{2}_{12} a^{8}_{2} + a^{3}_{12} a^{8}_{3} + a^{4}_{12} a^{8}_{4} + a^{5}_{12} a^{8}_{5} + a^{6}_{12} a^{8}_{6} + a^{7}_{12} a^{8}_{7} + a^{9}_{12} a^{8}_{9} & a^{9}_{0} a^{0}_{12} + a^{9}_{10} a^{10}_{12} + a^{9}_{11} a^{11}_{12} + a^{1}_{12} a^{9}_{1} + a^{13}_{12} a^{9}_{13} + a^{14}_{12} a^{9}_{14} + a^{15}_{12} a^{9}_{15} + a^{2}_{12} a^{9}_{2} + a^{3}_{12} a^{9}_{3} + a^{4}_{12} a^{9}_{4} + a^{5}_{12} a^{9}_{5} + a^{6}_{12} a^{9}_{6} + a^{7}_{12} a^{9}_{7} + a^{8}_{12} a^{9}_{8} & a^{10}_{0} a^{0}_{12} + a^{10}_{11} a^{11}_{12} + a^{1}_{12} a^{10}_{1} + a^{13}_{12} a^{10}_{13} + a^{14}_{12} a^{10}_{14} + a^{15}_{12} a^{10}_{15} + a^{2}_{12} a^{10}_{2} + a^{3}_{12} a^{10}_{3} + a^{4}_{12} a^{10}_{4} + a^{5}_{12} a^{10}_{5} + a^{6}_{12} a^{10}_{6} + a^{7}_{12} a^{10}_{7} + a^{8}_{12} a^{10}_{8} + a^{9}_{12} a^{10}_{9} & a^{11}_{0} a^{0}_{12} + a^{11}_{10} a^{10}_{12} + a^{1}_{12} a^{11}_{1} + a^{13}_{12} a^{11}_{13} + a^{14}_{12} a^{11}_{14} + a^{15}_{12} a^{11}_{15} + a^{2}_{12} a^{11}_{2} + a^{3}_{12} a^{11}_{3} + a^{4}_{12} a^{11}_{4} + a^{5}_{12} a^{11}_{5} + a^{6}_{12} a^{11}_{6} + a^{7}_{12} a^{11}_{7} + a^{8}_{12} a^{11}_{8} + a^{9}_{12} a^{11}_{9} & a^{12}_{0} a^{0}_{12} + a^{12}_{10} a^{10}_{12} + a^{12}_{11} a^{11}_{12} + a^{1}_{12} a^{12}_{1} + a^{13}_{12} a^{12}_{13} + a^{14}_{12} a^{12}_{14} + a^{15}_{12} a^{12}_{15} + a^{2}_{12} a^{12}_{2} + a^{3}_{12} a^{12}_{3} + a^{4}_{12} a^{12}_{4} + a^{5}_{12} a^{12}_{5} + a^{6}_{12} a^{12}_{6} + a^{7}_{12} a^{12}_{7} + a^{8}_{12} a^{12}_{8} + a^{9}_{12} a^{12}_{9} & a^{13}_{0} a^{0}_{12} + a^{13}_{10} a^{10}_{12} + a^{13}_{11} a^{11}_{12} + a^{1}_{12} a^{13}_{1} + a^{14}_{12} a^{13}_{14} + a^{15}_{12} a^{13}_{15} + a^{2}_{12} a^{13}_{2} + a^{3}_{12} a^{13}_{3} + a^{4}_{12} a^{13}_{4} + a^{5}_{12} a^{13}_{5} + a^{6}_{12} a^{13}_{6} + a^{7}_{12} a^{13}_{7} + a^{8}_{12} a^{13}_{8} + a^{9}_{12} a^{13}_{9} & a^{14}_{0} a^{0}_{12} + a^{14}_{10} a^{10}_{12} + a^{14}_{11} a^{11}_{12} + a^{1}_{12} a^{14}_{1} + a^{13}_{12} a^{14}_{13} + a^{15}_{12} a^{14}_{15} + a^{2}_{12} a^{14}_{2} + a^{3}_{12} a^{14}_{3} + a^{4}_{12} a^{14}_{4} + a^{5}_{12} a^{14}_{5} + a^{6}_{12} a^{14}_{6} + a^{7}_{12} a^{14}_{7} + a^{8}_{12} a^{14}_{8} + a^{9}_{12} a^{14}_{9} & a^{15}_{0} a^{0}_{12} + a^{15}_{10} a^{10}_{12} + a^{15}_{11} a^{11}_{12} + a^{1}_{12} a^{15}_{1} + a^{13}_{12} a^{15}_{13} + a^{14}_{12} a^{15}_{14} + a^{2}_{12} a^{15}_{2} + a^{3}_{12} a^{15}_{3} + a^{4}_{12} a^{15}_{4} + a^{5}_{12} a^{15}_{5} + a^{6}_{12} a^{15}_{6} + a^{7}_{12} a^{15}_{7} + a^{8}_{12} a^{15}_{8} + a^{9}_{12} a^{15}_{9}\\\\a^{0}_{10} a^{10}_{13} + a^{0}_{11} a^{11}_{13} + a^{0}_{12} a^{12}_{13} + a^{1}_{13} a^{0}_{1} + a^{14}_{13} a^{0}_{14} + a^{15}_{13} a^{0}_{15} + a^{2}_{13} a^{0}_{2} + a^{3}_{13} a^{0}_{3} + a^{4}_{13} a^{0}_{4} + a^{5}_{13} a^{0}_{5} + a^{6}_{13} a^{0}_{6} + a^{7}_{13} a^{0}_{7} + a^{8}_{13} a^{0}_{8} + a^{9}_{13} a^{0}_{9} & a^{1}_{0} a^{0}_{13} + a^{1}_{10} a^{10}_{13} + a^{1}_{11} a^{11}_{13} + a^{1}_{12} a^{12}_{13} + a^{14}_{13} a^{1}_{14} + a^{15}_{13} a^{1}_{15} + a^{2}_{13} a^{1}_{2} + a^{3}_{13} a^{1}_{3} + a^{4}_{13} a^{1}_{4} + a^{5}_{13} a^{1}_{5} + a^{6}_{13} a^{1}_{6} + a^{7}_{13} a^{1}_{7} + a^{8}_{13} a^{1}_{8} + a^{9}_{13} a^{1}_{9} & a^{2}_{0} a^{0}_{13} + a^{2}_{10} a^{10}_{13} + a^{2}_{11} a^{11}_{13} + a^{2}_{12} a^{12}_{13} + a^{1}_{13} a^{2}_{1} + a^{14}_{13} a^{2}_{14} + a^{15}_{13} a^{2}_{15} + a^{3}_{13} a^{2}_{3} + a^{4}_{13} a^{2}_{4} + a^{5}_{13} a^{2}_{5} + a^{6}_{13} a^{2}_{6} + a^{7}_{13} a^{2}_{7} + a^{8}_{13} a^{2}_{8} + a^{9}_{13} a^{2}_{9} & a^{3}_{0} a^{0}_{13} + a^{3}_{10} a^{10}_{13} + a^{3}_{11} a^{11}_{13} + a^{3}_{12} a^{12}_{13} + a^{1}_{13} a^{3}_{1} + a^{14}_{13} a^{3}_{14} + a^{15}_{13} a^{3}_{15} + a^{2}_{13} a^{3}_{2} + a^{4}_{13} a^{3}_{4} + a^{5}_{13} a^{3}_{5} + a^{6}_{13} a^{3}_{6} + a^{7}_{13} a^{3}_{7} + a^{8}_{13} a^{3}_{8} + a^{9}_{13} a^{3}_{9} & a^{4}_{0} a^{0}_{13} + a^{4}_{10} a^{10}_{13} + a^{4}_{11} a^{11}_{13} + a^{4}_{12} a^{12}_{13} + a^{1}_{13} a^{4}_{1} + a^{14}_{13} a^{4}_{14} + a^{15}_{13} a^{4}_{15} + a^{2}_{13} a^{4}_{2} + a^{3}_{13} a^{4}_{3} + a^{5}_{13} a^{4}_{5} + a^{6}_{13} a^{4}_{6} + a^{7}_{13} a^{4}_{7} + a^{8}_{13} a^{4}_{8} + a^{9}_{13} a^{4}_{9} & a^{5}_{0} a^{0}_{13} + a^{5}_{10} a^{10}_{13} + a^{5}_{11} a^{11}_{13} + a^{5}_{12} a^{12}_{13} + a^{1}_{13} a^{5}_{1} + a^{14}_{13} a^{5}_{14} + a^{15}_{13} a^{5}_{15} + a^{2}_{13} a^{5}_{2} + a^{3}_{13} a^{5}_{3} + a^{4}_{13} a^{5}_{4} + a^{6}_{13} a^{5}_{6} + a^{7}_{13} a^{5}_{7} + a^{8}_{13} a^{5}_{8} + a^{9}_{13} a^{5}_{9} & a^{6}_{0} a^{0}_{13} + a^{6}_{10} a^{10}_{13} + a^{6}_{11} a^{11}_{13} + a^{6}_{12} a^{12}_{13} + a^{1}_{13} a^{6}_{1} + a^{14}_{13} a^{6}_{14} + a^{15}_{13} a^{6}_{15} + a^{2}_{13} a^{6}_{2} + a^{3}_{13} a^{6}_{3} + a^{4}_{13} a^{6}_{4} + a^{5}_{13} a^{6}_{5} + a^{7}_{13} a^{6}_{7} + a^{8}_{13} a^{6}_{8} + a^{9}_{13} a^{6}_{9} & a^{7}_{0} a^{0}_{13} + a^{7}_{10} a^{10}_{13} + a^{7}_{11} a^{11}_{13} + a^{7}_{12} a^{12}_{13} + a^{1}_{13} a^{7}_{1} + a^{14}_{13} a^{7}_{14} + a^{15}_{13} a^{7}_{15} + a^{2}_{13} a^{7}_{2} + a^{3}_{13} a^{7}_{3} + a^{4}_{13} a^{7}_{4} + a^{5}_{13} a^{7}_{5} + a^{6}_{13} a^{7}_{6} + a^{8}_{13} a^{7}_{8} + a^{9}_{13} a^{7}_{9} & a^{8}_{0} a^{0}_{13} + a^{8}_{10} a^{10}_{13} + a^{8}_{11} a^{11}_{13} + a^{8}_{12} a^{12}_{13} + a^{1}_{13} a^{8}_{1} + a^{14}_{13} a^{8}_{14} + a^{15}_{13} a^{8}_{15} + a^{2}_{13} a^{8}_{2} + a^{3}_{13} a^{8}_{3} + a^{4}_{13} a^{8}_{4} + a^{5}_{13} a^{8}_{5} + a^{6}_{13} a^{8}_{6} + a^{7}_{13} a^{8}_{7} + a^{9}_{13} a^{8}_{9} & a^{9}_{0} a^{0}_{13} + a^{9}_{10} a^{10}_{13} + a^{9}_{11} a^{11}_{13} + a^{9}_{12} a^{12}_{13} + a^{1}_{13} a^{9}_{1} + a^{14}_{13} a^{9}_{14} + a^{15}_{13} a^{9}_{15} + a^{2}_{13} a^{9}_{2} + a^{3}_{13} a^{9}_{3} + a^{4}_{13} a^{9}_{4} + a^{5}_{13} a^{9}_{5} + a^{6}_{13} a^{9}_{6} + a^{7}_{13} a^{9}_{7} + a^{8}_{13} a^{9}_{8} & a^{10}_{0} a^{0}_{13} + a^{10}_{11} a^{11}_{13} + a^{10}_{12} a^{12}_{13} + a^{1}_{13} a^{10}_{1} + a^{14}_{13} a^{10}_{14} + a^{15}_{13} a^{10}_{15} + a^{2}_{13} a^{10}_{2} + a^{3}_{13} a^{10}_{3} + a^{4}_{13} a^{10}_{4} + a^{5}_{13} a^{10}_{5} + a^{6}_{13} a^{10}_{6} + a^{7}_{13} a^{10}_{7} + a^{8}_{13} a^{10}_{8} + a^{9}_{13} a^{10}_{9} & a^{11}_{0} a^{0}_{13} + a^{11}_{10} a^{10}_{13} + a^{11}_{12} a^{12}_{13} + a^{1}_{13} a^{11}_{1} + a^{14}_{13} a^{11}_{14} + a^{15}_{13} a^{11}_{15} + a^{2}_{13} a^{11}_{2} + a^{3}_{13} a^{11}_{3} + a^{4}_{13} a^{11}_{4} + a^{5}_{13} a^{11}_{5} + a^{6}_{13} a^{11}_{6} + a^{7}_{13} a^{11}_{7} + a^{8}_{13} a^{11}_{8} + a^{9}_{13} a^{11}_{9} & a^{12}_{0} a^{0}_{13} + a^{12}_{10} a^{10}_{13} + a^{12}_{11} a^{11}_{13} + a^{1}_{13} a^{12}_{1} + a^{14}_{13} a^{12}_{14} + a^{15}_{13} a^{12}_{15} + a^{2}_{13} a^{12}_{2} + a^{3}_{13} a^{12}_{3} + a^{4}_{13} a^{12}_{4} + a^{5}_{13} a^{12}_{5} + a^{6}_{13} a^{12}_{6} + a^{7}_{13} a^{12}_{7} + a^{8}_{13} a^{12}_{8} + a^{9}_{13} a^{12}_{9} & a^{13}_{0} a^{0}_{13} + a^{13}_{10} a^{10}_{13} + a^{13}_{11} a^{11}_{13} + a^{13}_{12} a^{12}_{13} + a^{1}_{13} a^{13}_{1} + a^{14}_{13} a^{13}_{14} + a^{15}_{13} a^{13}_{15} + a^{2}_{13} a^{13}_{2} + a^{3}_{13} a^{13}_{3} + a^{4}_{13} a^{13}_{4} + a^{5}_{13} a^{13}_{5} + a^{6}_{13} a^{13}_{6} + a^{7}_{13} a^{13}_{7} + a^{8}_{13} a^{13}_{8} + a^{9}_{13} a^{13}_{9} & a^{14}_{0} a^{0}_{13} + a^{14}_{10} a^{10}_{13} + a^{14}_{11} a^{11}_{13} + a^{14}_{12} a^{12}_{13} + a^{1}_{13} a^{14}_{1} + a^{15}_{13} a^{14}_{15} + a^{2}_{13} a^{14}_{2} + a^{3}_{13} a^{14}_{3} + a^{4}_{13} a^{14}_{4} + a^{5}_{13} a^{14}_{5} + a^{6}_{13} a^{14}_{6} + a^{7}_{13} a^{14}_{7} + a^{8}_{13} a^{14}_{8} + a^{9}_{13} a^{14}_{9} & a^{15}_{0} a^{0}_{13} + a^{15}_{10} a^{10}_{13} + a^{15}_{11} a^{11}_{13} + a^{15}_{12} a^{12}_{13} + a^{1}_{13} a^{15}_{1} + a^{14}_{13} a^{15}_{14} + a^{2}_{13} a^{15}_{2} + a^{3}_{13} a^{15}_{3} + a^{4}_{13} a^{15}_{4} + a^{5}_{13} a^{15}_{5} + a^{6}_{13} a^{15}_{6} + a^{7}_{13} a^{15}_{7} + a^{8}_{13} a^{15}_{8} + a^{9}_{13} a^{15}_{9}\\\\a^{0}_{10} a^{10}_{14} + a^{0}_{11} a^{11}_{14} + a^{0}_{12} a^{12}_{14} + a^{0}_{13} a^{13}_{14} + a^{1}_{14} a^{0}_{1} + a^{15}_{14} a^{0}_{15} + a^{2}_{14} a^{0}_{2} + a^{3}_{14} a^{0}_{3} + a^{4}_{14} a^{0}_{4} + a^{5}_{14} a^{0}_{5} + a^{6}_{14} a^{0}_{6} + a^{7}_{14} a^{0}_{7} + a^{8}_{14} a^{0}_{8} + a^{9}_{14} a^{0}_{9} & a^{1}_{0} a^{0}_{14} + a^{1}_{10} a^{10}_{14} + a^{1}_{11} a^{11}_{14} + a^{1}_{12} a^{12}_{14} + a^{1}_{13} a^{13}_{14} + a^{15}_{14} a^{1}_{15} + a^{2}_{14} a^{1}_{2} + a^{3}_{14} a^{1}_{3} + a^{4}_{14} a^{1}_{4} + a^{5}_{14} a^{1}_{5} + a^{6}_{14} a^{1}_{6} + a^{7}_{14} a^{1}_{7} + a^{8}_{14} a^{1}_{8} + a^{9}_{14} a^{1}_{9} & a^{2}_{0} a^{0}_{14} + a^{2}_{10} a^{10}_{14} + a^{2}_{11} a^{11}_{14} + a^{2}_{12} a^{12}_{14} + a^{2}_{13} a^{13}_{14} + a^{1}_{14} a^{2}_{1} + a^{15}_{14} a^{2}_{15} + a^{3}_{14} a^{2}_{3} + a^{4}_{14} a^{2}_{4} + a^{5}_{14} a^{2}_{5} + a^{6}_{14} a^{2}_{6} + a^{7}_{14} a^{2}_{7} + a^{8}_{14} a^{2}_{8} + a^{9}_{14} a^{2}_{9} & a^{3}_{0} a^{0}_{14} + a^{3}_{10} a^{10}_{14} + a^{3}_{11} a^{11}_{14} + a^{3}_{12} a^{12}_{14} + a^{3}_{13} a^{13}_{14} + a^{1}_{14} a^{3}_{1} + a^{15}_{14} a^{3}_{15} + a^{2}_{14} a^{3}_{2} + a^{4}_{14} a^{3}_{4} + a^{5}_{14} a^{3}_{5} + a^{6}_{14} a^{3}_{6} + a^{7}_{14} a^{3}_{7} + a^{8}_{14} a^{3}_{8} + a^{9}_{14} a^{3}_{9} & a^{4}_{0} a^{0}_{14} + a^{4}_{10} a^{10}_{14} + a^{4}_{11} a^{11}_{14} + a^{4}_{12} a^{12}_{14} + a^{4}_{13} a^{13}_{14} + a^{1}_{14} a^{4}_{1} + a^{15}_{14} a^{4}_{15} + a^{2}_{14} a^{4}_{2} + a^{3}_{14} a^{4}_{3} + a^{5}_{14} a^{4}_{5} + a^{6}_{14} a^{4}_{6} + a^{7}_{14} a^{4}_{7} + a^{8}_{14} a^{4}_{8} + a^{9}_{14} a^{4}_{9} & a^{5}_{0} a^{0}_{14} + a^{5}_{10} a^{10}_{14} + a^{5}_{11} a^{11}_{14} + a^{5}_{12} a^{12}_{14} + a^{5}_{13} a^{13}_{14} + a^{1}_{14} a^{5}_{1} + a^{15}_{14} a^{5}_{15} + a^{2}_{14} a^{5}_{2} + a^{3}_{14} a^{5}_{3} + a^{4}_{14} a^{5}_{4} + a^{6}_{14} a^{5}_{6} + a^{7}_{14} a^{5}_{7} + a^{8}_{14} a^{5}_{8} + a^{9}_{14} a^{5}_{9} & a^{6}_{0} a^{0}_{14} + a^{6}_{10} a^{10}_{14} + a^{6}_{11} a^{11}_{14} + a^{6}_{12} a^{12}_{14} + a^{6}_{13} a^{13}_{14} + a^{1}_{14} a^{6}_{1} + a^{15}_{14} a^{6}_{15} + a^{2}_{14} a^{6}_{2} + a^{3}_{14} a^{6}_{3} + a^{4}_{14} a^{6}_{4} + a^{5}_{14} a^{6}_{5} + a^{7}_{14} a^{6}_{7} + a^{8}_{14} a^{6}_{8} + a^{9}_{14} a^{6}_{9} & a^{7}_{0} a^{0}_{14} + a^{7}_{10} a^{10}_{14} + a^{7}_{11} a^{11}_{14} + a^{7}_{12} a^{12}_{14} + a^{7}_{13} a^{13}_{14} + a^{1}_{14} a^{7}_{1} + a^{15}_{14} a^{7}_{15} + a^{2}_{14} a^{7}_{2} + a^{3}_{14} a^{7}_{3} + a^{4}_{14} a^{7}_{4} + a^{5}_{14} a^{7}_{5} + a^{6}_{14} a^{7}_{6} + a^{8}_{14} a^{7}_{8} + a^{9}_{14} a^{7}_{9} & a^{8}_{0} a^{0}_{14} + a^{8}_{10} a^{10}_{14} + a^{8}_{11} a^{11}_{14} + a^{8}_{12} a^{12}_{14} + a^{8}_{13} a^{13}_{14} + a^{1}_{14} a^{8}_{1} + a^{15}_{14} a^{8}_{15} + a^{2}_{14} a^{8}_{2} + a^{3}_{14} a^{8}_{3} + a^{4}_{14} a^{8}_{4} + a^{5}_{14} a^{8}_{5} + a^{6}_{14} a^{8}_{6} + a^{7}_{14} a^{8}_{7} + a^{9}_{14} a^{8}_{9} & a^{9}_{0} a^{0}_{14} + a^{9}_{10} a^{10}_{14} + a^{9}_{11} a^{11}_{14} + a^{9}_{12} a^{12}_{14} + a^{9}_{13} a^{13}_{14} + a^{1}_{14} a^{9}_{1} + a^{15}_{14} a^{9}_{15} + a^{2}_{14} a^{9}_{2} + a^{3}_{14} a^{9}_{3} + a^{4}_{14} a^{9}_{4} + a^{5}_{14} a^{9}_{5} + a^{6}_{14} a^{9}_{6} + a^{7}_{14} a^{9}_{7} + a^{8}_{14} a^{9}_{8} & a^{10}_{0} a^{0}_{14} + a^{10}_{11} a^{11}_{14} + a^{10}_{12} a^{12}_{14} + a^{10}_{13} a^{13}_{14} + a^{1}_{14} a^{10}_{1} + a^{15}_{14} a^{10}_{15} + a^{2}_{14} a^{10}_{2} + a^{3}_{14} a^{10}_{3} + a^{4}_{14} a^{10}_{4} + a^{5}_{14} a^{10}_{5} + a^{6}_{14} a^{10}_{6} + a^{7}_{14} a^{10}_{7} + a^{8}_{14} a^{10}_{8} + a^{9}_{14} a^{10}_{9} & a^{11}_{0} a^{0}_{14} + a^{11}_{10} a^{10}_{14} + a^{11}_{12} a^{12}_{14} + a^{11}_{13} a^{13}_{14} + a^{1}_{14} a^{11}_{1} + a^{15}_{14} a^{11}_{15} + a^{2}_{14} a^{11}_{2} + a^{3}_{14} a^{11}_{3} + a^{4}_{14} a^{11}_{4} + a^{5}_{14} a^{11}_{5} + a^{6}_{14} a^{11}_{6} + a^{7}_{14} a^{11}_{7} + a^{8}_{14} a^{11}_{8} + a^{9}_{14} a^{11}_{9} & a^{12}_{0} a^{0}_{14} + a^{12}_{10} a^{10}_{14} + a^{12}_{11} a^{11}_{14} + a^{12}_{13} a^{13}_{14} + a^{1}_{14} a^{12}_{1} + a^{15}_{14} a^{12}_{15} + a^{2}_{14} a^{12}_{2} + a^{3}_{14} a^{12}_{3} + a^{4}_{14} a^{12}_{4} + a^{5}_{14} a^{12}_{5} + a^{6}_{14} a^{12}_{6} + a^{7}_{14} a^{12}_{7} + a^{8}_{14} a^{12}_{8} + a^{9}_{14} a^{12}_{9} & a^{13}_{0} a^{0}_{14} + a^{13}_{10} a^{10}_{14} + a^{13}_{11} a^{11}_{14} + a^{13}_{12} a^{12}_{14} + a^{1}_{14} a^{13}_{1} + a^{15}_{14} a^{13}_{15} + a^{2}_{14} a^{13}_{2} + a^{3}_{14} a^{13}_{3} + a^{4}_{14} a^{13}_{4} + a^{5}_{14} a^{13}_{5} + a^{6}_{14} a^{13}_{6} + a^{7}_{14} a^{13}_{7} + a^{8}_{14} a^{13}_{8} + a^{9}_{14} a^{13}_{9} & a^{14}_{0} a^{0}_{14} + a^{14}_{10} a^{10}_{14} + a^{14}_{11} a^{11}_{14} + a^{14}_{12} a^{12}_{14} + a^{14}_{13} a^{13}_{14} + a^{1}_{14} a^{14}_{1} + a^{15}_{14} a^{14}_{15} + a^{2}_{14} a^{14}_{2} + a^{3}_{14} a^{14}_{3} + a^{4}_{14} a^{14}_{4} + a^{5}_{14} a^{14}_{5} + a^{6}_{14} a^{14}_{6} + a^{7}_{14} a^{14}_{7} + a^{8}_{14} a^{14}_{8} + a^{9}_{14} a^{14}_{9} & a^{15}_{0} a^{0}_{14} + a^{15}_{10} a^{10}_{14} + a^{15}_{11} a^{11}_{14} + a^{15}_{12} a^{12}_{14} + a^{15}_{13} a^{13}_{14} + a^{1}_{14} a^{15}_{1} + a^{2}_{14} a^{15}_{2} + a^{3}_{14} a^{15}_{3} + a^{4}_{14} a^{15}_{4} + a^{5}_{14} a^{15}_{5} + a^{6}_{14} a^{15}_{6} + a^{7}_{14} a^{15}_{7} + a^{8}_{14} a^{15}_{8} + a^{9}_{14} a^{15}_{9}\\\\a^{0}_{10} a^{10}_{15} + a^{0}_{11} a^{11}_{15} + a^{0}_{12} a^{12}_{15} + a^{0}_{13} a^{13}_{15} + a^{0}_{14} a^{14}_{15} + a^{1}_{15} a^{0}_{1} + a^{2}_{15} a^{0}_{2} + a^{3}_{15} a^{0}_{3} + a^{4}_{15} a^{0}_{4} + a^{5}_{15} a^{0}_{5} + a^{6}_{15} a^{0}_{6} + a^{7}_{15} a^{0}_{7} + a^{8}_{15} a^{0}_{8} + a^{9}_{15} a^{0}_{9} & a^{1}_{0} a^{0}_{15} + a^{1}_{10} a^{10}_{15} + a^{1}_{11} a^{11}_{15} + a^{1}_{12} a^{12}_{15} + a^{1}_{13} a^{13}_{15} + a^{1}_{14} a^{14}_{15} + a^{2}_{15} a^{1}_{2} + a^{3}_{15} a^{1}_{3} + a^{4}_{15} a^{1}_{4} + a^{5}_{15} a^{1}_{5} + a^{6}_{15} a^{1}_{6} + a^{7}_{15} a^{1}_{7} + a^{8}_{15} a^{1}_{8} + a^{9}_{15} a^{1}_{9} & a^{2}_{0} a^{0}_{15} + a^{2}_{10} a^{10}_{15} + a^{2}_{11} a^{11}_{15} + a^{2}_{12} a^{12}_{15} + a^{2}_{13} a^{13}_{15} + a^{2}_{14} a^{14}_{15} + a^{1}_{15} a^{2}_{1} + a^{3}_{15} a^{2}_{3} + a^{4}_{15} a^{2}_{4} + a^{5}_{15} a^{2}_{5} + a^{6}_{15} a^{2}_{6} + a^{7}_{15} a^{2}_{7} + a^{8}_{15} a^{2}_{8} + a^{9}_{15} a^{2}_{9} & a^{3}_{0} a^{0}_{15} + a^{3}_{10} a^{10}_{15} + a^{3}_{11} a^{11}_{15} + a^{3}_{12} a^{12}_{15} + a^{3}_{13} a^{13}_{15} + a^{3}_{14} a^{14}_{15} + a^{1}_{15} a^{3}_{1} + a^{2}_{15} a^{3}_{2} + a^{4}_{15} a^{3}_{4} + a^{5}_{15} a^{3}_{5} + a^{6}_{15} a^{3}_{6} + a^{7}_{15} a^{3}_{7} + a^{8}_{15} a^{3}_{8} + a^{9}_{15} a^{3}_{9} & a^{4}_{0} a^{0}_{15} + a^{4}_{10} a^{10}_{15} + a^{4}_{11} a^{11}_{15} + a^{4}_{12} a^{12}_{15} + a^{4}_{13} a^{13}_{15} + a^{4}_{14} a^{14}_{15} + a^{1}_{15} a^{4}_{1} + a^{2}_{15} a^{4}_{2} + a^{3}_{15} a^{4}_{3} + a^{5}_{15} a^{4}_{5} + a^{6}_{15} a^{4}_{6} + a^{7}_{15} a^{4}_{7} + a^{8}_{15} a^{4}_{8} + a^{9}_{15} a^{4}_{9} & a^{5}_{0} a^{0}_{15} + a^{5}_{10} a^{10}_{15} + a^{5}_{11} a^{11}_{15} + a^{5}_{12} a^{12}_{15} + a^{5}_{13} a^{13}_{15} + a^{5}_{14} a^{14}_{15} + a^{1}_{15} a^{5}_{1} + a^{2}_{15} a^{5}_{2} + a^{3}_{15} a^{5}_{3} + a^{4}_{15} a^{5}_{4} + a^{6}_{15} a^{5}_{6} + a^{7}_{15} a^{5}_{7} + a^{8}_{15} a^{5}_{8} + a^{9}_{15} a^{5}_{9} & a^{6}_{0} a^{0}_{15} + a^{6}_{10} a^{10}_{15} + a^{6}_{11} a^{11}_{15} + a^{6}_{12} a^{12}_{15} + a^{6}_{13} a^{13}_{15} + a^{6}_{14} a^{14}_{15} + a^{1}_{15} a^{6}_{1} + a^{2}_{15} a^{6}_{2} + a^{3}_{15} a^{6}_{3} + a^{4}_{15} a^{6}_{4} + a^{5}_{15} a^{6}_{5} + a^{7}_{15} a^{6}_{7} + a^{8}_{15} a^{6}_{8} + a^{9}_{15} a^{6}_{9} & a^{7}_{0} a^{0}_{15} + a^{7}_{10} a^{10}_{15} + a^{7}_{11} a^{11}_{15} + a^{7}_{12} a^{12}_{15} + a^{7}_{13} a^{13}_{15} + a^{7}_{14} a^{14}_{15} + a^{1}_{15} a^{7}_{1} + a^{2}_{15} a^{7}_{2} + a^{3}_{15} a^{7}_{3} + a^{4}_{15} a^{7}_{4} + a^{5}_{15} a^{7}_{5} + a^{6}_{15} a^{7}_{6} + a^{8}_{15} a^{7}_{8} + a^{9}_{15} a^{7}_{9} & a^{8}_{0} a^{0}_{15} + a^{8}_{10} a^{10}_{15} + a^{8}_{11} a^{11}_{15} + a^{8}_{12} a^{12}_{15} + a^{8}_{13} a^{13}_{15} + a^{8}_{14} a^{14}_{15} + a^{1}_{15} a^{8}_{1} + a^{2}_{15} a^{8}_{2} + a^{3}_{15} a^{8}_{3} + a^{4}_{15} a^{8}_{4} + a^{5}_{15} a^{8}_{5} + a^{6}_{15} a^{8}_{6} + a^{7}_{15} a^{8}_{7} + a^{9}_{15} a^{8}_{9} & a^{9}_{0} a^{0}_{15} + a^{9}_{10} a^{10}_{15} + a^{9}_{11} a^{11}_{15} + a^{9}_{12} a^{12}_{15} + a^{9}_{13} a^{13}_{15} + a^{9}_{14} a^{14}_{15} + a^{1}_{15} a^{9}_{1} + a^{2}_{15} a^{9}_{2} + a^{3}_{15} a^{9}_{3} + a^{4}_{15} a^{9}_{4} + a^{5}_{15} a^{9}_{5} + a^{6}_{15} a^{9}_{6} + a^{7}_{15} a^{9}_{7} + a^{8}_{15} a^{9}_{8} & a^{10}_{0} a^{0}_{15} + a^{10}_{11} a^{11}_{15} + a^{10}_{12} a^{12}_{15} + a^{10}_{13} a^{13}_{15} + a^{10}_{14} a^{14}_{15} + a^{1}_{15} a^{10}_{1} + a^{2}_{15} a^{10}_{2} + a^{3}_{15} a^{10}_{3} + a^{4}_{15} a^{10}_{4} + a^{5}_{15} a^{10}_{5} + a^{6}_{15} a^{10}_{6} + a^{7}_{15} a^{10}_{7} + a^{8}_{15} a^{10}_{8} + a^{9}_{15} a^{10}_{9} & a^{11}_{0} a^{0}_{15} + a^{11}_{10} a^{10}_{15} + a^{11}_{12} a^{12}_{15} + a^{11}_{13} a^{13}_{15} + a^{11}_{14} a^{14}_{15} + a^{1}_{15} a^{11}_{1} + a^{2}_{15} a^{11}_{2} + a^{3}_{15} a^{11}_{3} + a^{4}_{15} a^{11}_{4} + a^{5}_{15} a^{11}_{5} + a^{6}_{15} a^{11}_{6} + a^{7}_{15} a^{11}_{7} + a^{8}_{15} a^{11}_{8} + a^{9}_{15} a^{11}_{9} & a^{12}_{0} a^{0}_{15} + a^{12}_{10} a^{10}_{15} + a^{12}_{11} a^{11}_{15} + a^{12}_{13} a^{13}_{15} + a^{12}_{14} a^{14}_{15} + a^{1}_{15} a^{12}_{1} + a^{2}_{15} a^{12}_{2} + a^{3}_{15} a^{12}_{3} + a^{4}_{15} a^{12}_{4} + a^{5}_{15} a^{12}_{5} + a^{6}_{15} a^{12}_{6} + a^{7}_{15} a^{12}_{7} + a^{8}_{15} a^{12}_{8} + a^{9}_{15} a^{12}_{9} & a^{13}_{0} a^{0}_{15} + a^{13}_{10} a^{10}_{15} + a^{13}_{11} a^{11}_{15} + a^{13}_{12} a^{12}_{15} + a^{13}_{14} a^{14}_{15} + a^{1}_{15} a^{13}_{1} + a^{2}_{15} a^{13}_{2} + a^{3}_{15} a^{13}_{3} + a^{4}_{15} a^{13}_{4} + a^{5}_{15} a^{13}_{5} + a^{6}_{15} a^{13}_{6} + a^{7}_{15} a^{13}_{7} + a^{8}_{15} a^{13}_{8} + a^{9}_{15} a^{13}_{9} & a^{14}_{0} a^{0}_{15} + a^{14}_{10} a^{10}_{15} + a^{14}_{11} a^{11}_{15} + a^{14}_{12} a^{12}_{15} + a^{14}_{13} a^{13}_{15} + a^{1}_{15} a^{14}_{1} + a^{2}_{15} a^{14}_{2} + a^{3}_{15} a^{14}_{3} + a^{4}_{15} a^{14}_{4} + a^{5}_{15} a^{14}_{5} + a^{6}_{15} a^{14}_{6} + a^{7}_{15} a^{14}_{7} + a^{8}_{15} a^{14}_{8} + a^{9}_{15} a^{14}_{9} & a^{15}_{0} a^{0}_{15} + a^{15}_{10} a^{10}_{15} + a^{15}_{11} a^{11}_{15} + a^{15}_{12} a^{12}_{15} + a^{15}_{13} a^{13}_{15} + a^{15}_{14} a^{14}_{15} + a^{1}_{15} a^{15}_{1} + a^{2}_{15} a^{15}_{2} + a^{3}_{15} a^{15}_{3} + a^{4}_{15} a^{15}_{4} + a^{5}_{15} a^{15}_{5} + a^{6}_{15} a^{15}_{6} + a^{7}_{15} a^{15}_{7} + a^{8}_{15} a^{15}_{8} + a^{9}_{15} a^{15}_{9}\\end{array}\\right]$"
      ],
      "text/plain": [
       "Matrix([\n",
       "[a0__1*a1__0 + a0__10*a10__0 + a0__11*a11__0 + a0__12*a12__0 + a0__13*a13__0 + a0__14*a14__0 + a0__15*a15__0 + a0__2*a2__0 + a0__3*a3__0 + a0__4*a4__0 + a0__5*a5__0 + a0__6*a6__0 + a0__7*a7__0 + a0__8*a8__0 + a0__9*a9__0,               a0__10*a10__1 + a0__11*a11__1 + a0__12*a12__1 + a0__13*a13__1 + a0__14*a14__1 + a0__15*a15__1 + a0__2*a2__1 + a0__3*a3__1 + a0__4*a4__1 + a0__5*a5__1 + a0__6*a6__1 + a0__7*a7__1 + a0__8*a8__1 + a0__9*a9__1,               a0__1*a1__2 + a0__10*a10__2 + a0__11*a11__2 + a0__12*a12__2 + a0__13*a13__2 + a0__14*a14__2 + a0__15*a15__2 + a0__3*a3__2 + a0__4*a4__2 + a0__5*a5__2 + a0__6*a6__2 + a0__7*a7__2 + a0__8*a8__2 + a0__9*a9__2,               a0__1*a1__3 + a0__10*a10__3 + a0__11*a11__3 + a0__12*a12__3 + a0__13*a13__3 + a0__14*a14__3 + a0__15*a15__3 + a0__2*a2__3 + a0__4*a4__3 + a0__5*a5__3 + a0__6*a6__3 + a0__7*a7__3 + a0__8*a8__3 + a0__9*a9__3,               a0__1*a1__4 + a0__10*a10__4 + a0__11*a11__4 + a0__12*a12__4 + a0__13*a13__4 + a0__14*a14__4 + a0__15*a15__4 + a0__2*a2__4 + a0__3*a3__4 + a0__5*a5__4 + a0__6*a6__4 + a0__7*a7__4 + a0__8*a8__4 + a0__9*a9__4,               a0__1*a1__5 + a0__10*a10__5 + a0__11*a11__5 + a0__12*a12__5 + a0__13*a13__5 + a0__14*a14__5 + a0__15*a15__5 + a0__2*a2__5 + a0__3*a3__5 + a0__4*a4__5 + a0__6*a6__5 + a0__7*a7__5 + a0__8*a8__5 + a0__9*a9__5,               a0__1*a1__6 + a0__10*a10__6 + a0__11*a11__6 + a0__12*a12__6 + a0__13*a13__6 + a0__14*a14__6 + a0__15*a15__6 + a0__2*a2__6 + a0__3*a3__6 + a0__4*a4__6 + a0__5*a5__6 + a0__7*a7__6 + a0__8*a8__6 + a0__9*a9__6,               a0__1*a1__7 + a0__10*a10__7 + a0__11*a11__7 + a0__12*a12__7 + a0__13*a13__7 + a0__14*a14__7 + a0__15*a15__7 + a0__2*a2__7 + a0__3*a3__7 + a0__4*a4__7 + a0__5*a5__7 + a0__6*a6__7 + a0__8*a8__7 + a0__9*a9__7,               a0__1*a1__8 + a0__10*a10__8 + a0__11*a11__8 + a0__12*a12__8 + a0__13*a13__8 + a0__14*a14__8 + a0__15*a15__8 + a0__2*a2__8 + a0__3*a3__8 + a0__4*a4__8 + a0__5*a5__8 + a0__6*a6__8 + a0__7*a7__8 + a0__9*a9__8,               a0__1*a1__9 + a0__10*a10__9 + a0__11*a11__9 + a0__12*a12__9 + a0__13*a13__9 + a0__14*a14__9 + a0__15*a15__9 + a0__2*a2__9 + a0__3*a3__9 + a0__4*a4__9 + a0__5*a5__9 + a0__6*a6__9 + a0__7*a7__9 + a0__8*a8__9,                               a0__1*a1__10 + a0__11*a11__10 + a0__12*a12__10 + a0__13*a13__10 + a0__14*a14__10 + a0__15*a15__10 + a0__2*a2__10 + a0__3*a3__10 + a0__4*a4__10 + a0__5*a5__10 + a0__6*a6__10 + a0__7*a7__10 + a0__8*a8__10 + a0__9*a9__10,                               a0__1*a1__11 + a0__10*a10__11 + a0__12*a12__11 + a0__13*a13__11 + a0__14*a14__11 + a0__15*a15__11 + a0__2*a2__11 + a0__3*a3__11 + a0__4*a4__11 + a0__5*a5__11 + a0__6*a6__11 + a0__7*a7__11 + a0__8*a8__11 + a0__9*a9__11,                               a0__1*a1__12 + a0__10*a10__12 + a0__11*a11__12 + a0__13*a13__12 + a0__14*a14__12 + a0__15*a15__12 + a0__2*a2__12 + a0__3*a3__12 + a0__4*a4__12 + a0__5*a5__12 + a0__6*a6__12 + a0__7*a7__12 + a0__8*a8__12 + a0__9*a9__12,                               a0__1*a1__13 + a0__10*a10__13 + a0__11*a11__13 + a0__12*a12__13 + a0__14*a14__13 + a0__15*a15__13 + a0__2*a2__13 + a0__3*a3__13 + a0__4*a4__13 + a0__5*a5__13 + a0__6*a6__13 + a0__7*a7__13 + a0__8*a8__13 + a0__9*a9__13,                               a0__1*a1__14 + a0__10*a10__14 + a0__11*a11__14 + a0__12*a12__14 + a0__13*a13__14 + a0__15*a15__14 + a0__2*a2__14 + a0__3*a3__14 + a0__4*a4__14 + a0__5*a5__14 + a0__6*a6__14 + a0__7*a7__14 + a0__8*a8__14 + a0__9*a9__14,                               a0__1*a1__15 + a0__10*a10__15 + a0__11*a11__15 + a0__12*a12__15 + a0__13*a13__15 + a0__14*a14__15 + a0__2*a2__15 + a0__3*a3__15 + a0__4*a4__15 + a0__5*a5__15 + a0__6*a6__15 + a0__7*a7__15 + a0__8*a8__15 + a0__9*a9__15],\n",
       "[              a10__0*a1__10 + a11__0*a1__11 + a12__0*a1__12 + a13__0*a1__13 + a14__0*a1__14 + a15__0*a1__15 + a1__2*a2__0 + a1__3*a3__0 + a1__4*a4__0 + a1__5*a5__0 + a1__6*a6__0 + a1__7*a7__0 + a1__8*a8__0 + a1__9*a9__0, a0__1*a1__0 + a10__1*a1__10 + a11__1*a1__11 + a12__1*a1__12 + a13__1*a1__13 + a14__1*a1__14 + a15__1*a1__15 + a1__2*a2__1 + a1__3*a3__1 + a1__4*a4__1 + a1__5*a5__1 + a1__6*a6__1 + a1__7*a7__1 + a1__8*a8__1 + a1__9*a9__1,               a0__2*a1__0 + a10__2*a1__10 + a11__2*a1__11 + a12__2*a1__12 + a13__2*a1__13 + a14__2*a1__14 + a15__2*a1__15 + a1__3*a3__2 + a1__4*a4__2 + a1__5*a5__2 + a1__6*a6__2 + a1__7*a7__2 + a1__8*a8__2 + a1__9*a9__2,               a0__3*a1__0 + a10__3*a1__10 + a11__3*a1__11 + a12__3*a1__12 + a13__3*a1__13 + a14__3*a1__14 + a15__3*a1__15 + a1__2*a2__3 + a1__4*a4__3 + a1__5*a5__3 + a1__6*a6__3 + a1__7*a7__3 + a1__8*a8__3 + a1__9*a9__3,               a0__4*a1__0 + a10__4*a1__10 + a11__4*a1__11 + a12__4*a1__12 + a13__4*a1__13 + a14__4*a1__14 + a15__4*a1__15 + a1__2*a2__4 + a1__3*a3__4 + a1__5*a5__4 + a1__6*a6__4 + a1__7*a7__4 + a1__8*a8__4 + a1__9*a9__4,               a0__5*a1__0 + a10__5*a1__10 + a11__5*a1__11 + a12__5*a1__12 + a13__5*a1__13 + a14__5*a1__14 + a15__5*a1__15 + a1__2*a2__5 + a1__3*a3__5 + a1__4*a4__5 + a1__6*a6__5 + a1__7*a7__5 + a1__8*a8__5 + a1__9*a9__5,               a0__6*a1__0 + a10__6*a1__10 + a11__6*a1__11 + a12__6*a1__12 + a13__6*a1__13 + a14__6*a1__14 + a15__6*a1__15 + a1__2*a2__6 + a1__3*a3__6 + a1__4*a4__6 + a1__5*a5__6 + a1__7*a7__6 + a1__8*a8__6 + a1__9*a9__6,               a0__7*a1__0 + a10__7*a1__10 + a11__7*a1__11 + a12__7*a1__12 + a13__7*a1__13 + a14__7*a1__14 + a15__7*a1__15 + a1__2*a2__7 + a1__3*a3__7 + a1__4*a4__7 + a1__5*a5__7 + a1__6*a6__7 + a1__8*a8__7 + a1__9*a9__7,               a0__8*a1__0 + a10__8*a1__10 + a11__8*a1__11 + a12__8*a1__12 + a13__8*a1__13 + a14__8*a1__14 + a15__8*a1__15 + a1__2*a2__8 + a1__3*a3__8 + a1__4*a4__8 + a1__5*a5__8 + a1__6*a6__8 + a1__7*a7__8 + a1__9*a9__8,               a0__9*a1__0 + a10__9*a1__10 + a11__9*a1__11 + a12__9*a1__12 + a13__9*a1__13 + a14__9*a1__14 + a15__9*a1__15 + a1__2*a2__9 + a1__3*a3__9 + a1__4*a4__9 + a1__5*a5__9 + a1__6*a6__9 + a1__7*a7__9 + a1__8*a8__9,                               a0__10*a1__0 + a11__10*a1__11 + a12__10*a1__12 + a13__10*a1__13 + a14__10*a1__14 + a15__10*a1__15 + a1__2*a2__10 + a1__3*a3__10 + a1__4*a4__10 + a1__5*a5__10 + a1__6*a6__10 + a1__7*a7__10 + a1__8*a8__10 + a1__9*a9__10,                               a0__11*a1__0 + a10__11*a1__10 + a12__11*a1__12 + a13__11*a1__13 + a14__11*a1__14 + a15__11*a1__15 + a1__2*a2__11 + a1__3*a3__11 + a1__4*a4__11 + a1__5*a5__11 + a1__6*a6__11 + a1__7*a7__11 + a1__8*a8__11 + a1__9*a9__11,                               a0__12*a1__0 + a10__12*a1__10 + a11__12*a1__11 + a13__12*a1__13 + a14__12*a1__14 + a15__12*a1__15 + a1__2*a2__12 + a1__3*a3__12 + a1__4*a4__12 + a1__5*a5__12 + a1__6*a6__12 + a1__7*a7__12 + a1__8*a8__12 + a1__9*a9__12,                               a0__13*a1__0 + a10__13*a1__10 + a11__13*a1__11 + a12__13*a1__12 + a14__13*a1__14 + a15__13*a1__15 + a1__2*a2__13 + a1__3*a3__13 + a1__4*a4__13 + a1__5*a5__13 + a1__6*a6__13 + a1__7*a7__13 + a1__8*a8__13 + a1__9*a9__13,                               a0__14*a1__0 + a10__14*a1__10 + a11__14*a1__11 + a12__14*a1__12 + a13__14*a1__13 + a15__14*a1__15 + a1__2*a2__14 + a1__3*a3__14 + a1__4*a4__14 + a1__5*a5__14 + a1__6*a6__14 + a1__7*a7__14 + a1__8*a8__14 + a1__9*a9__14,                               a0__15*a1__0 + a10__15*a1__10 + a11__15*a1__11 + a12__15*a1__12 + a13__15*a1__13 + a14__15*a1__14 + a1__2*a2__15 + a1__3*a3__15 + a1__4*a4__15 + a1__5*a5__15 + a1__6*a6__15 + a1__7*a7__15 + a1__8*a8__15 + a1__9*a9__15],\n",
       "[              a10__0*a2__10 + a11__0*a2__11 + a12__0*a2__12 + a13__0*a2__13 + a14__0*a2__14 + a15__0*a2__15 + a1__0*a2__1 + a2__3*a3__0 + a2__4*a4__0 + a2__5*a5__0 + a2__6*a6__0 + a2__7*a7__0 + a2__8*a8__0 + a2__9*a9__0,               a0__1*a2__0 + a10__1*a2__10 + a11__1*a2__11 + a12__1*a2__12 + a13__1*a2__13 + a14__1*a2__14 + a15__1*a2__15 + a2__3*a3__1 + a2__4*a4__1 + a2__5*a5__1 + a2__6*a6__1 + a2__7*a7__1 + a2__8*a8__1 + a2__9*a9__1, a0__2*a2__0 + a10__2*a2__10 + a11__2*a2__11 + a12__2*a2__12 + a13__2*a2__13 + a14__2*a2__14 + a15__2*a2__15 + a1__2*a2__1 + a2__3*a3__2 + a2__4*a4__2 + a2__5*a5__2 + a2__6*a6__2 + a2__7*a7__2 + a2__8*a8__2 + a2__9*a9__2,               a0__3*a2__0 + a10__3*a2__10 + a11__3*a2__11 + a12__3*a2__12 + a13__3*a2__13 + a14__3*a2__14 + a15__3*a2__15 + a1__3*a2__1 + a2__4*a4__3 + a2__5*a5__3 + a2__6*a6__3 + a2__7*a7__3 + a2__8*a8__3 + a2__9*a9__3,               a0__4*a2__0 + a10__4*a2__10 + a11__4*a2__11 + a12__4*a2__12 + a13__4*a2__13 + a14__4*a2__14 + a15__4*a2__15 + a1__4*a2__1 + a2__3*a3__4 + a2__5*a5__4 + a2__6*a6__4 + a2__7*a7__4 + a2__8*a8__4 + a2__9*a9__4,               a0__5*a2__0 + a10__5*a2__10 + a11__5*a2__11 + a12__5*a2__12 + a13__5*a2__13 + a14__5*a2__14 + a15__5*a2__15 + a1__5*a2__1 + a2__3*a3__5 + a2__4*a4__5 + a2__6*a6__5 + a2__7*a7__5 + a2__8*a8__5 + a2__9*a9__5,               a0__6*a2__0 + a10__6*a2__10 + a11__6*a2__11 + a12__6*a2__12 + a13__6*a2__13 + a14__6*a2__14 + a15__6*a2__15 + a1__6*a2__1 + a2__3*a3__6 + a2__4*a4__6 + a2__5*a5__6 + a2__7*a7__6 + a2__8*a8__6 + a2__9*a9__6,               a0__7*a2__0 + a10__7*a2__10 + a11__7*a2__11 + a12__7*a2__12 + a13__7*a2__13 + a14__7*a2__14 + a15__7*a2__15 + a1__7*a2__1 + a2__3*a3__7 + a2__4*a4__7 + a2__5*a5__7 + a2__6*a6__7 + a2__8*a8__7 + a2__9*a9__7,               a0__8*a2__0 + a10__8*a2__10 + a11__8*a2__11 + a12__8*a2__12 + a13__8*a2__13 + a14__8*a2__14 + a15__8*a2__15 + a1__8*a2__1 + a2__3*a3__8 + a2__4*a4__8 + a2__5*a5__8 + a2__6*a6__8 + a2__7*a7__8 + a2__9*a9__8,               a0__9*a2__0 + a10__9*a2__10 + a11__9*a2__11 + a12__9*a2__12 + a13__9*a2__13 + a14__9*a2__14 + a15__9*a2__15 + a1__9*a2__1 + a2__3*a3__9 + a2__4*a4__9 + a2__5*a5__9 + a2__6*a6__9 + a2__7*a7__9 + a2__8*a8__9,                               a0__10*a2__0 + a11__10*a2__11 + a12__10*a2__12 + a13__10*a2__13 + a14__10*a2__14 + a15__10*a2__15 + a1__10*a2__1 + a2__3*a3__10 + a2__4*a4__10 + a2__5*a5__10 + a2__6*a6__10 + a2__7*a7__10 + a2__8*a8__10 + a2__9*a9__10,                               a0__11*a2__0 + a10__11*a2__10 + a12__11*a2__12 + a13__11*a2__13 + a14__11*a2__14 + a15__11*a2__15 + a1__11*a2__1 + a2__3*a3__11 + a2__4*a4__11 + a2__5*a5__11 + a2__6*a6__11 + a2__7*a7__11 + a2__8*a8__11 + a2__9*a9__11,                               a0__12*a2__0 + a10__12*a2__10 + a11__12*a2__11 + a13__12*a2__13 + a14__12*a2__14 + a15__12*a2__15 + a1__12*a2__1 + a2__3*a3__12 + a2__4*a4__12 + a2__5*a5__12 + a2__6*a6__12 + a2__7*a7__12 + a2__8*a8__12 + a2__9*a9__12,                               a0__13*a2__0 + a10__13*a2__10 + a11__13*a2__11 + a12__13*a2__12 + a14__13*a2__14 + a15__13*a2__15 + a1__13*a2__1 + a2__3*a3__13 + a2__4*a4__13 + a2__5*a5__13 + a2__6*a6__13 + a2__7*a7__13 + a2__8*a8__13 + a2__9*a9__13,                               a0__14*a2__0 + a10__14*a2__10 + a11__14*a2__11 + a12__14*a2__12 + a13__14*a2__13 + a15__14*a2__15 + a1__14*a2__1 + a2__3*a3__14 + a2__4*a4__14 + a2__5*a5__14 + a2__6*a6__14 + a2__7*a7__14 + a2__8*a8__14 + a2__9*a9__14,                               a0__15*a2__0 + a10__15*a2__10 + a11__15*a2__11 + a12__15*a2__12 + a13__15*a2__13 + a14__15*a2__14 + a1__15*a2__1 + a2__3*a3__15 + a2__4*a4__15 + a2__5*a5__15 + a2__6*a6__15 + a2__7*a7__15 + a2__8*a8__15 + a2__9*a9__15],\n",
       "[              a10__0*a3__10 + a11__0*a3__11 + a12__0*a3__12 + a13__0*a3__13 + a14__0*a3__14 + a15__0*a3__15 + a1__0*a3__1 + a2__0*a3__2 + a3__4*a4__0 + a3__5*a5__0 + a3__6*a6__0 + a3__7*a7__0 + a3__8*a8__0 + a3__9*a9__0,               a0__1*a3__0 + a10__1*a3__10 + a11__1*a3__11 + a12__1*a3__12 + a13__1*a3__13 + a14__1*a3__14 + a15__1*a3__15 + a2__1*a3__2 + a3__4*a4__1 + a3__5*a5__1 + a3__6*a6__1 + a3__7*a7__1 + a3__8*a8__1 + a3__9*a9__1,               a0__2*a3__0 + a10__2*a3__10 + a11__2*a3__11 + a12__2*a3__12 + a13__2*a3__13 + a14__2*a3__14 + a15__2*a3__15 + a1__2*a3__1 + a3__4*a4__2 + a3__5*a5__2 + a3__6*a6__2 + a3__7*a7__2 + a3__8*a8__2 + a3__9*a9__2, a0__3*a3__0 + a10__3*a3__10 + a11__3*a3__11 + a12__3*a3__12 + a13__3*a3__13 + a14__3*a3__14 + a15__3*a3__15 + a1__3*a3__1 + a2__3*a3__2 + a3__4*a4__3 + a3__5*a5__3 + a3__6*a6__3 + a3__7*a7__3 + a3__8*a8__3 + a3__9*a9__3,               a0__4*a3__0 + a10__4*a3__10 + a11__4*a3__11 + a12__4*a3__12 + a13__4*a3__13 + a14__4*a3__14 + a15__4*a3__15 + a1__4*a3__1 + a2__4*a3__2 + a3__5*a5__4 + a3__6*a6__4 + a3__7*a7__4 + a3__8*a8__4 + a3__9*a9__4,               a0__5*a3__0 + a10__5*a3__10 + a11__5*a3__11 + a12__5*a3__12 + a13__5*a3__13 + a14__5*a3__14 + a15__5*a3__15 + a1__5*a3__1 + a2__5*a3__2 + a3__4*a4__5 + a3__6*a6__5 + a3__7*a7__5 + a3__8*a8__5 + a3__9*a9__5,               a0__6*a3__0 + a10__6*a3__10 + a11__6*a3__11 + a12__6*a3__12 + a13__6*a3__13 + a14__6*a3__14 + a15__6*a3__15 + a1__6*a3__1 + a2__6*a3__2 + a3__4*a4__6 + a3__5*a5__6 + a3__7*a7__6 + a3__8*a8__6 + a3__9*a9__6,               a0__7*a3__0 + a10__7*a3__10 + a11__7*a3__11 + a12__7*a3__12 + a13__7*a3__13 + a14__7*a3__14 + a15__7*a3__15 + a1__7*a3__1 + a2__7*a3__2 + a3__4*a4__7 + a3__5*a5__7 + a3__6*a6__7 + a3__8*a8__7 + a3__9*a9__7,               a0__8*a3__0 + a10__8*a3__10 + a11__8*a3__11 + a12__8*a3__12 + a13__8*a3__13 + a14__8*a3__14 + a15__8*a3__15 + a1__8*a3__1 + a2__8*a3__2 + a3__4*a4__8 + a3__5*a5__8 + a3__6*a6__8 + a3__7*a7__8 + a3__9*a9__8,               a0__9*a3__0 + a10__9*a3__10 + a11__9*a3__11 + a12__9*a3__12 + a13__9*a3__13 + a14__9*a3__14 + a15__9*a3__15 + a1__9*a3__1 + a2__9*a3__2 + a3__4*a4__9 + a3__5*a5__9 + a3__6*a6__9 + a3__7*a7__9 + a3__8*a8__9,                               a0__10*a3__0 + a11__10*a3__11 + a12__10*a3__12 + a13__10*a3__13 + a14__10*a3__14 + a15__10*a3__15 + a1__10*a3__1 + a2__10*a3__2 + a3__4*a4__10 + a3__5*a5__10 + a3__6*a6__10 + a3__7*a7__10 + a3__8*a8__10 + a3__9*a9__10,                               a0__11*a3__0 + a10__11*a3__10 + a12__11*a3__12 + a13__11*a3__13 + a14__11*a3__14 + a15__11*a3__15 + a1__11*a3__1 + a2__11*a3__2 + a3__4*a4__11 + a3__5*a5__11 + a3__6*a6__11 + a3__7*a7__11 + a3__8*a8__11 + a3__9*a9__11,                               a0__12*a3__0 + a10__12*a3__10 + a11__12*a3__11 + a13__12*a3__13 + a14__12*a3__14 + a15__12*a3__15 + a1__12*a3__1 + a2__12*a3__2 + a3__4*a4__12 + a3__5*a5__12 + a3__6*a6__12 + a3__7*a7__12 + a3__8*a8__12 + a3__9*a9__12,                               a0__13*a3__0 + a10__13*a3__10 + a11__13*a3__11 + a12__13*a3__12 + a14__13*a3__14 + a15__13*a3__15 + a1__13*a3__1 + a2__13*a3__2 + a3__4*a4__13 + a3__5*a5__13 + a3__6*a6__13 + a3__7*a7__13 + a3__8*a8__13 + a3__9*a9__13,                               a0__14*a3__0 + a10__14*a3__10 + a11__14*a3__11 + a12__14*a3__12 + a13__14*a3__13 + a15__14*a3__15 + a1__14*a3__1 + a2__14*a3__2 + a3__4*a4__14 + a3__5*a5__14 + a3__6*a6__14 + a3__7*a7__14 + a3__8*a8__14 + a3__9*a9__14,                               a0__15*a3__0 + a10__15*a3__10 + a11__15*a3__11 + a12__15*a3__12 + a13__15*a3__13 + a14__15*a3__14 + a1__15*a3__1 + a2__15*a3__2 + a3__4*a4__15 + a3__5*a5__15 + a3__6*a6__15 + a3__7*a7__15 + a3__8*a8__15 + a3__9*a9__15],\n",
       "[              a10__0*a4__10 + a11__0*a4__11 + a12__0*a4__12 + a13__0*a4__13 + a14__0*a4__14 + a15__0*a4__15 + a1__0*a4__1 + a2__0*a4__2 + a3__0*a4__3 + a4__5*a5__0 + a4__6*a6__0 + a4__7*a7__0 + a4__8*a8__0 + a4__9*a9__0,               a0__1*a4__0 + a10__1*a4__10 + a11__1*a4__11 + a12__1*a4__12 + a13__1*a4__13 + a14__1*a4__14 + a15__1*a4__15 + a2__1*a4__2 + a3__1*a4__3 + a4__5*a5__1 + a4__6*a6__1 + a4__7*a7__1 + a4__8*a8__1 + a4__9*a9__1,               a0__2*a4__0 + a10__2*a4__10 + a11__2*a4__11 + a12__2*a4__12 + a13__2*a4__13 + a14__2*a4__14 + a15__2*a4__15 + a1__2*a4__1 + a3__2*a4__3 + a4__5*a5__2 + a4__6*a6__2 + a4__7*a7__2 + a4__8*a8__2 + a4__9*a9__2,               a0__3*a4__0 + a10__3*a4__10 + a11__3*a4__11 + a12__3*a4__12 + a13__3*a4__13 + a14__3*a4__14 + a15__3*a4__15 + a1__3*a4__1 + a2__3*a4__2 + a4__5*a5__3 + a4__6*a6__3 + a4__7*a7__3 + a4__8*a8__3 + a4__9*a9__3, a0__4*a4__0 + a10__4*a4__10 + a11__4*a4__11 + a12__4*a4__12 + a13__4*a4__13 + a14__4*a4__14 + a15__4*a4__15 + a1__4*a4__1 + a2__4*a4__2 + a3__4*a4__3 + a4__5*a5__4 + a4__6*a6__4 + a4__7*a7__4 + a4__8*a8__4 + a4__9*a9__4,               a0__5*a4__0 + a10__5*a4__10 + a11__5*a4__11 + a12__5*a4__12 + a13__5*a4__13 + a14__5*a4__14 + a15__5*a4__15 + a1__5*a4__1 + a2__5*a4__2 + a3__5*a4__3 + a4__6*a6__5 + a4__7*a7__5 + a4__8*a8__5 + a4__9*a9__5,               a0__6*a4__0 + a10__6*a4__10 + a11__6*a4__11 + a12__6*a4__12 + a13__6*a4__13 + a14__6*a4__14 + a15__6*a4__15 + a1__6*a4__1 + a2__6*a4__2 + a3__6*a4__3 + a4__5*a5__6 + a4__7*a7__6 + a4__8*a8__6 + a4__9*a9__6,               a0__7*a4__0 + a10__7*a4__10 + a11__7*a4__11 + a12__7*a4__12 + a13__7*a4__13 + a14__7*a4__14 + a15__7*a4__15 + a1__7*a4__1 + a2__7*a4__2 + a3__7*a4__3 + a4__5*a5__7 + a4__6*a6__7 + a4__8*a8__7 + a4__9*a9__7,               a0__8*a4__0 + a10__8*a4__10 + a11__8*a4__11 + a12__8*a4__12 + a13__8*a4__13 + a14__8*a4__14 + a15__8*a4__15 + a1__8*a4__1 + a2__8*a4__2 + a3__8*a4__3 + a4__5*a5__8 + a4__6*a6__8 + a4__7*a7__8 + a4__9*a9__8,               a0__9*a4__0 + a10__9*a4__10 + a11__9*a4__11 + a12__9*a4__12 + a13__9*a4__13 + a14__9*a4__14 + a15__9*a4__15 + a1__9*a4__1 + a2__9*a4__2 + a3__9*a4__3 + a4__5*a5__9 + a4__6*a6__9 + a4__7*a7__9 + a4__8*a8__9,                               a0__10*a4__0 + a11__10*a4__11 + a12__10*a4__12 + a13__10*a4__13 + a14__10*a4__14 + a15__10*a4__15 + a1__10*a4__1 + a2__10*a4__2 + a3__10*a4__3 + a4__5*a5__10 + a4__6*a6__10 + a4__7*a7__10 + a4__8*a8__10 + a4__9*a9__10,                               a0__11*a4__0 + a10__11*a4__10 + a12__11*a4__12 + a13__11*a4__13 + a14__11*a4__14 + a15__11*a4__15 + a1__11*a4__1 + a2__11*a4__2 + a3__11*a4__3 + a4__5*a5__11 + a4__6*a6__11 + a4__7*a7__11 + a4__8*a8__11 + a4__9*a9__11,                               a0__12*a4__0 + a10__12*a4__10 + a11__12*a4__11 + a13__12*a4__13 + a14__12*a4__14 + a15__12*a4__15 + a1__12*a4__1 + a2__12*a4__2 + a3__12*a4__3 + a4__5*a5__12 + a4__6*a6__12 + a4__7*a7__12 + a4__8*a8__12 + a4__9*a9__12,                               a0__13*a4__0 + a10__13*a4__10 + a11__13*a4__11 + a12__13*a4__12 + a14__13*a4__14 + a15__13*a4__15 + a1__13*a4__1 + a2__13*a4__2 + a3__13*a4__3 + a4__5*a5__13 + a4__6*a6__13 + a4__7*a7__13 + a4__8*a8__13 + a4__9*a9__13,                               a0__14*a4__0 + a10__14*a4__10 + a11__14*a4__11 + a12__14*a4__12 + a13__14*a4__13 + a15__14*a4__15 + a1__14*a4__1 + a2__14*a4__2 + a3__14*a4__3 + a4__5*a5__14 + a4__6*a6__14 + a4__7*a7__14 + a4__8*a8__14 + a4__9*a9__14,                               a0__15*a4__0 + a10__15*a4__10 + a11__15*a4__11 + a12__15*a4__12 + a13__15*a4__13 + a14__15*a4__14 + a1__15*a4__1 + a2__15*a4__2 + a3__15*a4__3 + a4__5*a5__15 + a4__6*a6__15 + a4__7*a7__15 + a4__8*a8__15 + a4__9*a9__15],\n",
       "[              a10__0*a5__10 + a11__0*a5__11 + a12__0*a5__12 + a13__0*a5__13 + a14__0*a5__14 + a15__0*a5__15 + a1__0*a5__1 + a2__0*a5__2 + a3__0*a5__3 + a4__0*a5__4 + a5__6*a6__0 + a5__7*a7__0 + a5__8*a8__0 + a5__9*a9__0,               a0__1*a5__0 + a10__1*a5__10 + a11__1*a5__11 + a12__1*a5__12 + a13__1*a5__13 + a14__1*a5__14 + a15__1*a5__15 + a2__1*a5__2 + a3__1*a5__3 + a4__1*a5__4 + a5__6*a6__1 + a5__7*a7__1 + a5__8*a8__1 + a5__9*a9__1,               a0__2*a5__0 + a10__2*a5__10 + a11__2*a5__11 + a12__2*a5__12 + a13__2*a5__13 + a14__2*a5__14 + a15__2*a5__15 + a1__2*a5__1 + a3__2*a5__3 + a4__2*a5__4 + a5__6*a6__2 + a5__7*a7__2 + a5__8*a8__2 + a5__9*a9__2,               a0__3*a5__0 + a10__3*a5__10 + a11__3*a5__11 + a12__3*a5__12 + a13__3*a5__13 + a14__3*a5__14 + a15__3*a5__15 + a1__3*a5__1 + a2__3*a5__2 + a4__3*a5__4 + a5__6*a6__3 + a5__7*a7__3 + a5__8*a8__3 + a5__9*a9__3,               a0__4*a5__0 + a10__4*a5__10 + a11__4*a5__11 + a12__4*a5__12 + a13__4*a5__13 + a14__4*a5__14 + a15__4*a5__15 + a1__4*a5__1 + a2__4*a5__2 + a3__4*a5__3 + a5__6*a6__4 + a5__7*a7__4 + a5__8*a8__4 + a5__9*a9__4, a0__5*a5__0 + a10__5*a5__10 + a11__5*a5__11 + a12__5*a5__12 + a13__5*a5__13 + a14__5*a5__14 + a15__5*a5__15 + a1__5*a5__1 + a2__5*a5__2 + a3__5*a5__3 + a4__5*a5__4 + a5__6*a6__5 + a5__7*a7__5 + a5__8*a8__5 + a5__9*a9__5,               a0__6*a5__0 + a10__6*a5__10 + a11__6*a5__11 + a12__6*a5__12 + a13__6*a5__13 + a14__6*a5__14 + a15__6*a5__15 + a1__6*a5__1 + a2__6*a5__2 + a3__6*a5__3 + a4__6*a5__4 + a5__7*a7__6 + a5__8*a8__6 + a5__9*a9__6,               a0__7*a5__0 + a10__7*a5__10 + a11__7*a5__11 + a12__7*a5__12 + a13__7*a5__13 + a14__7*a5__14 + a15__7*a5__15 + a1__7*a5__1 + a2__7*a5__2 + a3__7*a5__3 + a4__7*a5__4 + a5__6*a6__7 + a5__8*a8__7 + a5__9*a9__7,               a0__8*a5__0 + a10__8*a5__10 + a11__8*a5__11 + a12__8*a5__12 + a13__8*a5__13 + a14__8*a5__14 + a15__8*a5__15 + a1__8*a5__1 + a2__8*a5__2 + a3__8*a5__3 + a4__8*a5__4 + a5__6*a6__8 + a5__7*a7__8 + a5__9*a9__8,               a0__9*a5__0 + a10__9*a5__10 + a11__9*a5__11 + a12__9*a5__12 + a13__9*a5__13 + a14__9*a5__14 + a15__9*a5__15 + a1__9*a5__1 + a2__9*a5__2 + a3__9*a5__3 + a4__9*a5__4 + a5__6*a6__9 + a5__7*a7__9 + a5__8*a8__9,                               a0__10*a5__0 + a11__10*a5__11 + a12__10*a5__12 + a13__10*a5__13 + a14__10*a5__14 + a15__10*a5__15 + a1__10*a5__1 + a2__10*a5__2 + a3__10*a5__3 + a4__10*a5__4 + a5__6*a6__10 + a5__7*a7__10 + a5__8*a8__10 + a5__9*a9__10,                               a0__11*a5__0 + a10__11*a5__10 + a12__11*a5__12 + a13__11*a5__13 + a14__11*a5__14 + a15__11*a5__15 + a1__11*a5__1 + a2__11*a5__2 + a3__11*a5__3 + a4__11*a5__4 + a5__6*a6__11 + a5__7*a7__11 + a5__8*a8__11 + a5__9*a9__11,                               a0__12*a5__0 + a10__12*a5__10 + a11__12*a5__11 + a13__12*a5__13 + a14__12*a5__14 + a15__12*a5__15 + a1__12*a5__1 + a2__12*a5__2 + a3__12*a5__3 + a4__12*a5__4 + a5__6*a6__12 + a5__7*a7__12 + a5__8*a8__12 + a5__9*a9__12,                               a0__13*a5__0 + a10__13*a5__10 + a11__13*a5__11 + a12__13*a5__12 + a14__13*a5__14 + a15__13*a5__15 + a1__13*a5__1 + a2__13*a5__2 + a3__13*a5__3 + a4__13*a5__4 + a5__6*a6__13 + a5__7*a7__13 + a5__8*a8__13 + a5__9*a9__13,                               a0__14*a5__0 + a10__14*a5__10 + a11__14*a5__11 + a12__14*a5__12 + a13__14*a5__13 + a15__14*a5__15 + a1__14*a5__1 + a2__14*a5__2 + a3__14*a5__3 + a4__14*a5__4 + a5__6*a6__14 + a5__7*a7__14 + a5__8*a8__14 + a5__9*a9__14,                               a0__15*a5__0 + a10__15*a5__10 + a11__15*a5__11 + a12__15*a5__12 + a13__15*a5__13 + a14__15*a5__14 + a1__15*a5__1 + a2__15*a5__2 + a3__15*a5__3 + a4__15*a5__4 + a5__6*a6__15 + a5__7*a7__15 + a5__8*a8__15 + a5__9*a9__15],\n",
       "[              a10__0*a6__10 + a11__0*a6__11 + a12__0*a6__12 + a13__0*a6__13 + a14__0*a6__14 + a15__0*a6__15 + a1__0*a6__1 + a2__0*a6__2 + a3__0*a6__3 + a4__0*a6__4 + a5__0*a6__5 + a6__7*a7__0 + a6__8*a8__0 + a6__9*a9__0,               a0__1*a6__0 + a10__1*a6__10 + a11__1*a6__11 + a12__1*a6__12 + a13__1*a6__13 + a14__1*a6__14 + a15__1*a6__15 + a2__1*a6__2 + a3__1*a6__3 + a4__1*a6__4 + a5__1*a6__5 + a6__7*a7__1 + a6__8*a8__1 + a6__9*a9__1,               a0__2*a6__0 + a10__2*a6__10 + a11__2*a6__11 + a12__2*a6__12 + a13__2*a6__13 + a14__2*a6__14 + a15__2*a6__15 + a1__2*a6__1 + a3__2*a6__3 + a4__2*a6__4 + a5__2*a6__5 + a6__7*a7__2 + a6__8*a8__2 + a6__9*a9__2,               a0__3*a6__0 + a10__3*a6__10 + a11__3*a6__11 + a12__3*a6__12 + a13__3*a6__13 + a14__3*a6__14 + a15__3*a6__15 + a1__3*a6__1 + a2__3*a6__2 + a4__3*a6__4 + a5__3*a6__5 + a6__7*a7__3 + a6__8*a8__3 + a6__9*a9__3,               a0__4*a6__0 + a10__4*a6__10 + a11__4*a6__11 + a12__4*a6__12 + a13__4*a6__13 + a14__4*a6__14 + a15__4*a6__15 + a1__4*a6__1 + a2__4*a6__2 + a3__4*a6__3 + a5__4*a6__5 + a6__7*a7__4 + a6__8*a8__4 + a6__9*a9__4,               a0__5*a6__0 + a10__5*a6__10 + a11__5*a6__11 + a12__5*a6__12 + a13__5*a6__13 + a14__5*a6__14 + a15__5*a6__15 + a1__5*a6__1 + a2__5*a6__2 + a3__5*a6__3 + a4__5*a6__4 + a6__7*a7__5 + a6__8*a8__5 + a6__9*a9__5, a0__6*a6__0 + a10__6*a6__10 + a11__6*a6__11 + a12__6*a6__12 + a13__6*a6__13 + a14__6*a6__14 + a15__6*a6__15 + a1__6*a6__1 + a2__6*a6__2 + a3__6*a6__3 + a4__6*a6__4 + a5__6*a6__5 + a6__7*a7__6 + a6__8*a8__6 + a6__9*a9__6,               a0__7*a6__0 + a10__7*a6__10 + a11__7*a6__11 + a12__7*a6__12 + a13__7*a6__13 + a14__7*a6__14 + a15__7*a6__15 + a1__7*a6__1 + a2__7*a6__2 + a3__7*a6__3 + a4__7*a6__4 + a5__7*a6__5 + a6__8*a8__7 + a6__9*a9__7,               a0__8*a6__0 + a10__8*a6__10 + a11__8*a6__11 + a12__8*a6__12 + a13__8*a6__13 + a14__8*a6__14 + a15__8*a6__15 + a1__8*a6__1 + a2__8*a6__2 + a3__8*a6__3 + a4__8*a6__4 + a5__8*a6__5 + a6__7*a7__8 + a6__9*a9__8,               a0__9*a6__0 + a10__9*a6__10 + a11__9*a6__11 + a12__9*a6__12 + a13__9*a6__13 + a14__9*a6__14 + a15__9*a6__15 + a1__9*a6__1 + a2__9*a6__2 + a3__9*a6__3 + a4__9*a6__4 + a5__9*a6__5 + a6__7*a7__9 + a6__8*a8__9,                               a0__10*a6__0 + a11__10*a6__11 + a12__10*a6__12 + a13__10*a6__13 + a14__10*a6__14 + a15__10*a6__15 + a1__10*a6__1 + a2__10*a6__2 + a3__10*a6__3 + a4__10*a6__4 + a5__10*a6__5 + a6__7*a7__10 + a6__8*a8__10 + a6__9*a9__10,                               a0__11*a6__0 + a10__11*a6__10 + a12__11*a6__12 + a13__11*a6__13 + a14__11*a6__14 + a15__11*a6__15 + a1__11*a6__1 + a2__11*a6__2 + a3__11*a6__3 + a4__11*a6__4 + a5__11*a6__5 + a6__7*a7__11 + a6__8*a8__11 + a6__9*a9__11,                               a0__12*a6__0 + a10__12*a6__10 + a11__12*a6__11 + a13__12*a6__13 + a14__12*a6__14 + a15__12*a6__15 + a1__12*a6__1 + a2__12*a6__2 + a3__12*a6__3 + a4__12*a6__4 + a5__12*a6__5 + a6__7*a7__12 + a6__8*a8__12 + a6__9*a9__12,                               a0__13*a6__0 + a10__13*a6__10 + a11__13*a6__11 + a12__13*a6__12 + a14__13*a6__14 + a15__13*a6__15 + a1__13*a6__1 + a2__13*a6__2 + a3__13*a6__3 + a4__13*a6__4 + a5__13*a6__5 + a6__7*a7__13 + a6__8*a8__13 + a6__9*a9__13,                               a0__14*a6__0 + a10__14*a6__10 + a11__14*a6__11 + a12__14*a6__12 + a13__14*a6__13 + a15__14*a6__15 + a1__14*a6__1 + a2__14*a6__2 + a3__14*a6__3 + a4__14*a6__4 + a5__14*a6__5 + a6__7*a7__14 + a6__8*a8__14 + a6__9*a9__14,                               a0__15*a6__0 + a10__15*a6__10 + a11__15*a6__11 + a12__15*a6__12 + a13__15*a6__13 + a14__15*a6__14 + a1__15*a6__1 + a2__15*a6__2 + a3__15*a6__3 + a4__15*a6__4 + a5__15*a6__5 + a6__7*a7__15 + a6__8*a8__15 + a6__9*a9__15],\n",
       "[              a10__0*a7__10 + a11__0*a7__11 + a12__0*a7__12 + a13__0*a7__13 + a14__0*a7__14 + a15__0*a7__15 + a1__0*a7__1 + a2__0*a7__2 + a3__0*a7__3 + a4__0*a7__4 + a5__0*a7__5 + a6__0*a7__6 + a7__8*a8__0 + a7__9*a9__0,               a0__1*a7__0 + a10__1*a7__10 + a11__1*a7__11 + a12__1*a7__12 + a13__1*a7__13 + a14__1*a7__14 + a15__1*a7__15 + a2__1*a7__2 + a3__1*a7__3 + a4__1*a7__4 + a5__1*a7__5 + a6__1*a7__6 + a7__8*a8__1 + a7__9*a9__1,               a0__2*a7__0 + a10__2*a7__10 + a11__2*a7__11 + a12__2*a7__12 + a13__2*a7__13 + a14__2*a7__14 + a15__2*a7__15 + a1__2*a7__1 + a3__2*a7__3 + a4__2*a7__4 + a5__2*a7__5 + a6__2*a7__6 + a7__8*a8__2 + a7__9*a9__2,               a0__3*a7__0 + a10__3*a7__10 + a11__3*a7__11 + a12__3*a7__12 + a13__3*a7__13 + a14__3*a7__14 + a15__3*a7__15 + a1__3*a7__1 + a2__3*a7__2 + a4__3*a7__4 + a5__3*a7__5 + a6__3*a7__6 + a7__8*a8__3 + a7__9*a9__3,               a0__4*a7__0 + a10__4*a7__10 + a11__4*a7__11 + a12__4*a7__12 + a13__4*a7__13 + a14__4*a7__14 + a15__4*a7__15 + a1__4*a7__1 + a2__4*a7__2 + a3__4*a7__3 + a5__4*a7__5 + a6__4*a7__6 + a7__8*a8__4 + a7__9*a9__4,               a0__5*a7__0 + a10__5*a7__10 + a11__5*a7__11 + a12__5*a7__12 + a13__5*a7__13 + a14__5*a7__14 + a15__5*a7__15 + a1__5*a7__1 + a2__5*a7__2 + a3__5*a7__3 + a4__5*a7__4 + a6__5*a7__6 + a7__8*a8__5 + a7__9*a9__5,               a0__6*a7__0 + a10__6*a7__10 + a11__6*a7__11 + a12__6*a7__12 + a13__6*a7__13 + a14__6*a7__14 + a15__6*a7__15 + a1__6*a7__1 + a2__6*a7__2 + a3__6*a7__3 + a4__6*a7__4 + a5__6*a7__5 + a7__8*a8__6 + a7__9*a9__6, a0__7*a7__0 + a10__7*a7__10 + a11__7*a7__11 + a12__7*a7__12 + a13__7*a7__13 + a14__7*a7__14 + a15__7*a7__15 + a1__7*a7__1 + a2__7*a7__2 + a3__7*a7__3 + a4__7*a7__4 + a5__7*a7__5 + a6__7*a7__6 + a7__8*a8__7 + a7__9*a9__7,               a0__8*a7__0 + a10__8*a7__10 + a11__8*a7__11 + a12__8*a7__12 + a13__8*a7__13 + a14__8*a7__14 + a15__8*a7__15 + a1__8*a7__1 + a2__8*a7__2 + a3__8*a7__3 + a4__8*a7__4 + a5__8*a7__5 + a6__8*a7__6 + a7__9*a9__8,               a0__9*a7__0 + a10__9*a7__10 + a11__9*a7__11 + a12__9*a7__12 + a13__9*a7__13 + a14__9*a7__14 + a15__9*a7__15 + a1__9*a7__1 + a2__9*a7__2 + a3__9*a7__3 + a4__9*a7__4 + a5__9*a7__5 + a6__9*a7__6 + a7__8*a8__9,                               a0__10*a7__0 + a11__10*a7__11 + a12__10*a7__12 + a13__10*a7__13 + a14__10*a7__14 + a15__10*a7__15 + a1__10*a7__1 + a2__10*a7__2 + a3__10*a7__3 + a4__10*a7__4 + a5__10*a7__5 + a6__10*a7__6 + a7__8*a8__10 + a7__9*a9__10,                               a0__11*a7__0 + a10__11*a7__10 + a12__11*a7__12 + a13__11*a7__13 + a14__11*a7__14 + a15__11*a7__15 + a1__11*a7__1 + a2__11*a7__2 + a3__11*a7__3 + a4__11*a7__4 + a5__11*a7__5 + a6__11*a7__6 + a7__8*a8__11 + a7__9*a9__11,                               a0__12*a7__0 + a10__12*a7__10 + a11__12*a7__11 + a13__12*a7__13 + a14__12*a7__14 + a15__12*a7__15 + a1__12*a7__1 + a2__12*a7__2 + a3__12*a7__3 + a4__12*a7__4 + a5__12*a7__5 + a6__12*a7__6 + a7__8*a8__12 + a7__9*a9__12,                               a0__13*a7__0 + a10__13*a7__10 + a11__13*a7__11 + a12__13*a7__12 + a14__13*a7__14 + a15__13*a7__15 + a1__13*a7__1 + a2__13*a7__2 + a3__13*a7__3 + a4__13*a7__4 + a5__13*a7__5 + a6__13*a7__6 + a7__8*a8__13 + a7__9*a9__13,                               a0__14*a7__0 + a10__14*a7__10 + a11__14*a7__11 + a12__14*a7__12 + a13__14*a7__13 + a15__14*a7__15 + a1__14*a7__1 + a2__14*a7__2 + a3__14*a7__3 + a4__14*a7__4 + a5__14*a7__5 + a6__14*a7__6 + a7__8*a8__14 + a7__9*a9__14,                               a0__15*a7__0 + a10__15*a7__10 + a11__15*a7__11 + a12__15*a7__12 + a13__15*a7__13 + a14__15*a7__14 + a1__15*a7__1 + a2__15*a7__2 + a3__15*a7__3 + a4__15*a7__4 + a5__15*a7__5 + a6__15*a7__6 + a7__8*a8__15 + a7__9*a9__15],\n",
       "[              a10__0*a8__10 + a11__0*a8__11 + a12__0*a8__12 + a13__0*a8__13 + a14__0*a8__14 + a15__0*a8__15 + a1__0*a8__1 + a2__0*a8__2 + a3__0*a8__3 + a4__0*a8__4 + a5__0*a8__5 + a6__0*a8__6 + a7__0*a8__7 + a8__9*a9__0,               a0__1*a8__0 + a10__1*a8__10 + a11__1*a8__11 + a12__1*a8__12 + a13__1*a8__13 + a14__1*a8__14 + a15__1*a8__15 + a2__1*a8__2 + a3__1*a8__3 + a4__1*a8__4 + a5__1*a8__5 + a6__1*a8__6 + a7__1*a8__7 + a8__9*a9__1,               a0__2*a8__0 + a10__2*a8__10 + a11__2*a8__11 + a12__2*a8__12 + a13__2*a8__13 + a14__2*a8__14 + a15__2*a8__15 + a1__2*a8__1 + a3__2*a8__3 + a4__2*a8__4 + a5__2*a8__5 + a6__2*a8__6 + a7__2*a8__7 + a8__9*a9__2,               a0__3*a8__0 + a10__3*a8__10 + a11__3*a8__11 + a12__3*a8__12 + a13__3*a8__13 + a14__3*a8__14 + a15__3*a8__15 + a1__3*a8__1 + a2__3*a8__2 + a4__3*a8__4 + a5__3*a8__5 + a6__3*a8__6 + a7__3*a8__7 + a8__9*a9__3,               a0__4*a8__0 + a10__4*a8__10 + a11__4*a8__11 + a12__4*a8__12 + a13__4*a8__13 + a14__4*a8__14 + a15__4*a8__15 + a1__4*a8__1 + a2__4*a8__2 + a3__4*a8__3 + a5__4*a8__5 + a6__4*a8__6 + a7__4*a8__7 + a8__9*a9__4,               a0__5*a8__0 + a10__5*a8__10 + a11__5*a8__11 + a12__5*a8__12 + a13__5*a8__13 + a14__5*a8__14 + a15__5*a8__15 + a1__5*a8__1 + a2__5*a8__2 + a3__5*a8__3 + a4__5*a8__4 + a6__5*a8__6 + a7__5*a8__7 + a8__9*a9__5,               a0__6*a8__0 + a10__6*a8__10 + a11__6*a8__11 + a12__6*a8__12 + a13__6*a8__13 + a14__6*a8__14 + a15__6*a8__15 + a1__6*a8__1 + a2__6*a8__2 + a3__6*a8__3 + a4__6*a8__4 + a5__6*a8__5 + a7__6*a8__7 + a8__9*a9__6,               a0__7*a8__0 + a10__7*a8__10 + a11__7*a8__11 + a12__7*a8__12 + a13__7*a8__13 + a14__7*a8__14 + a15__7*a8__15 + a1__7*a8__1 + a2__7*a8__2 + a3__7*a8__3 + a4__7*a8__4 + a5__7*a8__5 + a6__7*a8__6 + a8__9*a9__7, a0__8*a8__0 + a10__8*a8__10 + a11__8*a8__11 + a12__8*a8__12 + a13__8*a8__13 + a14__8*a8__14 + a15__8*a8__15 + a1__8*a8__1 + a2__8*a8__2 + a3__8*a8__3 + a4__8*a8__4 + a5__8*a8__5 + a6__8*a8__6 + a7__8*a8__7 + a8__9*a9__8,               a0__9*a8__0 + a10__9*a8__10 + a11__9*a8__11 + a12__9*a8__12 + a13__9*a8__13 + a14__9*a8__14 + a15__9*a8__15 + a1__9*a8__1 + a2__9*a8__2 + a3__9*a8__3 + a4__9*a8__4 + a5__9*a8__5 + a6__9*a8__6 + a7__9*a8__7,                               a0__10*a8__0 + a11__10*a8__11 + a12__10*a8__12 + a13__10*a8__13 + a14__10*a8__14 + a15__10*a8__15 + a1__10*a8__1 + a2__10*a8__2 + a3__10*a8__3 + a4__10*a8__4 + a5__10*a8__5 + a6__10*a8__6 + a7__10*a8__7 + a8__9*a9__10,                               a0__11*a8__0 + a10__11*a8__10 + a12__11*a8__12 + a13__11*a8__13 + a14__11*a8__14 + a15__11*a8__15 + a1__11*a8__1 + a2__11*a8__2 + a3__11*a8__3 + a4__11*a8__4 + a5__11*a8__5 + a6__11*a8__6 + a7__11*a8__7 + a8__9*a9__11,                               a0__12*a8__0 + a10__12*a8__10 + a11__12*a8__11 + a13__12*a8__13 + a14__12*a8__14 + a15__12*a8__15 + a1__12*a8__1 + a2__12*a8__2 + a3__12*a8__3 + a4__12*a8__4 + a5__12*a8__5 + a6__12*a8__6 + a7__12*a8__7 + a8__9*a9__12,                               a0__13*a8__0 + a10__13*a8__10 + a11__13*a8__11 + a12__13*a8__12 + a14__13*a8__14 + a15__13*a8__15 + a1__13*a8__1 + a2__13*a8__2 + a3__13*a8__3 + a4__13*a8__4 + a5__13*a8__5 + a6__13*a8__6 + a7__13*a8__7 + a8__9*a9__13,                               a0__14*a8__0 + a10__14*a8__10 + a11__14*a8__11 + a12__14*a8__12 + a13__14*a8__13 + a15__14*a8__15 + a1__14*a8__1 + a2__14*a8__2 + a3__14*a8__3 + a4__14*a8__4 + a5__14*a8__5 + a6__14*a8__6 + a7__14*a8__7 + a8__9*a9__14,                               a0__15*a8__0 + a10__15*a8__10 + a11__15*a8__11 + a12__15*a8__12 + a13__15*a8__13 + a14__15*a8__14 + a1__15*a8__1 + a2__15*a8__2 + a3__15*a8__3 + a4__15*a8__4 + a5__15*a8__5 + a6__15*a8__6 + a7__15*a8__7 + a8__9*a9__15],\n",
       "[              a10__0*a9__10 + a11__0*a9__11 + a12__0*a9__12 + a13__0*a9__13 + a14__0*a9__14 + a15__0*a9__15 + a1__0*a9__1 + a2__0*a9__2 + a3__0*a9__3 + a4__0*a9__4 + a5__0*a9__5 + a6__0*a9__6 + a7__0*a9__7 + a8__0*a9__8,               a0__1*a9__0 + a10__1*a9__10 + a11__1*a9__11 + a12__1*a9__12 + a13__1*a9__13 + a14__1*a9__14 + a15__1*a9__15 + a2__1*a9__2 + a3__1*a9__3 + a4__1*a9__4 + a5__1*a9__5 + a6__1*a9__6 + a7__1*a9__7 + a8__1*a9__8,               a0__2*a9__0 + a10__2*a9__10 + a11__2*a9__11 + a12__2*a9__12 + a13__2*a9__13 + a14__2*a9__14 + a15__2*a9__15 + a1__2*a9__1 + a3__2*a9__3 + a4__2*a9__4 + a5__2*a9__5 + a6__2*a9__6 + a7__2*a9__7 + a8__2*a9__8,               a0__3*a9__0 + a10__3*a9__10 + a11__3*a9__11 + a12__3*a9__12 + a13__3*a9__13 + a14__3*a9__14 + a15__3*a9__15 + a1__3*a9__1 + a2__3*a9__2 + a4__3*a9__4 + a5__3*a9__5 + a6__3*a9__6 + a7__3*a9__7 + a8__3*a9__8,               a0__4*a9__0 + a10__4*a9__10 + a11__4*a9__11 + a12__4*a9__12 + a13__4*a9__13 + a14__4*a9__14 + a15__4*a9__15 + a1__4*a9__1 + a2__4*a9__2 + a3__4*a9__3 + a5__4*a9__5 + a6__4*a9__6 + a7__4*a9__7 + a8__4*a9__8,               a0__5*a9__0 + a10__5*a9__10 + a11__5*a9__11 + a12__5*a9__12 + a13__5*a9__13 + a14__5*a9__14 + a15__5*a9__15 + a1__5*a9__1 + a2__5*a9__2 + a3__5*a9__3 + a4__5*a9__4 + a6__5*a9__6 + a7__5*a9__7 + a8__5*a9__8,               a0__6*a9__0 + a10__6*a9__10 + a11__6*a9__11 + a12__6*a9__12 + a13__6*a9__13 + a14__6*a9__14 + a15__6*a9__15 + a1__6*a9__1 + a2__6*a9__2 + a3__6*a9__3 + a4__6*a9__4 + a5__6*a9__5 + a7__6*a9__7 + a8__6*a9__8,               a0__7*a9__0 + a10__7*a9__10 + a11__7*a9__11 + a12__7*a9__12 + a13__7*a9__13 + a14__7*a9__14 + a15__7*a9__15 + a1__7*a9__1 + a2__7*a9__2 + a3__7*a9__3 + a4__7*a9__4 + a5__7*a9__5 + a6__7*a9__6 + a8__7*a9__8,               a0__8*a9__0 + a10__8*a9__10 + a11__8*a9__11 + a12__8*a9__12 + a13__8*a9__13 + a14__8*a9__14 + a15__8*a9__15 + a1__8*a9__1 + a2__8*a9__2 + a3__8*a9__3 + a4__8*a9__4 + a5__8*a9__5 + a6__8*a9__6 + a7__8*a9__7, a0__9*a9__0 + a10__9*a9__10 + a11__9*a9__11 + a12__9*a9__12 + a13__9*a9__13 + a14__9*a9__14 + a15__9*a9__15 + a1__9*a9__1 + a2__9*a9__2 + a3__9*a9__3 + a4__9*a9__4 + a5__9*a9__5 + a6__9*a9__6 + a7__9*a9__7 + a8__9*a9__8,                               a0__10*a9__0 + a11__10*a9__11 + a12__10*a9__12 + a13__10*a9__13 + a14__10*a9__14 + a15__10*a9__15 + a1__10*a9__1 + a2__10*a9__2 + a3__10*a9__3 + a4__10*a9__4 + a5__10*a9__5 + a6__10*a9__6 + a7__10*a9__7 + a8__10*a9__8,                               a0__11*a9__0 + a10__11*a9__10 + a12__11*a9__12 + a13__11*a9__13 + a14__11*a9__14 + a15__11*a9__15 + a1__11*a9__1 + a2__11*a9__2 + a3__11*a9__3 + a4__11*a9__4 + a5__11*a9__5 + a6__11*a9__6 + a7__11*a9__7 + a8__11*a9__8,                               a0__12*a9__0 + a10__12*a9__10 + a11__12*a9__11 + a13__12*a9__13 + a14__12*a9__14 + a15__12*a9__15 + a1__12*a9__1 + a2__12*a9__2 + a3__12*a9__3 + a4__12*a9__4 + a5__12*a9__5 + a6__12*a9__6 + a7__12*a9__7 + a8__12*a9__8,                               a0__13*a9__0 + a10__13*a9__10 + a11__13*a9__11 + a12__13*a9__12 + a14__13*a9__14 + a15__13*a9__15 + a1__13*a9__1 + a2__13*a9__2 + a3__13*a9__3 + a4__13*a9__4 + a5__13*a9__5 + a6__13*a9__6 + a7__13*a9__7 + a8__13*a9__8,                               a0__14*a9__0 + a10__14*a9__10 + a11__14*a9__11 + a12__14*a9__12 + a13__14*a9__13 + a15__14*a9__15 + a1__14*a9__1 + a2__14*a9__2 + a3__14*a9__3 + a4__14*a9__4 + a5__14*a9__5 + a6__14*a9__6 + a7__14*a9__7 + a8__14*a9__8,                               a0__15*a9__0 + a10__15*a9__10 + a11__15*a9__11 + a12__15*a9__12 + a13__15*a9__13 + a14__15*a9__14 + a1__15*a9__1 + a2__15*a9__2 + a3__15*a9__3 + a4__15*a9__4 + a5__15*a9__5 + a6__15*a9__6 + a7__15*a9__7 + a8__15*a9__8],\n",
       "[  a10__1*a1__0 + a10__11*a11__0 + a10__12*a12__0 + a10__13*a13__0 + a10__14*a14__0 + a10__15*a15__0 + a10__2*a2__0 + a10__3*a3__0 + a10__4*a4__0 + a10__5*a5__0 + a10__6*a6__0 + a10__7*a7__0 + a10__8*a8__0 + a10__9*a9__0,   a0__1*a10__0 + a10__11*a11__1 + a10__12*a12__1 + a10__13*a13__1 + a10__14*a14__1 + a10__15*a15__1 + a10__2*a2__1 + a10__3*a3__1 + a10__4*a4__1 + a10__5*a5__1 + a10__6*a6__1 + a10__7*a7__1 + a10__8*a8__1 + a10__9*a9__1,   a0__2*a10__0 + a10__1*a1__2 + a10__11*a11__2 + a10__12*a12__2 + a10__13*a13__2 + a10__14*a14__2 + a10__15*a15__2 + a10__3*a3__2 + a10__4*a4__2 + a10__5*a5__2 + a10__6*a6__2 + a10__7*a7__2 + a10__8*a8__2 + a10__9*a9__2,   a0__3*a10__0 + a10__1*a1__3 + a10__11*a11__3 + a10__12*a12__3 + a10__13*a13__3 + a10__14*a14__3 + a10__15*a15__3 + a10__2*a2__3 + a10__4*a4__3 + a10__5*a5__3 + a10__6*a6__3 + a10__7*a7__3 + a10__8*a8__3 + a10__9*a9__3,   a0__4*a10__0 + a10__1*a1__4 + a10__11*a11__4 + a10__12*a12__4 + a10__13*a13__4 + a10__14*a14__4 + a10__15*a15__4 + a10__2*a2__4 + a10__3*a3__4 + a10__5*a5__4 + a10__6*a6__4 + a10__7*a7__4 + a10__8*a8__4 + a10__9*a9__4,   a0__5*a10__0 + a10__1*a1__5 + a10__11*a11__5 + a10__12*a12__5 + a10__13*a13__5 + a10__14*a14__5 + a10__15*a15__5 + a10__2*a2__5 + a10__3*a3__5 + a10__4*a4__5 + a10__6*a6__5 + a10__7*a7__5 + a10__8*a8__5 + a10__9*a9__5,   a0__6*a10__0 + a10__1*a1__6 + a10__11*a11__6 + a10__12*a12__6 + a10__13*a13__6 + a10__14*a14__6 + a10__15*a15__6 + a10__2*a2__6 + a10__3*a3__6 + a10__4*a4__6 + a10__5*a5__6 + a10__7*a7__6 + a10__8*a8__6 + a10__9*a9__6,   a0__7*a10__0 + a10__1*a1__7 + a10__11*a11__7 + a10__12*a12__7 + a10__13*a13__7 + a10__14*a14__7 + a10__15*a15__7 + a10__2*a2__7 + a10__3*a3__7 + a10__4*a4__7 + a10__5*a5__7 + a10__6*a6__7 + a10__8*a8__7 + a10__9*a9__7,   a0__8*a10__0 + a10__1*a1__8 + a10__11*a11__8 + a10__12*a12__8 + a10__13*a13__8 + a10__14*a14__8 + a10__15*a15__8 + a10__2*a2__8 + a10__3*a3__8 + a10__4*a4__8 + a10__5*a5__8 + a10__6*a6__8 + a10__7*a7__8 + a10__9*a9__8,   a0__9*a10__0 + a10__1*a1__9 + a10__11*a11__9 + a10__12*a12__9 + a10__13*a13__9 + a10__14*a14__9 + a10__15*a15__9 + a10__2*a2__9 + a10__3*a3__9 + a10__4*a4__9 + a10__5*a5__9 + a10__6*a6__9 + a10__7*a7__9 + a10__8*a8__9, a0__10*a10__0 + a10__1*a1__10 + a10__11*a11__10 + a10__12*a12__10 + a10__13*a13__10 + a10__14*a14__10 + a10__15*a15__10 + a10__2*a2__10 + a10__3*a3__10 + a10__4*a4__10 + a10__5*a5__10 + a10__6*a6__10 + a10__7*a7__10 + a10__8*a8__10 + a10__9*a9__10,                   a0__11*a10__0 + a10__1*a1__11 + a10__12*a12__11 + a10__13*a13__11 + a10__14*a14__11 + a10__15*a15__11 + a10__2*a2__11 + a10__3*a3__11 + a10__4*a4__11 + a10__5*a5__11 + a10__6*a6__11 + a10__7*a7__11 + a10__8*a8__11 + a10__9*a9__11,                   a0__12*a10__0 + a10__1*a1__12 + a10__11*a11__12 + a10__13*a13__12 + a10__14*a14__12 + a10__15*a15__12 + a10__2*a2__12 + a10__3*a3__12 + a10__4*a4__12 + a10__5*a5__12 + a10__6*a6__12 + a10__7*a7__12 + a10__8*a8__12 + a10__9*a9__12,                   a0__13*a10__0 + a10__1*a1__13 + a10__11*a11__13 + a10__12*a12__13 + a10__14*a14__13 + a10__15*a15__13 + a10__2*a2__13 + a10__3*a3__13 + a10__4*a4__13 + a10__5*a5__13 + a10__6*a6__13 + a10__7*a7__13 + a10__8*a8__13 + a10__9*a9__13,                   a0__14*a10__0 + a10__1*a1__14 + a10__11*a11__14 + a10__12*a12__14 + a10__13*a13__14 + a10__15*a15__14 + a10__2*a2__14 + a10__3*a3__14 + a10__4*a4__14 + a10__5*a5__14 + a10__6*a6__14 + a10__7*a7__14 + a10__8*a8__14 + a10__9*a9__14,                   a0__15*a10__0 + a10__1*a1__15 + a10__11*a11__15 + a10__12*a12__15 + a10__13*a13__15 + a10__14*a14__15 + a10__2*a2__15 + a10__3*a3__15 + a10__4*a4__15 + a10__5*a5__15 + a10__6*a6__15 + a10__7*a7__15 + a10__8*a8__15 + a10__9*a9__15],\n",
       "[  a10__0*a11__10 + a11__1*a1__0 + a11__12*a12__0 + a11__13*a13__0 + a11__14*a14__0 + a11__15*a15__0 + a11__2*a2__0 + a11__3*a3__0 + a11__4*a4__0 + a11__5*a5__0 + a11__6*a6__0 + a11__7*a7__0 + a11__8*a8__0 + a11__9*a9__0,   a0__1*a11__0 + a10__1*a11__10 + a11__12*a12__1 + a11__13*a13__1 + a11__14*a14__1 + a11__15*a15__1 + a11__2*a2__1 + a11__3*a3__1 + a11__4*a4__1 + a11__5*a5__1 + a11__6*a6__1 + a11__7*a7__1 + a11__8*a8__1 + a11__9*a9__1,   a0__2*a11__0 + a10__2*a11__10 + a11__1*a1__2 + a11__12*a12__2 + a11__13*a13__2 + a11__14*a14__2 + a11__15*a15__2 + a11__3*a3__2 + a11__4*a4__2 + a11__5*a5__2 + a11__6*a6__2 + a11__7*a7__2 + a11__8*a8__2 + a11__9*a9__2,   a0__3*a11__0 + a10__3*a11__10 + a11__1*a1__3 + a11__12*a12__3 + a11__13*a13__3 + a11__14*a14__3 + a11__15*a15__3 + a11__2*a2__3 + a11__4*a4__3 + a11__5*a5__3 + a11__6*a6__3 + a11__7*a7__3 + a11__8*a8__3 + a11__9*a9__3,   a0__4*a11__0 + a10__4*a11__10 + a11__1*a1__4 + a11__12*a12__4 + a11__13*a13__4 + a11__14*a14__4 + a11__15*a15__4 + a11__2*a2__4 + a11__3*a3__4 + a11__5*a5__4 + a11__6*a6__4 + a11__7*a7__4 + a11__8*a8__4 + a11__9*a9__4,   a0__5*a11__0 + a10__5*a11__10 + a11__1*a1__5 + a11__12*a12__5 + a11__13*a13__5 + a11__14*a14__5 + a11__15*a15__5 + a11__2*a2__5 + a11__3*a3__5 + a11__4*a4__5 + a11__6*a6__5 + a11__7*a7__5 + a11__8*a8__5 + a11__9*a9__5,   a0__6*a11__0 + a10__6*a11__10 + a11__1*a1__6 + a11__12*a12__6 + a11__13*a13__6 + a11__14*a14__6 + a11__15*a15__6 + a11__2*a2__6 + a11__3*a3__6 + a11__4*a4__6 + a11__5*a5__6 + a11__7*a7__6 + a11__8*a8__6 + a11__9*a9__6,   a0__7*a11__0 + a10__7*a11__10 + a11__1*a1__7 + a11__12*a12__7 + a11__13*a13__7 + a11__14*a14__7 + a11__15*a15__7 + a11__2*a2__7 + a11__3*a3__7 + a11__4*a4__7 + a11__5*a5__7 + a11__6*a6__7 + a11__8*a8__7 + a11__9*a9__7,   a0__8*a11__0 + a10__8*a11__10 + a11__1*a1__8 + a11__12*a12__8 + a11__13*a13__8 + a11__14*a14__8 + a11__15*a15__8 + a11__2*a2__8 + a11__3*a3__8 + a11__4*a4__8 + a11__5*a5__8 + a11__6*a6__8 + a11__7*a7__8 + a11__9*a9__8,   a0__9*a11__0 + a10__9*a11__10 + a11__1*a1__9 + a11__12*a12__9 + a11__13*a13__9 + a11__14*a14__9 + a11__15*a15__9 + a11__2*a2__9 + a11__3*a3__9 + a11__4*a4__9 + a11__5*a5__9 + a11__6*a6__9 + a11__7*a7__9 + a11__8*a8__9,                   a0__10*a11__0 + a11__1*a1__10 + a11__12*a12__10 + a11__13*a13__10 + a11__14*a14__10 + a11__15*a15__10 + a11__2*a2__10 + a11__3*a3__10 + a11__4*a4__10 + a11__5*a5__10 + a11__6*a6__10 + a11__7*a7__10 + a11__8*a8__10 + a11__9*a9__10, a0__11*a11__0 + a10__11*a11__10 + a11__1*a1__11 + a11__12*a12__11 + a11__13*a13__11 + a11__14*a14__11 + a11__15*a15__11 + a11__2*a2__11 + a11__3*a3__11 + a11__4*a4__11 + a11__5*a5__11 + a11__6*a6__11 + a11__7*a7__11 + a11__8*a8__11 + a11__9*a9__11,                   a0__12*a11__0 + a10__12*a11__10 + a11__1*a1__12 + a11__13*a13__12 + a11__14*a14__12 + a11__15*a15__12 + a11__2*a2__12 + a11__3*a3__12 + a11__4*a4__12 + a11__5*a5__12 + a11__6*a6__12 + a11__7*a7__12 + a11__8*a8__12 + a11__9*a9__12,                   a0__13*a11__0 + a10__13*a11__10 + a11__1*a1__13 + a11__12*a12__13 + a11__14*a14__13 + a11__15*a15__13 + a11__2*a2__13 + a11__3*a3__13 + a11__4*a4__13 + a11__5*a5__13 + a11__6*a6__13 + a11__7*a7__13 + a11__8*a8__13 + a11__9*a9__13,                   a0__14*a11__0 + a10__14*a11__10 + a11__1*a1__14 + a11__12*a12__14 + a11__13*a13__14 + a11__15*a15__14 + a11__2*a2__14 + a11__3*a3__14 + a11__4*a4__14 + a11__5*a5__14 + a11__6*a6__14 + a11__7*a7__14 + a11__8*a8__14 + a11__9*a9__14,                   a0__15*a11__0 + a10__15*a11__10 + a11__1*a1__15 + a11__12*a12__15 + a11__13*a13__15 + a11__14*a14__15 + a11__2*a2__15 + a11__3*a3__15 + a11__4*a4__15 + a11__5*a5__15 + a11__6*a6__15 + a11__7*a7__15 + a11__8*a8__15 + a11__9*a9__15],\n",
       "[  a10__0*a12__10 + a11__0*a12__11 + a12__1*a1__0 + a12__13*a13__0 + a12__14*a14__0 + a12__15*a15__0 + a12__2*a2__0 + a12__3*a3__0 + a12__4*a4__0 + a12__5*a5__0 + a12__6*a6__0 + a12__7*a7__0 + a12__8*a8__0 + a12__9*a9__0,   a0__1*a12__0 + a10__1*a12__10 + a11__1*a12__11 + a12__13*a13__1 + a12__14*a14__1 + a12__15*a15__1 + a12__2*a2__1 + a12__3*a3__1 + a12__4*a4__1 + a12__5*a5__1 + a12__6*a6__1 + a12__7*a7__1 + a12__8*a8__1 + a12__9*a9__1,   a0__2*a12__0 + a10__2*a12__10 + a11__2*a12__11 + a12__1*a1__2 + a12__13*a13__2 + a12__14*a14__2 + a12__15*a15__2 + a12__3*a3__2 + a12__4*a4__2 + a12__5*a5__2 + a12__6*a6__2 + a12__7*a7__2 + a12__8*a8__2 + a12__9*a9__2,   a0__3*a12__0 + a10__3*a12__10 + a11__3*a12__11 + a12__1*a1__3 + a12__13*a13__3 + a12__14*a14__3 + a12__15*a15__3 + a12__2*a2__3 + a12__4*a4__3 + a12__5*a5__3 + a12__6*a6__3 + a12__7*a7__3 + a12__8*a8__3 + a12__9*a9__3,   a0__4*a12__0 + a10__4*a12__10 + a11__4*a12__11 + a12__1*a1__4 + a12__13*a13__4 + a12__14*a14__4 + a12__15*a15__4 + a12__2*a2__4 + a12__3*a3__4 + a12__5*a5__4 + a12__6*a6__4 + a12__7*a7__4 + a12__8*a8__4 + a12__9*a9__4,   a0__5*a12__0 + a10__5*a12__10 + a11__5*a12__11 + a12__1*a1__5 + a12__13*a13__5 + a12__14*a14__5 + a12__15*a15__5 + a12__2*a2__5 + a12__3*a3__5 + a12__4*a4__5 + a12__6*a6__5 + a12__7*a7__5 + a12__8*a8__5 + a12__9*a9__5,   a0__6*a12__0 + a10__6*a12__10 + a11__6*a12__11 + a12__1*a1__6 + a12__13*a13__6 + a12__14*a14__6 + a12__15*a15__6 + a12__2*a2__6 + a12__3*a3__6 + a12__4*a4__6 + a12__5*a5__6 + a12__7*a7__6 + a12__8*a8__6 + a12__9*a9__6,   a0__7*a12__0 + a10__7*a12__10 + a11__7*a12__11 + a12__1*a1__7 + a12__13*a13__7 + a12__14*a14__7 + a12__15*a15__7 + a12__2*a2__7 + a12__3*a3__7 + a12__4*a4__7 + a12__5*a5__7 + a12__6*a6__7 + a12__8*a8__7 + a12__9*a9__7,   a0__8*a12__0 + a10__8*a12__10 + a11__8*a12__11 + a12__1*a1__8 + a12__13*a13__8 + a12__14*a14__8 + a12__15*a15__8 + a12__2*a2__8 + a12__3*a3__8 + a12__4*a4__8 + a12__5*a5__8 + a12__6*a6__8 + a12__7*a7__8 + a12__9*a9__8,   a0__9*a12__0 + a10__9*a12__10 + a11__9*a12__11 + a12__1*a1__9 + a12__13*a13__9 + a12__14*a14__9 + a12__15*a15__9 + a12__2*a2__9 + a12__3*a3__9 + a12__4*a4__9 + a12__5*a5__9 + a12__6*a6__9 + a12__7*a7__9 + a12__8*a8__9,                   a0__10*a12__0 + a11__10*a12__11 + a12__1*a1__10 + a12__13*a13__10 + a12__14*a14__10 + a12__15*a15__10 + a12__2*a2__10 + a12__3*a3__10 + a12__4*a4__10 + a12__5*a5__10 + a12__6*a6__10 + a12__7*a7__10 + a12__8*a8__10 + a12__9*a9__10,                   a0__11*a12__0 + a10__11*a12__10 + a12__1*a1__11 + a12__13*a13__11 + a12__14*a14__11 + a12__15*a15__11 + a12__2*a2__11 + a12__3*a3__11 + a12__4*a4__11 + a12__5*a5__11 + a12__6*a6__11 + a12__7*a7__11 + a12__8*a8__11 + a12__9*a9__11, a0__12*a12__0 + a10__12*a12__10 + a11__12*a12__11 + a12__1*a1__12 + a12__13*a13__12 + a12__14*a14__12 + a12__15*a15__12 + a12__2*a2__12 + a12__3*a3__12 + a12__4*a4__12 + a12__5*a5__12 + a12__6*a6__12 + a12__7*a7__12 + a12__8*a8__12 + a12__9*a9__12,                   a0__13*a12__0 + a10__13*a12__10 + a11__13*a12__11 + a12__1*a1__13 + a12__14*a14__13 + a12__15*a15__13 + a12__2*a2__13 + a12__3*a3__13 + a12__4*a4__13 + a12__5*a5__13 + a12__6*a6__13 + a12__7*a7__13 + a12__8*a8__13 + a12__9*a9__13,                   a0__14*a12__0 + a10__14*a12__10 + a11__14*a12__11 + a12__1*a1__14 + a12__13*a13__14 + a12__15*a15__14 + a12__2*a2__14 + a12__3*a3__14 + a12__4*a4__14 + a12__5*a5__14 + a12__6*a6__14 + a12__7*a7__14 + a12__8*a8__14 + a12__9*a9__14,                   a0__15*a12__0 + a10__15*a12__10 + a11__15*a12__11 + a12__1*a1__15 + a12__13*a13__15 + a12__14*a14__15 + a12__2*a2__15 + a12__3*a3__15 + a12__4*a4__15 + a12__5*a5__15 + a12__6*a6__15 + a12__7*a7__15 + a12__8*a8__15 + a12__9*a9__15],\n",
       "[  a10__0*a13__10 + a11__0*a13__11 + a12__0*a13__12 + a13__1*a1__0 + a13__14*a14__0 + a13__15*a15__0 + a13__2*a2__0 + a13__3*a3__0 + a13__4*a4__0 + a13__5*a5__0 + a13__6*a6__0 + a13__7*a7__0 + a13__8*a8__0 + a13__9*a9__0,   a0__1*a13__0 + a10__1*a13__10 + a11__1*a13__11 + a12__1*a13__12 + a13__14*a14__1 + a13__15*a15__1 + a13__2*a2__1 + a13__3*a3__1 + a13__4*a4__1 + a13__5*a5__1 + a13__6*a6__1 + a13__7*a7__1 + a13__8*a8__1 + a13__9*a9__1,   a0__2*a13__0 + a10__2*a13__10 + a11__2*a13__11 + a12__2*a13__12 + a13__1*a1__2 + a13__14*a14__2 + a13__15*a15__2 + a13__3*a3__2 + a13__4*a4__2 + a13__5*a5__2 + a13__6*a6__2 + a13__7*a7__2 + a13__8*a8__2 + a13__9*a9__2,   a0__3*a13__0 + a10__3*a13__10 + a11__3*a13__11 + a12__3*a13__12 + a13__1*a1__3 + a13__14*a14__3 + a13__15*a15__3 + a13__2*a2__3 + a13__4*a4__3 + a13__5*a5__3 + a13__6*a6__3 + a13__7*a7__3 + a13__8*a8__3 + a13__9*a9__3,   a0__4*a13__0 + a10__4*a13__10 + a11__4*a13__11 + a12__4*a13__12 + a13__1*a1__4 + a13__14*a14__4 + a13__15*a15__4 + a13__2*a2__4 + a13__3*a3__4 + a13__5*a5__4 + a13__6*a6__4 + a13__7*a7__4 + a13__8*a8__4 + a13__9*a9__4,   a0__5*a13__0 + a10__5*a13__10 + a11__5*a13__11 + a12__5*a13__12 + a13__1*a1__5 + a13__14*a14__5 + a13__15*a15__5 + a13__2*a2__5 + a13__3*a3__5 + a13__4*a4__5 + a13__6*a6__5 + a13__7*a7__5 + a13__8*a8__5 + a13__9*a9__5,   a0__6*a13__0 + a10__6*a13__10 + a11__6*a13__11 + a12__6*a13__12 + a13__1*a1__6 + a13__14*a14__6 + a13__15*a15__6 + a13__2*a2__6 + a13__3*a3__6 + a13__4*a4__6 + a13__5*a5__6 + a13__7*a7__6 + a13__8*a8__6 + a13__9*a9__6,   a0__7*a13__0 + a10__7*a13__10 + a11__7*a13__11 + a12__7*a13__12 + a13__1*a1__7 + a13__14*a14__7 + a13__15*a15__7 + a13__2*a2__7 + a13__3*a3__7 + a13__4*a4__7 + a13__5*a5__7 + a13__6*a6__7 + a13__8*a8__7 + a13__9*a9__7,   a0__8*a13__0 + a10__8*a13__10 + a11__8*a13__11 + a12__8*a13__12 + a13__1*a1__8 + a13__14*a14__8 + a13__15*a15__8 + a13__2*a2__8 + a13__3*a3__8 + a13__4*a4__8 + a13__5*a5__8 + a13__6*a6__8 + a13__7*a7__8 + a13__9*a9__8,   a0__9*a13__0 + a10__9*a13__10 + a11__9*a13__11 + a12__9*a13__12 + a13__1*a1__9 + a13__14*a14__9 + a13__15*a15__9 + a13__2*a2__9 + a13__3*a3__9 + a13__4*a4__9 + a13__5*a5__9 + a13__6*a6__9 + a13__7*a7__9 + a13__8*a8__9,                   a0__10*a13__0 + a11__10*a13__11 + a12__10*a13__12 + a13__1*a1__10 + a13__14*a14__10 + a13__15*a15__10 + a13__2*a2__10 + a13__3*a3__10 + a13__4*a4__10 + a13__5*a5__10 + a13__6*a6__10 + a13__7*a7__10 + a13__8*a8__10 + a13__9*a9__10,                   a0__11*a13__0 + a10__11*a13__10 + a12__11*a13__12 + a13__1*a1__11 + a13__14*a14__11 + a13__15*a15__11 + a13__2*a2__11 + a13__3*a3__11 + a13__4*a4__11 + a13__5*a5__11 + a13__6*a6__11 + a13__7*a7__11 + a13__8*a8__11 + a13__9*a9__11,                   a0__12*a13__0 + a10__12*a13__10 + a11__12*a13__11 + a13__1*a1__12 + a13__14*a14__12 + a13__15*a15__12 + a13__2*a2__12 + a13__3*a3__12 + a13__4*a4__12 + a13__5*a5__12 + a13__6*a6__12 + a13__7*a7__12 + a13__8*a8__12 + a13__9*a9__12, a0__13*a13__0 + a10__13*a13__10 + a11__13*a13__11 + a12__13*a13__12 + a13__1*a1__13 + a13__14*a14__13 + a13__15*a15__13 + a13__2*a2__13 + a13__3*a3__13 + a13__4*a4__13 + a13__5*a5__13 + a13__6*a6__13 + a13__7*a7__13 + a13__8*a8__13 + a13__9*a9__13,                   a0__14*a13__0 + a10__14*a13__10 + a11__14*a13__11 + a12__14*a13__12 + a13__1*a1__14 + a13__15*a15__14 + a13__2*a2__14 + a13__3*a3__14 + a13__4*a4__14 + a13__5*a5__14 + a13__6*a6__14 + a13__7*a7__14 + a13__8*a8__14 + a13__9*a9__14,                   a0__15*a13__0 + a10__15*a13__10 + a11__15*a13__11 + a12__15*a13__12 + a13__1*a1__15 + a13__14*a14__15 + a13__2*a2__15 + a13__3*a3__15 + a13__4*a4__15 + a13__5*a5__15 + a13__6*a6__15 + a13__7*a7__15 + a13__8*a8__15 + a13__9*a9__15],\n",
       "[  a10__0*a14__10 + a11__0*a14__11 + a12__0*a14__12 + a13__0*a14__13 + a14__1*a1__0 + a14__15*a15__0 + a14__2*a2__0 + a14__3*a3__0 + a14__4*a4__0 + a14__5*a5__0 + a14__6*a6__0 + a14__7*a7__0 + a14__8*a8__0 + a14__9*a9__0,   a0__1*a14__0 + a10__1*a14__10 + a11__1*a14__11 + a12__1*a14__12 + a13__1*a14__13 + a14__15*a15__1 + a14__2*a2__1 + a14__3*a3__1 + a14__4*a4__1 + a14__5*a5__1 + a14__6*a6__1 + a14__7*a7__1 + a14__8*a8__1 + a14__9*a9__1,   a0__2*a14__0 + a10__2*a14__10 + a11__2*a14__11 + a12__2*a14__12 + a13__2*a14__13 + a14__1*a1__2 + a14__15*a15__2 + a14__3*a3__2 + a14__4*a4__2 + a14__5*a5__2 + a14__6*a6__2 + a14__7*a7__2 + a14__8*a8__2 + a14__9*a9__2,   a0__3*a14__0 + a10__3*a14__10 + a11__3*a14__11 + a12__3*a14__12 + a13__3*a14__13 + a14__1*a1__3 + a14__15*a15__3 + a14__2*a2__3 + a14__4*a4__3 + a14__5*a5__3 + a14__6*a6__3 + a14__7*a7__3 + a14__8*a8__3 + a14__9*a9__3,   a0__4*a14__0 + a10__4*a14__10 + a11__4*a14__11 + a12__4*a14__12 + a13__4*a14__13 + a14__1*a1__4 + a14__15*a15__4 + a14__2*a2__4 + a14__3*a3__4 + a14__5*a5__4 + a14__6*a6__4 + a14__7*a7__4 + a14__8*a8__4 + a14__9*a9__4,   a0__5*a14__0 + a10__5*a14__10 + a11__5*a14__11 + a12__5*a14__12 + a13__5*a14__13 + a14__1*a1__5 + a14__15*a15__5 + a14__2*a2__5 + a14__3*a3__5 + a14__4*a4__5 + a14__6*a6__5 + a14__7*a7__5 + a14__8*a8__5 + a14__9*a9__5,   a0__6*a14__0 + a10__6*a14__10 + a11__6*a14__11 + a12__6*a14__12 + a13__6*a14__13 + a14__1*a1__6 + a14__15*a15__6 + a14__2*a2__6 + a14__3*a3__6 + a14__4*a4__6 + a14__5*a5__6 + a14__7*a7__6 + a14__8*a8__6 + a14__9*a9__6,   a0__7*a14__0 + a10__7*a14__10 + a11__7*a14__11 + a12__7*a14__12 + a13__7*a14__13 + a14__1*a1__7 + a14__15*a15__7 + a14__2*a2__7 + a14__3*a3__7 + a14__4*a4__7 + a14__5*a5__7 + a14__6*a6__7 + a14__8*a8__7 + a14__9*a9__7,   a0__8*a14__0 + a10__8*a14__10 + a11__8*a14__11 + a12__8*a14__12 + a13__8*a14__13 + a14__1*a1__8 + a14__15*a15__8 + a14__2*a2__8 + a14__3*a3__8 + a14__4*a4__8 + a14__5*a5__8 + a14__6*a6__8 + a14__7*a7__8 + a14__9*a9__8,   a0__9*a14__0 + a10__9*a14__10 + a11__9*a14__11 + a12__9*a14__12 + a13__9*a14__13 + a14__1*a1__9 + a14__15*a15__9 + a14__2*a2__9 + a14__3*a3__9 + a14__4*a4__9 + a14__5*a5__9 + a14__6*a6__9 + a14__7*a7__9 + a14__8*a8__9,                   a0__10*a14__0 + a11__10*a14__11 + a12__10*a14__12 + a13__10*a14__13 + a14__1*a1__10 + a14__15*a15__10 + a14__2*a2__10 + a14__3*a3__10 + a14__4*a4__10 + a14__5*a5__10 + a14__6*a6__10 + a14__7*a7__10 + a14__8*a8__10 + a14__9*a9__10,                   a0__11*a14__0 + a10__11*a14__10 + a12__11*a14__12 + a13__11*a14__13 + a14__1*a1__11 + a14__15*a15__11 + a14__2*a2__11 + a14__3*a3__11 + a14__4*a4__11 + a14__5*a5__11 + a14__6*a6__11 + a14__7*a7__11 + a14__8*a8__11 + a14__9*a9__11,                   a0__12*a14__0 + a10__12*a14__10 + a11__12*a14__11 + a13__12*a14__13 + a14__1*a1__12 + a14__15*a15__12 + a14__2*a2__12 + a14__3*a3__12 + a14__4*a4__12 + a14__5*a5__12 + a14__6*a6__12 + a14__7*a7__12 + a14__8*a8__12 + a14__9*a9__12,                   a0__13*a14__0 + a10__13*a14__10 + a11__13*a14__11 + a12__13*a14__12 + a14__1*a1__13 + a14__15*a15__13 + a14__2*a2__13 + a14__3*a3__13 + a14__4*a4__13 + a14__5*a5__13 + a14__6*a6__13 + a14__7*a7__13 + a14__8*a8__13 + a14__9*a9__13, a0__14*a14__0 + a10__14*a14__10 + a11__14*a14__11 + a12__14*a14__12 + a13__14*a14__13 + a14__1*a1__14 + a14__15*a15__14 + a14__2*a2__14 + a14__3*a3__14 + a14__4*a4__14 + a14__5*a5__14 + a14__6*a6__14 + a14__7*a7__14 + a14__8*a8__14 + a14__9*a9__14,                   a0__15*a14__0 + a10__15*a14__10 + a11__15*a14__11 + a12__15*a14__12 + a13__15*a14__13 + a14__1*a1__15 + a14__2*a2__15 + a14__3*a3__15 + a14__4*a4__15 + a14__5*a5__15 + a14__6*a6__15 + a14__7*a7__15 + a14__8*a8__15 + a14__9*a9__15],\n",
       "[  a10__0*a15__10 + a11__0*a15__11 + a12__0*a15__12 + a13__0*a15__13 + a14__0*a15__14 + a15__1*a1__0 + a15__2*a2__0 + a15__3*a3__0 + a15__4*a4__0 + a15__5*a5__0 + a15__6*a6__0 + a15__7*a7__0 + a15__8*a8__0 + a15__9*a9__0,   a0__1*a15__0 + a10__1*a15__10 + a11__1*a15__11 + a12__1*a15__12 + a13__1*a15__13 + a14__1*a15__14 + a15__2*a2__1 + a15__3*a3__1 + a15__4*a4__1 + a15__5*a5__1 + a15__6*a6__1 + a15__7*a7__1 + a15__8*a8__1 + a15__9*a9__1,   a0__2*a15__0 + a10__2*a15__10 + a11__2*a15__11 + a12__2*a15__12 + a13__2*a15__13 + a14__2*a15__14 + a15__1*a1__2 + a15__3*a3__2 + a15__4*a4__2 + a15__5*a5__2 + a15__6*a6__2 + a15__7*a7__2 + a15__8*a8__2 + a15__9*a9__2,   a0__3*a15__0 + a10__3*a15__10 + a11__3*a15__11 + a12__3*a15__12 + a13__3*a15__13 + a14__3*a15__14 + a15__1*a1__3 + a15__2*a2__3 + a15__4*a4__3 + a15__5*a5__3 + a15__6*a6__3 + a15__7*a7__3 + a15__8*a8__3 + a15__9*a9__3,   a0__4*a15__0 + a10__4*a15__10 + a11__4*a15__11 + a12__4*a15__12 + a13__4*a15__13 + a14__4*a15__14 + a15__1*a1__4 + a15__2*a2__4 + a15__3*a3__4 + a15__5*a5__4 + a15__6*a6__4 + a15__7*a7__4 + a15__8*a8__4 + a15__9*a9__4,   a0__5*a15__0 + a10__5*a15__10 + a11__5*a15__11 + a12__5*a15__12 + a13__5*a15__13 + a14__5*a15__14 + a15__1*a1__5 + a15__2*a2__5 + a15__3*a3__5 + a15__4*a4__5 + a15__6*a6__5 + a15__7*a7__5 + a15__8*a8__5 + a15__9*a9__5,   a0__6*a15__0 + a10__6*a15__10 + a11__6*a15__11 + a12__6*a15__12 + a13__6*a15__13 + a14__6*a15__14 + a15__1*a1__6 + a15__2*a2__6 + a15__3*a3__6 + a15__4*a4__6 + a15__5*a5__6 + a15__7*a7__6 + a15__8*a8__6 + a15__9*a9__6,   a0__7*a15__0 + a10__7*a15__10 + a11__7*a15__11 + a12__7*a15__12 + a13__7*a15__13 + a14__7*a15__14 + a15__1*a1__7 + a15__2*a2__7 + a15__3*a3__7 + a15__4*a4__7 + a15__5*a5__7 + a15__6*a6__7 + a15__8*a8__7 + a15__9*a9__7,   a0__8*a15__0 + a10__8*a15__10 + a11__8*a15__11 + a12__8*a15__12 + a13__8*a15__13 + a14__8*a15__14 + a15__1*a1__8 + a15__2*a2__8 + a15__3*a3__8 + a15__4*a4__8 + a15__5*a5__8 + a15__6*a6__8 + a15__7*a7__8 + a15__9*a9__8,   a0__9*a15__0 + a10__9*a15__10 + a11__9*a15__11 + a12__9*a15__12 + a13__9*a15__13 + a14__9*a15__14 + a15__1*a1__9 + a15__2*a2__9 + a15__3*a3__9 + a15__4*a4__9 + a15__5*a5__9 + a15__6*a6__9 + a15__7*a7__9 + a15__8*a8__9,                   a0__10*a15__0 + a11__10*a15__11 + a12__10*a15__12 + a13__10*a15__13 + a14__10*a15__14 + a15__1*a1__10 + a15__2*a2__10 + a15__3*a3__10 + a15__4*a4__10 + a15__5*a5__10 + a15__6*a6__10 + a15__7*a7__10 + a15__8*a8__10 + a15__9*a9__10,                   a0__11*a15__0 + a10__11*a15__10 + a12__11*a15__12 + a13__11*a15__13 + a14__11*a15__14 + a15__1*a1__11 + a15__2*a2__11 + a15__3*a3__11 + a15__4*a4__11 + a15__5*a5__11 + a15__6*a6__11 + a15__7*a7__11 + a15__8*a8__11 + a15__9*a9__11,                   a0__12*a15__0 + a10__12*a15__10 + a11__12*a15__11 + a13__12*a15__13 + a14__12*a15__14 + a15__1*a1__12 + a15__2*a2__12 + a15__3*a3__12 + a15__4*a4__12 + a15__5*a5__12 + a15__6*a6__12 + a15__7*a7__12 + a15__8*a8__12 + a15__9*a9__12,                   a0__13*a15__0 + a10__13*a15__10 + a11__13*a15__11 + a12__13*a15__12 + a14__13*a15__14 + a15__1*a1__13 + a15__2*a2__13 + a15__3*a3__13 + a15__4*a4__13 + a15__5*a5__13 + a15__6*a6__13 + a15__7*a7__13 + a15__8*a8__13 + a15__9*a9__13,                   a0__14*a15__0 + a10__14*a15__10 + a11__14*a15__11 + a12__14*a15__12 + a13__14*a15__13 + a15__1*a1__14 + a15__2*a2__14 + a15__3*a3__14 + a15__4*a4__14 + a15__5*a5__14 + a15__6*a6__14 + a15__7*a7__14 + a15__8*a8__14 + a15__9*a9__14, a0__15*a15__0 + a10__15*a15__10 + a11__15*a15__11 + a12__15*a15__12 + a13__15*a15__13 + a14__15*a15__14 + a15__1*a1__15 + a15__2*a2__15 + a15__3*a3__15 + a15__4*a4__15 + a15__5*a5__15 + a15__6*a6__15 + a15__7*a7__15 + a15__8*a8__15 + a15__9*a9__15]])"
      ]
     },
     "execution_count": 45,
     "metadata": {},
     "output_type": "execute_result"
    }
   ],
   "source": [
    "matrix_squared"
   ]
  },
  {
   "cell_type": "code",
   "execution_count": 51,
   "metadata": {},
   "outputs": [
    {
     "data": {
      "text/latex": [
       "$\\displaystyle a^{10}_{0} a^{1}_{10} + a^{11}_{0} a^{1}_{11} + a^{12}_{0} a^{1}_{12} + a^{13}_{0} a^{1}_{13} + a^{14}_{0} a^{1}_{14} + a^{15}_{0} a^{1}_{15} + a^{2}_{0} a^{1}_{2} + a^{3}_{0} a^{1}_{3} + a^{4}_{0} a^{1}_{4} + a^{5}_{0} a^{1}_{5} + a^{6}_{0} a^{1}_{6} + a^{7}_{0} a^{1}_{7} + a^{8}_{0} a^{1}_{8} + a^{9}_{0} a^{1}_{9}$"
      ],
      "text/plain": [
       "a0__10*a10__1 + a0__11*a11__1 + a0__12*a12__1 + a0__13*a13__1 + a0__14*a14__1 + a0__15*a15__1 + a0__2*a2__1 + a0__3*a3__1 + a0__4*a4__1 + a0__5*a5__1 + a0__6*a6__1 + a0__7*a7__1 + a0__8*a8__1 + a0__9*a9__1"
      ]
     },
     "execution_count": 51,
     "metadata": {},
     "output_type": "execute_result"
    }
   ],
   "source": [
    "matrix_squared[0,1]"
   ]
  },
  {
   "cell_type": "code",
   "execution_count": 54,
   "metadata": {},
   "outputs": [],
   "source": [
    "math_graph = nx.DiGraph()"
   ]
  },
  {
   "cell_type": "code",
   "execution_count": 57,
   "metadata": {},
   "outputs": [],
   "source": [
    "operations = ['+', '*']\n",
    "variables=[\"a10__0\",\"a1_10\",\"a11__0\",\"a1__11\"]"
   ]
  },
  {
   "cell_type": "code",
   "execution_count": null,
   "metadata": {},
   "outputs": [],
   "source": [
    "edges = [\n",
    "]"
   ]
  },
  {
   "cell_type": "code",
   "execution_count": 55,
   "metadata": {},
   "outputs": [],
   "source": [
    "for variable in variables:\n",
    "    math_graph.add_node(variable, type='variable')\n",
    "for op in operations:\n",
    "    math_graph.add_node(op, type='operation')"
   ]
  },
  {
   "cell_type": "code",
   "execution_count": 56,
   "metadata": {},
   "outputs": [
    {
     "data": {
      "image/png": "[encoded data removed]",
      "text/plain": [
       "<Figure size 640x480 with 1 Axes>"
      ]
     },
     "metadata": {},
     "output_type": "display_data"
    }
   ],
   "source": [
    "pos = nx.spring_layout(math_graph, seed=42)  # You can use different layout algorithms\n",
    "nx.draw(math_graph, pos, with_labels=True, font_weight='bold', node_size=2000, node_color='skyblue')"
   ]
  }
 ],
 "metadata": {
  "kernelspec": {
   "display_name": ".venv",
   "language": "python",
   "name": "python3"
  },
  "language_info": {
   "codemirror_mode": {
    "name": "ipython",
    "version": 3
   },
   "file_extension": ".py",
   "mimetype": "text/x-python",
   "name": "python",
   "nbconvert_exporter": "python",
   "pygments_lexer": "ipython3",
   "version": "3.9.5"
  },
  "orig_nbformat": 4
 },
 "nbformat": 4,
 "nbformat_minor": 2
}
