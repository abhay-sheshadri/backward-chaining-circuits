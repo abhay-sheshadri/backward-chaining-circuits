{
 "cells": [
  {
   "cell_type": "code",
   "execution_count": 3,
   "metadata": {},
   "outputs": [
    {
     "data": {
      "text/html": [
       "Finishing last run (ID:lqmu5jrk) before initializing another..."
      ],
      "text/plain": [
       "<IPython.core.display.HTML object>"
      ]
     },
     "metadata": {},
     "output_type": "display_data"
    },
    {
     "data": {
      "text/html": [
       "Waiting for W&B process to finish... <strong style=\"color:green\">(success).</strong>"
      ],
      "text/plain": [
       "<IPython.core.display.HTML object>"
      ]
     },
     "metadata": {},
     "output_type": "display_data"
    },
    {
     "name": "stderr",
     "output_type": "stream",
     "text": [
      "wandb: WARNING Source type is set to 'repo' but some required information is missing from the environment. A job will not be created from this run. See https://docs.wandb.ai/guides/launch/create-job\n"
     ]
    },
    {
     "data": {
      "text/html": [
       " View run <strong style=\"color:#cdcd00\">lyric-planet-3</strong> at: <a href='https://wandb.ai/algorithm-distillation-interp/planning-in-transformers/runs/lqmu5jrk' target=\"_blank\">https://wandb.ai/algorithm-distillation-interp/planning-in-transformers/runs/lqmu5jrk</a><br/>Synced 5 W&B file(s), 0 media file(s), 0 artifact file(s) and 0 other file(s)"
      ],
      "text/plain": [
       "<IPython.core.display.HTML object>"
      ]
     },
     "metadata": {},
     "output_type": "display_data"
    },
    {
     "data": {
      "text/html": [
       "Find logs at: <code>./wandb/run-20231013_180257-lqmu5jrk/logs</code>"
      ],
      "text/plain": [
       "<IPython.core.display.HTML object>"
      ]
     },
     "metadata": {},
     "output_type": "display_data"
    },
    {
     "data": {
      "text/html": [
       "Successfully finished last run (ID:lqmu5jrk). Initializing new run:<br/>"
      ],
      "text/plain": [
       "<IPython.core.display.HTML object>"
      ]
     },
     "metadata": {},
     "output_type": "display_data"
    },
    {
     "data": {
      "text/html": [
       "wandb version 0.15.12 is available!  To upgrade, please run:\n",
       " $ pip install wandb --upgrade"
      ],
      "text/plain": [
       "<IPython.core.display.HTML object>"
      ]
     },
     "metadata": {},
     "output_type": "display_data"
    },
    {
     "data": {
      "text/html": [
       "Tracking run with wandb version 0.15.8"
      ],
      "text/plain": [
       "<IPython.core.display.HTML object>"
      ]
     },
     "metadata": {},
     "output_type": "display_data"
    },
    {
     "data": {
      "text/html": [
       "Run data is saved locally in <code>/media/victor/F8D25071D25035DA/Alingment/GraphPlanning/planning-in-transformers/wandb/run-20231013_200241-1551c423</code>"
      ],
      "text/plain": [
       "<IPython.core.display.HTML object>"
      ]
     },
     "metadata": {},
     "output_type": "display_data"
    },
    {
     "data": {
      "text/html": [
       "Syncing run <strong><a href='https://wandb.ai/algorithm-distillation-interp/planning-in-transformers/runs/1551c423' target=\"_blank\">smart-donkey-4</a></strong> to <a href='https://wandb.ai/algorithm-distillation-interp/planning-in-transformers' target=\"_blank\">Weights & Biases</a> (<a href='https://wandb.me/run' target=\"_blank\">docs</a>)<br/>"
      ],
      "text/plain": [
       "<IPython.core.display.HTML object>"
      ]
     },
     "metadata": {},
     "output_type": "display_data"
    },
    {
     "data": {
      "text/html": [
       " View project at <a href='https://wandb.ai/algorithm-distillation-interp/planning-in-transformers' target=\"_blank\">https://wandb.ai/algorithm-distillation-interp/planning-in-transformers</a>"
      ],
      "text/plain": [
       "<IPython.core.display.HTML object>"
      ]
     },
     "metadata": {},
     "output_type": "display_data"
    },
    {
     "data": {
      "text/html": [
       " View run at <a href='https://wandb.ai/algorithm-distillation-interp/planning-in-transformers/runs/1551c423' target=\"_blank\">https://wandb.ai/algorithm-distillation-interp/planning-in-transformers/runs/1551c423</a>"
      ],
      "text/plain": [
       "<IPython.core.display.HTML object>"
      ]
     },
     "metadata": {},
     "output_type": "display_data"
    },
    {
     "name": "stderr",
     "output_type": "stream",
     "text": [
      "\u001b[34m\u001b[1mwandb\u001b[0m: Downloading large artifact activations:v0, 7554.79MB. 1 files... \n"
     ]
    },
    {
     "ename": "OSError",
     "evalue": "[Errno 22] Invalid argument: './artifacts/activations:v0'",
     "output_type": "error",
     "traceback": [
      "\u001b[0;31m---------------------------------------------------------------------------\u001b[0m",
      "\u001b[0;31mOSError\u001b[0m                                   Traceback (most recent call last)",
      "\u001b[1;32m/media/victor/F8D25071D25035DA/Alingment/GraphPlanning/planning-in-transformers/download_wandb.ipynb Cell 1\u001b[0m line \u001b[0;36m4\n\u001b[1;32m      <a href='vscode-notebook-cell:/media/victor/F8D25071D25035DA/Alingment/GraphPlanning/planning-in-transformers/download_wandb.ipynb#W0sZmlsZQ%3D%3D?line=1'>2</a>\u001b[0m run \u001b[39m=\u001b[39m wandb\u001b[39m.\u001b[39minit()\n\u001b[1;32m      <a href='vscode-notebook-cell:/media/victor/F8D25071D25035DA/Alingment/GraphPlanning/planning-in-transformers/download_wandb.ipynb#W0sZmlsZQ%3D%3D?line=2'>3</a>\u001b[0m artifact \u001b[39m=\u001b[39m run\u001b[39m.\u001b[39muse_artifact(\u001b[39m'\u001b[39m\u001b[39mplanning-in-transformers/sae/activations:v0\u001b[39m\u001b[39m'\u001b[39m, \u001b[39mtype\u001b[39m\u001b[39m=\u001b[39m\u001b[39m'\u001b[39m\u001b[39mdataset\u001b[39m\u001b[39m'\u001b[39m)\n\u001b[0;32m----> <a href='vscode-notebook-cell:/media/victor/F8D25071D25035DA/Alingment/GraphPlanning/planning-in-transformers/download_wandb.ipynb#W0sZmlsZQ%3D%3D?line=3'>4</a>\u001b[0m artifact_dir \u001b[39m=\u001b[39m artifact\u001b[39m.\u001b[39;49mdownload()\n",
      "File \u001b[0;32m/media/victor/F8D25071D25035DA/Alingment/GraphPlanning/planning-in-transformers/.venv/lib/python3.9/site-packages/wandb/sdk/artifacts/artifact.py:1635\u001b[0m, in \u001b[0;36mArtifact.download\u001b[0;34m(self, root, recursive, allow_missing_references)\u001b[0m\n\u001b[1;32m   1633\u001b[0m     \u001b[39m# Check for errors.\u001b[39;00m\n\u001b[1;32m   1634\u001b[0m     \u001b[39mfor\u001b[39;00m future \u001b[39min\u001b[39;00m concurrent\u001b[39m.\u001b[39mfutures\u001b[39m.\u001b[39mas_completed(active_futures):\n\u001b[0;32m-> 1635\u001b[0m         future\u001b[39m.\u001b[39;49mresult()\n\u001b[1;32m   1637\u001b[0m \u001b[39mif\u001b[39;00m recursive:\n\u001b[1;32m   1638\u001b[0m     \u001b[39mfor\u001b[39;00m dependent_artifact \u001b[39min\u001b[39;00m \u001b[39mself\u001b[39m\u001b[39m.\u001b[39m_dependent_artifacts:\n",
      "File \u001b[0;32m/usr/lib/python3.9/concurrent/futures/_base.py:438\u001b[0m, in \u001b[0;36mFuture.result\u001b[0;34m(self, timeout)\u001b[0m\n\u001b[1;32m    436\u001b[0m     \u001b[39mraise\u001b[39;00m CancelledError()\n\u001b[1;32m    437\u001b[0m \u001b[39melif\u001b[39;00m \u001b[39mself\u001b[39m\u001b[39m.\u001b[39m_state \u001b[39m==\u001b[39m FINISHED:\n\u001b[0;32m--> 438\u001b[0m     \u001b[39mreturn\u001b[39;00m \u001b[39mself\u001b[39;49m\u001b[39m.\u001b[39;49m__get_result()\n\u001b[1;32m    440\u001b[0m \u001b[39mself\u001b[39m\u001b[39m.\u001b[39m_condition\u001b[39m.\u001b[39mwait(timeout)\n\u001b[1;32m    442\u001b[0m \u001b[39mif\u001b[39;00m \u001b[39mself\u001b[39m\u001b[39m.\u001b[39m_state \u001b[39min\u001b[39;00m [CANCELLED, CANCELLED_AND_NOTIFIED]:\n",
      "File \u001b[0;32m/usr/lib/python3.9/concurrent/futures/_base.py:390\u001b[0m, in \u001b[0;36mFuture.__get_result\u001b[0;34m(self)\u001b[0m\n\u001b[1;32m    388\u001b[0m \u001b[39mif\u001b[39;00m \u001b[39mself\u001b[39m\u001b[39m.\u001b[39m_exception:\n\u001b[1;32m    389\u001b[0m     \u001b[39mtry\u001b[39;00m:\n\u001b[0;32m--> 390\u001b[0m         \u001b[39mraise\u001b[39;00m \u001b[39mself\u001b[39m\u001b[39m.\u001b[39m_exception\n\u001b[1;32m    391\u001b[0m     \u001b[39mfinally\u001b[39;00m:\n\u001b[1;32m    392\u001b[0m         \u001b[39m# Break a reference cycle with the exception in self._exception\u001b[39;00m\n\u001b[1;32m    393\u001b[0m         \u001b[39mself\u001b[39m \u001b[39m=\u001b[39m \u001b[39mNone\u001b[39;00m\n",
      "File \u001b[0;32m/usr/lib/python3.9/concurrent/futures/thread.py:52\u001b[0m, in \u001b[0;36m_WorkItem.run\u001b[0;34m(self)\u001b[0m\n\u001b[1;32m     49\u001b[0m     \u001b[39mreturn\u001b[39;00m\n\u001b[1;32m     51\u001b[0m \u001b[39mtry\u001b[39;00m:\n\u001b[0;32m---> 52\u001b[0m     result \u001b[39m=\u001b[39m \u001b[39mself\u001b[39;49m\u001b[39m.\u001b[39;49mfn(\u001b[39m*\u001b[39;49m\u001b[39mself\u001b[39;49m\u001b[39m.\u001b[39;49margs, \u001b[39m*\u001b[39;49m\u001b[39m*\u001b[39;49m\u001b[39mself\u001b[39;49m\u001b[39m.\u001b[39;49mkwargs)\n\u001b[1;32m     53\u001b[0m \u001b[39mexcept\u001b[39;00m \u001b[39mBaseException\u001b[39;00m \u001b[39mas\u001b[39;00m exc:\n\u001b[1;32m     54\u001b[0m     \u001b[39mself\u001b[39m\u001b[39m.\u001b[39mfuture\u001b[39m.\u001b[39mset_exception(exc)\n",
      "File \u001b[0;32m/media/victor/F8D25071D25035DA/Alingment/GraphPlanning/planning-in-transformers/.venv/lib/python3.9/site-packages/wandb/sdk/artifacts/artifact.py:1598\u001b[0m, in \u001b[0;36mArtifact.download.<locals>._download_entry\u001b[0;34m(entry, api_key, cookies, headers)\u001b[0m\n\u001b[1;32m   1595\u001b[0m _thread_local_api_settings\u001b[39m.\u001b[39mheaders \u001b[39m=\u001b[39m headers\n\u001b[1;32m   1597\u001b[0m \u001b[39mtry\u001b[39;00m:\n\u001b[0;32m-> 1598\u001b[0m     entry\u001b[39m.\u001b[39;49mdownload(root)\n\u001b[1;32m   1599\u001b[0m \u001b[39mexcept\u001b[39;00m \u001b[39mFileNotFoundError\u001b[39;00m \u001b[39mas\u001b[39;00m e:\n\u001b[1;32m   1600\u001b[0m     \u001b[39mif\u001b[39;00m allow_missing_references:\n",
      "File \u001b[0;32m/media/victor/F8D25071D25035DA/Alingment/GraphPlanning/planning-in-transformers/.venv/lib/python3.9/site-packages/wandb/sdk/artifacts/artifact_manifest_entry.py:106\u001b[0m, in \u001b[0;36mArtifactManifestEntry.download\u001b[0;34m(self, root)\u001b[0m\n\u001b[1;32m    101\u001b[0m \u001b[39melse\u001b[39;00m:\n\u001b[1;32m    102\u001b[0m     cache_path \u001b[39m=\u001b[39m \u001b[39mself\u001b[39m\u001b[39m.\u001b[39m_parent_artifact\u001b[39m.\u001b[39mmanifest\u001b[39m.\u001b[39mstorage_policy\u001b[39m.\u001b[39mload_file(\n\u001b[1;32m    103\u001b[0m         \u001b[39mself\u001b[39m\u001b[39m.\u001b[39m_parent_artifact, \u001b[39mself\u001b[39m\n\u001b[1;32m    104\u001b[0m     )\n\u001b[1;32m    105\u001b[0m \u001b[39mreturn\u001b[39;00m FilePathStr(\n\u001b[0;32m--> 106\u001b[0m     \u001b[39mstr\u001b[39m(filesystem\u001b[39m.\u001b[39;49mcopy_or_overwrite_changed(cache_path, dest_path))\n\u001b[1;32m    107\u001b[0m )\n",
      "File \u001b[0;32m/media/victor/F8D25071D25035DA/Alingment/GraphPlanning/planning-in-transformers/.venv/lib/python3.9/site-packages/wandb/sdk/lib/filesystem.py:115\u001b[0m, in \u001b[0;36mcopy_or_overwrite_changed\u001b[0;34m(source_path, target_path)\u001b[0m\n\u001b[1;32m    113\u001b[0m permissions_plus_write \u001b[39m=\u001b[39m os\u001b[39m.\u001b[39mstat(source_path)\u001b[39m.\u001b[39mst_mode \u001b[39m|\u001b[39m WRITE_PERMISSIONS\n\u001b[1;32m    114\u001b[0m \u001b[39mif\u001b[39;00m need_copy:\n\u001b[0;32m--> 115\u001b[0m     mkdir_exists_ok(os\u001b[39m.\u001b[39;49mpath\u001b[39m.\u001b[39;49mdirname(target_path))\n\u001b[1;32m    116\u001b[0m     \u001b[39mtry\u001b[39;00m:\n\u001b[1;32m    117\u001b[0m         \u001b[39m# Use copy2 to preserve file metadata (including modified time).\u001b[39;00m\n\u001b[1;32m    118\u001b[0m         shutil\u001b[39m.\u001b[39mcopy2(source_path, target_path)\n",
      "File \u001b[0;32m/media/victor/F8D25071D25035DA/Alingment/GraphPlanning/planning-in-transformers/.venv/lib/python3.9/site-packages/wandb/sdk/lib/filesystem.py:28\u001b[0m, in \u001b[0;36mmkdir_exists_ok\u001b[0;34m(dir_name)\u001b[0m\n\u001b[1;32m     21\u001b[0m \u001b[39m\u001b[39m\u001b[39m\"\"\"Create `dir_name` and any parent directories if they don't exist.\u001b[39;00m\n\u001b[1;32m     22\u001b[0m \n\u001b[1;32m     23\u001b[0m \u001b[39mRaises:\u001b[39;00m\n\u001b[1;32m     24\u001b[0m \u001b[39m    FileExistsError: if `dir_name` exists and is not a directory.\u001b[39;00m\n\u001b[1;32m     25\u001b[0m \u001b[39m    PermissionError: if `dir_name` is not writable.\u001b[39;00m\n\u001b[1;32m     26\u001b[0m \u001b[39m\"\"\"\u001b[39;00m\n\u001b[1;32m     27\u001b[0m \u001b[39mtry\u001b[39;00m:\n\u001b[0;32m---> 28\u001b[0m     os\u001b[39m.\u001b[39;49mmakedirs(dir_name, exist_ok\u001b[39m=\u001b[39;49m\u001b[39mTrue\u001b[39;49;00m)\n\u001b[1;32m     29\u001b[0m \u001b[39mexcept\u001b[39;00m \u001b[39mFileExistsError\u001b[39;00m \u001b[39mas\u001b[39;00m e:\n\u001b[1;32m     30\u001b[0m     \u001b[39mraise\u001b[39;00m \u001b[39mFileExistsError\u001b[39;00m(\u001b[39mf\u001b[39m\u001b[39m\"\u001b[39m\u001b[39m{\u001b[39;00mdir_name\u001b[39m!s}\u001b[39;00m\u001b[39m exists and is not a directory\u001b[39m\u001b[39m\"\u001b[39m) \u001b[39mfrom\u001b[39;00m \u001b[39me\u001b[39;00m\n",
      "File \u001b[0;32m/usr/lib/python3.9/os.py:225\u001b[0m, in \u001b[0;36mmakedirs\u001b[0;34m(name, mode, exist_ok)\u001b[0m\n\u001b[1;32m    223\u001b[0m         \u001b[39mreturn\u001b[39;00m\n\u001b[1;32m    224\u001b[0m \u001b[39mtry\u001b[39;00m:\n\u001b[0;32m--> 225\u001b[0m     mkdir(name, mode)\n\u001b[1;32m    226\u001b[0m \u001b[39mexcept\u001b[39;00m \u001b[39mOSError\u001b[39;00m:\n\u001b[1;32m    227\u001b[0m     \u001b[39m# Cannot rely on checking for EEXIST, since the operating system\u001b[39;00m\n\u001b[1;32m    228\u001b[0m     \u001b[39m# could give priority to other errors like EACCES or EROFS\u001b[39;00m\n\u001b[1;32m    229\u001b[0m     \u001b[39mif\u001b[39;00m \u001b[39mnot\u001b[39;00m exist_ok \u001b[39mor\u001b[39;00m \u001b[39mnot\u001b[39;00m path\u001b[39m.\u001b[39misdir(name):\n",
      "\u001b[0;31mOSError\u001b[0m: [Errno 22] Invalid argument: './artifacts/activations:v0'"
     ]
    }
   ],
   "source": [
    "import wandb\n",
    "run = wandb.init()\n",
    "artifact = run.use_artifact('planning-in-transformers/sae/activations:v0', type='dataset')\n",
    "artifact_dir = artifact.download()"
   ]
  }
 ],
 "metadata": {
  "kernelspec": {
   "display_name": ".venv",
   "language": "python",
   "name": "python3"
  },
  "language_info": {
   "codemirror_mode": {
    "name": "ipython",
    "version": 3
   },
   "file_extension": ".py",
   "mimetype": "text/x-python",
   "name": "python",
   "nbconvert_exporter": "python",
   "pygments_lexer": "ipython3",
   "version": "3.9.5"
  }
 },
 "nbformat": 4,
 "nbformat_minor": 2
}
